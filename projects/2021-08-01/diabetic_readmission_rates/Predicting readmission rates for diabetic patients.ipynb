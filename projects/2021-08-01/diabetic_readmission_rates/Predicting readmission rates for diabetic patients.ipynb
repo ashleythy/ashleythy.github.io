{
 "cells": [
  {
   "cell_type": "markdown",
   "id": "supported-bronze",
   "metadata": {},
   "source": [
    "## Table of Contents\n",
    "- [Introduction](#intro)\n",
    "- [Objective](#objective)\n",
    "\n",
    "Data exploration\n",
    "- [Describing the dataset](#understanding_dataset)\n",
    "- [Patient duplicates?](#patient_duplicates)\n",
    "- [Dealing with missing values](#missing_values)\n",
    "- [Re-coding values and collapsing features](#recode_values)\n",
    "\n",
    "Data prep\n",
    "- [Removing outliers](#remove_outliers)\n",
    "- [Label encoding](#label_encode)\n",
    "\n",
    "Decision tree\n",
    "- [Preliminary tree and Confusion Matrix](#prelim_tree)\n",
    "- [Feature selection](#feature_selection)\n",
    "- [Pre-pruning](#pre_prune)\n",
    "- [Post-pruning](#post_prune)\n",
    "- [Takeaways](#takeaways)"
   ]
  },
  {
   "cell_type": "markdown",
   "id": "liberal-individual",
   "metadata": {},
   "source": [
    "---"
   ]
  },
  {
   "cell_type": "markdown",
   "id": "congressional-pointer",
   "metadata": {},
   "source": [
    "<a id='intro'></a>\n",
    "## Introduction\n",
    "\n",
    "Diabetes is a long-term health condition that is characterized by high blood sugar level, as the pancreas is not able to produce enough insulin or when the body is not able to use insulin effectively to regulate blood sugar. \n",
    "\n",
    "Diabetes is a common comorbidity among hospitalized patients, with studies such as these [Ostling and colleagues (2017)](https://clindiabetesendo.biomedcentral.com/articles/10.1186/s40842-016-0040-x) and [Soh and colleagues (2020)](https://www.ncbi.nlm.nih.gov/pmc/articles/PMC7418689/) showing that the 30-day readmission rates for hospitalized patients with diabetes are higher than readmission rates for all hospitalized patients.\n",
    "\n",
    "Therefore, understanding factors that contribute to the high readmission rates of diabetic patients allows healthcare institutions to better care for patients. This doesn't only *most crucially* places the mantra of 'patient-centred care' at the forefront of the medical profession, but from an economic point of view, reduces medical bills and makes for a more efficient use of scarce hospital resources. "
   ]
  },
  {
   "cell_type": "markdown",
   "id": "afraid-affiliation",
   "metadata": {},
   "source": [
    "---"
   ]
  },
  {
   "cell_type": "markdown",
   "id": "cellular-gentleman",
   "metadata": {},
   "source": [
    "<a id='objective'></a>\n",
    "## Objective\n",
    "\n",
    "The objective of this exercise is to answer the following questions:\n",
    "\n",
    "1) What are the strongest predictors of hospital readmission for patients with diabetes?\n",
    "\n",
    "2) Can we predict hospital readmission for patients with diabetes?\n",
    "\n",
    "As such, a Decision Tree Classification Model will be used on a [diabetes dataset](https://archive.ics.uci.edu/ml/datasets/Diabetes+130-US+hospitals+for+years+1999-2008) provided by the UCI Machine Learning Repository."
   ]
  },
  {
   "cell_type": "code",
   "execution_count": 1,
   "id": "sporting-palestine",
   "metadata": {},
   "outputs": [],
   "source": [
    "# Import libraries\n",
    "import pandas as pd\n",
    "import numpy as np\n",
    "from tqdm import tqdm\n",
    "\n",
    "# Import visualization libraries\n",
    "import matplotlib.pyplot as plt\n",
    "import matplotlib.image as pltimg\n",
    "import seaborn as sns\n",
    "\n",
    "# Import ML libraries\n",
    "from sklearn import tree\n",
    "from sklearn.tree import DecisionTreeClassifier\n",
    "from sklearn.metrics import accuracy_score, precision_score, recall_score, confusion_matrix\n",
    "from sklearn.model_selection import train_test_split\n",
    "from sklearn.model_selection import RandomizedSearchCV, GridSearchCV\n",
    "import graphviz\n",
    "import pydotplus\n",
    "\n",
    "%matplotlib inline"
   ]
  },
  {
   "cell_type": "code",
   "execution_count": 2,
   "id": "expected-disabled",
   "metadata": {
    "tags": [
     "remove_cell"
    ]
   },
   "outputs": [],
   "source": [
    "import warnings\n",
    "warnings.filterwarnings('ignore')"
   ]
  },
  {
   "cell_type": "markdown",
   "id": "express-settle",
   "metadata": {
    "tags": [
     "remove_cell"
    ]
   },
   "source": [
    "The dataset below has 50 features for a total of 101,766 patients.\n",
    "\n",
    "The target feature/ dependent variable is `readmitted`."
   ]
  },
  {
   "cell_type": "code",
   "execution_count": 3,
   "id": "competent-animation",
   "metadata": {
    "scrolled": true,
    "tags": [
     "remove_cell"
    ]
   },
   "outputs": [
    {
     "data": {
      "text/plain": [
       "(101766, 50)"
      ]
     },
     "execution_count": 3,
     "metadata": {},
     "output_type": "execute_result"
    }
   ],
   "source": [
    "# import dataset\n",
    "df = pd.read_csv('./data/diabetic_data.csv')\n",
    "df.shape"
   ]
  },
  {
   "cell_type": "markdown",
   "id": "prospective-while",
   "metadata": {},
   "source": [
    "---"
   ]
  },
  {
   "cell_type": "markdown",
   "id": "sized-mouse",
   "metadata": {},
   "source": [
    "<a id='understanding_dataset'></a>\n",
    "## Data exploration\n",
    "\n",
    "The dataset represents 10 years of clinical data (between 1999 and 2008) across 130 US hospitals and integrated delivery networks. Each row represents a patient's inpatient encounter with a hospital for at least 1 day and at most 14 days of length in stay, due to diabetic-related conditions. The dataset includes over 50 features of various patient and hospital outcomes, including race, gender, age, admission type, hospital time, test results, and readmission status (no readmission, readmitted in less than 30 days, readmitted after 30 days).\n",
    "\n",
    "Below is the first 5 rows of the dataset, along with a chart showing the frequency of patients in each outcome category."
   ]
  },
  {
   "cell_type": "code",
   "execution_count": 4,
   "id": "obvious-robert",
   "metadata": {
    "tags": [
     "remove_input"
    ]
   },
   "outputs": [
    {
     "data": {
      "text/html": [
       "<div>\n",
       "<style scoped>\n",
       "    .dataframe tbody tr th:only-of-type {\n",
       "        vertical-align: middle;\n",
       "    }\n",
       "\n",
       "    .dataframe tbody tr th {\n",
       "        vertical-align: top;\n",
       "    }\n",
       "\n",
       "    .dataframe thead th {\n",
       "        text-align: right;\n",
       "    }\n",
       "</style>\n",
       "<table border=\"1\" class=\"dataframe\">\n",
       "  <thead>\n",
       "    <tr style=\"text-align: right;\">\n",
       "      <th></th>\n",
       "      <th>encounter_id</th>\n",
       "      <th>patient_nbr</th>\n",
       "      <th>race</th>\n",
       "      <th>gender</th>\n",
       "      <th>age</th>\n",
       "      <th>weight</th>\n",
       "      <th>admission_type_id</th>\n",
       "      <th>discharge_disposition_id</th>\n",
       "      <th>admission_source_id</th>\n",
       "      <th>time_in_hospital</th>\n",
       "      <th>...</th>\n",
       "      <th>citoglipton</th>\n",
       "      <th>insulin</th>\n",
       "      <th>glyburide-metformin</th>\n",
       "      <th>glipizide-metformin</th>\n",
       "      <th>glimepiride-pioglitazone</th>\n",
       "      <th>metformin-rosiglitazone</th>\n",
       "      <th>metformin-pioglitazone</th>\n",
       "      <th>change</th>\n",
       "      <th>diabetesMed</th>\n",
       "      <th>readmitted</th>\n",
       "    </tr>\n",
       "  </thead>\n",
       "  <tbody>\n",
       "    <tr>\n",
       "      <th>0</th>\n",
       "      <td>2278392</td>\n",
       "      <td>8222157</td>\n",
       "      <td>Caucasian</td>\n",
       "      <td>Female</td>\n",
       "      <td>[0-10)</td>\n",
       "      <td>?</td>\n",
       "      <td>6</td>\n",
       "      <td>25</td>\n",
       "      <td>1</td>\n",
       "      <td>1</td>\n",
       "      <td>...</td>\n",
       "      <td>No</td>\n",
       "      <td>No</td>\n",
       "      <td>No</td>\n",
       "      <td>No</td>\n",
       "      <td>No</td>\n",
       "      <td>No</td>\n",
       "      <td>No</td>\n",
       "      <td>No</td>\n",
       "      <td>No</td>\n",
       "      <td>NO</td>\n",
       "    </tr>\n",
       "    <tr>\n",
       "      <th>1</th>\n",
       "      <td>149190</td>\n",
       "      <td>55629189</td>\n",
       "      <td>Caucasian</td>\n",
       "      <td>Female</td>\n",
       "      <td>[10-20)</td>\n",
       "      <td>?</td>\n",
       "      <td>1</td>\n",
       "      <td>1</td>\n",
       "      <td>7</td>\n",
       "      <td>3</td>\n",
       "      <td>...</td>\n",
       "      <td>No</td>\n",
       "      <td>Up</td>\n",
       "      <td>No</td>\n",
       "      <td>No</td>\n",
       "      <td>No</td>\n",
       "      <td>No</td>\n",
       "      <td>No</td>\n",
       "      <td>Ch</td>\n",
       "      <td>Yes</td>\n",
       "      <td>&gt;30</td>\n",
       "    </tr>\n",
       "    <tr>\n",
       "      <th>2</th>\n",
       "      <td>64410</td>\n",
       "      <td>86047875</td>\n",
       "      <td>AfricanAmerican</td>\n",
       "      <td>Female</td>\n",
       "      <td>[20-30)</td>\n",
       "      <td>?</td>\n",
       "      <td>1</td>\n",
       "      <td>1</td>\n",
       "      <td>7</td>\n",
       "      <td>2</td>\n",
       "      <td>...</td>\n",
       "      <td>No</td>\n",
       "      <td>No</td>\n",
       "      <td>No</td>\n",
       "      <td>No</td>\n",
       "      <td>No</td>\n",
       "      <td>No</td>\n",
       "      <td>No</td>\n",
       "      <td>No</td>\n",
       "      <td>Yes</td>\n",
       "      <td>NO</td>\n",
       "    </tr>\n",
       "    <tr>\n",
       "      <th>3</th>\n",
       "      <td>500364</td>\n",
       "      <td>82442376</td>\n",
       "      <td>Caucasian</td>\n",
       "      <td>Male</td>\n",
       "      <td>[30-40)</td>\n",
       "      <td>?</td>\n",
       "      <td>1</td>\n",
       "      <td>1</td>\n",
       "      <td>7</td>\n",
       "      <td>2</td>\n",
       "      <td>...</td>\n",
       "      <td>No</td>\n",
       "      <td>Up</td>\n",
       "      <td>No</td>\n",
       "      <td>No</td>\n",
       "      <td>No</td>\n",
       "      <td>No</td>\n",
       "      <td>No</td>\n",
       "      <td>Ch</td>\n",
       "      <td>Yes</td>\n",
       "      <td>NO</td>\n",
       "    </tr>\n",
       "    <tr>\n",
       "      <th>4</th>\n",
       "      <td>16680</td>\n",
       "      <td>42519267</td>\n",
       "      <td>Caucasian</td>\n",
       "      <td>Male</td>\n",
       "      <td>[40-50)</td>\n",
       "      <td>?</td>\n",
       "      <td>1</td>\n",
       "      <td>1</td>\n",
       "      <td>7</td>\n",
       "      <td>1</td>\n",
       "      <td>...</td>\n",
       "      <td>No</td>\n",
       "      <td>Steady</td>\n",
       "      <td>No</td>\n",
       "      <td>No</td>\n",
       "      <td>No</td>\n",
       "      <td>No</td>\n",
       "      <td>No</td>\n",
       "      <td>Ch</td>\n",
       "      <td>Yes</td>\n",
       "      <td>NO</td>\n",
       "    </tr>\n",
       "  </tbody>\n",
       "</table>\n",
       "<p>5 rows × 50 columns</p>\n",
       "</div>"
      ],
      "text/plain": [
       "   encounter_id  patient_nbr             race  gender      age weight  \\\n",
       "0       2278392      8222157        Caucasian  Female   [0-10)      ?   \n",
       "1        149190     55629189        Caucasian  Female  [10-20)      ?   \n",
       "2         64410     86047875  AfricanAmerican  Female  [20-30)      ?   \n",
       "3        500364     82442376        Caucasian    Male  [30-40)      ?   \n",
       "4         16680     42519267        Caucasian    Male  [40-50)      ?   \n",
       "\n",
       "   admission_type_id  discharge_disposition_id  admission_source_id  \\\n",
       "0                  6                        25                    1   \n",
       "1                  1                         1                    7   \n",
       "2                  1                         1                    7   \n",
       "3                  1                         1                    7   \n",
       "4                  1                         1                    7   \n",
       "\n",
       "   time_in_hospital  ... citoglipton insulin  glyburide-metformin  \\\n",
       "0                 1  ...          No      No                   No   \n",
       "1                 3  ...          No      Up                   No   \n",
       "2                 2  ...          No      No                   No   \n",
       "3                 2  ...          No      Up                   No   \n",
       "4                 1  ...          No  Steady                   No   \n",
       "\n",
       "   glipizide-metformin  glimepiride-pioglitazone  metformin-rosiglitazone  \\\n",
       "0                   No                        No                       No   \n",
       "1                   No                        No                       No   \n",
       "2                   No                        No                       No   \n",
       "3                   No                        No                       No   \n",
       "4                   No                        No                       No   \n",
       "\n",
       "   metformin-pioglitazone  change diabetesMed readmitted  \n",
       "0                      No      No          No         NO  \n",
       "1                      No      Ch         Yes        >30  \n",
       "2                      No      No         Yes         NO  \n",
       "3                      No      Ch         Yes         NO  \n",
       "4                      No      Ch         Yes         NO  \n",
       "\n",
       "[5 rows x 50 columns]"
      ]
     },
     "execution_count": 4,
     "metadata": {},
     "output_type": "execute_result"
    }
   ],
   "source": [
    "df.head(5)"
   ]
  },
  {
   "cell_type": "code",
   "execution_count": 5,
   "id": "another-spanish",
   "metadata": {
    "tags": [
     "remove_cell"
    ]
   },
   "outputs": [
    {
     "data": {
      "image/png": "[encoded data removed]",
      "text/plain": [
       "<Figure size 576x288 with 1 Axes>"
      ]
     },
     "metadata": {
      "needs_background": "light"
     },
     "output_type": "display_data"
    }
   ],
   "source": [
    "# plot bar chart\n",
    "plt.figure(figsize=(8,4))\n",
    "sns.countplot(df['readmitted'], palette=['#3182bd','#c994c7','#e7e1ef'])\n",
    "plt.title('Readmission outcomes');"
   ]
  },
  {
   "cell_type": "code",
   "execution_count": 6,
   "id": "honey-closer",
   "metadata": {
    "tags": [
     "remove_input"
    ]
   },
   "outputs": [
    {
     "name": "stdout",
     "output_type": "stream",
     "text": [
      "\n",
      "\n"
     ]
    }
   ],
   "source": [
    "print('\\n')"
   ]
  },
  {
   "cell_type": "markdown",
   "id": "christian-politics",
   "metadata": {},
   "source": [
    "We see that **54%** of patients of the dataset were not readmitted, **35%** were readmitted after 30 days, and only **11%** were readmitted before 30 days.\n",
    "\n",
    "Since classification problems are sensitive to class imbalance, I will combine the before and after 30 days of readmission patients into a single outcome. \n",
    "\n",
    "Now, we see a relatively more equal frequency of patients in each outcome. "
   ]
  },
  {
   "cell_type": "code",
   "execution_count": 7,
   "id": "preceding-cooperative",
   "metadata": {
    "tags": [
     "remove_input"
    ]
   },
   "outputs": [
    {
     "data": {
      "image/png": "[encoded data removed]",
      "text/plain": [
       "<Figure size 576x288 with 1 Axes>"
      ]
     },
     "metadata": {
      "needs_background": "light"
     },
     "output_type": "display_data"
    }
   ],
   "source": [
    "# re-group readmission outcomes\n",
    "df['readmitted'] = df['readmitted'].map({'>30':'YES', '<30':'YES', 'NO':'NO'})\n",
    "\n",
    "# plot bar chart\n",
    "plt.figure(figsize=(8,4))\n",
    "sns.countplot(df['readmitted'], palette=['#3182bd','#c994c7'])\n",
    "plt.title('Number of readmission outcomes');"
   ]
  },
  {
   "cell_type": "markdown",
   "id": "relative-klein",
   "metadata": {},
   "source": [
    "---"
   ]
  },
  {
   "cell_type": "markdown",
   "id": "elder-plaza",
   "metadata": {},
   "source": [
    "<a id='patient_duplicates'></a>\n",
    "**Patient duplicates**\n",
    "\n",
    "`patient_nbr` indicates the unique identifier for each patient. We see that there are duplicates in the patient IDs.\n",
    "\n",
    "It may be that the 'unique' identifier is the same for different patients who attend different hospitals. If so, then the IDs are simply not in synced across different hospitals.\n",
    "\n",
    "When I look at the duplicated `patient_nbr` IDs, I noticed that data recorded across the other features are different, which either implies the above, or that each patient ID represents a unique ADMISSION across time, regardless of whether or not the patient has had more than one admission within the same hospital.\n",
    "\n",
    "In any case, I will not be removing these patient ID duplicates."
   ]
  },
  {
   "cell_type": "code",
   "execution_count": 8,
   "id": "unsigned-reference",
   "metadata": {
    "tags": [
     "remove_cell"
    ]
   },
   "outputs": [
    {
     "data": {
      "text/plain": [
       "71518"
      ]
     },
     "execution_count": 8,
     "metadata": {},
     "output_type": "execute_result"
    }
   ],
   "source": [
    "df['patient_nbr'].nunique()"
   ]
  },
  {
   "cell_type": "code",
   "execution_count": 9,
   "id": "miniature-notion",
   "metadata": {
    "tags": [
     "remove_cell"
    ]
   },
   "outputs": [
    {
     "data": {
      "text/html": [
       "<div>\n",
       "<style scoped>\n",
       "    .dataframe tbody tr th:only-of-type {\n",
       "        vertical-align: middle;\n",
       "    }\n",
       "\n",
       "    .dataframe tbody tr th {\n",
       "        vertical-align: top;\n",
       "    }\n",
       "\n",
       "    .dataframe thead th {\n",
       "        text-align: right;\n",
       "    }\n",
       "</style>\n",
       "<table border=\"1\" class=\"dataframe\">\n",
       "  <thead>\n",
       "    <tr style=\"text-align: right;\">\n",
       "      <th></th>\n",
       "      <th>encounter_id</th>\n",
       "      <th>patient_nbr</th>\n",
       "      <th>race</th>\n",
       "      <th>gender</th>\n",
       "      <th>age</th>\n",
       "      <th>weight</th>\n",
       "      <th>admission_type_id</th>\n",
       "      <th>discharge_disposition_id</th>\n",
       "      <th>admission_source_id</th>\n",
       "      <th>time_in_hospital</th>\n",
       "      <th>...</th>\n",
       "      <th>citoglipton</th>\n",
       "      <th>insulin</th>\n",
       "      <th>glyburide-metformin</th>\n",
       "      <th>glipizide-metformin</th>\n",
       "      <th>glimepiride-pioglitazone</th>\n",
       "      <th>metformin-rosiglitazone</th>\n",
       "      <th>metformin-pioglitazone</th>\n",
       "      <th>change</th>\n",
       "      <th>diabetesMed</th>\n",
       "      <th>readmitted</th>\n",
       "    </tr>\n",
       "  </thead>\n",
       "  <tbody>\n",
       "    <tr>\n",
       "      <th>95599</th>\n",
       "      <td>363787034</td>\n",
       "      <td>187298114</td>\n",
       "      <td>Caucasian</td>\n",
       "      <td>Male</td>\n",
       "      <td>[80-90)</td>\n",
       "      <td>?</td>\n",
       "      <td>1</td>\n",
       "      <td>6</td>\n",
       "      <td>7</td>\n",
       "      <td>4</td>\n",
       "      <td>...</td>\n",
       "      <td>No</td>\n",
       "      <td>Up</td>\n",
       "      <td>No</td>\n",
       "      <td>No</td>\n",
       "      <td>No</td>\n",
       "      <td>No</td>\n",
       "      <td>No</td>\n",
       "      <td>Ch</td>\n",
       "      <td>Yes</td>\n",
       "      <td>YES</td>\n",
       "    </tr>\n",
       "    <tr>\n",
       "      <th>97060</th>\n",
       "      <td>383786948</td>\n",
       "      <td>187298114</td>\n",
       "      <td>Caucasian</td>\n",
       "      <td>Male</td>\n",
       "      <td>[80-90)</td>\n",
       "      <td>?</td>\n",
       "      <td>1</td>\n",
       "      <td>1</td>\n",
       "      <td>7</td>\n",
       "      <td>2</td>\n",
       "      <td>...</td>\n",
       "      <td>No</td>\n",
       "      <td>Steady</td>\n",
       "      <td>No</td>\n",
       "      <td>No</td>\n",
       "      <td>No</td>\n",
       "      <td>No</td>\n",
       "      <td>No</td>\n",
       "      <td>Ch</td>\n",
       "      <td>Yes</td>\n",
       "      <td>YES</td>\n",
       "    </tr>\n",
       "    <tr>\n",
       "      <th>96587</th>\n",
       "      <td>377345516</td>\n",
       "      <td>187298114</td>\n",
       "      <td>Caucasian</td>\n",
       "      <td>Male</td>\n",
       "      <td>[80-90)</td>\n",
       "      <td>?</td>\n",
       "      <td>1</td>\n",
       "      <td>1</td>\n",
       "      <td>7</td>\n",
       "      <td>3</td>\n",
       "      <td>...</td>\n",
       "      <td>No</td>\n",
       "      <td>Steady</td>\n",
       "      <td>No</td>\n",
       "      <td>No</td>\n",
       "      <td>No</td>\n",
       "      <td>No</td>\n",
       "      <td>No</td>\n",
       "      <td>Ch</td>\n",
       "      <td>Yes</td>\n",
       "      <td>NO</td>\n",
       "    </tr>\n",
       "    <tr>\n",
       "      <th>92475</th>\n",
       "      <td>322610720</td>\n",
       "      <td>187298114</td>\n",
       "      <td>Caucasian</td>\n",
       "      <td>Male</td>\n",
       "      <td>[80-90)</td>\n",
       "      <td>?</td>\n",
       "      <td>1</td>\n",
       "      <td>1</td>\n",
       "      <td>7</td>\n",
       "      <td>2</td>\n",
       "      <td>...</td>\n",
       "      <td>No</td>\n",
       "      <td>Steady</td>\n",
       "      <td>No</td>\n",
       "      <td>No</td>\n",
       "      <td>No</td>\n",
       "      <td>No</td>\n",
       "      <td>No</td>\n",
       "      <td>No</td>\n",
       "      <td>Yes</td>\n",
       "      <td>YES</td>\n",
       "    </tr>\n",
       "    <tr>\n",
       "      <th>99386</th>\n",
       "      <td>412637672</td>\n",
       "      <td>187920311</td>\n",
       "      <td>Caucasian</td>\n",
       "      <td>Female</td>\n",
       "      <td>[60-70)</td>\n",
       "      <td>?</td>\n",
       "      <td>1</td>\n",
       "      <td>22</td>\n",
       "      <td>7</td>\n",
       "      <td>2</td>\n",
       "      <td>...</td>\n",
       "      <td>No</td>\n",
       "      <td>Steady</td>\n",
       "      <td>No</td>\n",
       "      <td>No</td>\n",
       "      <td>No</td>\n",
       "      <td>No</td>\n",
       "      <td>No</td>\n",
       "      <td>Ch</td>\n",
       "      <td>Yes</td>\n",
       "      <td>YES</td>\n",
       "    </tr>\n",
       "    <tr>\n",
       "      <th>99239</th>\n",
       "      <td>410904182</td>\n",
       "      <td>188238020</td>\n",
       "      <td>Caucasian</td>\n",
       "      <td>Female</td>\n",
       "      <td>[80-90)</td>\n",
       "      <td>?</td>\n",
       "      <td>1</td>\n",
       "      <td>3</td>\n",
       "      <td>7</td>\n",
       "      <td>3</td>\n",
       "      <td>...</td>\n",
       "      <td>No</td>\n",
       "      <td>Down</td>\n",
       "      <td>No</td>\n",
       "      <td>No</td>\n",
       "      <td>No</td>\n",
       "      <td>No</td>\n",
       "      <td>No</td>\n",
       "      <td>Ch</td>\n",
       "      <td>Yes</td>\n",
       "      <td>YES</td>\n",
       "    </tr>\n",
       "    <tr>\n",
       "      <th>97639</th>\n",
       "      <td>390910244</td>\n",
       "      <td>188284883</td>\n",
       "      <td>Other</td>\n",
       "      <td>Female</td>\n",
       "      <td>[80-90)</td>\n",
       "      <td>?</td>\n",
       "      <td>1</td>\n",
       "      <td>1</td>\n",
       "      <td>7</td>\n",
       "      <td>2</td>\n",
       "      <td>...</td>\n",
       "      <td>No</td>\n",
       "      <td>Up</td>\n",
       "      <td>No</td>\n",
       "      <td>No</td>\n",
       "      <td>No</td>\n",
       "      <td>No</td>\n",
       "      <td>No</td>\n",
       "      <td>Ch</td>\n",
       "      <td>Yes</td>\n",
       "      <td>NO</td>\n",
       "    </tr>\n",
       "    <tr>\n",
       "      <th>99544</th>\n",
       "      <td>414418886</td>\n",
       "      <td>188634893</td>\n",
       "      <td>Caucasian</td>\n",
       "      <td>Male</td>\n",
       "      <td>[70-80)</td>\n",
       "      <td>?</td>\n",
       "      <td>1</td>\n",
       "      <td>1</td>\n",
       "      <td>7</td>\n",
       "      <td>2</td>\n",
       "      <td>...</td>\n",
       "      <td>No</td>\n",
       "      <td>Steady</td>\n",
       "      <td>No</td>\n",
       "      <td>No</td>\n",
       "      <td>No</td>\n",
       "      <td>No</td>\n",
       "      <td>No</td>\n",
       "      <td>No</td>\n",
       "      <td>Yes</td>\n",
       "      <td>NO</td>\n",
       "    </tr>\n",
       "    <tr>\n",
       "      <th>101595</th>\n",
       "      <td>441488168</td>\n",
       "      <td>188970179</td>\n",
       "      <td>Asian</td>\n",
       "      <td>Female</td>\n",
       "      <td>[70-80)</td>\n",
       "      <td>?</td>\n",
       "      <td>1</td>\n",
       "      <td>3</td>\n",
       "      <td>7</td>\n",
       "      <td>6</td>\n",
       "      <td>...</td>\n",
       "      <td>No</td>\n",
       "      <td>Steady</td>\n",
       "      <td>No</td>\n",
       "      <td>No</td>\n",
       "      <td>No</td>\n",
       "      <td>No</td>\n",
       "      <td>No</td>\n",
       "      <td>No</td>\n",
       "      <td>Yes</td>\n",
       "      <td>NO</td>\n",
       "    </tr>\n",
       "    <tr>\n",
       "      <th>98191</th>\n",
       "      <td>397823084</td>\n",
       "      <td>189257846</td>\n",
       "      <td>Asian</td>\n",
       "      <td>Male</td>\n",
       "      <td>[60-70)</td>\n",
       "      <td>?</td>\n",
       "      <td>1</td>\n",
       "      <td>1</td>\n",
       "      <td>7</td>\n",
       "      <td>2</td>\n",
       "      <td>...</td>\n",
       "      <td>No</td>\n",
       "      <td>Steady</td>\n",
       "      <td>No</td>\n",
       "      <td>No</td>\n",
       "      <td>No</td>\n",
       "      <td>No</td>\n",
       "      <td>No</td>\n",
       "      <td>No</td>\n",
       "      <td>Yes</td>\n",
       "      <td>YES</td>\n",
       "    </tr>\n",
       "  </tbody>\n",
       "</table>\n",
       "<p>10 rows × 50 columns</p>\n",
       "</div>"
      ],
      "text/plain": [
       "        encounter_id  patient_nbr       race  gender      age weight  \\\n",
       "95599      363787034    187298114  Caucasian    Male  [80-90)      ?   \n",
       "97060      383786948    187298114  Caucasian    Male  [80-90)      ?   \n",
       "96587      377345516    187298114  Caucasian    Male  [80-90)      ?   \n",
       "92475      322610720    187298114  Caucasian    Male  [80-90)      ?   \n",
       "99386      412637672    187920311  Caucasian  Female  [60-70)      ?   \n",
       "99239      410904182    188238020  Caucasian  Female  [80-90)      ?   \n",
       "97639      390910244    188284883      Other  Female  [80-90)      ?   \n",
       "99544      414418886    188634893  Caucasian    Male  [70-80)      ?   \n",
       "101595     441488168    188970179      Asian  Female  [70-80)      ?   \n",
       "98191      397823084    189257846      Asian    Male  [60-70)      ?   \n",
       "\n",
       "        admission_type_id  discharge_disposition_id  admission_source_id  \\\n",
       "95599                   1                         6                    7   \n",
       "97060                   1                         1                    7   \n",
       "96587                   1                         1                    7   \n",
       "92475                   1                         1                    7   \n",
       "99386                   1                        22                    7   \n",
       "99239                   1                         3                    7   \n",
       "97639                   1                         1                    7   \n",
       "99544                   1                         1                    7   \n",
       "101595                  1                         3                    7   \n",
       "98191                   1                         1                    7   \n",
       "\n",
       "        time_in_hospital  ... citoglipton insulin  glyburide-metformin  \\\n",
       "95599                  4  ...          No      Up                   No   \n",
       "97060                  2  ...          No  Steady                   No   \n",
       "96587                  3  ...          No  Steady                   No   \n",
       "92475                  2  ...          No  Steady                   No   \n",
       "99386                  2  ...          No  Steady                   No   \n",
       "99239                  3  ...          No    Down                   No   \n",
       "97639                  2  ...          No      Up                   No   \n",
       "99544                  2  ...          No  Steady                   No   \n",
       "101595                 6  ...          No  Steady                   No   \n",
       "98191                  2  ...          No  Steady                   No   \n",
       "\n",
       "        glipizide-metformin  glimepiride-pioglitazone  \\\n",
       "95599                    No                        No   \n",
       "97060                    No                        No   \n",
       "96587                    No                        No   \n",
       "92475                    No                        No   \n",
       "99386                    No                        No   \n",
       "99239                    No                        No   \n",
       "97639                    No                        No   \n",
       "99544                    No                        No   \n",
       "101595                   No                        No   \n",
       "98191                    No                        No   \n",
       "\n",
       "        metformin-rosiglitazone  metformin-pioglitazone  change diabetesMed  \\\n",
       "95599                        No                      No      Ch         Yes   \n",
       "97060                        No                      No      Ch         Yes   \n",
       "96587                        No                      No      Ch         Yes   \n",
       "92475                        No                      No      No         Yes   \n",
       "99386                        No                      No      Ch         Yes   \n",
       "99239                        No                      No      Ch         Yes   \n",
       "97639                        No                      No      Ch         Yes   \n",
       "99544                        No                      No      No         Yes   \n",
       "101595                       No                      No      No         Yes   \n",
       "98191                        No                      No      No         Yes   \n",
       "\n",
       "       readmitted  \n",
       "95599         YES  \n",
       "97060         YES  \n",
       "96587          NO  \n",
       "92475         YES  \n",
       "99386         YES  \n",
       "99239         YES  \n",
       "97639          NO  \n",
       "99544          NO  \n",
       "101595         NO  \n",
       "98191         YES  \n",
       "\n",
       "[10 rows x 50 columns]"
      ]
     },
     "execution_count": 9,
     "metadata": {},
     "output_type": "execute_result"
    }
   ],
   "source": [
    "df[df['patient_nbr'].duplicated()].sort_values(['patient_nbr']).tail(10)"
   ]
  },
  {
   "cell_type": "markdown",
   "id": "looking-netscape",
   "metadata": {},
   "source": [
    "---"
   ]
  },
  {
   "cell_type": "markdown",
   "id": "atlantic-course",
   "metadata": {},
   "source": [
    "<a id='missing_values'></a>\n",
    "**Missing values**\n",
    "\n",
    "Missing values of the dataset are represented as `?`. Features with missing values are `race`, `weight`, `payer_code`, `medical_specialty`, `diag_1`, `diag_2`, and `diag_3`.\n",
    "\n",
    "- `race`: 2% of patients did not disclose their races. I will drop these patients from the dataset.\n",
    "- `weight`: 97% of weights are not filled. This represents a very large portion of the dataset. I will remove this feature entirely from my dataset.\n",
    "- `payer_code`: 40% of payer codes were not filled. In this instance, it is difficult to impute missing payer codes, given that there are currently 23 distinct payer codes. I will also remove this feature entirely from my dataset. \n",
    "- `medical_specialty`: 49% of medical specialties, which indicate the specialty of the admitting physician, are missing. I will also remove this feature entirely from my dataset.\n",
    "\n",
    "I also drop the identifiers of patients as they do not provide me with any insight: `encounter_id` and `patient_nbr`."
   ]
  },
  {
   "cell_type": "code",
   "execution_count": 10,
   "id": "presidential-edmonton",
   "metadata": {
    "tags": [
     "remove_cell"
    ]
   },
   "outputs": [
    {
     "name": "stdout",
     "output_type": "stream",
     "text": [
      "race\n",
      "weight\n",
      "payer_code\n",
      "medical_specialty\n",
      "diag_1\n",
      "diag_2\n",
      "diag_3\n"
     ]
    }
   ],
   "source": [
    "for i in df.columns:\n",
    "    try:\n",
    "        if True in df[i].str.contains('\\?').unique().tolist():\n",
    "            print(i)\n",
    "    except:\n",
    "        pass"
   ]
  },
  {
   "cell_type": "markdown",
   "id": "latin-disco",
   "metadata": {
    "tags": [
     "remove_cell"
    ]
   },
   "source": [
    "**Encounter and patient unique identifiers**\n",
    "\n",
    "Drop columns"
   ]
  },
  {
   "cell_type": "code",
   "execution_count": 11,
   "id": "breeding-blind",
   "metadata": {
    "tags": [
     "remove_cell"
    ]
   },
   "outputs": [],
   "source": [
    "del df['encounter_id']\n",
    "del df['patient_nbr']"
   ]
  },
  {
   "cell_type": "markdown",
   "id": "sublime-karma",
   "metadata": {
    "tags": [
     "remove_cell"
    ]
   },
   "source": [
    "**Race**\n",
    "\n",
    "Reclassify missing races as 'other', and drop these rows."
   ]
  },
  {
   "cell_type": "code",
   "execution_count": 12,
   "id": "arbitrary-schedule",
   "metadata": {
    "tags": [
     "remove_cell"
    ]
   },
   "outputs": [
    {
     "data": {
      "text/plain": [
       "Caucasian          76099\n",
       "AfricanAmerican    19210\n",
       "?                   2273\n",
       "Hispanic            2037\n",
       "Other               1506\n",
       "Asian                641\n",
       "Name: race, dtype: int64"
      ]
     },
     "execution_count": 12,
     "metadata": {},
     "output_type": "execute_result"
    }
   ],
   "source": [
    "# regroup missing races as 'other'\n",
    "df['race'].value_counts()"
   ]
  },
  {
   "cell_type": "code",
   "execution_count": 13,
   "id": "perfect-cleaning",
   "metadata": {
    "tags": [
     "remove_cell"
    ]
   },
   "outputs": [
    {
     "data": {
      "text/plain": [
       "Caucasian          76099\n",
       "AfricanAmerican    19210\n",
       "Other               3779\n",
       "Hispanic            2037\n",
       "Asian                641\n",
       "Name: race, dtype: int64"
      ]
     },
     "execution_count": 13,
     "metadata": {},
     "output_type": "execute_result"
    }
   ],
   "source": [
    "df['race'] = df['race'].str.replace('?', 'Other')\n",
    "df['race'].value_counts()"
   ]
  },
  {
   "cell_type": "code",
   "execution_count": 14,
   "id": "biological-winning",
   "metadata": {
    "tags": [
     "remove_cell"
    ]
   },
   "outputs": [],
   "source": [
    "df = df[~df['race'].str.contains('Other')]"
   ]
  },
  {
   "cell_type": "markdown",
   "id": "opening-eligibility",
   "metadata": {
    "tags": [
     "remove_cell"
    ]
   },
   "source": [
    "**Weight**\n",
    "\n",
    "Remove column from dataset."
   ]
  },
  {
   "cell_type": "code",
   "execution_count": 15,
   "id": "exterior-leeds",
   "metadata": {
    "scrolled": true,
    "tags": [
     "remove_cell"
    ]
   },
   "outputs": [],
   "source": [
    "del df['weight']"
   ]
  },
  {
   "cell_type": "markdown",
   "id": "thousand-longer",
   "metadata": {
    "tags": [
     "remove_cell"
    ]
   },
   "source": [
    "**Payer code**\n",
    "\n",
    "Remove column from dataset."
   ]
  },
  {
   "cell_type": "code",
   "execution_count": 16,
   "id": "spare-sessions",
   "metadata": {
    "tags": [
     "remove_cell"
    ]
   },
   "outputs": [],
   "source": [
    "del df['payer_code']"
   ]
  },
  {
   "cell_type": "markdown",
   "id": "satellite-outdoors",
   "metadata": {
    "tags": [
     "remove_cell"
    ]
   },
   "source": [
    "**Medical specialty**\n",
    "\n",
    "Remove column from dataset."
   ]
  },
  {
   "cell_type": "code",
   "execution_count": 17,
   "id": "rising-discussion",
   "metadata": {
    "tags": [
     "remove_cell"
    ]
   },
   "outputs": [],
   "source": [
    "del df['medical_specialty']"
   ]
  },
  {
   "cell_type": "markdown",
   "id": "preliminary-convertible",
   "metadata": {},
   "source": [
    "---"
   ]
  },
  {
   "cell_type": "markdown",
   "id": "moving-vector",
   "metadata": {},
   "source": [
    "<a id='recode_values'></a>\n",
    "**Re-code values and collapsing features**\n",
    "\n",
    "Now, I re-group values of features where necessary, whether based on similar characteristics or similar trends with regards to readmission outcome. This is to reduce the multidimensionality of the dataset. \n",
    "\n",
    "However, since I do not have a strong knowledge in the medical domain, I try to employ as much common sense as available to me in cases where patterns of differentiation may be observed. "
   ]
  },
  {
   "cell_type": "code",
   "execution_count": 18,
   "id": "vanilla-oakland",
   "metadata": {
    "tags": [
     "remove_input"
    ]
   },
   "outputs": [
    {
     "name": "stdout",
     "output_type": "stream",
     "text": [
      "\n",
      "\n"
     ]
    }
   ],
   "source": [
    "print('\\n')"
   ]
  },
  {
   "cell_type": "markdown",
   "id": "further-potato",
   "metadata": {},
   "source": [
    "**1) Gender**\n",
    "\n",
    "The plots show a similar pattern of readmission outcome between female and male patients - there are more patients who were not readmitted across both genders. However, we see that a higher proportion of female patients were readmitted, as compared to male patients. "
   ]
  },
  {
   "cell_type": "code",
   "execution_count": 19,
   "id": "quantitative-lyric",
   "metadata": {
    "tags": [
     "remove_cell"
    ]
   },
   "outputs": [
    {
     "data": {
      "text/plain": [
       "Female    52827\n",
       "Male      45160\n",
       "Name: gender, dtype: int64"
      ]
     },
     "execution_count": 19,
     "metadata": {},
     "output_type": "execute_result"
    }
   ],
   "source": [
    "df['gender'].value_counts()"
   ]
  },
  {
   "cell_type": "code",
   "execution_count": 20,
   "id": "dedicated-ebony",
   "metadata": {
    "scrolled": false,
    "tags": [
     "remove_input"
    ]
   },
   "outputs": [
    {
     "data": {
      "image/png": "[encoded data removed]",
      "text/plain": [
       "<Figure size 576x288 with 1 Axes>"
      ]
     },
     "metadata": {
      "needs_background": "light"
     },
     "output_type": "display_data"
    }
   ],
   "source": [
    "# plot bivariate clustered bar chart\n",
    "plt.figure(figsize=(8,4))\n",
    "sns.countplot(df['gender'], hue=df['readmitted'], palette=['#3182bd','#c994c7'])\n",
    "plt.title('Number of readmission outcome across gender');"
   ]
  },
  {
   "cell_type": "markdown",
   "id": "closed-sociology",
   "metadata": {},
   "source": [
    "**2) Age**\n",
    "\n",
    "The ages of patients were recorded in categorical ranges in intervals of 10: 0-10, 10-20, 20-30 etc.\n",
    "\n",
    "All age groups seem to share a similar pattern of readmission outcome, with a higher number of no readmissions than readmissions. We see however, that the proportion of readmissions is higher among older groups (we see a narrower gap in the height of bars between blue and purple  above 70 years of age, as compared to ages between 40 and 70).\n",
    "\n",
    "In addition, I will convert this feature from a categorical to numeric, by taking the mid-point of each age group. "
   ]
  },
  {
   "cell_type": "code",
   "execution_count": 21,
   "id": "healthy-joyce",
   "metadata": {
    "tags": [
     "remove_cell"
    ]
   },
   "outputs": [],
   "source": [
    "# convert age ranges that were recorded as [10-20) to 10-20\n",
    "df['age'] = df['age'].str.replace('[', '')\n",
    "df['age'] = df['age'].str.replace(')', '')"
   ]
  },
  {
   "cell_type": "code",
   "execution_count": 22,
   "id": "cooperative-franchise",
   "metadata": {
    "tags": [
     "remove_input"
    ]
   },
   "outputs": [
    {
     "data": {
      "image/png": "[encoded data removed]",
      "text/plain": [
       "<Figure size 576x288 with 1 Axes>"
      ]
     },
     "metadata": {
      "needs_background": "light"
     },
     "output_type": "display_data"
    }
   ],
   "source": [
    "# plot\n",
    "plt.figure(figsize=(8,4))\n",
    "sns.countplot(df['age'], hue=df['readmitted'], palette=['#3182bd','#c994c7'])\n",
    "plt.title('Number of readmission outcome across age group');"
   ]
  },
  {
   "cell_type": "code",
   "execution_count": 23,
   "id": "exciting-norman",
   "metadata": {
    "tags": [
     "remove_cell"
    ]
   },
   "outputs": [
    {
     "data": {
      "image/png": "[encoded data removed]",
      "text/plain": [
       "<Figure size 576x288 with 1 Axes>"
      ]
     },
     "metadata": {
      "needs_background": "light"
     },
     "output_type": "display_data"
    }
   ],
   "source": [
    "# re-group ages\n",
    "df['age'] = df['age'].map({'0-10':'5',\n",
    "                           '10-20':'15',\n",
    "                           '20-30':'25',\n",
    "                           '30-40':'35',\n",
    "                           '40-50':'45',\n",
    "                           '50-60':'55',\n",
    "                           '60-70':'65',\n",
    "                           '70-80':'75',\n",
    "                           '80-90':'85',\n",
    "                           '90-100':'95'})\n",
    "\n",
    "# convert to numeric feature\n",
    "df['age'] = df['age'].astype(int)\n",
    "\n",
    "# plot box plots\n",
    "plt.figure(figsize=(8,4))\n",
    "sns.boxplot(x=df['readmitted'], y=df['age'],\n",
    "            palette=['#c994c7','#3182bd'])\n",
    "plt.ylabel('Age')\n",
    "plt.xlabel('Readmission outcome');"
   ]
  },
  {
   "cell_type": "markdown",
   "id": "devoted-sussex",
   "metadata": {},
   "source": [
    "**3) Admission type**\n",
    "\n",
    "There are 9 distinct admission types that are represented in unique integers. Admission types are: `emergency`, `urgent`, `elective`, `newborn`, `trauma`. There are also undisclosed admission types that are recorded as `other`. \n",
    "\n",
    "Since they are recorded in integers, I will map them to their admission types in string format so that I can look at them better. The integers and their corresponding admission types can be found [here](https://archive.ics.uci.edu/ml/machine-learning-databases/00296/)."
   ]
  },
  {
   "cell_type": "code",
   "execution_count": 24,
   "id": "southeast-vertex",
   "metadata": {
    "tags": [
     "remove_cell"
    ]
   },
   "outputs": [
    {
     "data": {
      "text/plain": [
       "emergency    52216\n",
       "elective     18233\n",
       "urgent       17407\n",
       "other        10101\n",
       "trauma          20\n",
       "newborn         10\n",
       "Name: admission_type_id, dtype: int64"
      ]
     },
     "execution_count": 24,
     "metadata": {},
     "output_type": "execute_result"
    }
   ],
   "source": [
    "admission_type_dict = {1:'emergency',\n",
    "                       2:'urgent',\n",
    "                       3:'elective',\n",
    "                       4:'newborn',\n",
    "                       5:'other',\n",
    "                       6:'other',\n",
    "                       7:'trauma',\n",
    "                       8:'other'}\n",
    "\n",
    "df['admission_type_id'] = df['admission_type_id'].map(admission_type_dict)\n",
    "df['admission_type_id'].value_counts()"
   ]
  },
  {
   "cell_type": "markdown",
   "id": "eight-uncertainty",
   "metadata": {},
   "source": [
    "In the plot below, we see that all trauma patients of the dataset did not get readmitted. Seems like the largest proportion of patients who were readmitted come from admission types `other` and `emergency`. On the other hand, `newborn` and `elective` had the lowest proportion of readmissions."
   ]
  },
  {
   "cell_type": "code",
   "execution_count": 25,
   "id": "lovely-dynamics",
   "metadata": {
    "scrolled": true,
    "tags": [
     "remove_cell"
    ]
   },
   "outputs": [
    {
     "data": {
      "text/html": [
       "<div>\n",
       "<style scoped>\n",
       "    .dataframe tbody tr th:only-of-type {\n",
       "        vertical-align: middle;\n",
       "    }\n",
       "\n",
       "    .dataframe tbody tr th {\n",
       "        vertical-align: top;\n",
       "    }\n",
       "\n",
       "    .dataframe thead th {\n",
       "        text-align: right;\n",
       "    }\n",
       "</style>\n",
       "<table border=\"1\" class=\"dataframe\">\n",
       "  <thead>\n",
       "    <tr style=\"text-align: right;\">\n",
       "      <th>readmitted</th>\n",
       "      <th>NO</th>\n",
       "      <th>YES</th>\n",
       "    </tr>\n",
       "    <tr>\n",
       "      <th>admission_type_id</th>\n",
       "      <th></th>\n",
       "      <th></th>\n",
       "    </tr>\n",
       "  </thead>\n",
       "  <tbody>\n",
       "    <tr>\n",
       "      <th>elective</th>\n",
       "      <td>58.9</td>\n",
       "      <td>41.1</td>\n",
       "    </tr>\n",
       "    <tr>\n",
       "      <th>emergency</th>\n",
       "      <td>52.4</td>\n",
       "      <td>47.6</td>\n",
       "    </tr>\n",
       "    <tr>\n",
       "      <th>newborn</th>\n",
       "      <td>70.0</td>\n",
       "      <td>30.0</td>\n",
       "    </tr>\n",
       "    <tr>\n",
       "      <th>other</th>\n",
       "      <td>50.3</td>\n",
       "      <td>49.7</td>\n",
       "    </tr>\n",
       "    <tr>\n",
       "      <th>trauma</th>\n",
       "      <td>100.0</td>\n",
       "      <td>0.0</td>\n",
       "    </tr>\n",
       "    <tr>\n",
       "      <th>urgent</th>\n",
       "      <td>52.8</td>\n",
       "      <td>47.2</td>\n",
       "    </tr>\n",
       "  </tbody>\n",
       "</table>\n",
       "</div>"
      ],
      "text/plain": [
       "readmitted            NO   YES\n",
       "admission_type_id             \n",
       "elective            58.9  41.1\n",
       "emergency           52.4  47.6\n",
       "newborn             70.0  30.0\n",
       "other               50.3  49.7\n",
       "trauma             100.0   0.0\n",
       "urgent              52.8  47.2"
      ]
     },
     "execution_count": 25,
     "metadata": {},
     "output_type": "execute_result"
    }
   ],
   "source": [
    "# create a table of proportions for each admission type and each readmitted type\n",
    "output1 = pd.crosstab(df['admission_type_id'], df['readmitted']).apply(lambda x: round((x/x.sum())*100, 1), axis=1)\n",
    "output1"
   ]
  },
  {
   "cell_type": "code",
   "execution_count": 26,
   "id": "synthetic-parcel",
   "metadata": {
    "tags": [
     "remove_input"
    ]
   },
   "outputs": [
    {
     "data": {
      "image/png": "[encoded data removed]",
      "text/plain": [
       "<Figure size 576x288 with 1 Axes>"
      ]
     },
     "metadata": {
      "needs_background": "light"
     },
     "output_type": "display_data"
    }
   ],
   "source": [
    "# plot\n",
    "output1.plot.bar(figsize=(8,4), color=['#3182bd','#c994c7'])\n",
    "plt.title('Proportion of readmission outcome across admission type')\n",
    "plt.xlabel('admission type')\n",
    "plt.xticks(rotation=360)\n",
    "plt.ylabel('%');"
   ]
  },
  {
   "cell_type": "markdown",
   "id": "controversial-system",
   "metadata": {},
   "source": [
    "I will remove patients with undisclosed admission types, and re-group all non-emergency admission types into one group called `non-emergency`.\n",
    "\n",
    "In the plot below, we see that among patients who were admitted due to emergency reasons, a higher proportion were readmitted, as compared to those who came in due to non-emergency reasons."
   ]
  },
  {
   "cell_type": "code",
   "execution_count": 27,
   "id": "governmental-consistency",
   "metadata": {
    "tags": [
     "remove_cell"
    ]
   },
   "outputs": [],
   "source": [
    "# remove 'other'\n",
    "df = df.query('admission_type_id != \"other\"')"
   ]
  },
  {
   "cell_type": "code",
   "execution_count": 28,
   "id": "former-nylon",
   "metadata": {
    "tags": [
     "remove_input"
    ]
   },
   "outputs": [
    {
     "data": {
      "image/png": "[encoded data removed]",
      "text/plain": [
       "<Figure size 576x288 with 1 Axes>"
      ]
     },
     "metadata": {
      "needs_background": "light"
     },
     "output_type": "display_data"
    }
   ],
   "source": [
    "# re-group to emergency and non-emergency only\n",
    "df['admission_type_id'] = df['admission_type_id'].map({'elective':'non-emergency',\n",
    "                                                       'emergency':'emergency',\n",
    "                                                       'newborn':'non-emergency',\n",
    "                                                       'trauma':'non-emergency',\n",
    "                                                       'urgent':'non-emergency'})\n",
    "\n",
    "# create a table of proportions for each admission type and each readmitted type\n",
    "output1_1 = pd.crosstab(df['admission_type_id'], df['readmitted']).apply(lambda x: round((x/x.sum())*100, 1), axis=1)\n",
    "output1_1\n",
    "\n",
    "# plot bar chart\n",
    "output1_1.plot.bar(figsize=(8,4), color=['#3182bd','#c994c7'])\n",
    "plt.title('Proportion of readmission outcome across admission type')\n",
    "plt.xlabel('admission type')\n",
    "plt.xticks(rotation=360)\n",
    "plt.ylabel('%');"
   ]
  },
  {
   "cell_type": "markdown",
   "id": "acute-regard",
   "metadata": {},
   "source": [
    "**4) Discharge disposition**\n",
    "\n",
    "There are 29 distinct discharge reasons. For example, a patient may be discharged home or discharged to another medical institution, which takes various forms such as short term hospital, inpatient care institution, Medicare approved swing bed, and many more. I will group all discharge destinations that are not to a patient's home (even if it is a home with home health services) as being discharged to a medical institution.\n",
    "\n",
    "Another thing to note is that some discharge reasons were recorded as `expired`. These are patients that had passed away during their admission, which I remove from the dataset. I also remove patients with undisclosed discharge dispositions."
   ]
  },
  {
   "cell_type": "markdown",
   "id": "serial-hygiene",
   "metadata": {
    "tags": [
     "remove_cell"
    ]
   },
   "source": [
    "**Remove patients that had passed away during their hospital stay**"
   ]
  },
  {
   "cell_type": "code",
   "execution_count": 29,
   "id": "convenient-contest",
   "metadata": {
    "tags": [
     "remove_cell"
    ]
   },
   "outputs": [],
   "source": [
    "# import csv file containing the maps\n",
    "data_map = pd.read_csv('./data/id_mapping.csv')"
   ]
  },
  {
   "cell_type": "code",
   "execution_count": 30,
   "id": "determined-glance",
   "metadata": {
    "tags": [
     "remove_cell"
    ]
   },
   "outputs": [],
   "source": [
    "# Create mapping dictionary\n",
    "discharge_disposition_df = data_map[11:41]\n",
    "discharge_disposition_df.columns = 'discharge_disposition_id', 'description'\n",
    "discharge_disposition_df['description'] = discharge_disposition_df['description'].str.lower()\n",
    "discharge_disposition_df.set_index(['discharge_disposition_id'], inplace=True)\n",
    "discharge_disposition_df.fillna('none', inplace=True)\n",
    "discharge_disposition_df.index = discharge_disposition_df.index.astype(int)\n",
    "discharge_disposition_dict = discharge_disposition_df.to_dict()['description']\n",
    "# discharge_disposition_dict"
   ]
  },
  {
   "cell_type": "code",
   "execution_count": 31,
   "id": "million-mongolia",
   "metadata": {
    "tags": [
     "remove_cell"
    ]
   },
   "outputs": [],
   "source": [
    "# map dispositions to integers\n",
    "df['discharge_disposition_id'] = df['discharge_disposition_id'].map(discharge_disposition_dict)"
   ]
  },
  {
   "cell_type": "code",
   "execution_count": 32,
   "id": "liked-vision",
   "metadata": {
    "tags": [
     "remove_cell"
    ]
   },
   "outputs": [
    {
     "name": "stdout",
     "output_type": "stream",
     "text": [
      "a total of 1,443 patients had passed away, while a total of 660 patients were headed to a hospice\n"
     ]
    }
   ],
   "source": [
    "# count number of patients who had passed away and patients discharged to\n",
    "# hospice\n",
    "print(f\"a total of {df['discharge_disposition_id'].str.contains('expire').sum():,.0f}\\\n",
    " patients had passed away, while a total of {df['discharge_disposition_id'].str.contains('hospice /').sum()}\\\n",
    " patients were headed to a hospice\")"
   ]
  },
  {
   "cell_type": "code",
   "execution_count": 33,
   "id": "moved-services",
   "metadata": {
    "tags": [
     "remove_cell"
    ]
   },
   "outputs": [
    {
     "data": {
      "text/plain": [
       "array(['NO'], dtype=object)"
      ]
     },
     "execution_count": 33,
     "metadata": {},
     "output_type": "execute_result"
    }
   ],
   "source": [
    "# confirm that 'expired' patients were not readmitted at all\n",
    "df[df['discharge_disposition_id'].str.contains('expire')]['readmitted'].unique()"
   ]
  },
  {
   "cell_type": "code",
   "execution_count": 34,
   "id": "hybrid-sentence",
   "metadata": {
    "tags": [
     "remove_cell"
    ]
   },
   "outputs": [
    {
     "data": {
      "text/plain": [
       "NO     589\n",
       "YES     80\n",
       "Name: readmitted, dtype: int64"
      ]
     },
     "execution_count": 34,
     "metadata": {},
     "output_type": "execute_result"
    }
   ],
   "source": [
    "# will not remove hospice patients\n",
    "df[df['discharge_disposition_id'].str.contains('hospice')]['readmitted'].value_counts()"
   ]
  },
  {
   "cell_type": "code",
   "execution_count": 35,
   "id": "civilian-beach",
   "metadata": {
    "tags": [
     "remove_cell"
    ]
   },
   "outputs": [
    {
     "data": {
      "text/plain": [
       "(86443, 45)"
      ]
     },
     "execution_count": 35,
     "metadata": {},
     "output_type": "execute_result"
    }
   ],
   "source": [
    "# remove patients who had passed away from the dataset\n",
    "df = df[~df['discharge_disposition_id'].str.contains('expire')]\n",
    "df.shape"
   ]
  },
  {
   "cell_type": "markdown",
   "id": "presidential-instrument",
   "metadata": {
    "tags": [
     "remove_cell"
    ]
   },
   "source": [
    "**Re-group discharge dispositions to either `home`, `medical institution`, `left AMA`, `hospice`, or `other` where `other` contain missing discharge dispositions.**"
   ]
  },
  {
   "cell_type": "code",
   "execution_count": 36,
   "id": "attractive-portable",
   "metadata": {
    "tags": [
     "remove_cell"
    ]
   },
   "outputs": [],
   "source": [
    "# define function for classification based on whether 'expire' is in the discharge disposition\n",
    "def classify_discharge_disposition(df):\n",
    "    if 'left ama' in df:\n",
    "        return 'left ama'\n",
    "    if 'none' in df:\n",
    "        return 'other'\n",
    "    if 'not mapped' in df:\n",
    "        return 'other'\n",
    "    if 'unknown' in df:\n",
    "        return 'other'\n",
    "    elif 'hospice' in df:\n",
    "        return 'hospice'\n",
    "    else:\n",
    "        return df # differentiate the home and medical institution ones later"
   ]
  },
  {
   "cell_type": "code",
   "execution_count": 37,
   "id": "destroyed-tiffany",
   "metadata": {
    "tags": [
     "remove_cell"
    ]
   },
   "outputs": [],
   "source": [
    "# define second function to differentiate home and medical institution discharge\n",
    "def classify_discharge_disposition2(df):\n",
    "    if 'home' in df:\n",
    "        return 'home'\n",
    "    elif 'left ama' in df:\n",
    "        return 'left ama'\n",
    "    elif 'other' in df:\n",
    "        return 'other'\n",
    "    else:\n",
    "        return 'medical institution'"
   ]
  },
  {
   "cell_type": "code",
   "execution_count": 38,
   "id": "massive-jungle",
   "metadata": {
    "tags": [
     "remove_cell"
    ]
   },
   "outputs": [
    {
     "data": {
      "text/plain": [
       "home                   64002\n",
       "medical institution    13628\n",
       "other                   8276\n",
       "left ama                 537\n",
       "Name: discharge_disposition_id, dtype: int64"
      ]
     },
     "execution_count": 38,
     "metadata": {},
     "output_type": "execute_result"
    }
   ],
   "source": [
    "# apply 1st and 2nd map functions\n",
    "df['discharge_disposition_id'] = df['discharge_disposition_id'].map(classify_discharge_disposition)\n",
    "df['discharge_disposition_id'] = df['discharge_disposition_id'].map(classify_discharge_disposition2)\n",
    "df['discharge_disposition_id'].value_counts()"
   ]
  },
  {
   "cell_type": "markdown",
   "id": "tender-paste",
   "metadata": {},
   "source": [
    "The plot below shows that the largest proportion of patients who were readmitted are those who left against medical advice, while the smallest proportion are those who were discharged home."
   ]
  },
  {
   "cell_type": "code",
   "execution_count": 39,
   "id": "material-thailand",
   "metadata": {
    "tags": [
     "remove_cell"
    ]
   },
   "outputs": [],
   "source": [
    "# remove 'others'\n",
    "df = df.query('discharge_disposition_id != \"other\"')"
   ]
  },
  {
   "cell_type": "code",
   "execution_count": 40,
   "id": "hundred-minneapolis",
   "metadata": {
    "tags": [
     "remove_cell"
    ]
   },
   "outputs": [
    {
     "data": {
      "text/html": [
       "<div>\n",
       "<style scoped>\n",
       "    .dataframe tbody tr th:only-of-type {\n",
       "        vertical-align: middle;\n",
       "    }\n",
       "\n",
       "    .dataframe tbody tr th {\n",
       "        vertical-align: top;\n",
       "    }\n",
       "\n",
       "    .dataframe thead th {\n",
       "        text-align: right;\n",
       "    }\n",
       "</style>\n",
       "<table border=\"1\" class=\"dataframe\">\n",
       "  <thead>\n",
       "    <tr style=\"text-align: right;\">\n",
       "      <th>readmitted</th>\n",
       "      <th>NO</th>\n",
       "      <th>YES</th>\n",
       "    </tr>\n",
       "    <tr>\n",
       "      <th>discharge_disposition_id</th>\n",
       "      <th></th>\n",
       "      <th></th>\n",
       "    </tr>\n",
       "  </thead>\n",
       "  <tbody>\n",
       "    <tr>\n",
       "      <th>home</th>\n",
       "      <td>53.2</td>\n",
       "      <td>46.8</td>\n",
       "    </tr>\n",
       "    <tr>\n",
       "      <th>left ama</th>\n",
       "      <td>48.8</td>\n",
       "      <td>51.2</td>\n",
       "    </tr>\n",
       "    <tr>\n",
       "      <th>medical institution</th>\n",
       "      <td>52.3</td>\n",
       "      <td>47.7</td>\n",
       "    </tr>\n",
       "  </tbody>\n",
       "</table>\n",
       "</div>"
      ],
      "text/plain": [
       "readmitted                  NO   YES\n",
       "discharge_disposition_id            \n",
       "home                      53.2  46.8\n",
       "left ama                  48.8  51.2\n",
       "medical institution       52.3  47.7"
      ]
     },
     "execution_count": 40,
     "metadata": {},
     "output_type": "execute_result"
    }
   ],
   "source": [
    "# create a table of proportions for each discharge reason and each readmitted type\n",
    "output2 = pd.crosstab(df['discharge_disposition_id'], df['readmitted']).apply(lambda x: round((x/x.sum())*100, 1), axis=1)\n",
    "output2"
   ]
  },
  {
   "cell_type": "code",
   "execution_count": 41,
   "id": "saving-intelligence",
   "metadata": {
    "tags": [
     "remove_input"
    ]
   },
   "outputs": [
    {
     "data": {
      "image/png": "[encoded data removed]",
      "text/plain": [
       "<Figure size 576x288 with 1 Axes>"
      ]
     },
     "metadata": {
      "needs_background": "light"
     },
     "output_type": "display_data"
    }
   ],
   "source": [
    "# plot bar chart\n",
    "output2.plot.bar(figsize=(8,4), color=['#3182bd','#c994c7'])\n",
    "plt.title('Proportion of readmission outcome across discharge disposition')\n",
    "plt.xlabel('discharge disposition')\n",
    "plt.xticks(rotation=360)\n",
    "plt.ylabel('%');"
   ]
  },
  {
   "cell_type": "markdown",
   "id": "absolute-mailing",
   "metadata": {},
   "source": [
    "**5) Admission source**\n",
    "\n",
    "There are 21 distinct admission sources describing the source of which patients were referred for the initial admission, such as physical referral, clinic referral, emergency referral, and others. \n",
    "\n",
    "Looks like most patients were admitted from the emergency room, followed by physician referrals. Other sources include transfer from another healthcare facility, from another critical access hospital, from an ambulatory surgery centre, and others.\n",
    "\n",
    "I will drop this feature from my dataset, seeing as I am unsure of how the various referral sources differ or overlap in service with each other. Furthermore, I'd imagine that these admission sources are also reflective of the admission types (emergency, elective, newborn etc), which we have in the dataset. "
   ]
  },
  {
   "cell_type": "code",
   "execution_count": 42,
   "id": "infrared-washer",
   "metadata": {
    "tags": [
     "remove_cell"
    ]
   },
   "outputs": [
    {
     "data": {
      "text/plain": [
       "emergency room                                               47987\n",
       "physician referral                                           23568\n",
       "transfer from a hospital                                      2226\n",
       "transfer from another health care facility                    1799\n",
       "not available                                                  841\n",
       "clinic referral                                                802\n",
       "transfer from a skilled nursing facility (snf)                 665\n",
       "not mapped                                                     156\n",
       "hmo referral                                                    89\n",
       "transfer from hospital inpt/same fac reslt in a sep claim       11\n",
       "court/law enforcement                                            9\n",
       "transfer from critial access hospital                            7\n",
       "normal delivery                                                  2\n",
       "extramural birth                                                 2\n",
       "transfer from ambulatory surgery center                          2\n",
       "sick baby                                                        1\n",
       "Name: admission_source_id, dtype: int64"
      ]
     },
     "execution_count": 42,
     "metadata": {},
     "output_type": "execute_result"
    }
   ],
   "source": [
    "# map admission source from their integers\n",
    "admission_source_df = data_map[43:]\n",
    "admission_source_df.columns = ['admission_source_id', 'description']\n",
    "admission_source_df.fillna('not available', inplace=True)\n",
    "admission_source_df.set_index(['admission_source_id'], inplace=True)\n",
    "admission_source_df.index = admission_source_df.index.astype(int)\n",
    "admission_source_df['description'] = admission_source_df['description'].str.lower()\n",
    "admission_source_dict = admission_source_df.to_dict()\n",
    "admission_source_dict = admission_source_dict['description']\n",
    "\n",
    "df['admission_source_id'] = df['admission_source_id'].map(admission_source_dict)\n",
    "df['admission_source_id'].value_counts()"
   ]
  },
  {
   "cell_type": "code",
   "execution_count": 43,
   "id": "internal-translation",
   "metadata": {
    "tags": [
     "remove_cell"
    ]
   },
   "outputs": [],
   "source": [
    "# drop feature\n",
    "del df['admission_source_id']"
   ]
  },
  {
   "cell_type": "code",
   "execution_count": 173,
   "id": "therapeutic-kingdom",
   "metadata": {
    "tags": [
     "remove_input"
    ]
   },
   "outputs": [
    {
     "name": "stdout",
     "output_type": "stream",
     "text": [
      "\n",
      "\n"
     ]
    }
   ],
   "source": [
    "print('\\n')"
   ]
  },
  {
   "cell_type": "markdown",
   "id": "medieval-cloud",
   "metadata": {},
   "source": [
    "**6) Duration of hospital stay in days**\n",
    "\n",
    "Unlike the categorical features that I was describing before, this feature is numerical, indicating the number of days a patient was admitted in the hospital. The shortest hospital stay is 1 day while the longest is 14 days. \n",
    "\n",
    "Our dataset shows that a majority of patients were admitted for less than 6 days, with a  decreasing number as days increase to 14 days (reflecting a rightly-skewed histogram).\n",
    "\n",
    "For my decision tree, I will not be log-transforming this feature into a normally distributed plot, since this feature is not the target variable. "
   ]
  },
  {
   "cell_type": "code",
   "execution_count": 44,
   "id": "vital-fairy",
   "metadata": {
    "tags": [
     "remove_input"
    ]
   },
   "outputs": [
    {
     "data": {
      "image/png": "[encoded data removed]",
      "text/plain": [
       "<Figure size 576x288 with 1 Axes>"
      ]
     },
     "metadata": {
      "needs_background": "light"
     },
     "output_type": "display_data"
    }
   ],
   "source": [
    "# plot histogram to show spread of hospital stay \n",
    "plt.figure(figsize=(8,4))\n",
    "plt.hist(df['time_in_hospital'], color='#1c9099')\n",
    "plt.title('Hospital stay in days across all patients')\n",
    "plt.xlabel('days')\n",
    "plt.ylabel('count');"
   ]
  },
  {
   "cell_type": "markdown",
   "id": "opposite-arbor",
   "metadata": {},
   "source": [
    "Let us look at the relationship between readmission outcome and the amount of time spent during admission.\n",
    "\n",
    "From the boxplots below, we see that patients who did not get readmitted had a lower *median* number of admission days (**3 days**), as compared to patients who did get readmitted (**4 days**). Nevertheless, we see a significant overlap in the number of admission days for both readmission outcomes.\n",
    "\n",
    "The *average* number of days for patients who were readmitted is also *slightly* higher than those who were not (**4.5 days** vs **4.2 days**)."
   ]
  },
  {
   "cell_type": "code",
   "execution_count": 45,
   "id": "portable-implementation",
   "metadata": {
    "tags": [
     "remove_cell"
    ]
   },
   "outputs": [
    {
     "data": {
      "text/plain": [
       "readmitted\n",
       "NO     4.193671\n",
       "YES    4.496938\n",
       "Name: time_in_hospital, dtype: float64"
      ]
     },
     "execution_count": 45,
     "metadata": {},
     "output_type": "execute_result"
    }
   ],
   "source": [
    "# calculate average hospital stay by readmitted outcome\n",
    "df.groupby('readmitted')['time_in_hospital'].mean()"
   ]
  },
  {
   "cell_type": "code",
   "execution_count": 46,
   "id": "raised-escape",
   "metadata": {
    "tags": [
     "remove_cell"
    ]
   },
   "outputs": [
    {
     "data": {
      "text/plain": [
       "readmitted\n",
       "NO     3\n",
       "YES    4\n",
       "Name: time_in_hospital, dtype: int64"
      ]
     },
     "execution_count": 46,
     "metadata": {},
     "output_type": "execute_result"
    }
   ],
   "source": [
    "# calculate median hospital stay by readmitted outcome\n",
    "df.groupby('readmitted')['time_in_hospital'].median()"
   ]
  },
  {
   "cell_type": "code",
   "execution_count": 47,
   "id": "behavioral-decimal",
   "metadata": {
    "tags": [
     "remove_input"
    ]
   },
   "outputs": [
    {
     "data": {
      "image/png": "[encoded data removed]",
      "text/plain": [
       "<Figure size 576x288 with 2 Axes>"
      ]
     },
     "metadata": {
      "needs_background": "light"
     },
     "output_type": "display_data"
    }
   ],
   "source": [
    "# plot facet grid of box plots\n",
    "g = sns.FacetGrid(df, col='readmitted', size=4)\n",
    "g.map(sns.boxplot, 'time_in_hospital', color='#1c9099');"
   ]
  },
  {
   "cell_type": "markdown",
   "id": "ordered-clearing",
   "metadata": {},
   "source": [
    "We see that a larger proportion of patients who were not readmitted had a shorter admission time, as compared to patients who were readmitted."
   ]
  },
  {
   "cell_type": "code",
   "execution_count": 48,
   "id": "portable-thumbnail",
   "metadata": {
    "tags": [
     "remove_input"
    ]
   },
   "outputs": [
    {
     "data": {
      "image/png": "[encoded data removed]",
      "text/plain": [
       "<Figure size 720x360 with 2 Axes>"
      ]
     },
     "metadata": {
      "needs_background": "light"
     },
     "output_type": "display_data"
    }
   ],
   "source": [
    "# plot facet grid of histograms\n",
    "g = sns.FacetGrid(df, col='readmitted', size=5)\n",
    "g.map(plt.hist, 'time_in_hospital', bins=10, color='#1c9099');"
   ]
  },
  {
   "cell_type": "markdown",
   "id": "reverse-transport",
   "metadata": {},
   "source": [
    "**7) Number of lab tests performed**\n",
    "\n",
    "The lowest number of lab tests performed on patients of the dataset is 1, while the highest is 132 tests. \n",
    "\n",
    "The histograms below show a similar distribution of number of lab procedures performed across both readmission groups. Nevertheless, the average number of lab tests given to patients who were admitted is slightly higher (44 tests) than for patients who were not readmitted (42 tests). \n",
    "\n",
    "The boxplots show overlapping number of lab procedures across both readmission groups."
   ]
  },
  {
   "cell_type": "code",
   "execution_count": 49,
   "id": "great-teens",
   "metadata": {
    "tags": [
     "remove_cell"
    ]
   },
   "outputs": [],
   "source": [
    "# separate dfs to plot overlapping histograms later\n",
    "lab_readmitted_yes = df.query('readmitted == \"YES\"')\n",
    "lab_readmitted_no = df.query('readmitted == \"NO\"')\n",
    "\n",
    "# calculate mean values to be plot later\n",
    "mean_lab_readmitted_yes = lab_readmitted_yes['num_lab_procedures'].mean()\n",
    "mean_lab_readmitted_no = lab_readmitted_no['num_lab_procedures'].mean()"
   ]
  },
  {
   "cell_type": "code",
   "execution_count": 50,
   "id": "ranging-spice",
   "metadata": {
    "tags": [
     "remove_input"
    ]
   },
   "outputs": [
    {
     "data": {
      "image/png": "[encoded data removed]",
      "text/plain": [
       "<Figure size 576x288 with 1 Axes>"
      ]
     },
     "metadata": {
      "needs_background": "light"
     },
     "output_type": "display_data"
    }
   ],
   "source": [
    "# plot histogram\n",
    "plt.figure(figsize=(8,4))\n",
    "plt.hist(lab_readmitted_no['num_lab_procedures'], \n",
    "         color='#3182bd', alpha=0.4, bins=20, label='NO')\n",
    "plt.axvline(mean_lab_readmitted_no, color='blue')\n",
    "plt.hist(lab_readmitted_yes['num_lab_procedures'], \n",
    "         color='#c994c7', alpha=0.7, bins=20, label='YES')\n",
    "plt.axvline(mean_lab_readmitted_yes, color='purple')\n",
    "plt.legend(title='readmitted')\n",
    "plt.title('Number of lab procedures performed across readmission outcome')\n",
    "plt.ylabel('count')\n",
    "plt.xlabel('number of lab procedures');"
   ]
  },
  {
   "cell_type": "code",
   "execution_count": 51,
   "id": "comfortable-florida",
   "metadata": {
    "tags": [
     "remove_input"
    ]
   },
   "outputs": [
    {
     "data": {
      "image/png": "[encoded data removed]",
      "text/plain": [
       "<Figure size 576x288 with 1 Axes>"
      ]
     },
     "metadata": {
      "needs_background": "light"
     },
     "output_type": "display_data"
    }
   ],
   "source": [
    "# plot box plots\n",
    "plt.figure(figsize=(8,4))\n",
    "sns.boxplot(x=df['readmitted'], y=df['num_lab_procedures'],\n",
    "            palette=['#c994c7','#3182bd'])\n",
    "plt.title('Number of lab tests done across readmission outcome')\n",
    "plt.ylabel('number of lab tests')\n",
    "plt.xlabel('readmitted');"
   ]
  },
  {
   "cell_type": "markdown",
   "id": "forbidden-invite",
   "metadata": {},
   "source": [
    "**8) Number of non-lab procedures performed**\n",
    "\n",
    "The lowest number of non-laboratory tests performed on patients of the dataset is 0, while the highest is 6.\n",
    "\n",
    "The pattern of non-lab tests performed across readmission outcomes is similar to the number of lab tests performed. So, I combine both these features into a single feature called `num_tests`."
   ]
  },
  {
   "cell_type": "code",
   "execution_count": 52,
   "id": "labeled-craps",
   "metadata": {
    "tags": [
     "remove_cell"
    ]
   },
   "outputs": [],
   "source": [
    "# separate dfs to plot overlapping histograms later\n",
    "nonlab_readmitted_yes = df.query('readmitted == \"YES\"')\n",
    "nonlab_readmitted_no = df.query('readmitted == \"NO\"')\n",
    "\n",
    "# calculate mean values to be plot later\n",
    "mean_nonlab_readmitted_yes = nonlab_readmitted_yes['num_procedures'].mean()\n",
    "mean_nonlab_readmitted_no = nonlab_readmitted_no['num_procedures'].mean()"
   ]
  },
  {
   "cell_type": "code",
   "execution_count": 53,
   "id": "adopted-shuttle",
   "metadata": {
    "tags": [
     "remove_cell"
    ]
   },
   "outputs": [
    {
     "data": {
      "image/png": "[encoded data removed]",
      "text/plain": [
       "<Figure size 576x288 with 1 Axes>"
      ]
     },
     "metadata": {
      "needs_background": "light"
     },
     "output_type": "display_data"
    }
   ],
   "source": [
    "# plot box plots\n",
    "plt.figure(figsize=(8,4))\n",
    "sns.boxplot(x=df['readmitted'], y=df['num_procedures'],\n",
    "            palette=['#c994c7','#3182bd'])\n",
    "plt.ylabel('Number of non-lab procedures')\n",
    "plt.xlabel('Readmission outcome');"
   ]
  },
  {
   "cell_type": "markdown",
   "id": "sixth-calculation",
   "metadata": {
    "tags": [
     "remove_cell"
    ]
   },
   "source": [
    "I combine the number of lab and non-lab procedures into a single feature: `num_tests`"
   ]
  },
  {
   "cell_type": "code",
   "execution_count": 54,
   "id": "pediatric-concept",
   "metadata": {
    "tags": [
     "remove_cell"
    ]
   },
   "outputs": [],
   "source": [
    "df['num_tests'] = df['num_lab_procedures'] + df['num_procedures']\n",
    "\n",
    "# remove 'num_lab_procedures' and 'num_procedures'\n",
    "del df['num_lab_procedures']\n",
    "del df['num_procedures']"
   ]
  },
  {
   "cell_type": "code",
   "execution_count": 55,
   "id": "wired-animation",
   "metadata": {
    "tags": [
     "remove_input"
    ]
   },
   "outputs": [
    {
     "data": {
      "image/png": "[encoded data removed]",
      "text/plain": [
       "<Figure size 576x288 with 1 Axes>"
      ]
     },
     "metadata": {
      "needs_background": "light"
     },
     "output_type": "display_data"
    }
   ],
   "source": [
    "# plot box plots\n",
    "plt.figure(figsize=(8,4))\n",
    "sns.boxplot(x=df['readmitted'], y=df['num_tests'],\n",
    "            palette=['#c994c7','#3182bd'])\n",
    "plt.title('Number of total procedures performed across readmission outcome')\n",
    "plt.ylabel('number of total procedures')\n",
    "plt.xlabel('readmitted');"
   ]
  },
  {
   "cell_type": "markdown",
   "id": "magnetic-sponsorship",
   "metadata": {},
   "source": [
    "**9) Number of medications**\n",
    "\n",
    "The lowest number of medications given to patients of the dataset is 1, while the highest is 81.\n",
    "\n",
    "The average number of medications given among patients who were readmitted is higher (16.3) than for patients who were not readmitted (15.4)."
   ]
  },
  {
   "cell_type": "code",
   "execution_count": 56,
   "id": "positive-gothic",
   "metadata": {
    "tags": [
     "remove_input"
    ]
   },
   "outputs": [
    {
     "data": {
      "image/png": "[encoded data removed]",
      "text/plain": [
       "<Figure size 576x288 with 1 Axes>"
      ]
     },
     "metadata": {
      "needs_background": "light"
     },
     "output_type": "display_data"
    }
   ],
   "source": [
    "# separate dfs to plot overlapping histograms later\n",
    "nonlab_readmitted_yes = df.query('readmitted == \"YES\"')\n",
    "nonlab_readmitted_no = df.query('readmitted == \"NO\"')\n",
    "\n",
    "# calculate mean values to be plot later\n",
    "mean_med_readmitted_yes = nonlab_readmitted_yes['num_medications'].mean()\n",
    "mean_med_readmitted_no = nonlab_readmitted_no['num_medications'].mean()\n",
    "\n",
    "# plot histogram\n",
    "plt.figure(figsize=(8,4))\n",
    "plt.hist(nonlab_readmitted_no['num_medications'], \n",
    "         color='#3182bd', alpha=0.4, label='NO')\n",
    "plt.axvline(mean_med_readmitted_no, color='blue')\n",
    "plt.hist(nonlab_readmitted_yes['num_medications'], \n",
    "         color='#c994c7', alpha=0.7, label='YES')\n",
    "plt.axvline(mean_med_readmitted_yes, color='purple')\n",
    "plt.legend(title='readmitted')\n",
    "plt.title('Number of medications across readmission outcome')\n",
    "plt.ylabel('count')\n",
    "plt.xlabel('number of medications');"
   ]
  },
  {
   "cell_type": "markdown",
   "id": "discrete-microwave",
   "metadata": {},
   "source": [
    "**10) Number of outpatient visits in the preceding year**\n",
    "\n",
    "The lowest number of outpatient visits is 0 and the highest is 42.\n",
    "\n",
    "A great majority of patients from both readmission outcomes had 0 outpatient visits. However, there is a higher number of larger outliers among patients who were readmitted."
   ]
  },
  {
   "cell_type": "code",
   "execution_count": 57,
   "id": "chief-xerox",
   "metadata": {
    "tags": [
     "remove_input"
    ]
   },
   "outputs": [
    {
     "data": {
      "image/png": "[encoded data removed]",
      "text/plain": [
       "<Figure size 576x288 with 1 Axes>"
      ]
     },
     "metadata": {
      "needs_background": "light"
     },
     "output_type": "display_data"
    }
   ],
   "source": [
    "# plot boxplots\n",
    "plt.figure(figsize=(8,4))\n",
    "sns.boxplot(df['readmitted'], df['number_outpatient'])\n",
    "plt.title('Number of outpatient visits across readmission outcome')\n",
    "plt.xlabel('readmitted')\n",
    "plt.ylabel('number of outpatient visits');"
   ]
  },
  {
   "cell_type": "markdown",
   "id": "cognitive-david",
   "metadata": {},
   "source": [
    "**11) Number of emergency visits in the preceding year**\n",
    "\n",
    "Similar to the number of outpatient visits, a vast majority of patients (**88%**) had 0 emergency visits in the year before their admission, followed by **7.5%** who only had 1 emergency visit. Also, there is a higher number of larger outliers in the number of emergency visits among patients who were readmitted vs patients who were not."
   ]
  },
  {
   "cell_type": "code",
   "execution_count": 58,
   "id": "gorgeous-pierce",
   "metadata": {
    "tags": [
     "remove_input"
    ]
   },
   "outputs": [
    {
     "data": {
      "image/png": "[encoded data removed]",
      "text/plain": [
       "<Figure size 576x288 with 1 Axes>"
      ]
     },
     "metadata": {
      "needs_background": "light"
     },
     "output_type": "display_data"
    }
   ],
   "source": [
    "# plot boxplots \n",
    "plt.figure(figsize=(8,4))\n",
    "sns.boxplot(df['readmitted'], df['number_emergency'])\n",
    "plt.title('Number of emergency visits across readmission outcome')\n",
    "plt.xlabel('readmitted')\n",
    "plt.ylabel('number of emergency visits');"
   ]
  },
  {
   "cell_type": "markdown",
   "id": "according-highland",
   "metadata": {},
   "source": [
    "**12) Number of inpatient visits in the preceding year**\n",
    "\n",
    "A larger proportion of patients who were readmitted had at least 1 inpatient visit, as compared to a majority of patients who were not readmitted, who majorly had 0 inpatient visits. \n",
    "\n",
    "This is in contrast to the number of *outpatient* and *emergency* visits, where 0 outpatient and 0 emergency visits seem to be the norm amongst patients. "
   ]
  },
  {
   "cell_type": "code",
   "execution_count": 59,
   "id": "composed-russia",
   "metadata": {
    "tags": [
     "remove_input"
    ]
   },
   "outputs": [
    {
     "data": {
      "image/png": "[encoded data removed]",
      "text/plain": [
       "<Figure size 576x288 with 1 Axes>"
      ]
     },
     "metadata": {
      "needs_background": "light"
     },
     "output_type": "display_data"
    }
   ],
   "source": [
    "# plot\n",
    "plt.figure(figsize=(8,4))\n",
    "sns.boxplot(df['readmitted'], df['number_inpatient'])\n",
    "plt.title('Number of inpatient visits across readmission outcome')\n",
    "plt.xlabel('readmitted')\n",
    "plt.ylabel('number of inpatient visits');"
   ]
  },
  {
   "cell_type": "code",
   "execution_count": 60,
   "id": "available-federal",
   "metadata": {
    "tags": [
     "remove_cell"
    ]
   },
   "outputs": [
    {
     "data": {
      "image/png": "[encoded data removed]",
      "text/plain": [
       "<Figure size 576x288 with 1 Axes>"
      ]
     },
     "metadata": {
      "needs_background": "light"
     },
     "output_type": "display_data"
    }
   ],
   "source": [
    "# plot\n",
    "plt.figure(figsize=(8,4))\n",
    "sns.boxplot(df['readmitted'], df['number_inpatient'])\n",
    "plt.title('Number of inpatient visits across readmission outcome')\n",
    "plt.xlabel('Readmission')\n",
    "plt.ylim(0,5)\n",
    "plt.ylabel('Number of inpatient visits');"
   ]
  },
  {
   "cell_type": "markdown",
   "id": "encouraging-macedonia",
   "metadata": {},
   "source": [
    "I combine the number of inpatient, outpatient, and emergency visits into a single feature: `num_services_utilized`."
   ]
  },
  {
   "cell_type": "code",
   "execution_count": 61,
   "id": "choice-package",
   "metadata": {
    "tags": [
     "remove_cell"
    ]
   },
   "outputs": [],
   "source": [
    "df['num_services_utilized'] = df['number_inpatient'] + df['number_outpatient'] + df['number_emergency']\n",
    "\n",
    "del df['number_inpatient']\n",
    "del df['number_outpatient']\n",
    "del df['number_emergency']"
   ]
  },
  {
   "cell_type": "code",
   "execution_count": 62,
   "id": "southern-courtesy",
   "metadata": {
    "tags": [
     "remove_input"
    ]
   },
   "outputs": [
    {
     "data": {
      "image/png": "[encoded data removed]",
      "text/plain": [
       "<Figure size 576x288 with 1 Axes>"
      ]
     },
     "metadata": {
      "needs_background": "light"
     },
     "output_type": "display_data"
    }
   ],
   "source": [
    "# plot\n",
    "plt.figure(figsize=(8,4))\n",
    "sns.boxplot(df['readmitted'], df['num_services_utilized'])\n",
    "plt.title('Number of total hospital visits across readmission outcome')\n",
    "plt.xlabel('readmitted')\n",
    "plt.ylabel('number of visits');"
   ]
  },
  {
   "cell_type": "markdown",
   "id": "conscious-davis",
   "metadata": {},
   "source": [
    "**13) ICD-9 diagnoses**\n",
    "\n",
    "The dataset has 848 distinct diagnoses that are recorded across patients as their primary diagnosis, along with 923 distinct secondary diagnoses, and 954 distinct additional secondary diagnosis.\n",
    "\n",
    "I will not be looking at the secondary and additional secondary diagnoses, only the primary ones.\n",
    "\n",
    "The [ICD-9-CM Chapters List](https://icd.codes/icd9cm) provides a list of 3-digit codes corresponding to each ICD-9 diagnosis. I will map these diagnoses to my feature. Each diagnosis is not a specific health condition, but rather an 'umbrella' group of health conditions. For example, 3-digit codes ranging between 290 and 310 are mental health related disorders."
   ]
  },
  {
   "cell_type": "markdown",
   "id": "incoming-chancellor",
   "metadata": {
    "tags": [
     "remove_cell"
    ]
   },
   "source": [
    "Since the values in `diag_1` are in string format due to some 3 digit codes that start with V and E, I will replace V with 10, and E with 20. This converts the V and E starting 3 digit codes into one thousands and two thousands, which makes it much simpler for the mapping."
   ]
  },
  {
   "cell_type": "code",
   "execution_count": 63,
   "id": "clear-presence",
   "metadata": {
    "tags": [
     "remove_cell"
    ]
   },
   "outputs": [],
   "source": [
    "# convert V and E to 10 and 20 respectively\n",
    "df['diag_1'] = df['diag_1'].str.replace('V', '10')\n",
    "df['diag_1'] = df['diag_1'].str.replace('E', '20')"
   ]
  },
  {
   "cell_type": "markdown",
   "id": "cheap-nickname",
   "metadata": {
    "tags": [
     "remove_cell"
    ]
   },
   "source": [
    "I also found 16 missing diagnosis codes. I will remove these patients from my dataset.\n",
    "\n",
    "I am now left with 81,329 rows."
   ]
  },
  {
   "cell_type": "code",
   "execution_count": 64,
   "id": "laden-primary",
   "metadata": {
    "tags": [
     "remove_cell"
    ]
   },
   "outputs": [
    {
     "data": {
      "text/plain": [
       "15"
      ]
     },
     "execution_count": 64,
     "metadata": {},
     "output_type": "execute_result"
    }
   ],
   "source": [
    "# missing values?\n",
    "df['diag_1'].str.contains('\\?').sum()"
   ]
  },
  {
   "cell_type": "code",
   "execution_count": 65,
   "id": "perfect-resident",
   "metadata": {
    "tags": [
     "remove_cell"
    ]
   },
   "outputs": [
    {
     "data": {
      "text/plain": [
       "78167"
      ]
     },
     "execution_count": 65,
     "metadata": {},
     "output_type": "execute_result"
    }
   ],
   "source": [
    "len(df)"
   ]
  },
  {
   "cell_type": "code",
   "execution_count": 66,
   "id": "immediate-input",
   "metadata": {
    "tags": [
     "remove_cell"
    ]
   },
   "outputs": [
    {
     "data": {
      "text/plain": [
       "78152"
      ]
     },
     "execution_count": 66,
     "metadata": {},
     "output_type": "execute_result"
    }
   ],
   "source": [
    "# remove missing values\n",
    "df = df[~df['diag_1'].str.contains('\\?')]\n",
    "len(df)"
   ]
  },
  {
   "cell_type": "code",
   "execution_count": 67,
   "id": "double-hughes",
   "metadata": {
    "tags": [
     "remove_cell"
    ]
   },
   "outputs": [],
   "source": [
    "# convert string to integer\n",
    "df['diag_1'] = df['diag_1'].astype(float)"
   ]
  },
  {
   "cell_type": "code",
   "execution_count": 68,
   "id": "finite-category",
   "metadata": {},
   "outputs": [],
   "source": [
    "# define classification function\n",
    "def classify_diagnosis_codes(df):\n",
    "    if 1 <= df <= 139:\n",
    "        return 'infectious and parasitic diseases'\n",
    "    elif 140 <= df <= 239:\n",
    "        return 'neoplasms'\n",
    "    elif 240 <= df <= 279:\n",
    "        return 'endocrine, nutritional, metabolic diseases, immunity disorders'\n",
    "    elif 280 <= df <= 289:\n",
    "        return 'diseases of the blood'\n",
    "    elif 290 <= df <= 319:\n",
    "        return 'mental disorders'\n",
    "    elif 320 <= df <= 389:\n",
    "        return 'diseases of the nervous system'\n",
    "    elif 390 <= df <= 459:\n",
    "        return 'diseases of the circulatory system'\n",
    "    elif 460 <= df <= 519:\n",
    "        return 'diseases of the respiratory system'\n",
    "    elif 520 <= df <= 579:\n",
    "        return 'diseases of the digestive system'\n",
    "    elif 580 <= df <= 629:\n",
    "        return 'diseases of the genitourinary system'\n",
    "    elif 630 <= df <= 679:\n",
    "        return 'complications of pregnancy, childbirth'\n",
    "    elif 680 <= df <= 709:\n",
    "        return 'diseases of the skin'\n",
    "    elif 710 <= df <= 739:\n",
    "        return 'diseases of the musculoskeletal system'\n",
    "    elif 740 <= df <= 759:\n",
    "        return 'congenital anomalies'\n",
    "    elif 760 <= df <= 779:\n",
    "        return 'originating in the perinatal period'\n",
    "    elif 780 <= df <= 799:\n",
    "        return 'symptoms, signs, and ill-defined conditions'\n",
    "    elif 800 <= df <= 999:\n",
    "        return 'injury and poisoning'\n",
    "    elif 1000 <= df < 2000:\n",
    "        return 'factors affecting health status'\n",
    "    elif df >= 2000:\n",
    "        return 'external causes of injury'\n",
    "    else:\n",
    "        return df"
   ]
  },
  {
   "cell_type": "markdown",
   "id": "industrial-ticket",
   "metadata": {},
   "source": [
    "The top three conditions that were the primary diagnoses of patients are (1) diseases of the circulatory system; (2) endocrine, nutritional, metabolic diseases, and immunity disorders; and (3) diseases of the respiratory system.\n",
    "\n",
    "I will re-group all diseases related to infants and pregnancies to a single group `maternal and child`."
   ]
  },
  {
   "cell_type": "code",
   "execution_count": 69,
   "id": "several-runner",
   "metadata": {
    "tags": [
     "remove_cell"
    ]
   },
   "outputs": [
    {
     "data": {
      "text/plain": [
       "diseases of the circulatory system                                22762\n",
       "endocrine, nutritional, metabolic diseases, immunity disorders     9075\n",
       "diseases of the respiratory system                                 8147\n",
       "diseases of the digestive system                                   7353\n",
       "symptoms, signs, and ill-defined conditions                        6016\n",
       "injury and poisoning                                               5063\n",
       "diseases of the genitourinary system                               4119\n",
       "diseases of the musculoskeletal system                             3457\n",
       "neoplasms                                                          2648\n",
       "infectious and parasitic diseases                                  2137\n",
       "diseases of the skin                                               2062\n",
       "mental disorders                                                   1672\n",
       "factors affecting health status                                    1141\n",
       "diseases of the nervous system                                      948\n",
       "diseases of the blood                                               902\n",
       "complications of pregnancy, childbirth                              610\n",
       "congenital anomalies                                                 39\n",
       "external causes of injury                                             1\n",
       "Name: diag_1, dtype: int64"
      ]
     },
     "execution_count": 69,
     "metadata": {},
     "output_type": "execute_result"
    }
   ],
   "source": [
    "# apply function\n",
    "df['diag_1'] = df['diag_1'].apply(classify_diagnosis_codes)\n",
    "df['diag_1'].value_counts()"
   ]
  },
  {
   "cell_type": "code",
   "execution_count": 70,
   "id": "tough-legislature",
   "metadata": {
    "tags": [
     "remove_cell"
    ]
   },
   "outputs": [],
   "source": [
    "# re-group\n",
    "df['diag_1'] = df['diag_1'].str.replace('complications of pregnancy, childbirth', 'maternal and child')\n",
    "df['diag_1'] = df['diag_1'].str.replace('congenital anomalies', 'maternal and child')\n",
    "\n",
    "df['diag_1'] = df['diag_1'].str.replace('external causes of injury', 'injury and poisoning')"
   ]
  },
  {
   "cell_type": "code",
   "execution_count": 71,
   "id": "featured-purchase",
   "metadata": {
    "tags": [
     "remove_cell"
    ]
   },
   "outputs": [
    {
     "data": {
      "text/plain": [
       "diseases of the circulatory system                                22762\n",
       "endocrine, nutritional, metabolic diseases, immunity disorders     9075\n",
       "diseases of the respiratory system                                 8147\n",
       "diseases of the digestive system                                   7353\n",
       "symptoms, signs, and ill-defined conditions                        6016\n",
       "injury and poisoning                                               5064\n",
       "diseases of the genitourinary system                               4119\n",
       "diseases of the musculoskeletal system                             3457\n",
       "neoplasms                                                          2648\n",
       "infectious and parasitic diseases                                  2137\n",
       "diseases of the skin                                               2062\n",
       "mental disorders                                                   1672\n",
       "factors affecting health status                                    1141\n",
       "diseases of the nervous system                                      948\n",
       "diseases of the blood                                               902\n",
       "maternal and child                                                  649\n",
       "Name: diag_1, dtype: int64"
      ]
     },
     "execution_count": 71,
     "metadata": {},
     "output_type": "execute_result"
    }
   ],
   "source": [
    "# re-count\n",
    "df['diag_1'].value_counts()"
   ]
  },
  {
   "cell_type": "code",
   "execution_count": 72,
   "id": "included-adams",
   "metadata": {
    "tags": [
     "remove_input"
    ]
   },
   "outputs": [
    {
     "data": {
      "image/png": "[encoded data removed]",
      "text/plain": [
       "<Figure size 1152x576 with 1 Axes>"
      ]
     },
     "metadata": {
      "needs_background": "light"
     },
     "output_type": "display_data"
    }
   ],
   "source": [
    "# plot bar chart\n",
    "palette1 = ['maroon','salmon','salmon','salmon','maroon','maroon',\n",
    "            'salmon','salmon','salmon','salmon','salmon','salmon',\n",
    "            'salmon','salmon','salmon','salmon']\n",
    "\n",
    "plt.figure(figsize=(16,8))\n",
    "sns.countplot(df['diag_1'], palette=palette1)\n",
    "plt.title('Primary diagnosis')\n",
    "plt.xlabel('')\n",
    "plt.xticks(rotation=80);"
   ]
  },
  {
   "cell_type": "markdown",
   "id": "ultimate-cameroon",
   "metadata": {},
   "source": [
    "When we look at the proportion of readmission outcome across all primary diagnoses, we see in particular that a larger proportion of diabetic patients with (1) diseases of the blood; (2) diseases of the respiratory system; and (3) diseases of the endocrine, nutritional, metabolic and immunity system, were readmitted than not. "
   ]
  },
  {
   "cell_type": "code",
   "execution_count": 73,
   "id": "seven-buyer",
   "metadata": {
    "tags": [
     "remove_cell"
    ]
   },
   "outputs": [],
   "source": [
    "# create a table of proportions for each primary diagnosis and each readmitted type\n",
    "output3 = pd.crosstab(df['diag_1'], df['readmitted']).apply(lambda x: round((x/x.sum())*100, 1), axis=1)"
   ]
  },
  {
   "cell_type": "code",
   "execution_count": 74,
   "id": "prepared-sherman",
   "metadata": {
    "tags": [
     "remove_input"
    ]
   },
   "outputs": [
    {
     "data": {
      "image/png": "[encoded data removed]",
      "text/plain": [
       "<Figure size 1152x576 with 1 Axes>"
      ]
     },
     "metadata": {
      "needs_background": "light"
     },
     "output_type": "display_data"
    }
   ],
   "source": [
    "# plot bar chart\n",
    "output3.plot.bar(figsize=(16,8), color=['#3182bd','#c994c7'])\n",
    "plt.title('Proportion of readmission outcome across ICD-9 primary diagnosis')\n",
    "plt.xticks(rotation=80)\n",
    "plt.xlabel('')\n",
    "plt.ylabel('%');"
   ]
  },
  {
   "cell_type": "code",
   "execution_count": 75,
   "id": "israeli-person",
   "metadata": {
    "tags": [
     "remove_cell"
    ]
   },
   "outputs": [],
   "source": [
    "# delete 'diag_2' and 'diag_3'\n",
    "df.drop(['diag_2', 'diag_3'], axis=1, inplace=True)"
   ]
  },
  {
   "cell_type": "markdown",
   "id": "radical-complaint",
   "metadata": {},
   "source": [
    "**14) Number of diagnoses**\n",
    "\n",
    "The number of diagnoses that was entered into the system. 16 is the highest number of diagnoses while 1 is the least. Most patients had 9 conditions diagnosed, at **48%**.\n",
    "\n",
    "The median number of diagnoses is higher among patients who were readmitted as compared to those who were not. Nevertheless, there are still major overlaps between the box plots."
   ]
  },
  {
   "cell_type": "code",
   "execution_count": 76,
   "id": "blind-rating",
   "metadata": {
    "tags": [
     "remove_input"
    ]
   },
   "outputs": [
    {
     "data": {
      "image/png": "[encoded data removed]",
      "text/plain": [
       "<Figure size 576x288 with 1 Axes>"
      ]
     },
     "metadata": {
      "needs_background": "light"
     },
     "output_type": "display_data"
    }
   ],
   "source": [
    "# plot boxplots\n",
    "plt.figure(figsize=(8,4))\n",
    "sns.boxplot(df['readmitted'], df['number_diagnoses'],\n",
    "            palette=['#c994c7','#3182bd'])\n",
    "plt.title('Number of diagnoses across readmission outcome')\n",
    "plt.xlabel('readmitted')\n",
    "plt.ylabel('number of diagnoses');"
   ]
  },
  {
   "cell_type": "markdown",
   "id": "express-supervisor",
   "metadata": {},
   "source": [
    "**15) Glucose serum test results**\n",
    "\n",
    "The glucose serum test is a blood glucose test that screens for diabetes by measuring the level of sugar in a person's blood.\n",
    "\n",
    "The dataset records the blood sugar measurements in categories (`>200`, `>300`, `normal`), or if the test was not taken (`none`). **94%** of patients did not have their glucose serum tests taken.\n",
    "\n",
    "The bar charts show us that among patients who had taken the test, those who recorded >300 had a higher proportion of being readmitted, as compared to patients in the other glucose groups."
   ]
  },
  {
   "cell_type": "code",
   "execution_count": 77,
   "id": "iraqi-tender",
   "metadata": {
    "tags": [
     "remove_cell"
    ]
   },
   "outputs": [
    {
     "data": {
      "text/plain": [
       "None    77157\n",
       "Norm      482\n",
       ">300      346\n",
       ">200      167\n",
       "Name: max_glu_serum, dtype: int64"
      ]
     },
     "execution_count": 77,
     "metadata": {},
     "output_type": "execute_result"
    }
   ],
   "source": [
    "df['max_glu_serum'].value_counts()"
   ]
  },
  {
   "cell_type": "code",
   "execution_count": 78,
   "id": "interracial-fluid",
   "metadata": {
    "tags": [
     "remove_input"
    ]
   },
   "outputs": [
    {
     "data": {
      "image/png": "[encoded data removed]",
      "text/plain": [
       "<Figure size 576x288 with 1 Axes>"
      ]
     },
     "metadata": {
      "needs_background": "light"
     },
     "output_type": "display_data"
    }
   ],
   "source": [
    "# plot clustered bar charts without None 'max_glu_serum'\n",
    "df1 = df.query('max_glu_serum != \"None\"')\n",
    "\n",
    "# create a table of proportions \n",
    "output4 = pd.crosstab(df1['max_glu_serum'], df1['readmitted']).apply(lambda x: round((x/x.sum())*100, 1), axis=1)\n",
    "\n",
    "output4.plot.bar(figsize=(8,4), color=['#3182bd','#c994c7'])\n",
    "plt.title('Proportion of readmission outcomes across glucose serum results')\n",
    "plt.xticks(rotation=360)\n",
    "plt.xlabel('glucose serum results')\n",
    "plt.ylabel('%');"
   ]
  },
  {
   "cell_type": "markdown",
   "id": "fatty-harvard",
   "metadata": {},
   "source": [
    "**16) A1c test results**\n",
    "\n",
    "The A1c test is a blood test that measures a person's average blood sugar levels over the past 3 months.\n",
    "\n",
    "The dataset records the test results in categories of `>8` if the result is greater than 8%, `>7` if the result is greater than 7% but less than  8%, `normal` if the result is less than 7%, and `none` if the test was not taken by the patient. **83%** of patients did not have their A1c test taken.\n",
    "\n",
    "As compared to the glucose serum test results, A1c test results do not seem to have an obvious pattern with readmission outcome."
   ]
  },
  {
   "cell_type": "code",
   "execution_count": 79,
   "id": "alternative-relief",
   "metadata": {
    "tags": [
     "remove_cell"
    ]
   },
   "outputs": [
    {
     "data": {
      "text/plain": [
       "None    64931\n",
       ">8       6206\n",
       "Norm     4081\n",
       ">7       2934\n",
       "Name: A1Cresult, dtype: int64"
      ]
     },
     "execution_count": 79,
     "metadata": {},
     "output_type": "execute_result"
    }
   ],
   "source": [
    "df['A1Cresult'].value_counts()"
   ]
  },
  {
   "cell_type": "code",
   "execution_count": 80,
   "id": "domestic-indonesia",
   "metadata": {
    "tags": [
     "remove_input"
    ]
   },
   "outputs": [
    {
     "data": {
      "image/png": "[encoded data removed]",
      "text/plain": [
       "<Figure size 576x288 with 1 Axes>"
      ]
     },
     "metadata": {
      "needs_background": "light"
     },
     "output_type": "display_data"
    }
   ],
   "source": [
    "# plot clustered bar charts without None 'max_glu_serum'\n",
    "df2 = df.query('A1Cresult != \"None\"')\n",
    "\n",
    "# create a table of proportions \n",
    "output5 = pd.crosstab(df2['A1Cresult'], df2['readmitted']).apply(lambda x: round((x/x.sum())*100, 1), axis=1)\n",
    "\n",
    "output5.plot.bar(figsize=(8,4), color=['#3182bd','#c994c7'])\n",
    "plt.title('Proportion of readmission outcomes across A1c results')\n",
    "plt.xticks(rotation=360)\n",
    "plt.xlabel('A1c results')\n",
    "plt.ylabel('%');"
   ]
  },
  {
   "cell_type": "markdown",
   "id": "dressed-perfume",
   "metadata": {},
   "source": [
    "**17) Changes in medication dosage - per medicine**\n",
    "\n",
    "The dataset includes 24 different medications that were either taken by patients in an increasing dosage, decreasing dosage, a steady dosage, or it was not taken at all. The medications include metformin, repaglinide, nateglinide, chlorpropamide, and many others.\n",
    "\n",
    "Since all patients did not take examide and citoglipton (as indicated in all the values recorded under these 2 features as `no`), I will remove these 2 features from my dataset."
   ]
  },
  {
   "cell_type": "code",
   "execution_count": 81,
   "id": "transparent-burlington",
   "metadata": {
    "tags": [
     "remove_cell"
    ]
   },
   "outputs": [],
   "source": [
    "df.drop(['examide', 'citoglipton'], axis=1, inplace=True)"
   ]
  },
  {
   "cell_type": "code",
   "execution_count": 145,
   "id": "hidden-paintball",
   "metadata": {
    "tags": [
     "remove_input"
    ]
   },
   "outputs": [
    {
     "name": "stdout",
     "output_type": "stream",
     "text": [
      "\n",
      "\n"
     ]
    }
   ],
   "source": [
    "print('\\n')"
   ]
  },
  {
   "cell_type": "markdown",
   "id": "round-mouth",
   "metadata": {},
   "source": [
    "**18) Change of medications**\n",
    "\n",
    "This feature indicates if there had been a change in **diabetic medication**, either in terms of dosage, or the medication itself. \n",
    "\n",
    "Looks like a larger proportion of patients whose medications were changed got readmitted as compared to those whose medications were not changed."
   ]
  },
  {
   "cell_type": "code",
   "execution_count": 82,
   "id": "stuck-hearing",
   "metadata": {
    "tags": [
     "remove_cell"
    ]
   },
   "outputs": [
    {
     "data": {
      "text/plain": [
       "No    41474\n",
       "Ch    36678\n",
       "Name: change, dtype: int64"
      ]
     },
     "execution_count": 82,
     "metadata": {},
     "output_type": "execute_result"
    }
   ],
   "source": [
    "df['change'].value_counts()"
   ]
  },
  {
   "cell_type": "code",
   "execution_count": 83,
   "id": "beautiful-roulette",
   "metadata": {},
   "outputs": [
    {
     "data": {
      "image/png": "[encoded data removed]",
      "text/plain": [
       "<Figure size 576x288 with 1 Axes>"
      ]
     },
     "metadata": {
      "needs_background": "light"
     },
     "output_type": "display_data"
    }
   ],
   "source": [
    "# create a table of proportions \n",
    "output6 = pd.crosstab(df['change'], df['readmitted']).apply(lambda x: round((x/x.sum())*100, 1), axis=1)\n",
    "\n",
    "output6.plot.bar(figsize=(8,4), color=['#3182bd','#c994c7'])\n",
    "plt.title('Proportion of readmission outcome across change in medications (yes or no)')\n",
    "plt.xticks(rotation=360)\n",
    "plt.xlabel('change in medications')\n",
    "plt.ylabel('%');"
   ]
  },
  {
   "cell_type": "markdown",
   "id": "beginning-overall",
   "metadata": {},
   "source": [
    "**19) Diabetes medications**\n",
    "\n",
    "Describes whether or not any diabetic medications were prescribed: `yes` or `no`.\n",
    "\n",
    "The table below shows us the stats."
   ]
  },
  {
   "cell_type": "code",
   "execution_count": 84,
   "id": "essential-right",
   "metadata": {
    "tags": [
     "remove_input"
    ]
   },
   "outputs": [
    {
     "data": {
      "text/html": [
       "<div>\n",
       "<style scoped>\n",
       "    .dataframe tbody tr th:only-of-type {\n",
       "        vertical-align: middle;\n",
       "    }\n",
       "\n",
       "    .dataframe tbody tr th {\n",
       "        vertical-align: top;\n",
       "    }\n",
       "\n",
       "    .dataframe thead th {\n",
       "        text-align: right;\n",
       "    }\n",
       "</style>\n",
       "<table border=\"1\" class=\"dataframe\">\n",
       "  <thead>\n",
       "    <tr style=\"text-align: right;\">\n",
       "      <th></th>\n",
       "      <th></th>\n",
       "      <th>change</th>\n",
       "    </tr>\n",
       "    <tr>\n",
       "      <th>diabetesMed</th>\n",
       "      <th>change</th>\n",
       "      <th></th>\n",
       "    </tr>\n",
       "  </thead>\n",
       "  <tbody>\n",
       "    <tr>\n",
       "      <th>No</th>\n",
       "      <th>No</th>\n",
       "      <td>17396</td>\n",
       "    </tr>\n",
       "    <tr>\n",
       "      <th rowspan=\"2\" valign=\"top\">Yes</th>\n",
       "      <th>Ch</th>\n",
       "      <td>36678</td>\n",
       "    </tr>\n",
       "    <tr>\n",
       "      <th>No</th>\n",
       "      <td>24078</td>\n",
       "    </tr>\n",
       "  </tbody>\n",
       "</table>\n",
       "</div>"
      ],
      "text/plain": [
       "                    change\n",
       "diabetesMed change        \n",
       "No          No       17396\n",
       "Yes         Ch       36678\n",
       "            No       24078"
      ]
     },
     "execution_count": 84,
     "metadata": {},
     "output_type": "execute_result"
    }
   ],
   "source": [
    "df.groupby('diabetesMed')['change'].value_counts().to_frame()"
   ]
  },
  {
   "cell_type": "markdown",
   "id": "cordless-coupon",
   "metadata": {},
   "source": [
    "---"
   ]
  },
  {
   "cell_type": "markdown",
   "id": "suited-pleasure",
   "metadata": {},
   "source": [
    "<a id='remove_outliers'></a>\n",
    "## Removing outliers from numeric features\n",
    "\n",
    "I define the outlier threshold as lower than and higher than a z-score of -3 and +3 respectively."
   ]
  },
  {
   "cell_type": "code",
   "execution_count": 85,
   "id": "color-anatomy",
   "metadata": {},
   "outputs": [
    {
     "name": "stdout",
     "output_type": "stream",
     "text": [
      "These features have outliers: age, time_in_hospital, num_medications, number_diagnoses, num_tests, num_services_utilized\n"
     ]
    }
   ],
   "source": [
    "# get all numeric features with outliers\n",
    "to_remove_outliers = []\n",
    "\n",
    "for i in df.columns:\n",
    "    if (df[i].dtype == 'int64') or (df[i].dtype == 'float64'):\n",
    "        to_remove_outliers.append(i)\n",
    "    \n",
    "print(f\"These features have outliers: {', '.join(to_remove_outliers)}\")"
   ]
  },
  {
   "cell_type": "code",
   "execution_count": 86,
   "id": "nonprofit-candidate",
   "metadata": {},
   "outputs": [],
   "source": [
    "from scipy import stats\n",
    "\n",
    "# identify outliers and remove them from features\n",
    "for i in to_remove_outliers:\n",
    "    df['z_score'] = stats.zscore(df[i])\n",
    "    df = df.loc[(df['z_score'] >= -3) & (df['z_score'] <= 3)]"
   ]
  },
  {
   "cell_type": "markdown",
   "id": "traditional-vehicle",
   "metadata": {},
   "source": [
    "---"
   ]
  },
  {
   "cell_type": "markdown",
   "id": "catholic-meeting",
   "metadata": {},
   "source": [
    "<a id='label_encode'></a>\n",
    "## Label encode categorical features\n",
    "\n",
    "Now that I have explored my features/ predictor variables, dealt with missing data, re-grouped values, and removed outliers, I will be converting my categorical values into numeric values before feeding the decision tree model with the dataset. This is because Python Scikit Learn's decision tree algorithms work best with numeric inputs.\n",
    "\n",
    "At this point...I am in a bit of a dilemma, because since my categorical features are nominal (aka they do not have a natural ordering to the categories), it is conventional to apply one-hot encoding to them. However, my dataset contains categorical features with high number of categories (high [cardinality](https://www.quora.com/Do-we-need-to-convert-categorical-data-to-numerical-data-before-applying-to-decision-tree)), such as feature: `primary diagnosis` (it has more than 10 distinct categories). One-hot encoding this feature would result in [sparse data](https://www.quora.com/Do-we-need-to-apply-one-hot-encoding-to-use-xgboost), which is not great. So, I decided to [label encode](https://towardsdatascience.com/categorical-encoding-using-label-encoding-and-one-hot-encoder-911ef77fb5bd) all categorical features."
   ]
  },
  {
   "cell_type": "code",
   "execution_count": 87,
   "id": "final-documentary",
   "metadata": {},
   "outputs": [],
   "source": [
    "# identify categorical features\n",
    "to_encode = []\n",
    "\n",
    "for i in df.columns:\n",
    "    if df[i].dtype == 'O':\n",
    "        to_encode.append(i)\n",
    "\n",
    "# label encode features        \n",
    "for i in to_encode:\n",
    "    df[i] = df[i].astype('category')\n",
    "    df[i + '_cat'] = df[i].cat.codes"
   ]
  },
  {
   "cell_type": "markdown",
   "id": "pediatric-citizenship",
   "metadata": {},
   "source": [
    "---"
   ]
  },
  {
   "cell_type": "markdown",
   "id": "starting-wednesday",
   "metadata": {},
   "source": [
    "<a id='prelim_tree'></a>\n",
    "## Preliminary decision tree\n",
    "\n",
    "Decision trees are like flow charts, with nodes reflecting conditions of certain input features that are used to split target outcomes. The goal of these splits is to eventually produce as clean or as 'pure' of a separation between the target outcomes, based on information gain.\n",
    "\n",
    "I will be fitting a preliminary decision tree to my data using a 70:30 training and testing data ratio, before fine tuning the model later using pre-pruning and post-pruning techniques."
   ]
  },
  {
   "cell_type": "code",
   "execution_count": 88,
   "id": "facial-translator",
   "metadata": {},
   "outputs": [],
   "source": [
    "# select features/ predictor variables\n",
    "features = []\n",
    "\n",
    "for i in df.columns:\n",
    "    if df[i].dtype == 'int8':\n",
    "        features.append(i)\n",
    "    elif df[i].dtype == 'int64':\n",
    "        features.append(i)\n",
    "    else:\n",
    "        pass\n",
    "\n",
    "# remove the target variable\n",
    "features.remove('readmitted_cat')\n",
    "\n",
    "# seperate features and target variable\n",
    "X = df[features]\n",
    "y = df['readmitted']"
   ]
  },
  {
   "cell_type": "code",
   "execution_count": 89,
   "id": "coastal-greek",
   "metadata": {},
   "outputs": [],
   "source": [
    "# split dataset to training and test data using default 70:30 ratio\n",
    "X_train, X_test, y_train, y_test = train_test_split(X, y, stratify=y, random_state=0)\n",
    "\n",
    "# run decision tree\n",
    "dtree_prelim = tree.DecisionTreeClassifier(random_state=0) # instantiate classifier\n",
    "clf_prelim = dtree_prelim.fit(X_train, y_train)\n",
    "y_train_pred_prelim = clf_prelim.predict(X_train)\n",
    "y_test_pred_prelim = clf_prelim.predict(X_test)"
   ]
  },
  {
   "cell_type": "code",
   "execution_count": 146,
   "id": "literary-distinction",
   "metadata": {
    "tags": [
     "remove_input"
    ]
   },
   "outputs": [
    {
     "name": "stdout",
     "output_type": "stream",
     "text": [
      "\n",
      "\n"
     ]
    }
   ],
   "source": [
    "print('\\n')"
   ]
  },
  {
   "cell_type": "markdown",
   "id": "hidden-progressive",
   "metadata": {},
   "source": [
    "Let's look at how good my preliminary model is by [evaluating some of the model's parameters](https://blog.exsilio.com/all/accuracy-precision-recall-f1-score-interpretation-of-performance-measures/). \n",
    "\n",
    "I will first look at the Confusion Matrix, which is a table that is often used to describe the performance of a classification model by counting the frequencies of True Positives (TP), False Positives (FP), True Negatives (TN), and False Negatives (FN). These frequencies form the basis of the classification evaluation parameters such as accuracy, precision, and recall."
   ]
  },
  {
   "cell_type": "code",
   "execution_count": 90,
   "id": "congressional-marble",
   "metadata": {},
   "outputs": [],
   "source": [
    "# define function to plot confusion matrix\n",
    "def plot_confusion_matrix(y_train_pred, y_train, dom):\n",
    "    print(f\"{dom} Confusion Matrix\")\n",
    "    cf = confusion_matrix(y_train_pred, y_train)\n",
    "    sns.heatmap(cf, \n",
    "                annot=True, \n",
    "                yticklabels=['Readmitted','Not readmitted'],\n",
    "                xticklabels=['Readmitted','Not readmitted'],\n",
    "                cmap='Blues', \n",
    "                fmt='g')\n",
    "    plt.tight_layout()\n",
    "    plt.xlabel('Predicted')\n",
    "    plt.ylabel('Actual')\n",
    "    plt.show()"
   ]
  },
  {
   "cell_type": "code",
   "execution_count": 147,
   "id": "resident-chance",
   "metadata": {
    "tags": [
     "remove_input"
    ]
   },
   "outputs": [
    {
     "name": "stdout",
     "output_type": "stream",
     "text": [
      "\n",
      "\n"
     ]
    }
   ],
   "source": [
    "print('\\n')"
   ]
  },
  {
   "cell_type": "markdown",
   "id": "broke-finder",
   "metadata": {},
   "source": [
    "Below, we see that the preliminary model has done an excellent job at predicting patients who were readmitted as those who would be readmitted (TP), and patients who were NOT readmitted as those would not be readmitted (TN)."
   ]
  },
  {
   "cell_type": "code",
   "execution_count": 174,
   "id": "surprising-knowing",
   "metadata": {
    "tags": [
     "remove_input"
    ]
   },
   "outputs": [
    {
     "name": "stdout",
     "output_type": "stream",
     "text": [
      "\n",
      "\n"
     ]
    }
   ],
   "source": [
    "print('\\n')"
   ]
  },
  {
   "cell_type": "code",
   "execution_count": 91,
   "id": "south-alaska",
   "metadata": {
    "tags": [
     "remove_input"
    ]
   },
   "outputs": [
    {
     "name": "stdout",
     "output_type": "stream",
     "text": [
      "Train Confusion Matrix\n"
     ]
    },
    {
     "data": {
      "image/png": "[encoded data removed]",
      "text/plain": [
       "<Figure size 432x288 with 2 Axes>"
      ]
     },
     "metadata": {
      "needs_background": "light"
     },
     "output_type": "display_data"
    }
   ],
   "source": [
    "# confusion matrix for training data\n",
    "plot_confusion_matrix(y_train_pred_prelim, y_train, dom='Train')"
   ]
  },
  {
   "cell_type": "code",
   "execution_count": 148,
   "id": "assigned-supervision",
   "metadata": {
    "tags": [
     "remove_input"
    ]
   },
   "outputs": [
    {
     "name": "stdout",
     "output_type": "stream",
     "text": [
      "\n",
      "\n"
     ]
    }
   ],
   "source": [
    "print('\\n')"
   ]
  },
  {
   "cell_type": "markdown",
   "id": "dynamic-answer",
   "metadata": {},
   "source": [
    "However, with the test set, we see that the preliminary model is not performing well in its predictions. \n",
    "\n",
    "All these imply an overfitting model."
   ]
  },
  {
   "cell_type": "code",
   "execution_count": 149,
   "id": "alive-stack",
   "metadata": {
    "tags": [
     "remove_input"
    ]
   },
   "outputs": [
    {
     "name": "stdout",
     "output_type": "stream",
     "text": [
      "\n",
      "\n"
     ]
    }
   ],
   "source": [
    "print('\\n')"
   ]
  },
  {
   "cell_type": "code",
   "execution_count": 92,
   "id": "technical-dating",
   "metadata": {
    "tags": [
     "remove_input"
    ]
   },
   "outputs": [
    {
     "name": "stdout",
     "output_type": "stream",
     "text": [
      "Test Confusion Matrix\n"
     ]
    },
    {
     "data": {
      "image/png": "[encoded data removed]",
      "text/plain": [
       "<Figure size 432x288 with 2 Axes>"
      ]
     },
     "metadata": {
      "needs_background": "light"
     },
     "output_type": "display_data"
    }
   ],
   "source": [
    "# confusion matrix for test data\n",
    "plot_confusion_matrix(y_test_pred_prelim, y_test, dom='Test')"
   ]
  },
  {
   "cell_type": "code",
   "execution_count": 150,
   "id": "civil-program",
   "metadata": {
    "tags": [
     "remove_input"
    ]
   },
   "outputs": [
    {
     "name": "stdout",
     "output_type": "stream",
     "text": [
      "\n",
      "\n"
     ]
    }
   ],
   "source": [
    "print('\\n')"
   ]
  },
  {
   "cell_type": "markdown",
   "id": "developing-first",
   "metadata": {},
   "source": [
    "Now, let's look at the evaluation parameters.\n",
    "\n",
    "**Accuracy score**\n",
    "\n",
    "Accuracy is the most intuitive measure of performance as it is simply the ratio of correct predictions to all observations ~ TP+TN/TP+TN+FP+FN.\n",
    "\n",
    "From the Confusion Matrix above, it is unsurprising that the preliminary model scored very highly for the training data, at **99%**, while it scored poorly for the test data, **54%**."
   ]
  },
  {
   "cell_type": "code",
   "execution_count": 155,
   "id": "senior-palmer",
   "metadata": {
    "tags": [
     "remove_input"
    ]
   },
   "outputs": [
    {
     "name": "stdout",
     "output_type": "stream",
     "text": [
      "\n",
      "\n"
     ]
    }
   ],
   "source": [
    "print('\\n')"
   ]
  },
  {
   "cell_type": "code",
   "execution_count": 93,
   "id": "racial-lloyd",
   "metadata": {
    "tags": [
     "remove_input"
    ]
   },
   "outputs": [
    {
     "name": "stdout",
     "output_type": "stream",
     "text": [
      "Training Accuracy: 0.9999640223061702\n",
      "Testing Accuracy: 0.5475689385354271\n"
     ]
    }
   ],
   "source": [
    "# calculate accuracy scores\n",
    "print(f\"Training Accuracy: {accuracy_score(y_train, y_train_pred_prelim)}\")\n",
    "print(f\"Testing Accuracy: {accuracy_score(y_test, y_test_pred_prelim)}\")"
   ]
  },
  {
   "cell_type": "code",
   "execution_count": 151,
   "id": "ambient-blake",
   "metadata": {
    "tags": [
     "remove_input"
    ]
   },
   "outputs": [
    {
     "name": "stdout",
     "output_type": "stream",
     "text": [
      "\n",
      "\n"
     ]
    }
   ],
   "source": [
    "print('\\n')"
   ]
  },
  {
   "cell_type": "markdown",
   "id": "sublime-defense",
   "metadata": {},
   "source": [
    "**Precision score**\n",
    "\n",
    "Precision is the ratio of correct positives to all predicted positives ~ TP/TP+FP.\n",
    "\n",
    "For this exercise, it means the measure of patients that the model correctly identifies as being readmitted out of all patients who were predicted as being readmitted. In other words, when the model predicts that a patient will be readmitted, it is correct about x% of the time. In our case, 58% based on the test set.\n",
    "\n",
    "Similarly, our preliminary model scored well for the training data, but poorly for the test data."
   ]
  },
  {
   "cell_type": "code",
   "execution_count": 154,
   "id": "incorrect-double",
   "metadata": {
    "tags": [
     "remove_input"
    ]
   },
   "outputs": [
    {
     "name": "stdout",
     "output_type": "stream",
     "text": [
      "\n",
      "\n"
     ]
    }
   ],
   "source": [
    "print('\\n')"
   ]
  },
  {
   "cell_type": "code",
   "execution_count": 94,
   "id": "healthy-width",
   "metadata": {
    "tags": [
     "remove_input"
    ]
   },
   "outputs": [
    {
     "name": "stdout",
     "output_type": "stream",
     "text": [
      "Training Precision: 0.9999326712674634\n",
      "Testing Precision: 0.5769620766578787\n"
     ]
    }
   ],
   "source": [
    "print(f\"Training Precision: {precision_score(y_train, y_train_pred_prelim, pos_label='NO')}\")\n",
    "print(f\"Testing Precision: {precision_score(y_test, y_test_pred_prelim, pos_label='NO')}\")"
   ]
  },
  {
   "cell_type": "code",
   "execution_count": 152,
   "id": "adjacent-qualification",
   "metadata": {
    "tags": [
     "remove_input"
    ]
   },
   "outputs": [
    {
     "name": "stdout",
     "output_type": "stream",
     "text": [
      "\n",
      "\n"
     ]
    }
   ],
   "source": [
    "print('\\n')"
   ]
  },
  {
   "cell_type": "markdown",
   "id": "entire-tourism",
   "metadata": {},
   "source": [
    "**Recall score**\n",
    "\n",
    "Recall is the ratio of correct positives to all actual positives ~ TP/TP+FN. \n",
    "\n",
    "It gauges how accurate the model is in identifying relevant data. In our context, it means the measure of patients who were actually readmitted in which the model also correctly identifies as being readmitted. \n",
    "\n",
    "Our recall scores are similar to the precision scores."
   ]
  },
  {
   "cell_type": "code",
   "execution_count": 153,
   "id": "indian-button",
   "metadata": {
    "tags": [
     "remove_input"
    ]
   },
   "outputs": [
    {
     "name": "stdout",
     "output_type": "stream",
     "text": [
      "\n",
      "\n"
     ]
    }
   ],
   "source": [
    "print('\\n')"
   ]
  },
  {
   "cell_type": "code",
   "execution_count": 95,
   "id": "welcome-sperm",
   "metadata": {
    "tags": [
     "remove_input"
    ]
   },
   "outputs": [
    {
     "name": "stdout",
     "output_type": "stream",
     "text": [
      "Training Recall: 1.0\n",
      "Testing Recall: 0.574631387598465\n"
     ]
    }
   ],
   "source": [
    "print(f\"Training Recall: {recall_score(y_train, y_train_pred_prelim, pos_label='NO')}\")\n",
    "print(f\"Testing Recall: {recall_score(y_test, y_test_pred_prelim, pos_label='NO')}\")"
   ]
  },
  {
   "cell_type": "markdown",
   "id": "fifty-pressure",
   "metadata": {},
   "source": [
    "---"
   ]
  },
  {
   "cell_type": "markdown",
   "id": "expanded-fireplace",
   "metadata": {},
   "source": [
    "<a id='feature_selection'></a>\n",
    "## Feature selection\n",
    "\n",
    "Let's look at how important the features were in the preliminary model. Removing less important features may help achieve a better performing model, as well as reducing model overfit, and reducing training time.\n",
    "\n",
    "After calculating the feature importance scores, we see that most of the features related to changes in dosage of the individual medications are not strong contributors to readmission, except for insulin and metformin.\n",
    "\n",
    "The bar chart below shows us that the top 10 features in descending order are:\n",
    "\n",
    "- Number of total tests (lab and non-lab)\n",
    "- Number of medications\n",
    "- Time in hospital\n",
    "- Primary diagnosis\n",
    "- Age\n",
    "- Number of total inpatient, outpatient, and emergency visits\n",
    "- Number of diagnoses\n",
    "- Change in insulin dosage\n",
    "- Gender\n",
    "- Race\n",
    "\n",
    "As such, I will retain these top 10 features, while dropping the remaining ones from my dataset for my next model iterations. "
   ]
  },
  {
   "cell_type": "code",
   "execution_count": 96,
   "id": "recovered-namibia",
   "metadata": {
    "tags": [
     "remove_cell"
    ]
   },
   "outputs": [],
   "source": [
    "# get lists of feature importances and feature names\n",
    "scores = clf_prelim.feature_importances_.tolist()\n",
    "combined = list(zip(features, scores))\n",
    "\n",
    "# sort feature scores from smallest to biggest\n",
    "combined = sorted(combined, key=lambda x:x[1])\n",
    "\n",
    "# get feature scores and names accordingly for the bar chart\n",
    "feature_importance = []\n",
    "feature_names = []\n",
    "\n",
    "for i in combined:\n",
    "    feature_importance.append(i[1])\n",
    "    \n",
    "for j in combined:\n",
    "    feature_names.append(j[0])"
   ]
  },
  {
   "cell_type": "code",
   "execution_count": 97,
   "id": "serious-relative",
   "metadata": {},
   "outputs": [
    {
     "data": {
      "image/png": "[encoded data removed]",
      "text/plain": [
       "<Figure size 576x576 with 1 Axes>"
      ]
     },
     "metadata": {
      "needs_background": "light"
     },
     "output_type": "display_data"
    }
   ],
   "source": [
    "# define function to plot horizontal bar charts\n",
    "def plot_feature_importances(model):\n",
    "    plt.figure(figsize=(8,8))\n",
    "    n_features = len(features)\n",
    "    plt.barh(range(n_features), feature_importance, align='center')\n",
    "    plt.yticks(np.arange(n_features), feature_names)\n",
    "    plt.xlabel(\"Feature importance\")\n",
    "    plt.ylabel(\"Feature\")\n",
    "    plt.ylim(-1, n_features)\n",
    "\n",
    "# visualise feature importance scores\n",
    "plot_feature_importances(clf_prelim)"
   ]
  },
  {
   "cell_type": "code",
   "execution_count": 98,
   "id": "spoken-accused",
   "metadata": {
    "scrolled": true,
    "tags": [
     "remove_cell"
    ]
   },
   "outputs": [],
   "source": [
    "# features to retain 'feature_names'\n",
    "features_retain = feature_names[-10:] # retain top 10\n",
    "# features_retain = feature_names[-3:] # retain top 5\n",
    "\n",
    "X_train = X_train[features_retain]\n",
    "X_test = X_test[features_retain]"
   ]
  },
  {
   "cell_type": "code",
   "execution_count": 99,
   "id": "electric-sheep",
   "metadata": {
    "tags": [
     "remove_cell"
    ]
   },
   "outputs": [
    {
     "data": {
      "text/plain": [
       "['race_cat',\n",
       " 'gender_cat',\n",
       " 'insulin_cat',\n",
       " 'number_diagnoses',\n",
       " 'num_services_utilized',\n",
       " 'age',\n",
       " 'diag_1_cat',\n",
       " 'time_in_hospital',\n",
       " 'num_medications',\n",
       " 'num_tests']"
      ]
     },
     "execution_count": 99,
     "metadata": {},
     "output_type": "execute_result"
    }
   ],
   "source": [
    "features_retain"
   ]
  },
  {
   "cell_type": "code",
   "execution_count": 100,
   "id": "available-discretion",
   "metadata": {
    "tags": [
     "remove_cell"
    ]
   },
   "outputs": [
    {
     "name": "stdout",
     "output_type": "stream",
     "text": [
      "Training Accuracy: 0.9994603345925526\n",
      "Testing Accuracy: 0.5427122119691328\n"
     ]
    }
   ],
   "source": [
    "# run decision tree\n",
    "dtree_prelim = tree.DecisionTreeClassifier(random_state=0) # instantiate classifier\n",
    "clf_prelim = dtree_prelim.fit(X_train, y_train)\n",
    "y_train_pred_prelim = clf_prelim.predict(X_train)\n",
    "y_test_pred_prelim = clf_prelim.predict(X_test)\n",
    "\n",
    "# calculate accuracy scores\n",
    "print(f\"Training Accuracy: {accuracy_score(y_train, y_train_pred_prelim)}\")\n",
    "print(f\"Testing Accuracy: {accuracy_score(y_test, y_test_pred_prelim)}\")"
   ]
  },
  {
   "cell_type": "markdown",
   "id": "confused-senate",
   "metadata": {},
   "source": [
    "---"
   ]
  },
  {
   "cell_type": "markdown",
   "id": "bridal-acrobat",
   "metadata": {},
   "source": [
    "<a id='pre_prune'></a>\n",
    "## Pre-pruning\n",
    "\n",
    "Decision Trees are great, but they easily overfit. To help with this, we can limit or stop the growth of the tree by changing the classifier's parameters such as its criterion, depth, minimum sample before a leaf is allowed to exist, and more. Changing these parameters is known as [pre-pruning](https://www.kaggle.com/arunmohan003/pruning-decision-trees-tutorial).\n",
    "\n",
    "Because there are so many combinations from each set of parameter values, we use [grid search](https://www.dezyre.com/recipes/optimize-hyper-parameters-of-decisiontree-model-using-grid-search-in-python) to carry out the parameter cross-validation for us. Grid search chooses the optimum value for each parameter for us - values that in combination, give the best performance for the tree. \n",
    "\n",
    "I will be using **criterion**, **splitter**, **max_depth**, **min_samples_split**, and **min_samples_leaf**."
   ]
  },
  {
   "cell_type": "code",
   "execution_count": 101,
   "id": "dirty-freight",
   "metadata": {},
   "outputs": [],
   "source": [
    "# set parameters\n",
    "params = {'criterion': ['gini'],\n",
    "          'splitter': ['best', 'random'],\n",
    "          'max_depth': np.arange(2,20),\n",
    "          'min_samples_split': np.arange(2,10),\n",
    "          'min_samples_leaf': np.arange(2,10)}\n",
    "\n",
    "# use grid search to find optimum values\n",
    "dtree_preprune = tree.DecisionTreeClassifier()\n",
    "gcv = GridSearchCV(estimator=dtree_preprune, param_grid=params)\n",
    "gcv.fit(X_train, y_train)\n",
    "\n",
    "# use optimal values to re-train pre-pruned tree\n",
    "clf_preprune = gcv.best_estimator_\n",
    "clf_preprune.fit(X_train, y_train)\n",
    "y_train_pred_preprune = clf_preprune.predict(X_train)\n",
    "y_test_pred_preprune = clf_preprune.predict(X_test)"
   ]
  },
  {
   "cell_type": "code",
   "execution_count": 157,
   "id": "looking-material",
   "metadata": {
    "tags": [
     "remove_input"
    ]
   },
   "outputs": [
    {
     "name": "stdout",
     "output_type": "stream",
     "text": [
      "\n",
      "\n"
     ]
    }
   ],
   "source": [
    "print('\\n')"
   ]
  },
  {
   "cell_type": "markdown",
   "id": "wrong-speaker",
   "metadata": {},
   "source": [
    "Which gets us the following optimal values: "
   ]
  },
  {
   "cell_type": "code",
   "execution_count": 156,
   "id": "national-diary",
   "metadata": {
    "tags": [
     "remove_input"
    ]
   },
   "outputs": [
    {
     "name": "stdout",
     "output_type": "stream",
     "text": [
      "\n",
      "\n"
     ]
    }
   ],
   "source": [
    "print('\\n')"
   ]
  },
  {
   "cell_type": "code",
   "execution_count": 102,
   "id": "final-teens",
   "metadata": {
    "tags": [
     "remove_input"
    ]
   },
   "outputs": [
    {
     "name": "stdout",
     "output_type": "stream",
     "text": [
      "Best criterion: gini\n",
      "Best splitter: best\n",
      "Best max_depth: 4\n",
      "Best min_samples_split: 2\n",
      "Best min_samples_leaf: 2\n"
     ]
    }
   ],
   "source": [
    "# print best parameters\n",
    "print(f\"Best criterion: {clf_preprune.get_params()['criterion']}\")\n",
    "print(f\"Best splitter: {clf_preprune.get_params()['splitter']}\")\n",
    "print(f\"Best max_depth: {clf_preprune.get_params()['max_depth']}\")\n",
    "print(f\"Best min_samples_split: {clf_preprune.get_params()['min_samples_split']}\")\n",
    "print(f\"Best min_samples_leaf: {clf_preprune.get_params()['min_samples_leaf']}\")"
   ]
  },
  {
   "cell_type": "code",
   "execution_count": 158,
   "id": "fresh-jacob",
   "metadata": {
    "tags": [
     "remove_input"
    ]
   },
   "outputs": [
    {
     "name": "stdout",
     "output_type": "stream",
     "text": [
      "\n",
      "\n"
     ]
    }
   ],
   "source": [
    "print('\\n')"
   ]
  },
  {
   "cell_type": "markdown",
   "id": "lesbian-april",
   "metadata": {},
   "source": [
    "Using these values to fit my model with gets us a pre-pruned model with following performance:"
   ]
  },
  {
   "cell_type": "code",
   "execution_count": 159,
   "id": "sought-disorder",
   "metadata": {
    "tags": [
     "remove_input"
    ]
   },
   "outputs": [
    {
     "name": "stdout",
     "output_type": "stream",
     "text": [
      "\n",
      "\n"
     ]
    }
   ],
   "source": [
    "print('\\n')"
   ]
  },
  {
   "cell_type": "code",
   "execution_count": 103,
   "id": "entertaining-matrix",
   "metadata": {
    "tags": [
     "remove_input"
    ]
   },
   "outputs": [
    {
     "name": "stdout",
     "output_type": "stream",
     "text": [
      "Training Accuracy: 0.6191221442705522\n",
      "Testing Accuracy: 0.614915546921375\n",
      "\n",
      "\n",
      "Training Precision: 0.6316033078252283\n",
      "Testing Precision: 0.6277480140402734\n",
      "\n",
      "\n",
      "Training Recall: 0.6891223108776892\n",
      "Testing Recall: 0.6863259947485356\n"
     ]
    }
   ],
   "source": [
    "print(f\"Training Accuracy: {accuracy_score(y_train, y_train_pred_preprune)}\")\n",
    "print(f\"Testing Accuracy: {accuracy_score(y_test, y_test_pred_preprune)}\")\n",
    "print('\\n')\n",
    "print(f\"Training Precision: {precision_score(y_train, y_train_pred_preprune, pos_label='NO')}\")\n",
    "print(f\"Testing Precision: {precision_score(y_test, y_test_pred_preprune, pos_label='NO')}\")\n",
    "print('\\n')\n",
    "print(f\"Training Recall: {recall_score(y_train, y_train_pred_preprune, pos_label='NO')}\")\n",
    "print(f\"Testing Recall: {recall_score(y_test, y_test_pred_preprune, pos_label='NO')}\")"
   ]
  },
  {
   "cell_type": "code",
   "execution_count": 160,
   "id": "responsible-interstate",
   "metadata": {
    "tags": [
     "remove_input"
    ]
   },
   "outputs": [
    {
     "name": "stdout",
     "output_type": "stream",
     "text": [
      "\n",
      "\n"
     ]
    }
   ],
   "source": [
    "print('\\n')"
   ]
  },
  {
   "cell_type": "markdown",
   "id": "entitled-equilibrium",
   "metadata": {},
   "source": [
    "Comparing the performance of my preliminary model with the pre-pruned model, we see a tradeoff between scores on the training data and the test data. The difference in scores between the training and test sets is now lower. \n",
    "\n",
    "Below is how the new tree looks like."
   ]
  },
  {
   "cell_type": "code",
   "execution_count": 104,
   "id": "unnecessary-chemical",
   "metadata": {},
   "outputs": [
    {
     "data": {
      "image/svg+xml": [
       "<?xml version=\"1.0\" encoding=\"UTF-8\" standalone=\"no\"?>\n",
       "<!DOCTYPE svg PUBLIC \"-//W3C//DTD SVG 1.1//EN\"\n",
       " \"http://www.w3.org/Graphics/SVG/1.1/DTD/svg11.dtd\">\n",
       "<!-- Generated by graphviz version 2.42.3 (20191010.1750)\n",
       " -->\n",
       "<!-- Title: Tree Pages: 1 -->\n",
       "<svg width=\"2614pt\" height=\"528pt\"\n",
       " viewBox=\"0.00 0.00 2613.67 528.00\" xmlns=\"http://www.w3.org/2000/svg\" xmlns:xlink=\"http://www.w3.org/1999/xlink\">\n",
       "<g id=\"graph0\" class=\"graph\" transform=\"scale(1 1) rotate(0) translate(4 524)\">\n",
       "<title>Tree</title>\n",
       "<polygon fill=\"white\" stroke=\"transparent\" points=\"-4,4 -4,-524 2609.67,-524 2609.67,4 -4,4\"/>\n",
       "<!-- 0 -->\n",
       "<g id=\"node1\" class=\"node\">\n",
       "<title>0</title>\n",
       "<path fill=\"#fcefe6\" stroke=\"black\" d=\"M1332.15,-520C1332.15,-520 1167.84,-520 1167.84,-520 1161.84,-520 1155.84,-514 1155.84,-508 1155.84,-508 1155.84,-454 1155.84,-454 1155.84,-448 1161.84,-442 1167.84,-442 1167.84,-442 1332.15,-442 1332.15,-442 1338.15,-442 1344.15,-448 1344.15,-454 1344.15,-454 1344.15,-508 1344.15,-508 1344.15,-514 1338.15,-520 1332.15,-520\"/>\n",
       "<text text-anchor=\"start\" x=\"1163.67\" y=\"-504.8\" font-family=\"Helvetica,sans-Serif\" font-size=\"14.00\">num_services_utilized ≤ 0.5</text>\n",
       "<text text-anchor=\"start\" x=\"1213.61\" y=\"-490.8\" font-family=\"Helvetica,sans-Serif\" font-size=\"14.00\">gini = 0.498</text>\n",
       "<text text-anchor=\"start\" x=\"1196.49\" y=\"-476.8\" font-family=\"Helvetica,sans-Serif\" font-size=\"14.00\">samples = 55590</text>\n",
       "<text text-anchor=\"start\" x=\"1178.58\" y=\"-462.8\" font-family=\"Helvetica,sans-Serif\" font-size=\"14.00\">value = [29703, 25887]</text>\n",
       "<text text-anchor=\"start\" x=\"1193\" y=\"-448.8\" font-family=\"Helvetica,sans-Serif\" font-size=\"14.00\">class = readmitted</text>\n",
       "</g>\n",
       "<!-- 1 -->\n",
       "<g id=\"node2\" class=\"node\">\n",
       "<title>1</title>\n",
       "<path fill=\"#f4caab\" stroke=\"black\" d=\"M1024,-406C1024,-406 877.99,-406 877.99,-406 871.99,-406 865.99,-400 865.99,-394 865.99,-394 865.99,-340 865.99,-340 865.99,-334 871.99,-328 877.99,-328 877.99,-328 1024,-328 1024,-328 1030,-328 1036,-334 1036,-340 1036,-340 1036,-394 1036,-394 1036,-400 1030,-406 1024,-406\"/>\n",
       "<text text-anchor=\"start\" x=\"873.99\" y=\"-390.8\" font-family=\"Helvetica,sans-Serif\" font-size=\"14.00\">number_diagnoses ≤ 6.5</text>\n",
       "<text text-anchor=\"start\" x=\"914.61\" y=\"-376.8\" font-family=\"Helvetica,sans-Serif\" font-size=\"14.00\">gini = 0.464</text>\n",
       "<text text-anchor=\"start\" x=\"897.49\" y=\"-362.8\" font-family=\"Helvetica,sans-Serif\" font-size=\"14.00\">samples = 30773</text>\n",
       "<text text-anchor=\"start\" x=\"880.09\" y=\"-348.8\" font-family=\"Helvetica,sans-Serif\" font-size=\"14.00\">value = [19510, 11263]</text>\n",
       "<text text-anchor=\"start\" x=\"894\" y=\"-334.8\" font-family=\"Helvetica,sans-Serif\" font-size=\"14.00\">class = readmitted</text>\n",
       "</g>\n",
       "<!-- 0&#45;&gt;1 -->\n",
       "<g id=\"edge1\" class=\"edge\">\n",
       "<title>0&#45;&gt;1</title>\n",
       "<path fill=\"none\" stroke=\"black\" d=\"M1155.8,-444.72C1120.75,-431.59 1080.99,-416.69 1045.88,-403.54\"/>\n",
       "<polygon fill=\"black\" stroke=\"black\" points=\"1046.7,-400.11 1036.1,-399.88 1044.24,-406.66 1046.7,-400.11\"/>\n",
       "<text text-anchor=\"middle\" x=\"1046.46\" y=\"-418.43\" font-family=\"Helvetica,sans-Serif\" font-size=\"14.00\">True</text>\n",
       "</g>\n",
       "<!-- 16 -->\n",
       "<g id=\"node17\" class=\"node\">\n",
       "<title>16</title>\n",
       "<path fill=\"#c3e1f7\" stroke=\"black\" d=\"M1670.15,-406C1670.15,-406 1505.84,-406 1505.84,-406 1499.84,-406 1493.84,-400 1493.84,-394 1493.84,-394 1493.84,-340 1493.84,-340 1493.84,-334 1499.84,-328 1505.84,-328 1505.84,-328 1670.15,-328 1670.15,-328 1676.15,-328 1682.15,-334 1682.15,-340 1682.15,-340 1682.15,-394 1682.15,-394 1682.15,-400 1676.15,-406 1670.15,-406\"/>\n",
       "<text text-anchor=\"start\" x=\"1501.67\" y=\"-390.8\" font-family=\"Helvetica,sans-Serif\" font-size=\"14.00\">num_services_utilized ≤ 2.5</text>\n",
       "<text text-anchor=\"start\" x=\"1551.61\" y=\"-376.8\" font-family=\"Helvetica,sans-Serif\" font-size=\"14.00\">gini = 0.484</text>\n",
       "<text text-anchor=\"start\" x=\"1534.49\" y=\"-362.8\" font-family=\"Helvetica,sans-Serif\" font-size=\"14.00\">samples = 24817</text>\n",
       "<text text-anchor=\"start\" x=\"1516.58\" y=\"-348.8\" font-family=\"Helvetica,sans-Serif\" font-size=\"14.00\">value = [10193, 14624]</text>\n",
       "<text text-anchor=\"start\" x=\"1519.32\" y=\"-334.8\" font-family=\"Helvetica,sans-Serif\" font-size=\"14.00\">class = not readmitted</text>\n",
       "</g>\n",
       "<!-- 0&#45;&gt;16 -->\n",
       "<g id=\"edge16\" class=\"edge\">\n",
       "<title>0&#45;&gt;16</title>\n",
       "<path fill=\"none\" stroke=\"black\" d=\"M1344.6,-448.65C1387.99,-434.27 1439.56,-417.19 1484.04,-402.45\"/>\n",
       "<polygon fill=\"black\" stroke=\"black\" points=\"1485.32,-405.71 1493.71,-399.24 1483.12,-399.07 1485.32,-405.71\"/>\n",
       "<text text-anchor=\"middle\" x=\"1482.49\" y=\"-417.38\" font-family=\"Helvetica,sans-Serif\" font-size=\"14.00\">False</text>\n",
       "</g>\n",
       "<!-- 2 -->\n",
       "<g id=\"node3\" class=\"node\">\n",
       "<title>2</title>\n",
       "<path fill=\"#f0b68c\" stroke=\"black\" d=\"M528.77,-292C528.77,-292 409.23,-292 409.23,-292 403.23,-292 397.23,-286 397.23,-280 397.23,-280 397.23,-226 397.23,-226 397.23,-220 403.23,-214 409.23,-214 409.23,-214 528.77,-214 528.77,-214 534.77,-214 540.77,-220 540.77,-226 540.77,-226 540.77,-280 540.77,-280 540.77,-286 534.77,-292 528.77,-292\"/>\n",
       "<text text-anchor=\"start\" x=\"435.96\" y=\"-276.8\" font-family=\"Helvetica,sans-Serif\" font-size=\"14.00\">age ≤ 70.0</text>\n",
       "<text text-anchor=\"start\" x=\"432.61\" y=\"-262.8\" font-family=\"Helvetica,sans-Serif\" font-size=\"14.00\">gini = 0.417</text>\n",
       "<text text-anchor=\"start\" x=\"415.49\" y=\"-248.8\" font-family=\"Helvetica,sans-Serif\" font-size=\"14.00\">samples = 10664</text>\n",
       "<text text-anchor=\"start\" x=\"405.36\" y=\"-234.8\" font-family=\"Helvetica,sans-Serif\" font-size=\"14.00\">value = [7504, 3160]</text>\n",
       "<text text-anchor=\"start\" x=\"412\" y=\"-220.8\" font-family=\"Helvetica,sans-Serif\" font-size=\"14.00\">class = readmitted</text>\n",
       "</g>\n",
       "<!-- 1&#45;&gt;2 -->\n",
       "<g id=\"edge2\" class=\"edge\">\n",
       "<title>1&#45;&gt;2</title>\n",
       "<path fill=\"none\" stroke=\"black\" d=\"M865.94,-346.23C776.94,-325.55 638.22,-293.32 550.55,-272.95\"/>\n",
       "<polygon fill=\"black\" stroke=\"black\" points=\"551.18,-269.5 540.65,-270.65 549.6,-276.32 551.18,-269.5\"/>\n",
       "</g>\n",
       "<!-- 9 -->\n",
       "<g id=\"node10\" class=\"node\">\n",
       "<title>9</title>\n",
       "<path fill=\"#f7d6bf\" stroke=\"black\" d=\"M1014.56,-292C1014.56,-292 887.44,-292 887.44,-292 881.44,-292 875.44,-286 875.44,-280 875.44,-280 875.44,-226 875.44,-226 875.44,-220 881.44,-214 887.44,-214 887.44,-214 1014.56,-214 1014.56,-214 1020.56,-214 1026.56,-220 1026.56,-226 1026.56,-226 1026.56,-280 1026.56,-280 1026.56,-286 1020.56,-292 1014.56,-292\"/>\n",
       "<text text-anchor=\"start\" x=\"895.39\" y=\"-276.8\" font-family=\"Helvetica,sans-Serif\" font-size=\"14.00\">diag_1_cat ≤ 10.5</text>\n",
       "<text text-anchor=\"start\" x=\"914.61\" y=\"-262.8\" font-family=\"Helvetica,sans-Serif\" font-size=\"14.00\">gini = 0.481</text>\n",
       "<text text-anchor=\"start\" x=\"897.49\" y=\"-248.8\" font-family=\"Helvetica,sans-Serif\" font-size=\"14.00\">samples = 20109</text>\n",
       "<text text-anchor=\"start\" x=\"883.47\" y=\"-234.8\" font-family=\"Helvetica,sans-Serif\" font-size=\"14.00\">value = [12006, 8103]</text>\n",
       "<text text-anchor=\"start\" x=\"894\" y=\"-220.8\" font-family=\"Helvetica,sans-Serif\" font-size=\"14.00\">class = readmitted</text>\n",
       "</g>\n",
       "<!-- 1&#45;&gt;9 -->\n",
       "<g id=\"edge9\" class=\"edge\">\n",
       "<title>1&#45;&gt;9</title>\n",
       "<path fill=\"none\" stroke=\"black\" d=\"M951,-327.77C951,-319.57 951,-310.8 951,-302.28\"/>\n",
       "<polygon fill=\"black\" stroke=\"black\" points=\"954.5,-302.06 951,-292.06 947.5,-302.06 954.5,-302.06\"/>\n",
       "</g>\n",
       "<!-- 3 -->\n",
       "<g id=\"node4\" class=\"node\">\n",
       "<title>3</title>\n",
       "<path fill=\"#efaf82\" stroke=\"black\" d=\"M279.77,-178C279.77,-178 160.23,-178 160.23,-178 154.23,-178 148.23,-172 148.23,-166 148.23,-166 148.23,-112 148.23,-112 148.23,-106 154.23,-100 160.23,-100 160.23,-100 279.77,-100 279.77,-100 285.77,-100 291.77,-106 291.77,-112 291.77,-112 291.77,-166 291.77,-166 291.77,-172 285.77,-178 279.77,-178\"/>\n",
       "<text text-anchor=\"start\" x=\"169.46\" y=\"-162.8\" font-family=\"Helvetica,sans-Serif\" font-size=\"14.00\">insulin_cat ≤ 0.5</text>\n",
       "<text text-anchor=\"start\" x=\"183.61\" y=\"-148.8\" font-family=\"Helvetica,sans-Serif\" font-size=\"14.00\">gini = 0.393</text>\n",
       "<text text-anchor=\"start\" x=\"170.38\" y=\"-134.8\" font-family=\"Helvetica,sans-Serif\" font-size=\"14.00\">samples = 7038</text>\n",
       "<text text-anchor=\"start\" x=\"156.36\" y=\"-120.8\" font-family=\"Helvetica,sans-Serif\" font-size=\"14.00\">value = [5150, 1888]</text>\n",
       "<text text-anchor=\"start\" x=\"163\" y=\"-106.8\" font-family=\"Helvetica,sans-Serif\" font-size=\"14.00\">class = readmitted</text>\n",
       "</g>\n",
       "<!-- 2&#45;&gt;3 -->\n",
       "<g id=\"edge3\" class=\"edge\">\n",
       "<title>2&#45;&gt;3</title>\n",
       "<path fill=\"none\" stroke=\"black\" d=\"M397.31,-219.76C367.36,-206.29 332.41,-190.56 301.5,-176.66\"/>\n",
       "<polygon fill=\"black\" stroke=\"black\" points=\"302.6,-173.32 292.04,-172.41 299.73,-179.7 302.6,-173.32\"/>\n",
       "</g>\n",
       "<!-- 6 -->\n",
       "<g id=\"node7\" class=\"node\">\n",
       "<title>6</title>\n",
       "<path fill=\"#f3c5a4\" stroke=\"black\" d=\"M528.77,-178C528.77,-178 409.23,-178 409.23,-178 403.23,-178 397.23,-172 397.23,-166 397.23,-166 397.23,-112 397.23,-112 397.23,-106 403.23,-100 409.23,-100 409.23,-100 528.77,-100 528.77,-100 534.77,-100 540.77,-106 540.77,-112 540.77,-112 540.77,-166 540.77,-166 540.77,-172 534.77,-178 528.77,-178\"/>\n",
       "<text text-anchor=\"start\" x=\"418.46\" y=\"-162.8\" font-family=\"Helvetica,sans-Serif\" font-size=\"14.00\">insulin_cat ≤ 0.5</text>\n",
       "<text text-anchor=\"start\" x=\"432.61\" y=\"-148.8\" font-family=\"Helvetica,sans-Serif\" font-size=\"14.00\">gini = 0.455</text>\n",
       "<text text-anchor=\"start\" x=\"419.38\" y=\"-134.8\" font-family=\"Helvetica,sans-Serif\" font-size=\"14.00\">samples = 3626</text>\n",
       "<text text-anchor=\"start\" x=\"405.36\" y=\"-120.8\" font-family=\"Helvetica,sans-Serif\" font-size=\"14.00\">value = [2354, 1272]</text>\n",
       "<text text-anchor=\"start\" x=\"412\" y=\"-106.8\" font-family=\"Helvetica,sans-Serif\" font-size=\"14.00\">class = readmitted</text>\n",
       "</g>\n",
       "<!-- 2&#45;&gt;6 -->\n",
       "<g id=\"edge6\" class=\"edge\">\n",
       "<title>2&#45;&gt;6</title>\n",
       "<path fill=\"none\" stroke=\"black\" d=\"M469,-213.77C469,-205.57 469,-196.8 469,-188.28\"/>\n",
       "<polygon fill=\"black\" stroke=\"black\" points=\"472.5,-188.06 469,-178.06 465.5,-188.06 472.5,-188.06\"/>\n",
       "</g>\n",
       "<!-- 4 -->\n",
       "<g id=\"node5\" class=\"node\">\n",
       "<title>4</title>\n",
       "<path fill=\"#f3c5a4\" stroke=\"black\" d=\"M117.99,-64C117.99,-64 12,-64 12,-64 6,-64 0,-58 0,-52 0,-52 0,-12 0,-12 0,-6 6,0 12,0 12,0 117.99,0 117.99,0 123.99,0 129.99,-6 129.99,-12 129.99,-12 129.99,-52 129.99,-52 129.99,-58 123.99,-64 117.99,-64\"/>\n",
       "<text text-anchor=\"start\" x=\"28.61\" y=\"-48.8\" font-family=\"Helvetica,sans-Serif\" font-size=\"14.00\">gini = 0.455</text>\n",
       "<text text-anchor=\"start\" x=\"19.28\" y=\"-34.8\" font-family=\"Helvetica,sans-Serif\" font-size=\"14.00\">samples = 660</text>\n",
       "<text text-anchor=\"start\" x=\"9.15\" y=\"-20.8\" font-family=\"Helvetica,sans-Serif\" font-size=\"14.00\">value = [429, 231]</text>\n",
       "<text text-anchor=\"start\" x=\"8\" y=\"-6.8\" font-family=\"Helvetica,sans-Serif\" font-size=\"14.00\">class = readmitted</text>\n",
       "</g>\n",
       "<!-- 3&#45;&gt;4 -->\n",
       "<g id=\"edge4\" class=\"edge\">\n",
       "<title>3&#45;&gt;4</title>\n",
       "<path fill=\"none\" stroke=\"black\" d=\"M163.6,-99.8C149.13,-89.99 133.6,-79.47 119.24,-69.74\"/>\n",
       "<polygon fill=\"black\" stroke=\"black\" points=\"121.18,-66.83 110.93,-64.12 117.25,-72.62 121.18,-66.83\"/>\n",
       "</g>\n",
       "<!-- 5 -->\n",
       "<g id=\"node6\" class=\"node\">\n",
       "<title>5</title>\n",
       "<path fill=\"#eead7e\" stroke=\"black\" d=\"M279.77,-64C279.77,-64 160.23,-64 160.23,-64 154.23,-64 148.23,-58 148.23,-52 148.23,-52 148.23,-12 148.23,-12 148.23,-6 154.23,0 160.23,0 160.23,0 279.77,0 279.77,0 285.77,0 291.77,-6 291.77,-12 291.77,-12 291.77,-52 291.77,-52 291.77,-58 285.77,-64 279.77,-64\"/>\n",
       "<text text-anchor=\"start\" x=\"183.61\" y=\"-48.8\" font-family=\"Helvetica,sans-Serif\" font-size=\"14.00\">gini = 0.385</text>\n",
       "<text text-anchor=\"start\" x=\"170.38\" y=\"-34.8\" font-family=\"Helvetica,sans-Serif\" font-size=\"14.00\">samples = 6378</text>\n",
       "<text text-anchor=\"start\" x=\"156.36\" y=\"-20.8\" font-family=\"Helvetica,sans-Serif\" font-size=\"14.00\">value = [4721, 1657]</text>\n",
       "<text text-anchor=\"start\" x=\"163\" y=\"-6.8\" font-family=\"Helvetica,sans-Serif\" font-size=\"14.00\">class = readmitted</text>\n",
       "</g>\n",
       "<!-- 3&#45;&gt;5 -->\n",
       "<g id=\"edge5\" class=\"edge\">\n",
       "<title>3&#45;&gt;5</title>\n",
       "<path fill=\"none\" stroke=\"black\" d=\"M220,-99.8C220,-91.46 220,-82.6 220,-74.15\"/>\n",
       "<polygon fill=\"black\" stroke=\"black\" points=\"223.5,-74.12 220,-64.12 216.5,-74.12 223.5,-74.12\"/>\n",
       "</g>\n",
       "<!-- 7 -->\n",
       "<g id=\"node8\" class=\"node\">\n",
       "<title>7</title>\n",
       "<path fill=\"#e7f3fc\" stroke=\"black\" d=\"M450.85,-64C450.85,-64 321.15,-64 321.15,-64 315.15,-64 309.15,-58 309.15,-52 309.15,-52 309.15,-12 309.15,-12 309.15,-6 315.15,0 321.15,0 321.15,0 450.85,0 450.85,0 456.85,0 462.85,-6 462.85,-12 462.85,-12 462.85,-52 462.85,-52 462.85,-58 456.85,-64 450.85,-64\"/>\n",
       "<text text-anchor=\"start\" x=\"349.61\" y=\"-48.8\" font-family=\"Helvetica,sans-Serif\" font-size=\"14.00\">gini = 0.498</text>\n",
       "<text text-anchor=\"start\" x=\"340.28\" y=\"-34.8\" font-family=\"Helvetica,sans-Serif\" font-size=\"14.00\">samples = 218</text>\n",
       "<text text-anchor=\"start\" x=\"330.66\" y=\"-20.8\" font-family=\"Helvetica,sans-Serif\" font-size=\"14.00\">value = [102, 116]</text>\n",
       "<text text-anchor=\"start\" x=\"317.32\" y=\"-6.8\" font-family=\"Helvetica,sans-Serif\" font-size=\"14.00\">class = not readmitted</text>\n",
       "</g>\n",
       "<!-- 6&#45;&gt;7 -->\n",
       "<g id=\"edge7\" class=\"edge\">\n",
       "<title>6&#45;&gt;7</title>\n",
       "<path fill=\"none\" stroke=\"black\" d=\"M438.8,-99.8C431.7,-90.82 424.13,-81.23 416.99,-72.21\"/>\n",
       "<polygon fill=\"black\" stroke=\"black\" points=\"419.54,-69.79 410.6,-64.12 414.05,-74.13 419.54,-69.79\"/>\n",
       "</g>\n",
       "<!-- 8 -->\n",
       "<g id=\"node9\" class=\"node\">\n",
       "<title>8</title>\n",
       "<path fill=\"#f2c29f\" stroke=\"black\" d=\"M611.24,-64C611.24,-64 492.76,-64 492.76,-64 486.76,-64 480.76,-58 480.76,-52 480.76,-52 480.76,-12 480.76,-12 480.76,-6 486.76,0 492.76,0 492.76,0 611.24,0 611.24,0 617.24,0 623.24,-6 623.24,-12 623.24,-12 623.24,-52 623.24,-52 623.24,-58 617.24,-64 611.24,-64\"/>\n",
       "<text text-anchor=\"start\" x=\"515.61\" y=\"-48.8\" font-family=\"Helvetica,sans-Serif\" font-size=\"14.00\">gini = 0.448</text>\n",
       "<text text-anchor=\"start\" x=\"502.38\" y=\"-34.8\" font-family=\"Helvetica,sans-Serif\" font-size=\"14.00\">samples = 3408</text>\n",
       "<text text-anchor=\"start\" x=\"488.88\" y=\"-20.8\" font-family=\"Helvetica,sans-Serif\" font-size=\"14.00\">value = [2252, 1156]</text>\n",
       "<text text-anchor=\"start\" x=\"495\" y=\"-6.8\" font-family=\"Helvetica,sans-Serif\" font-size=\"14.00\">class = readmitted</text>\n",
       "</g>\n",
       "<!-- 6&#45;&gt;8 -->\n",
       "<g id=\"edge8\" class=\"edge\">\n",
       "<title>6&#45;&gt;8</title>\n",
       "<path fill=\"none\" stroke=\"black\" d=\"M499.2,-99.8C506.3,-90.82 513.87,-81.23 521,-72.21\"/>\n",
       "<polygon fill=\"black\" stroke=\"black\" points=\"523.95,-74.13 527.4,-64.12 518.45,-69.79 523.95,-74.13\"/>\n",
       "</g>\n",
       "<!-- 10 -->\n",
       "<g id=\"node11\" class=\"node\">\n",
       "<title>10</title>\n",
       "<path fill=\"#f8dcc7\" stroke=\"black\" d=\"M930.77,-178C930.77,-178 811.23,-178 811.23,-178 805.23,-178 799.23,-172 799.23,-166 799.23,-166 799.23,-112 799.23,-112 799.23,-106 805.23,-100 811.23,-100 811.23,-100 930.77,-100 930.77,-100 936.77,-100 942.77,-106 942.77,-112 942.77,-112 942.77,-166 942.77,-166 942.77,-172 936.77,-178 930.77,-178\"/>\n",
       "<text text-anchor=\"start\" x=\"837.96\" y=\"-162.8\" font-family=\"Helvetica,sans-Serif\" font-size=\"14.00\">age ≤ 70.0</text>\n",
       "<text text-anchor=\"start\" x=\"834.61\" y=\"-148.8\" font-family=\"Helvetica,sans-Serif\" font-size=\"14.00\">gini = 0.487</text>\n",
       "<text text-anchor=\"start\" x=\"817.49\" y=\"-134.8\" font-family=\"Helvetica,sans-Serif\" font-size=\"14.00\">samples = 15905</text>\n",
       "<text text-anchor=\"start\" x=\"807.36\" y=\"-120.8\" font-family=\"Helvetica,sans-Serif\" font-size=\"14.00\">value = [9254, 6651]</text>\n",
       "<text text-anchor=\"start\" x=\"814\" y=\"-106.8\" font-family=\"Helvetica,sans-Serif\" font-size=\"14.00\">class = readmitted</text>\n",
       "</g>\n",
       "<!-- 9&#45;&gt;10 -->\n",
       "<g id=\"edge10\" class=\"edge\">\n",
       "<title>9&#45;&gt;10</title>\n",
       "<path fill=\"none\" stroke=\"black\" d=\"M923.69,-213.77C917.38,-204.94 910.61,-195.45 904.08,-186.32\"/>\n",
       "<polygon fill=\"black\" stroke=\"black\" points=\"906.84,-184.16 898.18,-178.06 901.15,-188.23 906.84,-184.16\"/>\n",
       "</g>\n",
       "<!-- 13 -->\n",
       "<g id=\"node14\" class=\"node\">\n",
       "<title>13</title>\n",
       "<path fill=\"#f3c3a1\" stroke=\"black\" d=\"M1091.77,-178C1091.77,-178 972.23,-178 972.23,-178 966.23,-178 960.23,-172 960.23,-166 960.23,-166 960.23,-112 960.23,-112 960.23,-106 966.23,-100 972.23,-100 972.23,-100 1091.77,-100 1091.77,-100 1097.77,-100 1103.77,-106 1103.77,-112 1103.77,-112 1103.77,-166 1103.77,-166 1103.77,-172 1097.77,-178 1091.77,-178\"/>\n",
       "<text text-anchor=\"start\" x=\"998.96\" y=\"-162.8\" font-family=\"Helvetica,sans-Serif\" font-size=\"14.00\">age ≤ 50.0</text>\n",
       "<text text-anchor=\"start\" x=\"995.61\" y=\"-148.8\" font-family=\"Helvetica,sans-Serif\" font-size=\"14.00\">gini = 0.452</text>\n",
       "<text text-anchor=\"start\" x=\"982.38\" y=\"-134.8\" font-family=\"Helvetica,sans-Serif\" font-size=\"14.00\">samples = 4204</text>\n",
       "<text text-anchor=\"start\" x=\"968.36\" y=\"-120.8\" font-family=\"Helvetica,sans-Serif\" font-size=\"14.00\">value = [2752, 1452]</text>\n",
       "<text text-anchor=\"start\" x=\"975\" y=\"-106.8\" font-family=\"Helvetica,sans-Serif\" font-size=\"14.00\">class = readmitted</text>\n",
       "</g>\n",
       "<!-- 9&#45;&gt;13 -->\n",
       "<g id=\"edge13\" class=\"edge\">\n",
       "<title>9&#45;&gt;13</title>\n",
       "<path fill=\"none\" stroke=\"black\" d=\"M978.65,-213.77C985.03,-204.94 991.89,-195.45 998.5,-186.32\"/>\n",
       "<polygon fill=\"black\" stroke=\"black\" points=\"1001.45,-188.21 1004.47,-178.06 995.78,-184.11 1001.45,-188.21\"/>\n",
       "</g>\n",
       "<!-- 11 -->\n",
       "<g id=\"node12\" class=\"node\">\n",
       "<title>11</title>\n",
       "<path fill=\"#f6d3ba\" stroke=\"black\" d=\"M772.77,-64C772.77,-64 653.23,-64 653.23,-64 647.23,-64 641.23,-58 641.23,-52 641.23,-52 641.23,-12 641.23,-12 641.23,-6 647.23,0 653.23,0 653.23,0 772.77,0 772.77,0 778.77,0 784.77,-6 784.77,-12 784.77,-12 784.77,-52 784.77,-52 784.77,-58 778.77,-64 772.77,-64\"/>\n",
       "<text text-anchor=\"start\" x=\"676.61\" y=\"-48.8\" font-family=\"Helvetica,sans-Serif\" font-size=\"14.00\">gini = 0.477</text>\n",
       "<text text-anchor=\"start\" x=\"663.38\" y=\"-34.8\" font-family=\"Helvetica,sans-Serif\" font-size=\"14.00\">samples = 7968</text>\n",
       "<text text-anchor=\"start\" x=\"649.36\" y=\"-20.8\" font-family=\"Helvetica,sans-Serif\" font-size=\"14.00\">value = [4830, 3138]</text>\n",
       "<text text-anchor=\"start\" x=\"656\" y=\"-6.8\" font-family=\"Helvetica,sans-Serif\" font-size=\"14.00\">class = readmitted</text>\n",
       "</g>\n",
       "<!-- 10&#45;&gt;11 -->\n",
       "<g id=\"edge11\" class=\"edge\">\n",
       "<title>10&#45;&gt;11</title>\n",
       "<path fill=\"none\" stroke=\"black\" d=\"M813.51,-99.8C798.76,-89.99 782.92,-79.47 768.28,-69.74\"/>\n",
       "<polygon fill=\"black\" stroke=\"black\" points=\"770.09,-66.74 759.82,-64.12 766.21,-72.57 770.09,-66.74\"/>\n",
       "</g>\n",
       "<!-- 12 -->\n",
       "<g id=\"node13\" class=\"node\">\n",
       "<title>12</title>\n",
       "<path fill=\"#fae5d6\" stroke=\"black\" d=\"M933.77,-64C933.77,-64 814.23,-64 814.23,-64 808.23,-64 802.23,-58 802.23,-52 802.23,-52 802.23,-12 802.23,-12 802.23,-6 808.23,0 814.23,0 814.23,0 933.77,0 933.77,0 939.77,0 945.77,-6 945.77,-12 945.77,-12 945.77,-52 945.77,-52 945.77,-58 939.77,-64 933.77,-64\"/>\n",
       "<text text-anchor=\"start\" x=\"837.61\" y=\"-48.8\" font-family=\"Helvetica,sans-Serif\" font-size=\"14.00\">gini = 0.493</text>\n",
       "<text text-anchor=\"start\" x=\"824.38\" y=\"-34.8\" font-family=\"Helvetica,sans-Serif\" font-size=\"14.00\">samples = 7937</text>\n",
       "<text text-anchor=\"start\" x=\"810.36\" y=\"-20.8\" font-family=\"Helvetica,sans-Serif\" font-size=\"14.00\">value = [4424, 3513]</text>\n",
       "<text text-anchor=\"start\" x=\"817\" y=\"-6.8\" font-family=\"Helvetica,sans-Serif\" font-size=\"14.00\">class = readmitted</text>\n",
       "</g>\n",
       "<!-- 10&#45;&gt;12 -->\n",
       "<g id=\"edge12\" class=\"edge\">\n",
       "<title>10&#45;&gt;12</title>\n",
       "<path fill=\"none\" stroke=\"black\" d=\"M872.09,-99.8C872.33,-91.46 872.58,-82.6 872.82,-74.15\"/>\n",
       "<polygon fill=\"black\" stroke=\"black\" points=\"876.32,-74.21 873.11,-64.12 869.32,-74.01 876.32,-74.21\"/>\n",
       "</g>\n",
       "<!-- 14 -->\n",
       "<g id=\"node15\" class=\"node\">\n",
       "<title>14</title>\n",
       "<path fill=\"#eeae80\" stroke=\"black\" d=\"M1081.99,-64C1081.99,-64 976,-64 976,-64 970,-64 964,-58 964,-52 964,-52 964,-12 964,-12 964,-6 970,0 976,0 976,0 1081.99,0 1081.99,0 1087.99,0 1093.99,-6 1093.99,-12 1093.99,-12 1093.99,-52 1093.99,-52 1093.99,-58 1087.99,-64 1081.99,-64\"/>\n",
       "<text text-anchor=\"start\" x=\"992.61\" y=\"-48.8\" font-family=\"Helvetica,sans-Serif\" font-size=\"14.00\">gini = 0.389</text>\n",
       "<text text-anchor=\"start\" x=\"983.28\" y=\"-34.8\" font-family=\"Helvetica,sans-Serif\" font-size=\"14.00\">samples = 704</text>\n",
       "<text text-anchor=\"start\" x=\"973.15\" y=\"-20.8\" font-family=\"Helvetica,sans-Serif\" font-size=\"14.00\">value = [518, 186]</text>\n",
       "<text text-anchor=\"start\" x=\"972\" y=\"-6.8\" font-family=\"Helvetica,sans-Serif\" font-size=\"14.00\">class = readmitted</text>\n",
       "</g>\n",
       "<!-- 13&#45;&gt;14 -->\n",
       "<g id=\"edge14\" class=\"edge\">\n",
       "<title>13&#45;&gt;14</title>\n",
       "<path fill=\"none\" stroke=\"black\" d=\"M1030.91,-99.8C1030.67,-91.46 1030.42,-82.6 1030.17,-74.15\"/>\n",
       "<polygon fill=\"black\" stroke=\"black\" points=\"1033.67,-74.01 1029.89,-64.12 1026.67,-74.21 1033.67,-74.01\"/>\n",
       "</g>\n",
       "<!-- 15 -->\n",
       "<g id=\"node16\" class=\"node\">\n",
       "<title>15</title>\n",
       "<path fill=\"#f4c8a9\" stroke=\"black\" d=\"M1243.77,-64C1243.77,-64 1124.23,-64 1124.23,-64 1118.23,-64 1112.23,-58 1112.23,-52 1112.23,-52 1112.23,-12 1112.23,-12 1112.23,-6 1118.23,0 1124.23,0 1124.23,0 1243.77,0 1243.77,0 1249.77,0 1255.77,-6 1255.77,-12 1255.77,-12 1255.77,-52 1255.77,-52 1255.77,-58 1249.77,-64 1243.77,-64\"/>\n",
       "<text text-anchor=\"start\" x=\"1147.61\" y=\"-48.8\" font-family=\"Helvetica,sans-Serif\" font-size=\"14.00\">gini = 0.462</text>\n",
       "<text text-anchor=\"start\" x=\"1134.38\" y=\"-34.8\" font-family=\"Helvetica,sans-Serif\" font-size=\"14.00\">samples = 3500</text>\n",
       "<text text-anchor=\"start\" x=\"1120.36\" y=\"-20.8\" font-family=\"Helvetica,sans-Serif\" font-size=\"14.00\">value = [2234, 1266]</text>\n",
       "<text text-anchor=\"start\" x=\"1127\" y=\"-6.8\" font-family=\"Helvetica,sans-Serif\" font-size=\"14.00\">class = readmitted</text>\n",
       "</g>\n",
       "<!-- 13&#45;&gt;15 -->\n",
       "<g id=\"edge15\" class=\"edge\">\n",
       "<title>13&#45;&gt;15</title>\n",
       "<path fill=\"none\" stroke=\"black\" d=\"M1087.3,-99.8C1101.36,-90.08 1116.44,-79.67 1130.42,-70.01\"/>\n",
       "<polygon fill=\"black\" stroke=\"black\" points=\"1132.71,-72.68 1138.95,-64.12 1128.74,-66.92 1132.71,-72.68\"/>\n",
       "</g>\n",
       "<!-- 17 -->\n",
       "<g id=\"node18\" class=\"node\">\n",
       "<title>17</title>\n",
       "<path fill=\"#deeffb\" stroke=\"black\" d=\"M1661,-292C1661,-292 1514.99,-292 1514.99,-292 1508.99,-292 1502.99,-286 1502.99,-280 1502.99,-280 1502.99,-226 1502.99,-226 1502.99,-220 1508.99,-214 1514.99,-214 1514.99,-214 1661,-214 1661,-214 1667,-214 1673,-220 1673,-226 1673,-226 1673,-280 1673,-280 1673,-286 1667,-292 1661,-292\"/>\n",
       "<text text-anchor=\"start\" x=\"1510.99\" y=\"-276.8\" font-family=\"Helvetica,sans-Serif\" font-size=\"14.00\">number_diagnoses ≤ 5.5</text>\n",
       "<text text-anchor=\"start\" x=\"1551.61\" y=\"-262.8\" font-family=\"Helvetica,sans-Serif\" font-size=\"14.00\">gini = 0.496</text>\n",
       "<text text-anchor=\"start\" x=\"1534.49\" y=\"-248.8\" font-family=\"Helvetica,sans-Serif\" font-size=\"14.00\">samples = 16851</text>\n",
       "<text text-anchor=\"start\" x=\"1524.36\" y=\"-234.8\" font-family=\"Helvetica,sans-Serif\" font-size=\"14.00\">value = [7663, 9188]</text>\n",
       "<text text-anchor=\"start\" x=\"1519.32\" y=\"-220.8\" font-family=\"Helvetica,sans-Serif\" font-size=\"14.00\">class = not readmitted</text>\n",
       "</g>\n",
       "<!-- 16&#45;&gt;17 -->\n",
       "<g id=\"edge17\" class=\"edge\">\n",
       "<title>16&#45;&gt;17</title>\n",
       "<path fill=\"none\" stroke=\"black\" d=\"M1588,-327.77C1588,-319.57 1588,-310.8 1588,-302.28\"/>\n",
       "<polygon fill=\"black\" stroke=\"black\" points=\"1591.5,-302.06 1588,-292.06 1584.5,-302.06 1591.5,-302.06\"/>\n",
       "</g>\n",
       "<!-- 24 -->\n",
       "<g id=\"node25\" class=\"node\">\n",
       "<title>24</title>\n",
       "<path fill=\"#95cbf1\" stroke=\"black\" d=\"M2183.15,-292C2183.15,-292 2018.84,-292 2018.84,-292 2012.84,-292 2006.84,-286 2006.84,-280 2006.84,-280 2006.84,-226 2006.84,-226 2006.84,-220 2012.84,-214 2018.84,-214 2018.84,-214 2183.15,-214 2183.15,-214 2189.15,-214 2195.15,-220 2195.15,-226 2195.15,-226 2195.15,-280 2195.15,-280 2195.15,-286 2189.15,-292 2183.15,-292\"/>\n",
       "<text text-anchor=\"start\" x=\"2014.67\" y=\"-276.8\" font-family=\"Helvetica,sans-Serif\" font-size=\"14.00\">num_services_utilized ≤ 3.5</text>\n",
       "<text text-anchor=\"start\" x=\"2064.61\" y=\"-262.8\" font-family=\"Helvetica,sans-Serif\" font-size=\"14.00\">gini = 0.433</text>\n",
       "<text text-anchor=\"start\" x=\"2051.38\" y=\"-248.8\" font-family=\"Helvetica,sans-Serif\" font-size=\"14.00\">samples = 7966</text>\n",
       "<text text-anchor=\"start\" x=\"2037.36\" y=\"-234.8\" font-family=\"Helvetica,sans-Serif\" font-size=\"14.00\">value = [2530, 5436]</text>\n",
       "<text text-anchor=\"start\" x=\"2032.32\" y=\"-220.8\" font-family=\"Helvetica,sans-Serif\" font-size=\"14.00\">class = not readmitted</text>\n",
       "</g>\n",
       "<!-- 16&#45;&gt;24 -->\n",
       "<g id=\"edge24\" class=\"edge\">\n",
       "<title>16&#45;&gt;24</title>\n",
       "<path fill=\"none\" stroke=\"black\" d=\"M1682.39,-345.39C1771.46,-325.95 1904.71,-296.85 1996.84,-276.74\"/>\n",
       "<polygon fill=\"black\" stroke=\"black\" points=\"1997.72,-280.13 2006.75,-274.58 1996.23,-273.29 1997.72,-280.13\"/>\n",
       "</g>\n",
       "<!-- 18 -->\n",
       "<g id=\"node19\" class=\"node\">\n",
       "<title>18</title>\n",
       "<path fill=\"#fbeadd\" stroke=\"black\" d=\"M1567.15,-178C1567.15,-178 1402.84,-178 1402.84,-178 1396.84,-178 1390.84,-172 1390.84,-166 1390.84,-166 1390.84,-112 1390.84,-112 1390.84,-106 1396.84,-100 1402.84,-100 1402.84,-100 1567.15,-100 1567.15,-100 1573.15,-100 1579.15,-106 1579.15,-112 1579.15,-112 1579.15,-166 1579.15,-166 1579.15,-172 1573.15,-178 1567.15,-178\"/>\n",
       "<text text-anchor=\"start\" x=\"1398.67\" y=\"-162.8\" font-family=\"Helvetica,sans-Serif\" font-size=\"14.00\">num_services_utilized ≤ 1.5</text>\n",
       "<text text-anchor=\"start\" x=\"1448.61\" y=\"-148.8\" font-family=\"Helvetica,sans-Serif\" font-size=\"14.00\">gini = 0.496</text>\n",
       "<text text-anchor=\"start\" x=\"1435.38\" y=\"-134.8\" font-family=\"Helvetica,sans-Serif\" font-size=\"14.00\">samples = 2622</text>\n",
       "<text text-anchor=\"start\" x=\"1421.88\" y=\"-120.8\" font-family=\"Helvetica,sans-Serif\" font-size=\"14.00\">value = [1433, 1189]</text>\n",
       "<text text-anchor=\"start\" x=\"1428\" y=\"-106.8\" font-family=\"Helvetica,sans-Serif\" font-size=\"14.00\">class = readmitted</text>\n",
       "</g>\n",
       "<!-- 17&#45;&gt;18 -->\n",
       "<g id=\"edge18\" class=\"edge\">\n",
       "<title>17&#45;&gt;18</title>\n",
       "<path fill=\"none\" stroke=\"black\" d=\"M1552.84,-213.77C1544.47,-204.67 1535.46,-194.87 1526.82,-185.48\"/>\n",
       "<polygon fill=\"black\" stroke=\"black\" points=\"1529.34,-183.05 1520,-178.06 1524.19,-187.79 1529.34,-183.05\"/>\n",
       "</g>\n",
       "<!-- 21 -->\n",
       "<g id=\"node22\" class=\"node\">\n",
       "<title>21</title>\n",
       "<path fill=\"#d3e9f9\" stroke=\"black\" d=\"M1774.15,-178C1774.15,-178 1609.84,-178 1609.84,-178 1603.84,-178 1597.84,-172 1597.84,-166 1597.84,-166 1597.84,-112 1597.84,-112 1597.84,-106 1603.84,-100 1609.84,-100 1609.84,-100 1774.15,-100 1774.15,-100 1780.15,-100 1786.15,-106 1786.15,-112 1786.15,-112 1786.15,-166 1786.15,-166 1786.15,-172 1780.15,-178 1774.15,-178\"/>\n",
       "<text text-anchor=\"start\" x=\"1605.67\" y=\"-162.8\" font-family=\"Helvetica,sans-Serif\" font-size=\"14.00\">num_services_utilized ≤ 1.5</text>\n",
       "<text text-anchor=\"start\" x=\"1655.61\" y=\"-148.8\" font-family=\"Helvetica,sans-Serif\" font-size=\"14.00\">gini = 0.492</text>\n",
       "<text text-anchor=\"start\" x=\"1638.49\" y=\"-134.8\" font-family=\"Helvetica,sans-Serif\" font-size=\"14.00\">samples = 14229</text>\n",
       "<text text-anchor=\"start\" x=\"1628.36\" y=\"-120.8\" font-family=\"Helvetica,sans-Serif\" font-size=\"14.00\">value = [6230, 7999]</text>\n",
       "<text text-anchor=\"start\" x=\"1623.32\" y=\"-106.8\" font-family=\"Helvetica,sans-Serif\" font-size=\"14.00\">class = not readmitted</text>\n",
       "</g>\n",
       "<!-- 17&#45;&gt;21 -->\n",
       "<g id=\"edge21\" class=\"edge\">\n",
       "<title>17&#45;&gt;21</title>\n",
       "<path fill=\"none\" stroke=\"black\" d=\"M1623.5,-213.77C1631.95,-204.67 1641.05,-194.87 1649.77,-185.48\"/>\n",
       "<polygon fill=\"black\" stroke=\"black\" points=\"1652.42,-187.77 1656.66,-178.06 1647.29,-183 1652.42,-187.77\"/>\n",
       "</g>\n",
       "<!-- 19 -->\n",
       "<g id=\"node20\" class=\"node\">\n",
       "<title>19</title>\n",
       "<path fill=\"#f8dfcd\" stroke=\"black\" d=\"M1396.98,-64C1396.98,-64 1285.01,-64 1285.01,-64 1279.01,-64 1273.01,-58 1273.01,-52 1273.01,-52 1273.01,-12 1273.01,-12 1273.01,-6 1279.01,0 1285.01,0 1285.01,0 1396.98,0 1396.98,0 1402.98,0 1408.98,-6 1408.98,-12 1408.98,-12 1408.98,-52 1408.98,-52 1408.98,-58 1402.98,-64 1396.98,-64\"/>\n",
       "<text text-anchor=\"start\" x=\"1304.61\" y=\"-48.8\" font-family=\"Helvetica,sans-Serif\" font-size=\"14.00\">gini = 0.489</text>\n",
       "<text text-anchor=\"start\" x=\"1291.38\" y=\"-34.8\" font-family=\"Helvetica,sans-Serif\" font-size=\"14.00\">samples = 1853</text>\n",
       "<text text-anchor=\"start\" x=\"1281.26\" y=\"-20.8\" font-family=\"Helvetica,sans-Serif\" font-size=\"14.00\">value = [1061, 792]</text>\n",
       "<text text-anchor=\"start\" x=\"1284\" y=\"-6.8\" font-family=\"Helvetica,sans-Serif\" font-size=\"14.00\">class = readmitted</text>\n",
       "</g>\n",
       "<!-- 18&#45;&gt;19 -->\n",
       "<g id=\"edge19\" class=\"edge\">\n",
       "<title>18&#45;&gt;19</title>\n",
       "<path fill=\"none\" stroke=\"black\" d=\"M1432.6,-99.8C1419.28,-90.08 1405,-79.67 1391.76,-70.01\"/>\n",
       "<polygon fill=\"black\" stroke=\"black\" points=\"1393.82,-67.18 1383.67,-64.12 1389.69,-72.84 1393.82,-67.18\"/>\n",
       "</g>\n",
       "<!-- 20 -->\n",
       "<g id=\"node21\" class=\"node\">\n",
       "<title>20</title>\n",
       "<path fill=\"#f3f9fd\" stroke=\"black\" d=\"M1567.85,-64C1567.85,-64 1438.15,-64 1438.15,-64 1432.15,-64 1426.15,-58 1426.15,-52 1426.15,-52 1426.15,-12 1426.15,-12 1426.15,-6 1432.15,0 1438.15,0 1438.15,0 1567.85,0 1567.85,0 1573.85,0 1579.85,-6 1579.85,-12 1579.85,-12 1579.85,-52 1579.85,-52 1579.85,-58 1573.85,-64 1567.85,-64\"/>\n",
       "<text text-anchor=\"start\" x=\"1466.61\" y=\"-48.8\" font-family=\"Helvetica,sans-Serif\" font-size=\"14.00\">gini = 0.499</text>\n",
       "<text text-anchor=\"start\" x=\"1457.28\" y=\"-34.8\" font-family=\"Helvetica,sans-Serif\" font-size=\"14.00\">samples = 769</text>\n",
       "<text text-anchor=\"start\" x=\"1447.15\" y=\"-20.8\" font-family=\"Helvetica,sans-Serif\" font-size=\"14.00\">value = [372, 397]</text>\n",
       "<text text-anchor=\"start\" x=\"1434.32\" y=\"-6.8\" font-family=\"Helvetica,sans-Serif\" font-size=\"14.00\">class = not readmitted</text>\n",
       "</g>\n",
       "<!-- 18&#45;&gt;20 -->\n",
       "<g id=\"edge20\" class=\"edge\">\n",
       "<title>18&#45;&gt;20</title>\n",
       "<path fill=\"none\" stroke=\"black\" d=\"M1491.55,-99.8C1492.98,-91.46 1494.5,-82.6 1495.94,-74.15\"/>\n",
       "<polygon fill=\"black\" stroke=\"black\" points=\"1499.42,-74.56 1497.66,-64.12 1492.52,-73.38 1499.42,-74.56\"/>\n",
       "</g>\n",
       "<!-- 22 -->\n",
       "<g id=\"node23\" class=\"node\">\n",
       "<title>22</title>\n",
       "<path fill=\"#e3f1fb\" stroke=\"black\" d=\"M1738.85,-64C1738.85,-64 1609.15,-64 1609.15,-64 1603.15,-64 1597.15,-58 1597.15,-52 1597.15,-52 1597.15,-12 1597.15,-12 1597.15,-6 1603.15,0 1609.15,0 1609.15,0 1738.85,0 1738.85,0 1744.85,0 1750.85,-6 1750.85,-12 1750.85,-12 1750.85,-52 1750.85,-52 1750.85,-58 1744.85,-64 1738.85,-64\"/>\n",
       "<text text-anchor=\"start\" x=\"1637.61\" y=\"-48.8\" font-family=\"Helvetica,sans-Serif\" font-size=\"14.00\">gini = 0.497</text>\n",
       "<text text-anchor=\"start\" x=\"1624.38\" y=\"-34.8\" font-family=\"Helvetica,sans-Serif\" font-size=\"14.00\">samples = 9329</text>\n",
       "<text text-anchor=\"start\" x=\"1610.36\" y=\"-20.8\" font-family=\"Helvetica,sans-Serif\" font-size=\"14.00\">value = [4313, 5016]</text>\n",
       "<text text-anchor=\"start\" x=\"1605.32\" y=\"-6.8\" font-family=\"Helvetica,sans-Serif\" font-size=\"14.00\">class = not readmitted</text>\n",
       "</g>\n",
       "<!-- 21&#45;&gt;22 -->\n",
       "<g id=\"edge22\" class=\"edge\">\n",
       "<title>21&#45;&gt;22</title>\n",
       "<path fill=\"none\" stroke=\"black\" d=\"M1685.45,-99.8C1684.02,-91.46 1682.5,-82.6 1681.05,-74.15\"/>\n",
       "<polygon fill=\"black\" stroke=\"black\" points=\"1684.47,-73.38 1679.33,-64.12 1677.57,-74.56 1684.47,-73.38\"/>\n",
       "</g>\n",
       "<!-- 23 -->\n",
       "<g id=\"node24\" class=\"node\">\n",
       "<title>23</title>\n",
       "<path fill=\"#b8dcf6\" stroke=\"black\" d=\"M1909.85,-64C1909.85,-64 1780.15,-64 1780.15,-64 1774.15,-64 1768.15,-58 1768.15,-52 1768.15,-52 1768.15,-12 1768.15,-12 1768.15,-6 1774.15,0 1780.15,0 1780.15,0 1909.85,0 1909.85,0 1915.85,0 1921.85,-6 1921.85,-12 1921.85,-12 1921.85,-52 1921.85,-52 1921.85,-58 1915.85,-64 1909.85,-64\"/>\n",
       "<text text-anchor=\"start\" x=\"1808.61\" y=\"-48.8\" font-family=\"Helvetica,sans-Serif\" font-size=\"14.00\">gini = 0.476</text>\n",
       "<text text-anchor=\"start\" x=\"1795.38\" y=\"-34.8\" font-family=\"Helvetica,sans-Serif\" font-size=\"14.00\">samples = 4900</text>\n",
       "<text text-anchor=\"start\" x=\"1781.36\" y=\"-20.8\" font-family=\"Helvetica,sans-Serif\" font-size=\"14.00\">value = [1917, 2983]</text>\n",
       "<text text-anchor=\"start\" x=\"1776.32\" y=\"-6.8\" font-family=\"Helvetica,sans-Serif\" font-size=\"14.00\">class = not readmitted</text>\n",
       "</g>\n",
       "<!-- 21&#45;&gt;23 -->\n",
       "<g id=\"edge23\" class=\"edge\">\n",
       "<title>21&#45;&gt;23</title>\n",
       "<path fill=\"none\" stroke=\"black\" d=\"M1747.67,-99.8C1761.82,-90.08 1777,-79.67 1791.06,-70.01\"/>\n",
       "<polygon fill=\"black\" stroke=\"black\" points=\"1793.39,-72.66 1799.66,-64.12 1789.43,-66.89 1793.39,-72.66\"/>\n",
       "</g>\n",
       "<!-- 25 -->\n",
       "<g id=\"node26\" class=\"node\">\n",
       "<title>25</title>\n",
       "<path fill=\"#aad5f4\" stroke=\"black\" d=\"M2165.85,-178C2165.85,-178 2036.15,-178 2036.15,-178 2030.15,-178 2024.15,-172 2024.15,-166 2024.15,-166 2024.15,-112 2024.15,-112 2024.15,-106 2030.15,-100 2036.15,-100 2036.15,-100 2165.85,-100 2165.85,-100 2171.85,-100 2177.85,-106 2177.85,-112 2177.85,-112 2177.85,-166 2177.85,-166 2177.85,-172 2171.85,-178 2165.85,-178\"/>\n",
       "<text text-anchor=\"start\" x=\"2047.35\" y=\"-162.8\" font-family=\"Helvetica,sans-Serif\" font-size=\"14.00\">num_tests ≤ 41.5</text>\n",
       "<text text-anchor=\"start\" x=\"2064.61\" y=\"-148.8\" font-family=\"Helvetica,sans-Serif\" font-size=\"14.00\">gini = 0.463</text>\n",
       "<text text-anchor=\"start\" x=\"2051.38\" y=\"-134.8\" font-family=\"Helvetica,sans-Serif\" font-size=\"14.00\">samples = 3288</text>\n",
       "<text text-anchor=\"start\" x=\"2037.88\" y=\"-120.8\" font-family=\"Helvetica,sans-Serif\" font-size=\"14.00\">value = [1195, 2093]</text>\n",
       "<text text-anchor=\"start\" x=\"2032.32\" y=\"-106.8\" font-family=\"Helvetica,sans-Serif\" font-size=\"14.00\">class = not readmitted</text>\n",
       "</g>\n",
       "<!-- 24&#45;&gt;25 -->\n",
       "<g id=\"edge25\" class=\"edge\">\n",
       "<title>24&#45;&gt;25</title>\n",
       "<path fill=\"none\" stroke=\"black\" d=\"M2101,-213.77C2101,-205.57 2101,-196.8 2101,-188.28\"/>\n",
       "<polygon fill=\"black\" stroke=\"black\" points=\"2104.5,-188.06 2101,-178.06 2097.5,-188.06 2104.5,-188.06\"/>\n",
       "</g>\n",
       "<!-- 28 -->\n",
       "<g id=\"node29\" class=\"node\">\n",
       "<title>28</title>\n",
       "<path fill=\"#88c4ef\" stroke=\"black\" d=\"M2422.85,-178C2422.85,-178 2293.15,-178 2293.15,-178 2287.15,-178 2281.15,-172 2281.15,-166 2281.15,-166 2281.15,-112 2281.15,-112 2281.15,-106 2287.15,-100 2293.15,-100 2293.15,-100 2422.85,-100 2422.85,-100 2428.85,-100 2434.85,-106 2434.85,-112 2434.85,-112 2434.85,-166 2434.85,-166 2434.85,-172 2428.85,-178 2422.85,-178\"/>\n",
       "<text text-anchor=\"start\" x=\"2306.28\" y=\"-162.8\" font-family=\"Helvetica,sans-Serif\" font-size=\"14.00\">diag_1_cat ≤ 9.5</text>\n",
       "<text text-anchor=\"start\" x=\"2321.61\" y=\"-148.8\" font-family=\"Helvetica,sans-Serif\" font-size=\"14.00\">gini = 0.408</text>\n",
       "<text text-anchor=\"start\" x=\"2308.38\" y=\"-134.8\" font-family=\"Helvetica,sans-Serif\" font-size=\"14.00\">samples = 4678</text>\n",
       "<text text-anchor=\"start\" x=\"2294.36\" y=\"-120.8\" font-family=\"Helvetica,sans-Serif\" font-size=\"14.00\">value = [1335, 3343]</text>\n",
       "<text text-anchor=\"start\" x=\"2289.32\" y=\"-106.8\" font-family=\"Helvetica,sans-Serif\" font-size=\"14.00\">class = not readmitted</text>\n",
       "</g>\n",
       "<!-- 24&#45;&gt;28 -->\n",
       "<g id=\"edge28\" class=\"edge\">\n",
       "<title>24&#45;&gt;28</title>\n",
       "<path fill=\"none\" stroke=\"black\" d=\"M2188.37,-213.93C2215.31,-202.18 2244.95,-189.26 2271.82,-177.56\"/>\n",
       "<polygon fill=\"black\" stroke=\"black\" points=\"2273.43,-180.67 2281.19,-173.47 2270.63,-174.26 2273.43,-180.67\"/>\n",
       "</g>\n",
       "<!-- 26 -->\n",
       "<g id=\"node27\" class=\"node\">\n",
       "<title>26</title>\n",
       "<path fill=\"#bbddf6\" stroke=\"black\" d=\"M2080.85,-64C2080.85,-64 1951.15,-64 1951.15,-64 1945.15,-64 1939.15,-58 1939.15,-52 1939.15,-52 1939.15,-12 1939.15,-12 1939.15,-6 1945.15,0 1951.15,0 1951.15,0 2080.85,0 2080.85,0 2086.85,0 2092.85,-6 2092.85,-12 2092.85,-12 2092.85,-52 2092.85,-52 2092.85,-58 2086.85,-64 2080.85,-64\"/>\n",
       "<text text-anchor=\"start\" x=\"1979.61\" y=\"-48.8\" font-family=\"Helvetica,sans-Serif\" font-size=\"14.00\">gini = 0.478</text>\n",
       "<text text-anchor=\"start\" x=\"1966.38\" y=\"-34.8\" font-family=\"Helvetica,sans-Serif\" font-size=\"14.00\">samples = 1206</text>\n",
       "<text text-anchor=\"start\" x=\"1960.15\" y=\"-20.8\" font-family=\"Helvetica,sans-Serif\" font-size=\"14.00\">value = [477, 729]</text>\n",
       "<text text-anchor=\"start\" x=\"1947.32\" y=\"-6.8\" font-family=\"Helvetica,sans-Serif\" font-size=\"14.00\">class = not readmitted</text>\n",
       "</g>\n",
       "<!-- 25&#45;&gt;26 -->\n",
       "<g id=\"edge26\" class=\"edge\">\n",
       "<title>25&#45;&gt;26</title>\n",
       "<path fill=\"none\" stroke=\"black\" d=\"M2070.07,-99.8C2062.73,-90.73 2054.89,-81.04 2047.52,-71.94\"/>\n",
       "<polygon fill=\"black\" stroke=\"black\" points=\"2050.2,-69.69 2041.19,-64.12 2044.76,-74.09 2050.2,-69.69\"/>\n",
       "</g>\n",
       "<!-- 27 -->\n",
       "<g id=\"node28\" class=\"node\">\n",
       "<title>27</title>\n",
       "<path fill=\"#a1d1f3\" stroke=\"black\" d=\"M2251.85,-64C2251.85,-64 2122.15,-64 2122.15,-64 2116.15,-64 2110.15,-58 2110.15,-52 2110.15,-52 2110.15,-12 2110.15,-12 2110.15,-6 2116.15,0 2122.15,0 2122.15,0 2251.85,0 2251.85,0 2257.85,0 2263.85,-6 2263.85,-12 2263.85,-12 2263.85,-52 2263.85,-52 2263.85,-58 2257.85,-64 2251.85,-64\"/>\n",
       "<text text-anchor=\"start\" x=\"2150.61\" y=\"-48.8\" font-family=\"Helvetica,sans-Serif\" font-size=\"14.00\">gini = 0.452</text>\n",
       "<text text-anchor=\"start\" x=\"2137.38\" y=\"-34.8\" font-family=\"Helvetica,sans-Serif\" font-size=\"14.00\">samples = 2082</text>\n",
       "<text text-anchor=\"start\" x=\"2127.26\" y=\"-20.8\" font-family=\"Helvetica,sans-Serif\" font-size=\"14.00\">value = [718, 1364]</text>\n",
       "<text text-anchor=\"start\" x=\"2118.32\" y=\"-6.8\" font-family=\"Helvetica,sans-Serif\" font-size=\"14.00\">class = not readmitted</text>\n",
       "</g>\n",
       "<!-- 25&#45;&gt;27 -->\n",
       "<g id=\"edge27\" class=\"edge\">\n",
       "<title>25&#45;&gt;27</title>\n",
       "<path fill=\"none\" stroke=\"black\" d=\"M2132.29,-99.8C2139.72,-90.73 2147.65,-81.04 2155.11,-71.94\"/>\n",
       "<polygon fill=\"black\" stroke=\"black\" points=\"2157.88,-74.07 2161.51,-64.12 2152.47,-69.64 2157.88,-74.07\"/>\n",
       "</g>\n",
       "<!-- 29 -->\n",
       "<g id=\"node30\" class=\"node\">\n",
       "<title>29</title>\n",
       "<path fill=\"#82c1ef\" stroke=\"black\" d=\"M2422.85,-64C2422.85,-64 2293.15,-64 2293.15,-64 2287.15,-64 2281.15,-58 2281.15,-52 2281.15,-52 2281.15,-12 2281.15,-12 2281.15,-6 2287.15,0 2293.15,0 2293.15,0 2422.85,0 2422.85,0 2428.85,0 2434.85,-6 2434.85,-12 2434.85,-12 2434.85,-52 2434.85,-52 2434.85,-58 2428.85,-64 2422.85,-64\"/>\n",
       "<text text-anchor=\"start\" x=\"2321.61\" y=\"-48.8\" font-family=\"Helvetica,sans-Serif\" font-size=\"14.00\">gini = 0.394</text>\n",
       "<text text-anchor=\"start\" x=\"2308.38\" y=\"-34.8\" font-family=\"Helvetica,sans-Serif\" font-size=\"14.00\">samples = 3573</text>\n",
       "<text text-anchor=\"start\" x=\"2298.26\" y=\"-20.8\" font-family=\"Helvetica,sans-Serif\" font-size=\"14.00\">value = [963, 2610]</text>\n",
       "<text text-anchor=\"start\" x=\"2289.32\" y=\"-6.8\" font-family=\"Helvetica,sans-Serif\" font-size=\"14.00\">class = not readmitted</text>\n",
       "</g>\n",
       "<!-- 28&#45;&gt;29 -->\n",
       "<g id=\"edge29\" class=\"edge\">\n",
       "<title>28&#45;&gt;29</title>\n",
       "<path fill=\"none\" stroke=\"black\" d=\"M2358,-99.8C2358,-91.46 2358,-82.6 2358,-74.15\"/>\n",
       "<polygon fill=\"black\" stroke=\"black\" points=\"2361.5,-74.12 2358,-64.12 2354.5,-74.12 2361.5,-74.12\"/>\n",
       "</g>\n",
       "<!-- 30 -->\n",
       "<g id=\"node31\" class=\"node\">\n",
       "<title>30</title>\n",
       "<path fill=\"#9dcff2\" stroke=\"black\" d=\"M2593.85,-64C2593.85,-64 2464.15,-64 2464.15,-64 2458.15,-64 2452.15,-58 2452.15,-52 2452.15,-52 2452.15,-12 2452.15,-12 2452.15,-6 2458.15,0 2464.15,0 2464.15,0 2593.85,0 2593.85,0 2599.85,0 2605.85,-6 2605.85,-12 2605.85,-12 2605.85,-52 2605.85,-52 2605.85,-58 2599.85,-64 2593.85,-64\"/>\n",
       "<text text-anchor=\"start\" x=\"2492.61\" y=\"-48.8\" font-family=\"Helvetica,sans-Serif\" font-size=\"14.00\">gini = 0.447</text>\n",
       "<text text-anchor=\"start\" x=\"2479.9\" y=\"-34.8\" font-family=\"Helvetica,sans-Serif\" font-size=\"14.00\">samples = 1105</text>\n",
       "<text text-anchor=\"start\" x=\"2473.15\" y=\"-20.8\" font-family=\"Helvetica,sans-Serif\" font-size=\"14.00\">value = [372, 733]</text>\n",
       "<text text-anchor=\"start\" x=\"2460.32\" y=\"-6.8\" font-family=\"Helvetica,sans-Serif\" font-size=\"14.00\">class = not readmitted</text>\n",
       "</g>\n",
       "<!-- 28&#45;&gt;30 -->\n",
       "<g id=\"edge30\" class=\"edge\">\n",
       "<title>28&#45;&gt;30</title>\n",
       "<path fill=\"none\" stroke=\"black\" d=\"M2420.22,-99.8C2436.33,-89.9 2453.64,-79.27 2469.61,-69.47\"/>\n",
       "<polygon fill=\"black\" stroke=\"black\" points=\"2471.63,-72.33 2478.32,-64.12 2467.97,-66.37 2471.63,-72.33\"/>\n",
       "</g>\n",
       "</g>\n",
       "</svg>\n"
      ],
      "text/plain": [
       "<graphviz.files.Source at 0x7f86d87ee610>"
      ]
     },
     "execution_count": 104,
     "metadata": {},
     "output_type": "execute_result"
    }
   ],
   "source": [
    "dot_data = tree.export_graphviz(clf_preprune, out_file=None, \n",
    "                                feature_names=X_train.columns.tolist(),  \n",
    "                                class_names=['readmitted','not readmitted'],  \n",
    "                                filled=True, rounded=True,  \n",
    "                                special_characters=True)  \n",
    "\n",
    "graph = graphviz.Source(dot_data)  \n",
    "graph"
   ]
  },
  {
   "cell_type": "markdown",
   "id": "northern-router",
   "metadata": {},
   "source": [
    "---"
   ]
  },
  {
   "cell_type": "markdown",
   "id": "convenient-brain",
   "metadata": {},
   "source": [
    "<a id='post_prune'></a>\n",
    "## Post-pruning\n",
    "\n",
    "Setting different parameter constraints such as what the pre-pruning technique did is one way to avoid overfitting. However, another way to avoid overfitting is by using [cost complexity pruning, or also known as the weaklest link pruning](https://scikit-learn.org/stable/auto_examples/tree/plot_cost_complexity_pruning.html). The gist of this technique is that it is used to control the size of the tree by finding the right parameter for alpha (which is the cost complexity parameter). Alpha is then used to calculate the [tree score](https://www.youtube.com/watch?v=D0efHEJsfHo) for each pruned tree by taking into account the sum of squared residuals (SSR) and the number of leaves of each tree (which corresponds to each alpha):\n",
    "\n",
    "> **tree score = SSR + (alpha * total number of leaves)**\n",
    "\n",
    "Different alphas and their corresponding trees (with different SSRs and number of leaves) give various tree scores, in which case the tree with the lowest tree score is chosen."
   ]
  },
  {
   "cell_type": "code",
   "execution_count": 161,
   "id": "copyrighted-renewal",
   "metadata": {
    "tags": [
     "remove_input"
    ]
   },
   "outputs": [
    {
     "name": "stdout",
     "output_type": "stream",
     "text": [
      "\n",
      "\n"
     ]
    }
   ],
   "source": [
    "print('\\n')"
   ]
  },
  {
   "cell_type": "markdown",
   "id": "hawaiian-civilian",
   "metadata": {},
   "source": [
    "**Implement cost complexity pruning**\n",
    "\n",
    "`cost_complexity_pruning_path` returns a sequence of effective alphas that is later used to determine the most appropriate alpha (ccp_alpha).\n",
    "\n",
    "In the plot below, we see that the higher the alpha, the higher the impurity of leaves, implying a more pruned tree (a tree with a lower number of nodes). "
   ]
  },
  {
   "cell_type": "code",
   "execution_count": 105,
   "id": "checked-gasoline",
   "metadata": {},
   "outputs": [
    {
     "data": {
      "image/png": "[encoded data removed]",
      "text/plain": [
       "<Figure size 432x288 with 1 Axes>"
      ]
     },
     "metadata": {
      "needs_background": "light"
     },
     "output_type": "display_data"
    }
   ],
   "source": [
    "# calculate alphas\n",
    "clf = tree.DecisionTreeClassifier()\n",
    "path = clf.cost_complexity_pruning_path(X_train, y_train)\n",
    "ccp_alphas, impurities = path.ccp_alphas, path.impurities\n",
    "\n",
    "# plot relationship between alphas and impurity of leaves\n",
    "fig, ax = plt.subplots()\n",
    "ax.plot(ccp_alphas[:-1], impurities[:-1], marker='o', drawstyle=\"steps-post\")\n",
    "ax.set_xlabel(\"Effective alpha\")\n",
    "ax.set_ylabel(\"Total impurity of leaves\")\n",
    "ax.set_title(\"Total Impurity vs effective alpha for training set\");"
   ]
  },
  {
   "cell_type": "code",
   "execution_count": 162,
   "id": "hungarian-english",
   "metadata": {
    "tags": [
     "remove_input"
    ]
   },
   "outputs": [
    {
     "name": "stdout",
     "output_type": "stream",
     "text": [
      "\n",
      "\n"
     ]
    }
   ],
   "source": [
    "print('\\n')"
   ]
  },
  {
   "cell_type": "markdown",
   "id": "emotional-malta",
   "metadata": {},
   "source": [
    "Next, we create multiple pruned trees using all effective alphas produced before, so that we can eventually pick an alpha that [maximises testing accuracy](https://medium.com/swlh/post-pruning-decision-trees-using-python-b5d4bcda8e23) without compromising much of the training accuracy."
   ]
  },
  {
   "cell_type": "code",
   "execution_count": 106,
   "id": "dried-saturn",
   "metadata": {
    "tags": [
     "remove_output"
    ]
   },
   "outputs": [
    {
     "name": "stderr",
     "output_type": "stream",
     "text": [
      "100%|██████████| 7219/7219 [1:11:03<00:00,  1.69it/s]\n"
     ]
    }
   ],
   "source": [
    "# train models for each alpha\n",
    "clfs = []\n",
    "\n",
    "for i in tqdm(ccp_alphas):\n",
    "    clf_postprune_alpha = tree.DecisionTreeClassifier(ccp_alpha=i)\n",
    "    clf_postprune_alpha.fit(X_train, y_train)\n",
    "    clfs.append(clf_postprune_alpha)"
   ]
  },
  {
   "cell_type": "code",
   "execution_count": 163,
   "id": "interstate-glasgow",
   "metadata": {
    "tags": [
     "remove_input"
    ]
   },
   "outputs": [
    {
     "name": "stdout",
     "output_type": "stream",
     "text": [
      "\n",
      "\n"
     ]
    }
   ],
   "source": [
    "print('\\n')"
   ]
  },
  {
   "cell_type": "markdown",
   "id": "above-insulation",
   "metadata": {},
   "source": [
    "We plot how the different alphas influence the number of nodes and depths of the corresponding pruned trees."
   ]
  },
  {
   "cell_type": "code",
   "execution_count": 107,
   "id": "coordinate-night",
   "metadata": {},
   "outputs": [
    {
     "name": "stderr",
     "output_type": "stream",
     "text": [
      "100%|██████████| 7218/7218 [00:00<00:00, 1495996.75it/s]\n"
     ]
    },
    {
     "data": {
      "text/plain": [
       "<matplotlib.legend.Legend at 0x7f86d90f7d30>"
      ]
     },
     "execution_count": 107,
     "metadata": {},
     "output_type": "execute_result"
    },
    {
     "data": {
      "image/png": "[encoded data removed]",
      "text/plain": [
       "<Figure size 432x288 with 1 Axes>"
      ]
     },
     "metadata": {
      "needs_background": "light"
     },
     "output_type": "display_data"
    }
   ],
   "source": [
    "# remove last alpha \n",
    "clfs = clfs[:-1]\n",
    "ccp_alphas = ccp_alphas[:-1]\n",
    "\n",
    "# store node counts and depths\n",
    "node_counts = []\n",
    "depth = []\n",
    "\n",
    "# get node counts and depths of each model/ alpha\n",
    "for clf in tqdm(clfs):\n",
    "    node_counts.append(clf.tree_.node_count)\n",
    "    depth.append(clf.tree_.max_depth)\n",
    "\n",
    "plt.scatter(ccp_alphas, node_counts)\n",
    "plt.scatter(ccp_alphas, depth)\n",
    "plt.plot(ccp_alphas, node_counts, label='no of nodes', drawstyle=\"steps-post\")\n",
    "plt.plot(ccp_alphas, depth, label='depth', drawstyle=\"steps-post\")\n",
    "plt.legend()"
   ]
  },
  {
   "cell_type": "code",
   "execution_count": 164,
   "id": "upper-audience",
   "metadata": {
    "tags": [
     "remove_input"
    ]
   },
   "outputs": [
    {
     "name": "stdout",
     "output_type": "stream",
     "text": [
      "\n",
      "\n"
     ]
    }
   ],
   "source": [
    "print('\\n')"
   ]
  },
  {
   "cell_type": "markdown",
   "id": "desperate-rocket",
   "metadata": {},
   "source": [
    "Let's visualise the training and testing accuracy scores for each pruned tree along with the tree's alpha.\n",
    "\n",
    "Seems like the best alpha to use that gets us the maximal accuracy score for the test set is `0.00015`, although the accuracy score of the training set is also severely compromised, from the preliminary model.\n",
    "\n",
    "That said, this alpha gives us accuracy scores (**62%** and **62%**) that are still very similar to the pre-pruned tree (**62%** and **61%**).\n",
    "\n",
    "In addition, the post-pruned tree has a depth of 5, as opposed to the pre-pruned tree of having a depth of 4. "
   ]
  },
  {
   "cell_type": "code",
   "execution_count": 108,
   "id": "monthly-villa",
   "metadata": {},
   "outputs": [
    {
     "name": "stderr",
     "output_type": "stream",
     "text": [
      "100%|██████████| 7218/7218 [14:54<00:00,  8.07it/s]\n"
     ]
    },
    {
     "data": {
      "text/plain": [
       "<matplotlib.legend.Legend at 0x7f8421487d90>"
      ]
     },
     "execution_count": 108,
     "metadata": {},
     "output_type": "execute_result"
    },
    {
     "data": {
      "image/png": "[encoded data removed]",
      "text/plain": [
       "<Figure size 432x288 with 1 Axes>"
      ]
     },
     "metadata": {
      "needs_background": "light"
     },
     "output_type": "display_data"
    }
   ],
   "source": [
    "# store scores for plotting\n",
    "train_scores = []\n",
    "test_scores = []\n",
    "\n",
    "# for each clf (corresponding to each alpha), get the accuracy score for the training and test data\n",
    "for clf in tqdm(clfs):\n",
    "    train_scores.append(clf.score(X_train, y_train))\n",
    "    test_scores.append(clf.score(X_test, y_test))\n",
    "\n",
    "# plot\n",
    "fig, ax = plt.subplots()\n",
    "ax.set_xlabel('alpha')\n",
    "ax.set_ylim(0.525, 0.66)\n",
    "ax.set_ylabel('accuracy')\n",
    "ax.set_title('Accuracy vs alpha for training and testing sets')\n",
    "ax.plot(ccp_alphas, train_scores, marker='o', label='train', drawstyle='steps-post')\n",
    "ax.plot(ccp_alphas, test_scores, marker='o', label='test', drawstyle='steps-post')\n",
    "ax.legend()"
   ]
  },
  {
   "cell_type": "code",
   "execution_count": 165,
   "id": "laughing-guard",
   "metadata": {
    "tags": [
     "remove_input"
    ]
   },
   "outputs": [
    {
     "name": "stdout",
     "output_type": "stream",
     "text": [
      "\n",
      "\n"
     ]
    }
   ],
   "source": [
    "print('\\n')"
   ]
  },
  {
   "cell_type": "markdown",
   "id": "executive-sleeping",
   "metadata": {},
   "source": [
    "The alpha value of 0.00015 gets us a post-pruned model with the following performance:"
   ]
  },
  {
   "cell_type": "code",
   "execution_count": 166,
   "id": "false-resident",
   "metadata": {
    "tags": [
     "remove_input"
    ]
   },
   "outputs": [
    {
     "name": "stdout",
     "output_type": "stream",
     "text": [
      "\n",
      "\n"
     ]
    }
   ],
   "source": [
    "print('\\n')"
   ]
  },
  {
   "cell_type": "code",
   "execution_count": 109,
   "id": "rough-witness",
   "metadata": {
    "tags": [
     "remove_cell"
    ]
   },
   "outputs": [],
   "source": [
    "# select optimum alpha for the post-pruned tree\n",
    "dtree_postprune_final = tree.DecisionTreeClassifier(ccp_alpha=0.00015)\n",
    "clf_postprune_final = dtree_postprune_final.fit(X_train, y_train)\n",
    "y_train_pred_postprune3 = clf_postprune_final.predict(X_train)\n",
    "y_test_pred_postprune3 = clf_postprune_final.predict(X_test)"
   ]
  },
  {
   "cell_type": "code",
   "execution_count": 111,
   "id": "dental-spank",
   "metadata": {
    "tags": [
     "remove_input"
    ]
   },
   "outputs": [
    {
     "name": "stdout",
     "output_type": "stream",
     "text": [
      "Training Accuracy: 0.6200755531570427\n",
      "Testing Accuracy: 0.6156710377205763\n",
      "\n",
      "\n",
      "Training Precision: 0.6231455708915608\n",
      "Testing Precision: 0.619724375538329\n",
      "\n",
      "\n",
      "Training Recall: 0.7311046022287311\n",
      "Testing Recall: 0.7266208846697637\n"
     ]
    }
   ],
   "source": [
    "print(f\"Training Accuracy: {accuracy_score(y_train, y_train_pred_postprune3)}\")\n",
    "print(f\"Testing Accuracy: {accuracy_score(y_test, y_test_pred_postprune3)}\")\n",
    "print('\\n')\n",
    "print(f\"Training Precision: {precision_score(y_train, y_train_pred_postprune3, pos_label='NO')}\")\n",
    "print(f\"Testing Precision: {precision_score(y_test, y_test_pred_postprune3, pos_label='NO')}\")\n",
    "print('\\n')\n",
    "print(f\"Training Recall: {recall_score(y_train, y_train_pred_postprune3, pos_label='NO')}\")\n",
    "print(f\"Testing Recall: {recall_score(y_test, y_test_pred_postprune3, pos_label='NO')}\")"
   ]
  },
  {
   "cell_type": "code",
   "execution_count": 167,
   "id": "welcome-tennessee",
   "metadata": {
    "tags": [
     "remove_input"
    ]
   },
   "outputs": [
    {
     "name": "stdout",
     "output_type": "stream",
     "text": [
      "\n",
      "\n"
     ]
    }
   ],
   "source": [
    "print('\\n')"
   ]
  },
  {
   "cell_type": "markdown",
   "id": "medium-serial",
   "metadata": {},
   "source": [
    "The post-pruned tree looks like the below:"
   ]
  },
  {
   "cell_type": "code",
   "execution_count": 168,
   "id": "intended-carolina",
   "metadata": {
    "tags": [
     "remove_input"
    ]
   },
   "outputs": [
    {
     "name": "stdout",
     "output_type": "stream",
     "text": [
      "\n",
      "\n"
     ]
    }
   ],
   "source": [
    "print('\\n')"
   ]
  },
  {
   "cell_type": "code",
   "execution_count": 112,
   "id": "satellite-jackson",
   "metadata": {
    "tags": [
     "remove_input"
    ]
   },
   "outputs": [
    {
     "data": {
      "image/svg+xml": [
       "<?xml version=\"1.0\" encoding=\"UTF-8\" standalone=\"no\"?>\n",
       "<!DOCTYPE svg PUBLIC \"-//W3C//DTD SVG 1.1//EN\"\n",
       " \"http://www.w3.org/Graphics/SVG/1.1/DTD/svg11.dtd\">\n",
       "<!-- Generated by graphviz version 2.42.3 (20191010.1750)\n",
       " -->\n",
       "<!-- Title: Tree Pages: 1 -->\n",
       "<svg width=\"2144pt\" height=\"642pt\"\n",
       " viewBox=\"0.00 0.00 2143.67 642.00\" xmlns=\"http://www.w3.org/2000/svg\" xmlns:xlink=\"http://www.w3.org/1999/xlink\">\n",
       "<g id=\"graph0\" class=\"graph\" transform=\"scale(1 1) rotate(0) translate(4 638)\">\n",
       "<title>Tree</title>\n",
       "<polygon fill=\"white\" stroke=\"transparent\" points=\"-4,4 -4,-638 2139.67,-638 2139.67,4 -4,4\"/>\n",
       "<!-- 0 -->\n",
       "<g id=\"node1\" class=\"node\">\n",
       "<title>0</title>\n",
       "<path fill=\"#fcefe6\" stroke=\"black\" d=\"M1357.15,-634C1357.15,-634 1192.84,-634 1192.84,-634 1186.84,-634 1180.84,-628 1180.84,-622 1180.84,-622 1180.84,-568 1180.84,-568 1180.84,-562 1186.84,-556 1192.84,-556 1192.84,-556 1357.15,-556 1357.15,-556 1363.15,-556 1369.15,-562 1369.15,-568 1369.15,-568 1369.15,-622 1369.15,-622 1369.15,-628 1363.15,-634 1357.15,-634\"/>\n",
       "<text text-anchor=\"start\" x=\"1188.67\" y=\"-618.8\" font-family=\"Helvetica,sans-Serif\" font-size=\"14.00\">num_services_utilized ≤ 0.5</text>\n",
       "<text text-anchor=\"start\" x=\"1238.61\" y=\"-604.8\" font-family=\"Helvetica,sans-Serif\" font-size=\"14.00\">gini = 0.498</text>\n",
       "<text text-anchor=\"start\" x=\"1221.49\" y=\"-590.8\" font-family=\"Helvetica,sans-Serif\" font-size=\"14.00\">samples = 55590</text>\n",
       "<text text-anchor=\"start\" x=\"1203.58\" y=\"-576.8\" font-family=\"Helvetica,sans-Serif\" font-size=\"14.00\">value = [29703, 25887]</text>\n",
       "<text text-anchor=\"start\" x=\"1218\" y=\"-562.8\" font-family=\"Helvetica,sans-Serif\" font-size=\"14.00\">class = readmitted</text>\n",
       "</g>\n",
       "<!-- 1 -->\n",
       "<g id=\"node2\" class=\"node\">\n",
       "<title>1</title>\n",
       "<path fill=\"#f4caab\" stroke=\"black\" d=\"M1049,-520C1049,-520 902.99,-520 902.99,-520 896.99,-520 890.99,-514 890.99,-508 890.99,-508 890.99,-454 890.99,-454 890.99,-448 896.99,-442 902.99,-442 902.99,-442 1049,-442 1049,-442 1055,-442 1061,-448 1061,-454 1061,-454 1061,-508 1061,-508 1061,-514 1055,-520 1049,-520\"/>\n",
       "<text text-anchor=\"start\" x=\"898.99\" y=\"-504.8\" font-family=\"Helvetica,sans-Serif\" font-size=\"14.00\">number_diagnoses ≤ 6.5</text>\n",
       "<text text-anchor=\"start\" x=\"939.61\" y=\"-490.8\" font-family=\"Helvetica,sans-Serif\" font-size=\"14.00\">gini = 0.464</text>\n",
       "<text text-anchor=\"start\" x=\"922.49\" y=\"-476.8\" font-family=\"Helvetica,sans-Serif\" font-size=\"14.00\">samples = 30773</text>\n",
       "<text text-anchor=\"start\" x=\"905.09\" y=\"-462.8\" font-family=\"Helvetica,sans-Serif\" font-size=\"14.00\">value = [19510, 11263]</text>\n",
       "<text text-anchor=\"start\" x=\"919\" y=\"-448.8\" font-family=\"Helvetica,sans-Serif\" font-size=\"14.00\">class = readmitted</text>\n",
       "</g>\n",
       "<!-- 0&#45;&gt;1 -->\n",
       "<g id=\"edge1\" class=\"edge\">\n",
       "<title>0&#45;&gt;1</title>\n",
       "<path fill=\"none\" stroke=\"black\" d=\"M1180.8,-558.72C1145.75,-545.59 1105.99,-530.69 1070.88,-517.54\"/>\n",
       "<polygon fill=\"black\" stroke=\"black\" points=\"1071.7,-514.11 1061.1,-513.88 1069.24,-520.66 1071.7,-514.11\"/>\n",
       "<text text-anchor=\"middle\" x=\"1071.46\" y=\"-532.43\" font-family=\"Helvetica,sans-Serif\" font-size=\"14.00\">True</text>\n",
       "</g>\n",
       "<!-- 18 -->\n",
       "<g id=\"node19\" class=\"node\">\n",
       "<title>18</title>\n",
       "<path fill=\"#c3e1f7\" stroke=\"black\" d=\"M1673.15,-520C1673.15,-520 1508.84,-520 1508.84,-520 1502.84,-520 1496.84,-514 1496.84,-508 1496.84,-508 1496.84,-454 1496.84,-454 1496.84,-448 1502.84,-442 1508.84,-442 1508.84,-442 1673.15,-442 1673.15,-442 1679.15,-442 1685.15,-448 1685.15,-454 1685.15,-454 1685.15,-508 1685.15,-508 1685.15,-514 1679.15,-520 1673.15,-520\"/>\n",
       "<text text-anchor=\"start\" x=\"1504.67\" y=\"-504.8\" font-family=\"Helvetica,sans-Serif\" font-size=\"14.00\">num_services_utilized ≤ 2.5</text>\n",
       "<text text-anchor=\"start\" x=\"1554.61\" y=\"-490.8\" font-family=\"Helvetica,sans-Serif\" font-size=\"14.00\">gini = 0.484</text>\n",
       "<text text-anchor=\"start\" x=\"1537.49\" y=\"-476.8\" font-family=\"Helvetica,sans-Serif\" font-size=\"14.00\">samples = 24817</text>\n",
       "<text text-anchor=\"start\" x=\"1519.58\" y=\"-462.8\" font-family=\"Helvetica,sans-Serif\" font-size=\"14.00\">value = [10193, 14624]</text>\n",
       "<text text-anchor=\"start\" x=\"1522.32\" y=\"-448.8\" font-family=\"Helvetica,sans-Serif\" font-size=\"14.00\">class = not readmitted</text>\n",
       "</g>\n",
       "<!-- 0&#45;&gt;18 -->\n",
       "<g id=\"edge18\" class=\"edge\">\n",
       "<title>0&#45;&gt;18</title>\n",
       "<path fill=\"none\" stroke=\"black\" d=\"M1369.38,-560.55C1406.52,-547.39 1449.28,-532.23 1487.28,-518.76\"/>\n",
       "<polygon fill=\"black\" stroke=\"black\" points=\"1488.57,-522.02 1496.83,-515.38 1486.23,-515.42 1488.57,-522.02\"/>\n",
       "<text text-anchor=\"middle\" x=\"1486.07\" y=\"-533.74\" font-family=\"Helvetica,sans-Serif\" font-size=\"14.00\">False</text>\n",
       "</g>\n",
       "<!-- 2 -->\n",
       "<g id=\"node3\" class=\"node\">\n",
       "<title>2</title>\n",
       "<path fill=\"#f0b68c\" stroke=\"black\" d=\"M528.77,-406C528.77,-406 409.23,-406 409.23,-406 403.23,-406 397.23,-400 397.23,-394 397.23,-394 397.23,-340 397.23,-340 397.23,-334 403.23,-328 409.23,-328 409.23,-328 528.77,-328 528.77,-328 534.77,-328 540.77,-334 540.77,-340 540.77,-340 540.77,-394 540.77,-394 540.77,-400 534.77,-406 528.77,-406\"/>\n",
       "<text text-anchor=\"start\" x=\"435.96\" y=\"-390.8\" font-family=\"Helvetica,sans-Serif\" font-size=\"14.00\">age ≤ 70.0</text>\n",
       "<text text-anchor=\"start\" x=\"432.61\" y=\"-376.8\" font-family=\"Helvetica,sans-Serif\" font-size=\"14.00\">gini = 0.417</text>\n",
       "<text text-anchor=\"start\" x=\"415.49\" y=\"-362.8\" font-family=\"Helvetica,sans-Serif\" font-size=\"14.00\">samples = 10664</text>\n",
       "<text text-anchor=\"start\" x=\"405.36\" y=\"-348.8\" font-family=\"Helvetica,sans-Serif\" font-size=\"14.00\">value = [7504, 3160]</text>\n",
       "<text text-anchor=\"start\" x=\"412\" y=\"-334.8\" font-family=\"Helvetica,sans-Serif\" font-size=\"14.00\">class = readmitted</text>\n",
       "</g>\n",
       "<!-- 1&#45;&gt;2 -->\n",
       "<g id=\"edge2\" class=\"edge\">\n",
       "<title>1&#45;&gt;2</title>\n",
       "<path fill=\"none\" stroke=\"black\" d=\"M890.85,-461.19C796.15,-440.27 644.23,-406.71 550.87,-386.09\"/>\n",
       "<polygon fill=\"black\" stroke=\"black\" points=\"551.42,-382.62 540.91,-383.88 549.91,-389.46 551.42,-382.62\"/>\n",
       "</g>\n",
       "<!-- 9 -->\n",
       "<g id=\"node10\" class=\"node\">\n",
       "<title>9</title>\n",
       "<path fill=\"#f7d6bf\" stroke=\"black\" d=\"M1039.56,-406C1039.56,-406 912.44,-406 912.44,-406 906.44,-406 900.44,-400 900.44,-394 900.44,-394 900.44,-340 900.44,-340 900.44,-334 906.44,-328 912.44,-328 912.44,-328 1039.56,-328 1039.56,-328 1045.56,-328 1051.56,-334 1051.56,-340 1051.56,-340 1051.56,-394 1051.56,-394 1051.56,-400 1045.56,-406 1039.56,-406\"/>\n",
       "<text text-anchor=\"start\" x=\"920.39\" y=\"-390.8\" font-family=\"Helvetica,sans-Serif\" font-size=\"14.00\">diag_1_cat ≤ 10.5</text>\n",
       "<text text-anchor=\"start\" x=\"939.61\" y=\"-376.8\" font-family=\"Helvetica,sans-Serif\" font-size=\"14.00\">gini = 0.481</text>\n",
       "<text text-anchor=\"start\" x=\"922.49\" y=\"-362.8\" font-family=\"Helvetica,sans-Serif\" font-size=\"14.00\">samples = 20109</text>\n",
       "<text text-anchor=\"start\" x=\"908.47\" y=\"-348.8\" font-family=\"Helvetica,sans-Serif\" font-size=\"14.00\">value = [12006, 8103]</text>\n",
       "<text text-anchor=\"start\" x=\"919\" y=\"-334.8\" font-family=\"Helvetica,sans-Serif\" font-size=\"14.00\">class = readmitted</text>\n",
       "</g>\n",
       "<!-- 1&#45;&gt;9 -->\n",
       "<g id=\"edge9\" class=\"edge\">\n",
       "<title>1&#45;&gt;9</title>\n",
       "<path fill=\"none\" stroke=\"black\" d=\"M976,-441.77C976,-433.57 976,-424.8 976,-416.28\"/>\n",
       "<polygon fill=\"black\" stroke=\"black\" points=\"979.5,-416.06 976,-406.06 972.5,-416.06 979.5,-416.06\"/>\n",
       "</g>\n",
       "<!-- 3 -->\n",
       "<g id=\"node4\" class=\"node\">\n",
       "<title>3</title>\n",
       "<path fill=\"#efaf82\" stroke=\"black\" d=\"M279.77,-292C279.77,-292 160.23,-292 160.23,-292 154.23,-292 148.23,-286 148.23,-280 148.23,-280 148.23,-226 148.23,-226 148.23,-220 154.23,-214 160.23,-214 160.23,-214 279.77,-214 279.77,-214 285.77,-214 291.77,-220 291.77,-226 291.77,-226 291.77,-280 291.77,-280 291.77,-286 285.77,-292 279.77,-292\"/>\n",
       "<text text-anchor=\"start\" x=\"169.46\" y=\"-276.8\" font-family=\"Helvetica,sans-Serif\" font-size=\"14.00\">insulin_cat ≤ 0.5</text>\n",
       "<text text-anchor=\"start\" x=\"183.61\" y=\"-262.8\" font-family=\"Helvetica,sans-Serif\" font-size=\"14.00\">gini = 0.393</text>\n",
       "<text text-anchor=\"start\" x=\"170.38\" y=\"-248.8\" font-family=\"Helvetica,sans-Serif\" font-size=\"14.00\">samples = 7038</text>\n",
       "<text text-anchor=\"start\" x=\"156.36\" y=\"-234.8\" font-family=\"Helvetica,sans-Serif\" font-size=\"14.00\">value = [5150, 1888]</text>\n",
       "<text text-anchor=\"start\" x=\"163\" y=\"-220.8\" font-family=\"Helvetica,sans-Serif\" font-size=\"14.00\">class = readmitted</text>\n",
       "</g>\n",
       "<!-- 2&#45;&gt;3 -->\n",
       "<g id=\"edge3\" class=\"edge\">\n",
       "<title>2&#45;&gt;3</title>\n",
       "<path fill=\"none\" stroke=\"black\" d=\"M397.31,-333.76C367.36,-320.29 332.41,-304.56 301.5,-290.66\"/>\n",
       "<polygon fill=\"black\" stroke=\"black\" points=\"302.6,-287.32 292.04,-286.41 299.73,-293.7 302.6,-287.32\"/>\n",
       "</g>\n",
       "<!-- 6 -->\n",
       "<g id=\"node7\" class=\"node\">\n",
       "<title>6</title>\n",
       "<path fill=\"#f3c5a4\" stroke=\"black\" d=\"M528.77,-292C528.77,-292 409.23,-292 409.23,-292 403.23,-292 397.23,-286 397.23,-280 397.23,-280 397.23,-226 397.23,-226 397.23,-220 403.23,-214 409.23,-214 409.23,-214 528.77,-214 528.77,-214 534.77,-214 540.77,-220 540.77,-226 540.77,-226 540.77,-280 540.77,-280 540.77,-286 534.77,-292 528.77,-292\"/>\n",
       "<text text-anchor=\"start\" x=\"418.46\" y=\"-276.8\" font-family=\"Helvetica,sans-Serif\" font-size=\"14.00\">insulin_cat ≤ 0.5</text>\n",
       "<text text-anchor=\"start\" x=\"432.61\" y=\"-262.8\" font-family=\"Helvetica,sans-Serif\" font-size=\"14.00\">gini = 0.455</text>\n",
       "<text text-anchor=\"start\" x=\"419.38\" y=\"-248.8\" font-family=\"Helvetica,sans-Serif\" font-size=\"14.00\">samples = 3626</text>\n",
       "<text text-anchor=\"start\" x=\"405.36\" y=\"-234.8\" font-family=\"Helvetica,sans-Serif\" font-size=\"14.00\">value = [2354, 1272]</text>\n",
       "<text text-anchor=\"start\" x=\"412\" y=\"-220.8\" font-family=\"Helvetica,sans-Serif\" font-size=\"14.00\">class = readmitted</text>\n",
       "</g>\n",
       "<!-- 2&#45;&gt;6 -->\n",
       "<g id=\"edge6\" class=\"edge\">\n",
       "<title>2&#45;&gt;6</title>\n",
       "<path fill=\"none\" stroke=\"black\" d=\"M469,-327.77C469,-319.57 469,-310.8 469,-302.28\"/>\n",
       "<polygon fill=\"black\" stroke=\"black\" points=\"472.5,-302.06 469,-292.06 465.5,-302.06 472.5,-302.06\"/>\n",
       "</g>\n",
       "<!-- 4 -->\n",
       "<g id=\"node5\" class=\"node\">\n",
       "<title>4</title>\n",
       "<path fill=\"#f3c5a4\" stroke=\"black\" d=\"M117.99,-171C117.99,-171 12,-171 12,-171 6,-171 0,-165 0,-159 0,-159 0,-119 0,-119 0,-113 6,-107 12,-107 12,-107 117.99,-107 117.99,-107 123.99,-107 129.99,-113 129.99,-119 129.99,-119 129.99,-159 129.99,-159 129.99,-165 123.99,-171 117.99,-171\"/>\n",
       "<text text-anchor=\"start\" x=\"28.61\" y=\"-155.8\" font-family=\"Helvetica,sans-Serif\" font-size=\"14.00\">gini = 0.455</text>\n",
       "<text text-anchor=\"start\" x=\"19.28\" y=\"-141.8\" font-family=\"Helvetica,sans-Serif\" font-size=\"14.00\">samples = 660</text>\n",
       "<text text-anchor=\"start\" x=\"9.15\" y=\"-127.8\" font-family=\"Helvetica,sans-Serif\" font-size=\"14.00\">value = [429, 231]</text>\n",
       "<text text-anchor=\"start\" x=\"8\" y=\"-113.8\" font-family=\"Helvetica,sans-Serif\" font-size=\"14.00\">class = readmitted</text>\n",
       "</g>\n",
       "<!-- 3&#45;&gt;4 -->\n",
       "<g id=\"edge4\" class=\"edge\">\n",
       "<title>3&#45;&gt;4</title>\n",
       "<path fill=\"none\" stroke=\"black\" d=\"M167.09,-213.77C150.66,-201.9 132.58,-188.84 116.27,-177.05\"/>\n",
       "<polygon fill=\"black\" stroke=\"black\" points=\"118.07,-174.03 107.91,-171.01 113.97,-179.7 118.07,-174.03\"/>\n",
       "</g>\n",
       "<!-- 5 -->\n",
       "<g id=\"node6\" class=\"node\">\n",
       "<title>5</title>\n",
       "<path fill=\"#eead7e\" stroke=\"black\" d=\"M279.77,-171C279.77,-171 160.23,-171 160.23,-171 154.23,-171 148.23,-165 148.23,-159 148.23,-159 148.23,-119 148.23,-119 148.23,-113 154.23,-107 160.23,-107 160.23,-107 279.77,-107 279.77,-107 285.77,-107 291.77,-113 291.77,-119 291.77,-119 291.77,-159 291.77,-159 291.77,-165 285.77,-171 279.77,-171\"/>\n",
       "<text text-anchor=\"start\" x=\"183.61\" y=\"-155.8\" font-family=\"Helvetica,sans-Serif\" font-size=\"14.00\">gini = 0.385</text>\n",
       "<text text-anchor=\"start\" x=\"170.38\" y=\"-141.8\" font-family=\"Helvetica,sans-Serif\" font-size=\"14.00\">samples = 6378</text>\n",
       "<text text-anchor=\"start\" x=\"156.36\" y=\"-127.8\" font-family=\"Helvetica,sans-Serif\" font-size=\"14.00\">value = [4721, 1657]</text>\n",
       "<text text-anchor=\"start\" x=\"163\" y=\"-113.8\" font-family=\"Helvetica,sans-Serif\" font-size=\"14.00\">class = readmitted</text>\n",
       "</g>\n",
       "<!-- 3&#45;&gt;5 -->\n",
       "<g id=\"edge5\" class=\"edge\">\n",
       "<title>3&#45;&gt;5</title>\n",
       "<path fill=\"none\" stroke=\"black\" d=\"M220,-213.77C220,-203.31 220,-191.94 220,-181.32\"/>\n",
       "<polygon fill=\"black\" stroke=\"black\" points=\"223.5,-181.01 220,-171.01 216.5,-181.01 223.5,-181.01\"/>\n",
       "</g>\n",
       "<!-- 7 -->\n",
       "<g id=\"node8\" class=\"node\">\n",
       "<title>7</title>\n",
       "<path fill=\"#e7f3fc\" stroke=\"black\" d=\"M450.85,-171C450.85,-171 321.15,-171 321.15,-171 315.15,-171 309.15,-165 309.15,-159 309.15,-159 309.15,-119 309.15,-119 309.15,-113 315.15,-107 321.15,-107 321.15,-107 450.85,-107 450.85,-107 456.85,-107 462.85,-113 462.85,-119 462.85,-119 462.85,-159 462.85,-159 462.85,-165 456.85,-171 450.85,-171\"/>\n",
       "<text text-anchor=\"start\" x=\"349.61\" y=\"-155.8\" font-family=\"Helvetica,sans-Serif\" font-size=\"14.00\">gini = 0.498</text>\n",
       "<text text-anchor=\"start\" x=\"340.28\" y=\"-141.8\" font-family=\"Helvetica,sans-Serif\" font-size=\"14.00\">samples = 218</text>\n",
       "<text text-anchor=\"start\" x=\"330.66\" y=\"-127.8\" font-family=\"Helvetica,sans-Serif\" font-size=\"14.00\">value = [102, 116]</text>\n",
       "<text text-anchor=\"start\" x=\"317.32\" y=\"-113.8\" font-family=\"Helvetica,sans-Serif\" font-size=\"14.00\">class = not readmitted</text>\n",
       "</g>\n",
       "<!-- 6&#45;&gt;7 -->\n",
       "<g id=\"edge7\" class=\"edge\">\n",
       "<title>6&#45;&gt;7</title>\n",
       "<path fill=\"none\" stroke=\"black\" d=\"M440.67,-213.77C432.43,-202.66 423.43,-190.51 415.15,-179.33\"/>\n",
       "<polygon fill=\"black\" stroke=\"black\" points=\"417.74,-176.96 408.98,-171.01 412.12,-181.13 417.74,-176.96\"/>\n",
       "</g>\n",
       "<!-- 8 -->\n",
       "<g id=\"node9\" class=\"node\">\n",
       "<title>8</title>\n",
       "<path fill=\"#f2c29f\" stroke=\"black\" d=\"M611.24,-171C611.24,-171 492.76,-171 492.76,-171 486.76,-171 480.76,-165 480.76,-159 480.76,-159 480.76,-119 480.76,-119 480.76,-113 486.76,-107 492.76,-107 492.76,-107 611.24,-107 611.24,-107 617.24,-107 623.24,-113 623.24,-119 623.24,-119 623.24,-159 623.24,-159 623.24,-165 617.24,-171 611.24,-171\"/>\n",
       "<text text-anchor=\"start\" x=\"515.61\" y=\"-155.8\" font-family=\"Helvetica,sans-Serif\" font-size=\"14.00\">gini = 0.448</text>\n",
       "<text text-anchor=\"start\" x=\"502.38\" y=\"-141.8\" font-family=\"Helvetica,sans-Serif\" font-size=\"14.00\">samples = 3408</text>\n",
       "<text text-anchor=\"start\" x=\"488.88\" y=\"-127.8\" font-family=\"Helvetica,sans-Serif\" font-size=\"14.00\">value = [2252, 1156]</text>\n",
       "<text text-anchor=\"start\" x=\"495\" y=\"-113.8\" font-family=\"Helvetica,sans-Serif\" font-size=\"14.00\">class = readmitted</text>\n",
       "</g>\n",
       "<!-- 6&#45;&gt;8 -->\n",
       "<g id=\"edge8\" class=\"edge\">\n",
       "<title>6&#45;&gt;8</title>\n",
       "<path fill=\"none\" stroke=\"black\" d=\"M497.33,-213.77C505.56,-202.66 514.57,-190.51 522.85,-179.33\"/>\n",
       "<polygon fill=\"black\" stroke=\"black\" points=\"525.88,-181.13 529.02,-171.01 520.25,-176.96 525.88,-181.13\"/>\n",
       "</g>\n",
       "<!-- 10 -->\n",
       "<g id=\"node11\" class=\"node\">\n",
       "<title>10</title>\n",
       "<path fill=\"#f8dcc7\" stroke=\"black\" d=\"M955.77,-292C955.77,-292 836.23,-292 836.23,-292 830.23,-292 824.23,-286 824.23,-280 824.23,-280 824.23,-226 824.23,-226 824.23,-220 830.23,-214 836.23,-214 836.23,-214 955.77,-214 955.77,-214 961.77,-214 967.77,-220 967.77,-226 967.77,-226 967.77,-280 967.77,-280 967.77,-286 961.77,-292 955.77,-292\"/>\n",
       "<text text-anchor=\"start\" x=\"862.96\" y=\"-276.8\" font-family=\"Helvetica,sans-Serif\" font-size=\"14.00\">age ≤ 70.0</text>\n",
       "<text text-anchor=\"start\" x=\"859.61\" y=\"-262.8\" font-family=\"Helvetica,sans-Serif\" font-size=\"14.00\">gini = 0.487</text>\n",
       "<text text-anchor=\"start\" x=\"842.49\" y=\"-248.8\" font-family=\"Helvetica,sans-Serif\" font-size=\"14.00\">samples = 15905</text>\n",
       "<text text-anchor=\"start\" x=\"832.36\" y=\"-234.8\" font-family=\"Helvetica,sans-Serif\" font-size=\"14.00\">value = [9254, 6651]</text>\n",
       "<text text-anchor=\"start\" x=\"839\" y=\"-220.8\" font-family=\"Helvetica,sans-Serif\" font-size=\"14.00\">class = readmitted</text>\n",
       "</g>\n",
       "<!-- 9&#45;&gt;10 -->\n",
       "<g id=\"edge10\" class=\"edge\">\n",
       "<title>9&#45;&gt;10</title>\n",
       "<path fill=\"none\" stroke=\"black\" d=\"M948.69,-327.77C942.38,-318.94 935.61,-309.45 929.08,-300.32\"/>\n",
       "<polygon fill=\"black\" stroke=\"black\" points=\"931.84,-298.16 923.18,-292.06 926.15,-302.23 931.84,-298.16\"/>\n",
       "</g>\n",
       "<!-- 15 -->\n",
       "<g id=\"node16\" class=\"node\">\n",
       "<title>15</title>\n",
       "<path fill=\"#f3c3a1\" stroke=\"black\" d=\"M1116.77,-292C1116.77,-292 997.23,-292 997.23,-292 991.23,-292 985.23,-286 985.23,-280 985.23,-280 985.23,-226 985.23,-226 985.23,-220 991.23,-214 997.23,-214 997.23,-214 1116.77,-214 1116.77,-214 1122.77,-214 1128.77,-220 1128.77,-226 1128.77,-226 1128.77,-280 1128.77,-280 1128.77,-286 1122.77,-292 1116.77,-292\"/>\n",
       "<text text-anchor=\"start\" x=\"1023.96\" y=\"-276.8\" font-family=\"Helvetica,sans-Serif\" font-size=\"14.00\">age ≤ 50.0</text>\n",
       "<text text-anchor=\"start\" x=\"1020.61\" y=\"-262.8\" font-family=\"Helvetica,sans-Serif\" font-size=\"14.00\">gini = 0.452</text>\n",
       "<text text-anchor=\"start\" x=\"1007.38\" y=\"-248.8\" font-family=\"Helvetica,sans-Serif\" font-size=\"14.00\">samples = 4204</text>\n",
       "<text text-anchor=\"start\" x=\"993.36\" y=\"-234.8\" font-family=\"Helvetica,sans-Serif\" font-size=\"14.00\">value = [2752, 1452]</text>\n",
       "<text text-anchor=\"start\" x=\"1000\" y=\"-220.8\" font-family=\"Helvetica,sans-Serif\" font-size=\"14.00\">class = readmitted</text>\n",
       "</g>\n",
       "<!-- 9&#45;&gt;15 -->\n",
       "<g id=\"edge15\" class=\"edge\">\n",
       "<title>9&#45;&gt;15</title>\n",
       "<path fill=\"none\" stroke=\"black\" d=\"M1003.65,-327.77C1010.03,-318.94 1016.89,-309.45 1023.5,-300.32\"/>\n",
       "<polygon fill=\"black\" stroke=\"black\" points=\"1026.45,-302.21 1029.47,-292.06 1020.78,-298.11 1026.45,-302.21\"/>\n",
       "</g>\n",
       "<!-- 11 -->\n",
       "<g id=\"node12\" class=\"node\">\n",
       "<title>11</title>\n",
       "<path fill=\"#f6d3ba\" stroke=\"black\" d=\"M797.43,-178C797.43,-178 652.56,-178 652.56,-178 646.56,-178 640.56,-172 640.56,-166 640.56,-166 640.56,-112 640.56,-112 640.56,-106 646.56,-100 652.56,-100 652.56,-100 797.43,-100 797.43,-100 803.43,-100 809.43,-106 809.43,-112 809.43,-112 809.43,-166 809.43,-166 809.43,-172 803.43,-178 797.43,-178\"/>\n",
       "<text text-anchor=\"start\" x=\"648.78\" y=\"-162.8\" font-family=\"Helvetica,sans-Serif\" font-size=\"14.00\">num_medications ≤ 12.5</text>\n",
       "<text text-anchor=\"start\" x=\"688.61\" y=\"-148.8\" font-family=\"Helvetica,sans-Serif\" font-size=\"14.00\">gini = 0.477</text>\n",
       "<text text-anchor=\"start\" x=\"675.38\" y=\"-134.8\" font-family=\"Helvetica,sans-Serif\" font-size=\"14.00\">samples = 7968</text>\n",
       "<text text-anchor=\"start\" x=\"661.36\" y=\"-120.8\" font-family=\"Helvetica,sans-Serif\" font-size=\"14.00\">value = [4830, 3138]</text>\n",
       "<text text-anchor=\"start\" x=\"668\" y=\"-106.8\" font-family=\"Helvetica,sans-Serif\" font-size=\"14.00\">class = readmitted</text>\n",
       "</g>\n",
       "<!-- 10&#45;&gt;11 -->\n",
       "<g id=\"edge11\" class=\"edge\">\n",
       "<title>10&#45;&gt;11</title>\n",
       "<path fill=\"none\" stroke=\"black\" d=\"M837.63,-213.77C822.91,-204.13 806.99,-193.7 791.89,-183.81\"/>\n",
       "<polygon fill=\"black\" stroke=\"black\" points=\"793.39,-180.61 783.11,-178.06 789.55,-186.47 793.39,-180.61\"/>\n",
       "</g>\n",
       "<!-- 14 -->\n",
       "<g id=\"node15\" class=\"node\">\n",
       "<title>14</title>\n",
       "<path fill=\"#fae5d6\" stroke=\"black\" d=\"M958.77,-171C958.77,-171 839.23,-171 839.23,-171 833.23,-171 827.23,-165 827.23,-159 827.23,-159 827.23,-119 827.23,-119 827.23,-113 833.23,-107 839.23,-107 839.23,-107 958.77,-107 958.77,-107 964.77,-107 970.77,-113 970.77,-119 970.77,-119 970.77,-159 970.77,-159 970.77,-165 964.77,-171 958.77,-171\"/>\n",
       "<text text-anchor=\"start\" x=\"862.61\" y=\"-155.8\" font-family=\"Helvetica,sans-Serif\" font-size=\"14.00\">gini = 0.493</text>\n",
       "<text text-anchor=\"start\" x=\"849.38\" y=\"-141.8\" font-family=\"Helvetica,sans-Serif\" font-size=\"14.00\">samples = 7937</text>\n",
       "<text text-anchor=\"start\" x=\"835.36\" y=\"-127.8\" font-family=\"Helvetica,sans-Serif\" font-size=\"14.00\">value = [4424, 3513]</text>\n",
       "<text text-anchor=\"start\" x=\"842\" y=\"-113.8\" font-family=\"Helvetica,sans-Serif\" font-size=\"14.00\">class = readmitted</text>\n",
       "</g>\n",
       "<!-- 10&#45;&gt;14 -->\n",
       "<g id=\"edge14\" class=\"edge\">\n",
       "<title>10&#45;&gt;14</title>\n",
       "<path fill=\"none\" stroke=\"black\" d=\"M897.02,-213.77C897.3,-203.31 897.61,-191.94 897.89,-181.32\"/>\n",
       "<polygon fill=\"black\" stroke=\"black\" points=\"901.4,-181.1 898.17,-171.01 894.4,-180.91 901.4,-181.1\"/>\n",
       "</g>\n",
       "<!-- 12 -->\n",
       "<g id=\"node13\" class=\"node\">\n",
       "<title>12</title>\n",
       "<path fill=\"#f3c4a2\" stroke=\"black\" d=\"M701.98,-64C701.98,-64 590.01,-64 590.01,-64 584.01,-64 578.01,-58 578.01,-52 578.01,-52 578.01,-12 578.01,-12 578.01,-6 584.01,0 590.01,0 590.01,0 701.98,0 701.98,0 707.98,0 713.98,-6 713.98,-12 713.98,-12 713.98,-52 713.98,-52 713.98,-58 707.98,-64 701.98,-64\"/>\n",
       "<text text-anchor=\"start\" x=\"609.61\" y=\"-48.8\" font-family=\"Helvetica,sans-Serif\" font-size=\"14.00\">gini = 0.452</text>\n",
       "<text text-anchor=\"start\" x=\"596.38\" y=\"-34.8\" font-family=\"Helvetica,sans-Serif\" font-size=\"14.00\">samples = 2464</text>\n",
       "<text text-anchor=\"start\" x=\"586.26\" y=\"-20.8\" font-family=\"Helvetica,sans-Serif\" font-size=\"14.00\">value = [1612, 852]</text>\n",
       "<text text-anchor=\"start\" x=\"589\" y=\"-6.8\" font-family=\"Helvetica,sans-Serif\" font-size=\"14.00\">class = readmitted</text>\n",
       "</g>\n",
       "<!-- 11&#45;&gt;12 -->\n",
       "<g id=\"edge12\" class=\"edge\">\n",
       "<title>11&#45;&gt;12</title>\n",
       "<path fill=\"none\" stroke=\"black\" d=\"M696.25,-99.8C689.5,-90.82 682.29,-81.23 675.5,-72.21\"/>\n",
       "<polygon fill=\"black\" stroke=\"black\" points=\"678.22,-70 669.41,-64.12 672.63,-74.21 678.22,-70\"/>\n",
       "</g>\n",
       "<!-- 13 -->\n",
       "<g id=\"node14\" class=\"node\">\n",
       "<title>13</title>\n",
       "<path fill=\"#f7dbc6\" stroke=\"black\" d=\"M862.77,-64C862.77,-64 743.23,-64 743.23,-64 737.23,-64 731.23,-58 731.23,-52 731.23,-52 731.23,-12 731.23,-12 731.23,-6 737.23,0 743.23,0 743.23,0 862.77,0 862.77,0 868.77,0 874.77,-6 874.77,-12 874.77,-12 874.77,-52 874.77,-52 874.77,-58 868.77,-64 862.77,-64\"/>\n",
       "<text text-anchor=\"start\" x=\"766.61\" y=\"-48.8\" font-family=\"Helvetica,sans-Serif\" font-size=\"14.00\">gini = 0.486</text>\n",
       "<text text-anchor=\"start\" x=\"753.38\" y=\"-34.8\" font-family=\"Helvetica,sans-Serif\" font-size=\"14.00\">samples = 5504</text>\n",
       "<text text-anchor=\"start\" x=\"739.36\" y=\"-20.8\" font-family=\"Helvetica,sans-Serif\" font-size=\"14.00\">value = [3218, 2286]</text>\n",
       "<text text-anchor=\"start\" x=\"746\" y=\"-6.8\" font-family=\"Helvetica,sans-Serif\" font-size=\"14.00\">class = readmitted</text>\n",
       "</g>\n",
       "<!-- 11&#45;&gt;13 -->\n",
       "<g id=\"edge13\" class=\"edge\">\n",
       "<title>11&#45;&gt;13</title>\n",
       "<path fill=\"none\" stroke=\"black\" d=\"M753.38,-99.8C760.05,-90.82 767.17,-81.23 773.87,-72.21\"/>\n",
       "<polygon fill=\"black\" stroke=\"black\" points=\"776.73,-74.23 779.88,-64.12 771.11,-70.06 776.73,-74.23\"/>\n",
       "</g>\n",
       "<!-- 16 -->\n",
       "<g id=\"node17\" class=\"node\">\n",
       "<title>16</title>\n",
       "<path fill=\"#eeae80\" stroke=\"black\" d=\"M1106.99,-171C1106.99,-171 1001,-171 1001,-171 995,-171 989,-165 989,-159 989,-159 989,-119 989,-119 989,-113 995,-107 1001,-107 1001,-107 1106.99,-107 1106.99,-107 1112.99,-107 1118.99,-113 1118.99,-119 1118.99,-119 1118.99,-159 1118.99,-159 1118.99,-165 1112.99,-171 1106.99,-171\"/>\n",
       "<text text-anchor=\"start\" x=\"1017.61\" y=\"-155.8\" font-family=\"Helvetica,sans-Serif\" font-size=\"14.00\">gini = 0.389</text>\n",
       "<text text-anchor=\"start\" x=\"1008.28\" y=\"-141.8\" font-family=\"Helvetica,sans-Serif\" font-size=\"14.00\">samples = 704</text>\n",
       "<text text-anchor=\"start\" x=\"998.15\" y=\"-127.8\" font-family=\"Helvetica,sans-Serif\" font-size=\"14.00\">value = [518, 186]</text>\n",
       "<text text-anchor=\"start\" x=\"997\" y=\"-113.8\" font-family=\"Helvetica,sans-Serif\" font-size=\"14.00\">class = readmitted</text>\n",
       "</g>\n",
       "<!-- 15&#45;&gt;16 -->\n",
       "<g id=\"edge16\" class=\"edge\">\n",
       "<title>15&#45;&gt;16</title>\n",
       "<path fill=\"none\" stroke=\"black\" d=\"M1055.97,-213.77C1055.69,-203.31 1055.39,-191.94 1055.1,-181.32\"/>\n",
       "<polygon fill=\"black\" stroke=\"black\" points=\"1058.6,-180.91 1054.83,-171.01 1051.6,-181.1 1058.6,-180.91\"/>\n",
       "</g>\n",
       "<!-- 17 -->\n",
       "<g id=\"node18\" class=\"node\">\n",
       "<title>17</title>\n",
       "<path fill=\"#f4c8a9\" stroke=\"black\" d=\"M1268.77,-171C1268.77,-171 1149.23,-171 1149.23,-171 1143.23,-171 1137.23,-165 1137.23,-159 1137.23,-159 1137.23,-119 1137.23,-119 1137.23,-113 1143.23,-107 1149.23,-107 1149.23,-107 1268.77,-107 1268.77,-107 1274.77,-107 1280.77,-113 1280.77,-119 1280.77,-119 1280.77,-159 1280.77,-159 1280.77,-165 1274.77,-171 1268.77,-171\"/>\n",
       "<text text-anchor=\"start\" x=\"1172.61\" y=\"-155.8\" font-family=\"Helvetica,sans-Serif\" font-size=\"14.00\">gini = 0.462</text>\n",
       "<text text-anchor=\"start\" x=\"1159.38\" y=\"-141.8\" font-family=\"Helvetica,sans-Serif\" font-size=\"14.00\">samples = 3500</text>\n",
       "<text text-anchor=\"start\" x=\"1145.36\" y=\"-127.8\" font-family=\"Helvetica,sans-Serif\" font-size=\"14.00\">value = [2234, 1266]</text>\n",
       "<text text-anchor=\"start\" x=\"1152\" y=\"-113.8\" font-family=\"Helvetica,sans-Serif\" font-size=\"14.00\">class = readmitted</text>\n",
       "</g>\n",
       "<!-- 15&#45;&gt;17 -->\n",
       "<g id=\"edge17\" class=\"edge\">\n",
       "<title>15&#45;&gt;17</title>\n",
       "<path fill=\"none\" stroke=\"black\" d=\"M1108.88,-213.77C1124.99,-201.9 1142.72,-188.84 1158.72,-177.05\"/>\n",
       "<polygon fill=\"black\" stroke=\"black\" points=\"1160.94,-179.76 1166.91,-171.01 1156.79,-174.12 1160.94,-179.76\"/>\n",
       "</g>\n",
       "<!-- 19 -->\n",
       "<g id=\"node20\" class=\"node\">\n",
       "<title>19</title>\n",
       "<path fill=\"#deeffb\" stroke=\"black\" d=\"M1664,-406C1664,-406 1517.99,-406 1517.99,-406 1511.99,-406 1505.99,-400 1505.99,-394 1505.99,-394 1505.99,-340 1505.99,-340 1505.99,-334 1511.99,-328 1517.99,-328 1517.99,-328 1664,-328 1664,-328 1670,-328 1676,-334 1676,-340 1676,-340 1676,-394 1676,-394 1676,-400 1670,-406 1664,-406\"/>\n",
       "<text text-anchor=\"start\" x=\"1513.99\" y=\"-390.8\" font-family=\"Helvetica,sans-Serif\" font-size=\"14.00\">number_diagnoses ≤ 5.5</text>\n",
       "<text text-anchor=\"start\" x=\"1554.61\" y=\"-376.8\" font-family=\"Helvetica,sans-Serif\" font-size=\"14.00\">gini = 0.496</text>\n",
       "<text text-anchor=\"start\" x=\"1537.49\" y=\"-362.8\" font-family=\"Helvetica,sans-Serif\" font-size=\"14.00\">samples = 16851</text>\n",
       "<text text-anchor=\"start\" x=\"1527.36\" y=\"-348.8\" font-family=\"Helvetica,sans-Serif\" font-size=\"14.00\">value = [7663, 9188]</text>\n",
       "<text text-anchor=\"start\" x=\"1522.32\" y=\"-334.8\" font-family=\"Helvetica,sans-Serif\" font-size=\"14.00\">class = not readmitted</text>\n",
       "</g>\n",
       "<!-- 18&#45;&gt;19 -->\n",
       "<g id=\"edge19\" class=\"edge\">\n",
       "<title>18&#45;&gt;19</title>\n",
       "<path fill=\"none\" stroke=\"black\" d=\"M1591,-441.77C1591,-433.57 1591,-424.8 1591,-416.28\"/>\n",
       "<polygon fill=\"black\" stroke=\"black\" points=\"1594.5,-416.06 1591,-406.06 1587.5,-416.06 1594.5,-416.06\"/>\n",
       "</g>\n",
       "<!-- 28 -->\n",
       "<g id=\"node29\" class=\"node\">\n",
       "<title>28</title>\n",
       "<path fill=\"#95cbf1\" stroke=\"black\" d=\"M1970.15,-406C1970.15,-406 1805.84,-406 1805.84,-406 1799.84,-406 1793.84,-400 1793.84,-394 1793.84,-394 1793.84,-340 1793.84,-340 1793.84,-334 1799.84,-328 1805.84,-328 1805.84,-328 1970.15,-328 1970.15,-328 1976.15,-328 1982.15,-334 1982.15,-340 1982.15,-340 1982.15,-394 1982.15,-394 1982.15,-400 1976.15,-406 1970.15,-406\"/>\n",
       "<text text-anchor=\"start\" x=\"1801.67\" y=\"-390.8\" font-family=\"Helvetica,sans-Serif\" font-size=\"14.00\">num_services_utilized ≤ 3.5</text>\n",
       "<text text-anchor=\"start\" x=\"1851.61\" y=\"-376.8\" font-family=\"Helvetica,sans-Serif\" font-size=\"14.00\">gini = 0.433</text>\n",
       "<text text-anchor=\"start\" x=\"1838.38\" y=\"-362.8\" font-family=\"Helvetica,sans-Serif\" font-size=\"14.00\">samples = 7966</text>\n",
       "<text text-anchor=\"start\" x=\"1824.36\" y=\"-348.8\" font-family=\"Helvetica,sans-Serif\" font-size=\"14.00\">value = [2530, 5436]</text>\n",
       "<text text-anchor=\"start\" x=\"1819.32\" y=\"-334.8\" font-family=\"Helvetica,sans-Serif\" font-size=\"14.00\">class = not readmitted</text>\n",
       "</g>\n",
       "<!-- 18&#45;&gt;28 -->\n",
       "<g id=\"edge28\" class=\"edge\">\n",
       "<title>18&#45;&gt;28</title>\n",
       "<path fill=\"none\" stroke=\"black\" d=\"M1685.38,-444.41C1716.84,-432.54 1752.05,-419.27 1784.19,-407.15\"/>\n",
       "<polygon fill=\"black\" stroke=\"black\" points=\"1785.49,-410.4 1793.61,-403.59 1783.02,-403.85 1785.49,-410.4\"/>\n",
       "</g>\n",
       "<!-- 20 -->\n",
       "<g id=\"node21\" class=\"node\">\n",
       "<title>20</title>\n",
       "<path fill=\"#fbeadd\" stroke=\"black\" d=\"M1574.15,-292C1574.15,-292 1409.84,-292 1409.84,-292 1403.84,-292 1397.84,-286 1397.84,-280 1397.84,-280 1397.84,-226 1397.84,-226 1397.84,-220 1403.84,-214 1409.84,-214 1409.84,-214 1574.15,-214 1574.15,-214 1580.15,-214 1586.15,-220 1586.15,-226 1586.15,-226 1586.15,-280 1586.15,-280 1586.15,-286 1580.15,-292 1574.15,-292\"/>\n",
       "<text text-anchor=\"start\" x=\"1405.67\" y=\"-276.8\" font-family=\"Helvetica,sans-Serif\" font-size=\"14.00\">num_services_utilized ≤ 1.5</text>\n",
       "<text text-anchor=\"start\" x=\"1455.61\" y=\"-262.8\" font-family=\"Helvetica,sans-Serif\" font-size=\"14.00\">gini = 0.496</text>\n",
       "<text text-anchor=\"start\" x=\"1442.38\" y=\"-248.8\" font-family=\"Helvetica,sans-Serif\" font-size=\"14.00\">samples = 2622</text>\n",
       "<text text-anchor=\"start\" x=\"1428.88\" y=\"-234.8\" font-family=\"Helvetica,sans-Serif\" font-size=\"14.00\">value = [1433, 1189]</text>\n",
       "<text text-anchor=\"start\" x=\"1435\" y=\"-220.8\" font-family=\"Helvetica,sans-Serif\" font-size=\"14.00\">class = readmitted</text>\n",
       "</g>\n",
       "<!-- 19&#45;&gt;20 -->\n",
       "<g id=\"edge20\" class=\"edge\">\n",
       "<title>19&#45;&gt;20</title>\n",
       "<path fill=\"none\" stroke=\"black\" d=\"M1557.2,-327.77C1549.24,-318.76 1540.67,-309.06 1532.45,-299.76\"/>\n",
       "<polygon fill=\"black\" stroke=\"black\" points=\"1534.88,-297.23 1525.64,-292.06 1529.64,-301.87 1534.88,-297.23\"/>\n",
       "</g>\n",
       "<!-- 23 -->\n",
       "<g id=\"node24\" class=\"node\">\n",
       "<title>23</title>\n",
       "<path fill=\"#d3e9f9\" stroke=\"black\" d=\"M1781.15,-292C1781.15,-292 1616.84,-292 1616.84,-292 1610.84,-292 1604.84,-286 1604.84,-280 1604.84,-280 1604.84,-226 1604.84,-226 1604.84,-220 1610.84,-214 1616.84,-214 1616.84,-214 1781.15,-214 1781.15,-214 1787.15,-214 1793.15,-220 1793.15,-226 1793.15,-226 1793.15,-280 1793.15,-280 1793.15,-286 1787.15,-292 1781.15,-292\"/>\n",
       "<text text-anchor=\"start\" x=\"1612.67\" y=\"-276.8\" font-family=\"Helvetica,sans-Serif\" font-size=\"14.00\">num_services_utilized ≤ 1.5</text>\n",
       "<text text-anchor=\"start\" x=\"1662.61\" y=\"-262.8\" font-family=\"Helvetica,sans-Serif\" font-size=\"14.00\">gini = 0.492</text>\n",
       "<text text-anchor=\"start\" x=\"1645.49\" y=\"-248.8\" font-family=\"Helvetica,sans-Serif\" font-size=\"14.00\">samples = 14229</text>\n",
       "<text text-anchor=\"start\" x=\"1635.36\" y=\"-234.8\" font-family=\"Helvetica,sans-Serif\" font-size=\"14.00\">value = [6230, 7999]</text>\n",
       "<text text-anchor=\"start\" x=\"1630.32\" y=\"-220.8\" font-family=\"Helvetica,sans-Serif\" font-size=\"14.00\">class = not readmitted</text>\n",
       "</g>\n",
       "<!-- 19&#45;&gt;23 -->\n",
       "<g id=\"edge23\" class=\"edge\">\n",
       "<title>19&#45;&gt;23</title>\n",
       "<path fill=\"none\" stroke=\"black\" d=\"M1627.86,-327.77C1636.64,-318.67 1646.09,-308.87 1655.14,-299.48\"/>\n",
       "<polygon fill=\"black\" stroke=\"black\" points=\"1657.88,-301.69 1662.3,-292.06 1652.84,-296.83 1657.88,-301.69\"/>\n",
       "</g>\n",
       "<!-- 21 -->\n",
       "<g id=\"node22\" class=\"node\">\n",
       "<title>21</title>\n",
       "<path fill=\"#f8dfcd\" stroke=\"black\" d=\"M1421.98,-171C1421.98,-171 1310.01,-171 1310.01,-171 1304.01,-171 1298.01,-165 1298.01,-159 1298.01,-159 1298.01,-119 1298.01,-119 1298.01,-113 1304.01,-107 1310.01,-107 1310.01,-107 1421.98,-107 1421.98,-107 1427.98,-107 1433.98,-113 1433.98,-119 1433.98,-119 1433.98,-159 1433.98,-159 1433.98,-165 1427.98,-171 1421.98,-171\"/>\n",
       "<text text-anchor=\"start\" x=\"1329.61\" y=\"-155.8\" font-family=\"Helvetica,sans-Serif\" font-size=\"14.00\">gini = 0.489</text>\n",
       "<text text-anchor=\"start\" x=\"1316.38\" y=\"-141.8\" font-family=\"Helvetica,sans-Serif\" font-size=\"14.00\">samples = 1853</text>\n",
       "<text text-anchor=\"start\" x=\"1306.26\" y=\"-127.8\" font-family=\"Helvetica,sans-Serif\" font-size=\"14.00\">value = [1061, 792]</text>\n",
       "<text text-anchor=\"start\" x=\"1309\" y=\"-113.8\" font-family=\"Helvetica,sans-Serif\" font-size=\"14.00\">class = readmitted</text>\n",
       "</g>\n",
       "<!-- 20&#45;&gt;21 -->\n",
       "<g id=\"edge21\" class=\"edge\">\n",
       "<title>20&#45;&gt;21</title>\n",
       "<path fill=\"none\" stroke=\"black\" d=\"M1448.99,-213.77C1435.88,-202.12 1421.48,-189.32 1408.41,-177.7\"/>\n",
       "<polygon fill=\"black\" stroke=\"black\" points=\"1410.68,-175.04 1400.88,-171.01 1406.03,-180.27 1410.68,-175.04\"/>\n",
       "</g>\n",
       "<!-- 22 -->\n",
       "<g id=\"node23\" class=\"node\">\n",
       "<title>22</title>\n",
       "<path fill=\"#f3f9fd\" stroke=\"black\" d=\"M1592.85,-171C1592.85,-171 1463.15,-171 1463.15,-171 1457.15,-171 1451.15,-165 1451.15,-159 1451.15,-159 1451.15,-119 1451.15,-119 1451.15,-113 1457.15,-107 1463.15,-107 1463.15,-107 1592.85,-107 1592.85,-107 1598.85,-107 1604.85,-113 1604.85,-119 1604.85,-119 1604.85,-159 1604.85,-159 1604.85,-165 1598.85,-171 1592.85,-171\"/>\n",
       "<text text-anchor=\"start\" x=\"1491.61\" y=\"-155.8\" font-family=\"Helvetica,sans-Serif\" font-size=\"14.00\">gini = 0.499</text>\n",
       "<text text-anchor=\"start\" x=\"1482.28\" y=\"-141.8\" font-family=\"Helvetica,sans-Serif\" font-size=\"14.00\">samples = 769</text>\n",
       "<text text-anchor=\"start\" x=\"1472.15\" y=\"-127.8\" font-family=\"Helvetica,sans-Serif\" font-size=\"14.00\">value = [372, 397]</text>\n",
       "<text text-anchor=\"start\" x=\"1459.32\" y=\"-113.8\" font-family=\"Helvetica,sans-Serif\" font-size=\"14.00\">class = not readmitted</text>\n",
       "</g>\n",
       "<!-- 20&#45;&gt;22 -->\n",
       "<g id=\"edge22\" class=\"edge\">\n",
       "<title>20&#45;&gt;22</title>\n",
       "<path fill=\"none\" stroke=\"black\" d=\"M1504.29,-213.77C1507.72,-203.1 1511.46,-191.46 1514.93,-180.65\"/>\n",
       "<polygon fill=\"black\" stroke=\"black\" points=\"1518.3,-181.6 1518.03,-171.01 1511.64,-179.46 1518.3,-181.6\"/>\n",
       "</g>\n",
       "<!-- 24 -->\n",
       "<g id=\"node25\" class=\"node\">\n",
       "<title>24</title>\n",
       "<path fill=\"#e3f1fb\" stroke=\"black\" d=\"M1763.85,-178C1763.85,-178 1634.15,-178 1634.15,-178 1628.15,-178 1622.15,-172 1622.15,-166 1622.15,-166 1622.15,-112 1622.15,-112 1622.15,-106 1628.15,-100 1634.15,-100 1634.15,-100 1763.85,-100 1763.85,-100 1769.85,-100 1775.85,-106 1775.85,-112 1775.85,-112 1775.85,-166 1775.85,-166 1775.85,-172 1769.85,-178 1763.85,-178\"/>\n",
       "<text text-anchor=\"start\" x=\"1647.28\" y=\"-162.8\" font-family=\"Helvetica,sans-Serif\" font-size=\"14.00\">diag_1_cat ≤ 8.5</text>\n",
       "<text text-anchor=\"start\" x=\"1662.61\" y=\"-148.8\" font-family=\"Helvetica,sans-Serif\" font-size=\"14.00\">gini = 0.497</text>\n",
       "<text text-anchor=\"start\" x=\"1649.38\" y=\"-134.8\" font-family=\"Helvetica,sans-Serif\" font-size=\"14.00\">samples = 9329</text>\n",
       "<text text-anchor=\"start\" x=\"1635.36\" y=\"-120.8\" font-family=\"Helvetica,sans-Serif\" font-size=\"14.00\">value = [4313, 5016]</text>\n",
       "<text text-anchor=\"start\" x=\"1630.32\" y=\"-106.8\" font-family=\"Helvetica,sans-Serif\" font-size=\"14.00\">class = not readmitted</text>\n",
       "</g>\n",
       "<!-- 23&#45;&gt;24 -->\n",
       "<g id=\"edge24\" class=\"edge\">\n",
       "<title>23&#45;&gt;24</title>\n",
       "<path fill=\"none\" stroke=\"black\" d=\"M1699,-213.77C1699,-205.57 1699,-196.8 1699,-188.28\"/>\n",
       "<polygon fill=\"black\" stroke=\"black\" points=\"1702.5,-188.06 1699,-178.06 1695.5,-188.06 1702.5,-188.06\"/>\n",
       "</g>\n",
       "<!-- 27 -->\n",
       "<g id=\"node28\" class=\"node\">\n",
       "<title>27</title>\n",
       "<path fill=\"#b8dcf6\" stroke=\"black\" d=\"M1934.85,-171C1934.85,-171 1805.15,-171 1805.15,-171 1799.15,-171 1793.15,-165 1793.15,-159 1793.15,-159 1793.15,-119 1793.15,-119 1793.15,-113 1799.15,-107 1805.15,-107 1805.15,-107 1934.85,-107 1934.85,-107 1940.85,-107 1946.85,-113 1946.85,-119 1946.85,-119 1946.85,-159 1946.85,-159 1946.85,-165 1940.85,-171 1934.85,-171\"/>\n",
       "<text text-anchor=\"start\" x=\"1833.61\" y=\"-155.8\" font-family=\"Helvetica,sans-Serif\" font-size=\"14.00\">gini = 0.476</text>\n",
       "<text text-anchor=\"start\" x=\"1820.38\" y=\"-141.8\" font-family=\"Helvetica,sans-Serif\" font-size=\"14.00\">samples = 4900</text>\n",
       "<text text-anchor=\"start\" x=\"1806.36\" y=\"-127.8\" font-family=\"Helvetica,sans-Serif\" font-size=\"14.00\">value = [1917, 2983]</text>\n",
       "<text text-anchor=\"start\" x=\"1801.32\" y=\"-113.8\" font-family=\"Helvetica,sans-Serif\" font-size=\"14.00\">class = not readmitted</text>\n",
       "</g>\n",
       "<!-- 23&#45;&gt;27 -->\n",
       "<g id=\"edge27\" class=\"edge\">\n",
       "<title>23&#45;&gt;27</title>\n",
       "<path fill=\"none\" stroke=\"black\" d=\"M1757.37,-213.77C1775.66,-201.79 1795.8,-188.6 1813.93,-176.72\"/>\n",
       "<polygon fill=\"black\" stroke=\"black\" points=\"1816.2,-179.42 1822.65,-171.01 1812.37,-173.56 1816.2,-179.42\"/>\n",
       "</g>\n",
       "<!-- 25 -->\n",
       "<g id=\"node26\" class=\"node\">\n",
       "<title>25</title>\n",
       "<path fill=\"#d8ecfa\" stroke=\"black\" d=\"M1680.85,-64C1680.85,-64 1551.15,-64 1551.15,-64 1545.15,-64 1539.15,-58 1539.15,-52 1539.15,-52 1539.15,-12 1539.15,-12 1539.15,-6 1545.15,0 1551.15,0 1551.15,0 1680.85,0 1680.85,0 1686.85,0 1692.85,-6 1692.85,-12 1692.85,-12 1692.85,-52 1692.85,-52 1692.85,-58 1686.85,-64 1680.85,-64\"/>\n",
       "<text text-anchor=\"start\" x=\"1579.61\" y=\"-48.8\" font-family=\"Helvetica,sans-Serif\" font-size=\"14.00\">gini = 0.494</text>\n",
       "<text text-anchor=\"start\" x=\"1566.38\" y=\"-34.8\" font-family=\"Helvetica,sans-Serif\" font-size=\"14.00\">samples = 6888</text>\n",
       "<text text-anchor=\"start\" x=\"1552.36\" y=\"-20.8\" font-family=\"Helvetica,sans-Serif\" font-size=\"14.00\">value = [3066, 3822]</text>\n",
       "<text text-anchor=\"start\" x=\"1547.32\" y=\"-6.8\" font-family=\"Helvetica,sans-Serif\" font-size=\"14.00\">class = not readmitted</text>\n",
       "</g>\n",
       "<!-- 24&#45;&gt;25 -->\n",
       "<g id=\"edge25\" class=\"edge\">\n",
       "<title>24&#45;&gt;25</title>\n",
       "<path fill=\"none\" stroke=\"black\" d=\"M1668.8,-99.8C1661.7,-90.82 1654.13,-81.23 1646.99,-72.21\"/>\n",
       "<polygon fill=\"black\" stroke=\"black\" points=\"1649.54,-69.79 1640.6,-64.12 1644.05,-74.13 1649.54,-69.79\"/>\n",
       "</g>\n",
       "<!-- 26 -->\n",
       "<g id=\"node27\" class=\"node\">\n",
       "<title>26</title>\n",
       "<path fill=\"#fefaf7\" stroke=\"black\" d=\"M1841.24,-64C1841.24,-64 1722.76,-64 1722.76,-64 1716.76,-64 1710.76,-58 1710.76,-52 1710.76,-52 1710.76,-12 1710.76,-12 1710.76,-6 1716.76,0 1722.76,0 1722.76,0 1841.24,0 1841.24,0 1847.24,0 1853.24,-6 1853.24,-12 1853.24,-12 1853.24,-52 1853.24,-52 1853.24,-58 1847.24,-64 1841.24,-64\"/>\n",
       "<text text-anchor=\"start\" x=\"1753.39\" y=\"-48.8\" font-family=\"Helvetica,sans-Serif\" font-size=\"14.00\">gini = 0.5</text>\n",
       "<text text-anchor=\"start\" x=\"1732.38\" y=\"-34.8\" font-family=\"Helvetica,sans-Serif\" font-size=\"14.00\">samples = 2441</text>\n",
       "<text text-anchor=\"start\" x=\"1718.88\" y=\"-20.8\" font-family=\"Helvetica,sans-Serif\" font-size=\"14.00\">value = [1247, 1194]</text>\n",
       "<text text-anchor=\"start\" x=\"1725\" y=\"-6.8\" font-family=\"Helvetica,sans-Serif\" font-size=\"14.00\">class = readmitted</text>\n",
       "</g>\n",
       "<!-- 24&#45;&gt;26 -->\n",
       "<g id=\"edge26\" class=\"edge\">\n",
       "<title>24&#45;&gt;26</title>\n",
       "<path fill=\"none\" stroke=\"black\" d=\"M1729.2,-99.8C1736.3,-90.82 1743.87,-81.23 1751,-72.21\"/>\n",
       "<polygon fill=\"black\" stroke=\"black\" points=\"1753.95,-74.13 1757.4,-64.12 1748.45,-69.79 1753.95,-74.13\"/>\n",
       "</g>\n",
       "<!-- 29 -->\n",
       "<g id=\"node30\" class=\"node\">\n",
       "<title>29</title>\n",
       "<path fill=\"#aad5f4\" stroke=\"black\" d=\"M1952.85,-285C1952.85,-285 1823.15,-285 1823.15,-285 1817.15,-285 1811.15,-279 1811.15,-273 1811.15,-273 1811.15,-233 1811.15,-233 1811.15,-227 1817.15,-221 1823.15,-221 1823.15,-221 1952.85,-221 1952.85,-221 1958.85,-221 1964.85,-227 1964.85,-233 1964.85,-233 1964.85,-273 1964.85,-273 1964.85,-279 1958.85,-285 1952.85,-285\"/>\n",
       "<text text-anchor=\"start\" x=\"1851.61\" y=\"-269.8\" font-family=\"Helvetica,sans-Serif\" font-size=\"14.00\">gini = 0.463</text>\n",
       "<text text-anchor=\"start\" x=\"1838.38\" y=\"-255.8\" font-family=\"Helvetica,sans-Serif\" font-size=\"14.00\">samples = 3288</text>\n",
       "<text text-anchor=\"start\" x=\"1824.88\" y=\"-241.8\" font-family=\"Helvetica,sans-Serif\" font-size=\"14.00\">value = [1195, 2093]</text>\n",
       "<text text-anchor=\"start\" x=\"1819.32\" y=\"-227.8\" font-family=\"Helvetica,sans-Serif\" font-size=\"14.00\">class = not readmitted</text>\n",
       "</g>\n",
       "<!-- 28&#45;&gt;29 -->\n",
       "<g id=\"edge29\" class=\"edge\">\n",
       "<title>28&#45;&gt;29</title>\n",
       "<path fill=\"none\" stroke=\"black\" d=\"M1888,-327.77C1888,-317.31 1888,-305.94 1888,-295.32\"/>\n",
       "<polygon fill=\"black\" stroke=\"black\" points=\"1891.5,-295.01 1888,-285.01 1884.5,-295.01 1891.5,-295.01\"/>\n",
       "</g>\n",
       "<!-- 30 -->\n",
       "<g id=\"node31\" class=\"node\">\n",
       "<title>30</title>\n",
       "<path fill=\"#88c4ef\" stroke=\"black\" d=\"M2123.85,-285C2123.85,-285 1994.15,-285 1994.15,-285 1988.15,-285 1982.15,-279 1982.15,-273 1982.15,-273 1982.15,-233 1982.15,-233 1982.15,-227 1988.15,-221 1994.15,-221 1994.15,-221 2123.85,-221 2123.85,-221 2129.85,-221 2135.85,-227 2135.85,-233 2135.85,-233 2135.85,-273 2135.85,-273 2135.85,-279 2129.85,-285 2123.85,-285\"/>\n",
       "<text text-anchor=\"start\" x=\"2022.61\" y=\"-269.8\" font-family=\"Helvetica,sans-Serif\" font-size=\"14.00\">gini = 0.408</text>\n",
       "<text text-anchor=\"start\" x=\"2009.38\" y=\"-255.8\" font-family=\"Helvetica,sans-Serif\" font-size=\"14.00\">samples = 4678</text>\n",
       "<text text-anchor=\"start\" x=\"1995.36\" y=\"-241.8\" font-family=\"Helvetica,sans-Serif\" font-size=\"14.00\">value = [1335, 3343]</text>\n",
       "<text text-anchor=\"start\" x=\"1990.32\" y=\"-227.8\" font-family=\"Helvetica,sans-Serif\" font-size=\"14.00\">class = not readmitted</text>\n",
       "</g>\n",
       "<!-- 28&#45;&gt;30 -->\n",
       "<g id=\"edge30\" class=\"edge\">\n",
       "<title>28&#45;&gt;30</title>\n",
       "<path fill=\"none\" stroke=\"black\" d=\"M1946.37,-327.77C1964.66,-315.79 1984.8,-302.6 2002.93,-290.72\"/>\n",
       "<polygon fill=\"black\" stroke=\"black\" points=\"2005.2,-293.42 2011.65,-285.01 2001.37,-287.56 2005.2,-293.42\"/>\n",
       "</g>\n",
       "</g>\n",
       "</svg>\n"
      ],
      "text/plain": [
       "<graphviz.files.Source at 0x7f86d87f7a30>"
      ]
     },
     "execution_count": 112,
     "metadata": {},
     "output_type": "execute_result"
    }
   ],
   "source": [
    "# plot tree\n",
    "dot_data2 = tree.export_graphviz(dtree_postprune_final, out_file=None, \n",
    "                                feature_names=X_train.columns.tolist(),  \n",
    "                                class_names=['readmitted','not readmitted'],  \n",
    "                                filled=True, rounded=True,  \n",
    "                                special_characters=True)  \n",
    "\n",
    "graph2 = graphviz.Source(dot_data2)  \n",
    "graph2"
   ]
  },
  {
   "cell_type": "markdown",
   "id": "reliable-anime",
   "metadata": {},
   "source": [
    "---"
   ]
  },
  {
   "cell_type": "markdown",
   "id": "abandoned-massage",
   "metadata": {},
   "source": [
    "<a id='takeaways'></a>\n",
    "## Takeaways\n",
    "\n",
    "This exercise leveraged demographic and clinical data of diabetes patients in the US in an attempt to build a predictive model to identify patients who would be redmitted to the hospital (versus patients who won't) based on certain features. \n",
    "\n",
    "Seems like the key factors that contribute most to the prediction are the number of total tests done, number of medications, time spent in hospital during previous admission, type of primary diagnosis, and the age of a patient. Other factors that were less important (but still in the top 10) are the number of visits a patient paid to the hospital (whether for inpatient, outpatient, or emergency purposes), number of diagnoses, and change in insulin dosage. \n",
    "\n",
    "Comparing the accuracy, precision, and recall scores of my preliminary, pre-pruned, and post-pruned trees (see table for comparison below), we see that both pre-pruning and post-pruning techniques were able to resolve the issue of model overfitting. Nevertheless, the pruned trees remain sub-optimal in their performance, where both pre-pruned and post-pruned trees only scored in the 60% range for accuracy, precision, and recall. \n",
    "\n",
    "The pruned trees, however, scored relatively higher in recall than in precision, which implies that my models fare better in predicting readmission for patients who would ACTUALLY require readmission, and thereby reducing the risk of missing out on providing resources to treat patients who need it (aka quantity).\n",
    "\n",
    "In comparison, the models fare poorer in their quality of prediction - there is a higher chance that a patient who gets predicted as needing readmission ACTUALLY does not need readmission, and thereby increasing the risk of resource 'wastage'. \n"
   ]
  },
  {
   "cell_type": "code",
   "execution_count": 170,
   "id": "split-cycling",
   "metadata": {
    "tags": [
     "remove_input"
    ]
   },
   "outputs": [
    {
     "name": "stdout",
     "output_type": "stream",
     "text": [
      "\n",
      "\n"
     ]
    }
   ],
   "source": [
    "print('\\n')"
   ]
  },
  {
   "cell_type": "code",
   "execution_count": 122,
   "id": "responsible-canvas",
   "metadata": {
    "tags": [
     "remove_cell"
    ]
   },
   "outputs": [],
   "source": [
    "accuracy_prelim_train = int(accuracy_score(y_train, y_train_pred_prelim)*100)\n",
    "accuracy_prelim_test = int(accuracy_score(y_test, y_test_pred_prelim)*100)\n",
    "\n",
    "accuracy_preprune_train = int(accuracy_score(y_train, y_train_pred_preprune)*100)\n",
    "accuracy_preprune_test = int(accuracy_score(y_test, y_test_pred_preprune)*100)\n",
    "\n",
    "accuracy_postprune_train = int(accuracy_score(y_train, y_train_pred_postprune3)*100)\n",
    "accuracy_postprune_test = int(accuracy_score(y_test, y_test_pred_postprune3)*100)\n",
    "\n",
    "precision_prelim_train = int(precision_score(y_train, y_train_pred_prelim, pos_label='NO')*100)\n",
    "precision_prelim_test = int(precision_score(y_test, y_test_pred_prelim, pos_label='NO')*100)\n",
    "\n",
    "precision_preprune_train = int(precision_score(y_train, y_train_pred_preprune, pos_label='NO')*100)\n",
    "precision_preprune_test = int(precision_score(y_test, y_test_pred_preprune, pos_label='NO')*100)\n",
    "\n",
    "precision_postprune_train = int(precision_score(y_train, y_train_pred_postprune3, pos_label='NO')*100)\n",
    "precision_postprune_test = int(precision_score(y_test, y_test_pred_postprune3, pos_label='NO')*100)\n",
    "\n",
    "recall_prelim_train = int(recall_score(y_train, y_train_pred_prelim, pos_label='NO')*100)\n",
    "recall_prelim_test = int(recall_score(y_test, y_test_pred_prelim, pos_label='NO')*100)\n",
    "\n",
    "recall_preprune_train = int(recall_score(y_train, y_train_pred_preprune, pos_label='NO')*100)\n",
    "recall_preprune_test = int(recall_score(y_test, y_test_pred_preprune, pos_label='NO')*100)\n",
    "\n",
    "recall_postprune_train = int(recall_score(y_train, y_train_pred_postprune3, pos_label='NO')*100)\n",
    "recall_postprune_test = int(recall_score(y_test, y_test_pred_postprune3, pos_label='NO')*100)\n"
   ]
  },
  {
   "cell_type": "code",
   "execution_count": 169,
   "id": "separate-brown",
   "metadata": {
    "tags": [
     "remove_input"
    ]
   },
   "outputs": [
    {
     "name": "stdout",
     "output_type": "stream",
     "text": [
      "Evaluation scores for training set: \n",
      "\n",
      "\n"
     ]
    },
    {
     "data": {
      "text/html": [
       "<div>\n",
       "<style scoped>\n",
       "    .dataframe tbody tr th:only-of-type {\n",
       "        vertical-align: middle;\n",
       "    }\n",
       "\n",
       "    .dataframe tbody tr th {\n",
       "        vertical-align: top;\n",
       "    }\n",
       "\n",
       "    .dataframe thead th {\n",
       "        text-align: right;\n",
       "    }\n",
       "</style>\n",
       "<table border=\"1\" class=\"dataframe\">\n",
       "  <thead>\n",
       "    <tr style=\"text-align: right;\">\n",
       "      <th></th>\n",
       "      <th>Accuracy</th>\n",
       "      <th>Precision</th>\n",
       "      <th>Recall</th>\n",
       "    </tr>\n",
       "  </thead>\n",
       "  <tbody>\n",
       "    <tr>\n",
       "      <th>Preliminary</th>\n",
       "      <td>99</td>\n",
       "      <td>99</td>\n",
       "      <td>100</td>\n",
       "    </tr>\n",
       "    <tr>\n",
       "      <th>Prepruned</th>\n",
       "      <td>61</td>\n",
       "      <td>63</td>\n",
       "      <td>68</td>\n",
       "    </tr>\n",
       "    <tr>\n",
       "      <th>Postpruned</th>\n",
       "      <td>62</td>\n",
       "      <td>62</td>\n",
       "      <td>73</td>\n",
       "    </tr>\n",
       "  </tbody>\n",
       "</table>\n",
       "</div>"
      ],
      "text/plain": [
       "            Accuracy Precision Recall\n",
       "Preliminary       99        99    100\n",
       "Prepruned         61        63     68\n",
       "Postpruned        62        62     73"
      ]
     },
     "execution_count": 169,
     "metadata": {},
     "output_type": "execute_result"
    }
   ],
   "source": [
    "train_scores_df = pd.DataFrame(index=['Preliminary','Prepruned','Postpruned'],\n",
    "                               columns=['Accuracy','Precision','Recall'])\n",
    "\n",
    "train_scores_df.loc['Preliminary','Accuracy'] = accuracy_prelim_train\n",
    "train_scores_df.loc['Prepruned','Accuracy'] = accuracy_preprune_train\n",
    "train_scores_df.loc['Postpruned','Accuracy'] = accuracy_postprune_train\n",
    "train_scores_df.loc['Preliminary','Precision'] = precision_prelim_train\n",
    "train_scores_df.loc['Prepruned','Precision'] = precision_preprune_train\n",
    "train_scores_df.loc['Postpruned','Precision'] = precision_postprune_train\n",
    "train_scores_df.loc['Preliminary','Recall'] = recall_prelim_train\n",
    "train_scores_df.loc['Prepruned','Recall'] = recall_preprune_train\n",
    "train_scores_df.loc['Postpruned','Recall'] = recall_postprune_train\n",
    "\n",
    "print(f\"Evaluation scores for training set: \")\n",
    "print('\\n')\n",
    "train_scores_df"
   ]
  },
  {
   "cell_type": "code",
   "execution_count": 142,
   "id": "understood-siemens",
   "metadata": {
    "tags": [
     "remove_input"
    ]
   },
   "outputs": [
    {
     "name": "stdout",
     "output_type": "stream",
     "text": [
      "\n",
      "\n"
     ]
    }
   ],
   "source": [
    "print('\\n')"
   ]
  },
  {
   "cell_type": "code",
   "execution_count": 171,
   "id": "labeled-indication",
   "metadata": {
    "tags": [
     "remove_input"
    ]
   },
   "outputs": [
    {
     "name": "stdout",
     "output_type": "stream",
     "text": [
      "Evaluation scores for test set: \n",
      "\n",
      "\n"
     ]
    },
    {
     "data": {
      "text/html": [
       "<div>\n",
       "<style scoped>\n",
       "    .dataframe tbody tr th:only-of-type {\n",
       "        vertical-align: middle;\n",
       "    }\n",
       "\n",
       "    .dataframe tbody tr th {\n",
       "        vertical-align: top;\n",
       "    }\n",
       "\n",
       "    .dataframe thead th {\n",
       "        text-align: right;\n",
       "    }\n",
       "</style>\n",
       "<table border=\"1\" class=\"dataframe\">\n",
       "  <thead>\n",
       "    <tr style=\"text-align: right;\">\n",
       "      <th></th>\n",
       "      <th>Accuracy</th>\n",
       "      <th>Precision</th>\n",
       "      <th>Recall</th>\n",
       "    </tr>\n",
       "  </thead>\n",
       "  <tbody>\n",
       "    <tr>\n",
       "      <th>Preliminary</th>\n",
       "      <td>54</td>\n",
       "      <td>57</td>\n",
       "      <td>57</td>\n",
       "    </tr>\n",
       "    <tr>\n",
       "      <th>Prepruned</th>\n",
       "      <td>61</td>\n",
       "      <td>62</td>\n",
       "      <td>68</td>\n",
       "    </tr>\n",
       "    <tr>\n",
       "      <th>Postpruned</th>\n",
       "      <td>61</td>\n",
       "      <td>61</td>\n",
       "      <td>72</td>\n",
       "    </tr>\n",
       "  </tbody>\n",
       "</table>\n",
       "</div>"
      ],
      "text/plain": [
       "            Accuracy Precision Recall\n",
       "Preliminary       54        57     57\n",
       "Prepruned         61        62     68\n",
       "Postpruned        61        61     72"
      ]
     },
     "execution_count": 171,
     "metadata": {},
     "output_type": "execute_result"
    }
   ],
   "source": [
    "test_scores_df = pd.DataFrame(index=['Preliminary','Prepruned','Postpruned'],\n",
    "                               columns=['Accuracy','Precision','Recall'])\n",
    "\n",
    "test_scores_df.loc['Preliminary','Accuracy'] = accuracy_prelim_test\n",
    "test_scores_df.loc['Prepruned','Accuracy'] = accuracy_preprune_test\n",
    "test_scores_df.loc['Postpruned','Accuracy'] = accuracy_postprune_test\n",
    "test_scores_df.loc['Preliminary','Precision'] = precision_prelim_test\n",
    "test_scores_df.loc['Prepruned','Precision'] = precision_preprune_test\n",
    "test_scores_df.loc['Postpruned','Precision'] = precision_postprune_test\n",
    "test_scores_df.loc['Preliminary','Recall'] = recall_prelim_test\n",
    "test_scores_df.loc['Prepruned','Recall'] = recall_preprune_test\n",
    "test_scores_df.loc['Postpruned','Recall'] = recall_postprune_test\n",
    "\n",
    "print(f\"Evaluation scores for test set: \")\n",
    "print('\\n')\n",
    "test_scores_df"
   ]
  },
  {
   "cell_type": "code",
   "execution_count": 143,
   "id": "serial-classic",
   "metadata": {
    "tags": [
     "remove_input"
    ]
   },
   "outputs": [
    {
     "name": "stdout",
     "output_type": "stream",
     "text": [
      "\n",
      "\n"
     ]
    }
   ],
   "source": [
    "print('\\n')"
   ]
  },
  {
   "cell_type": "markdown",
   "id": "ancient-rugby",
   "metadata": {},
   "source": [
    "With all said and done, there are a few things that I wish to look at when revisiting this exercise in the future. These are:\n",
    "\n",
    "- How different ways of categorical feature encoding affect the model performance.\n",
    "- Add more features to the model.\n",
    "- Study other classification evaluation parameters such as the F1 score and ROC Curve.\n",
    "- Feature scaling and PCA to reduce dataset's dimensionality? Although I read some where that feature scaling is not necessary for classification models. \n",
    "\n",
    "Til then!"
   ]
  },
  {
   "cell_type": "code",
   "execution_count": 175,
   "id": "accessible-whale",
   "metadata": {
    "tags": [
     "remove_cell"
    ]
   },
   "outputs": [],
   "source": [
    "# to remove code cells from being seen in html: https://stackoverflow.com/questions/31517194/how-to-hide-one-specific-cell-input-or-output-in-ipython-notebook\n",
    "\n",
    "from traitlets.config import Config\n",
    "import nbformat as nbf\n",
    "from nbconvert.exporters import HTMLExporter\n",
    "from nbconvert.preprocessors import TagRemovePreprocessor\n",
    "\n",
    "# Setup config\n",
    "c = Config()\n",
    "\n",
    "# Configure tag removal - be sure to tag your cells to remove  using the\n",
    "# words remove_cell to remove cells. You can also modify the code to use\n",
    "# a different tag word\n",
    "c.TagRemovePreprocessor.remove_cell_tags = (\"remove_cell\",)\n",
    "c.TagRemovePreprocessor.remove_all_outputs_tags = ('remove_output',)\n",
    "c.TagRemovePreprocessor.remove_input_tags = ('remove_input',)\n",
    "c.TagRemovePreprocessor.enabled = True\n",
    "\n",
    "# Configure and run out exporter\n",
    "c.HTMLExporter.preprocessors = [\"nbconvert.preprocessors.TagRemovePreprocessor\"]\n",
    "\n",
    "exporter = HTMLExporter(config=c)\n",
    "exporter.register_preprocessor(TagRemovePreprocessor(config=c),True)\n",
    "\n",
    "# Configure and run our exporter - returns a tuple - first element with html,\n",
    "# second with notebook metadata\n",
    "output = HTMLExporter(config=c).from_filename(\"Predicting readmission rates for diabetic patients.ipynb\")\n",
    "\n",
    "# Write to output html file\n",
    "with open(\"entry13.html\",  \"w\") as f:\n",
    "    f.write(output[0])\n",
    "    "
   ]
  },
  {
   "cell_type": "code",
   "execution_count": null,
   "id": "desirable-membership",
   "metadata": {},
   "outputs": [],
   "source": []
  }
 ],
 "metadata": {
  "celltoolbar": "Tags",
  "kernelspec": {
   "display_name": "Python 3 (ipykernel)",
   "language": "python",
   "name": "python3"
  },
  "language_info": {
   "codemirror_mode": {
    "name": "ipython",
    "version": 3
   },
   "file_extension": ".py",
   "mimetype": "text/x-python",
   "name": "python",
   "nbconvert_exporter": "python",
   "pygments_lexer": "ipython3",
   "version": "3.9.7"
  }
 },
 "nbformat": 4,
 "nbformat_minor": 5
}
