{
 "cells": [
  {
   "cell_type": "markdown",
   "id": "dutch-specific",
   "metadata": {},
   "source": [
    "<a id='intro'></a>\n",
    "## Wrangle and analyze data from Twitter's WeRateDogs\n",
    "\n",
    "[WeRateDogs](https://twitter.com/dog_rates) is a Twitter account dedicated to rating people's dogs along with humorous comments about them. It has millions of followers and has received international media coverage.  \n",
    "\n",
    "Ratings have a denominator of 10, with numerators going up to greater than 10. Why? Because they're just good dogs. \n",
    "\n",
    "The primary goal of the exercise is to showcase my ability to assess the quality and tidiness of the WeRateDogs dataset, and clean them as necessary. \n",
    "\n",
    "The secondary goal is to create interesting analyses and visualizations (where available) from the data, such as the top 5 rated dog breeds.\n",
    "\n",
    "As part of [Udacity's project](https://www.googleadservices.com/pagead/aclk?sa=L&ai=DChcSEwj_kre78-7wAhUqg0sFHX6nB8cYABACGgJzZg&ae=2&ohost=www.google.com&cid=CAESQeD2w0WLquSzk0z8gFE66RRWYWEHZTB2wXo0fDDSw0QJccmKjs4ruvfryHoG_r-henm22BD-sjVcGheE7QermcBC&sig=AOD64_3nngFz13JEQBeZ-5dAMWJAi6eojg&q&adurl&ved=2ahUKEwjM-6y78-7wAhWWyzgGHcdxC6UQ0Qx6BAgDEAE&dct=1), the Twitter archive of WeRateDogs was sent to Udacity and provided to me for use of this exercise. The archive contains data such as tweet ID, timestamp, and text, for records as of August 1st 2017. The archive was collated by Udacity and transformed into a dataframe in csv format with extracted information such as ratings, dog names, and dog stages (doggo, floofer, pupper etc). \n",
    "\n",
    "I am also provided with another dataset, courtesy of Udacity - a table of predicted dog breeds based off each dog Tweet's image via neural network and image recognition. \n",
    "\n",
    "A downside of the above already available datasets is some missing vital information such as retweet count and favourite count. These information may however be obtained from Twitter's API. As such, this exercise will also see me attempt to query Twitter's API to gather these information.\n",
    "\n",
    "Let's get going!"
   ]
  },
  {
   "cell_type": "markdown",
   "id": "heated-robinson",
   "metadata": {},
   "source": [
    "---\n",
    "## Table of Contents\n",
    "- [Introduction](#intro)\n",
    "- [Gather data](#gatherdata)\n",
    "    - [Import 1st dataset through Pandas](#dataset1)\n",
    "    - [Import 2nd dataset through Request](#dataset2)\n",
    "    - [Import 3rd datasets through Tweepy](#dataset3)\n",
    "- [Assess data](#assessdata)\n",
    "    - [Quality](#quality)\n",
    "    - [Tidiness](#tidiness)\n",
    "- [Clean data for quality issues](#cleandata_quality)\n",
    "- [Clean data for tidiness issues](#cleandata_tidiness)\n",
    "- [Analyze data](#analyzedata)\n",
    "- [Conclusion](#conclusion)"
   ]
  },
  {
   "cell_type": "markdown",
   "id": "adaptive-payday",
   "metadata": {},
   "source": [
    "---\n",
    "<a id='gatherdata'></a>\n",
    "### Gather data"
   ]
  },
  {
   "cell_type": "markdown",
   "id": "administrative-middle",
   "metadata": {},
   "source": [
    "- A total of 3 datasets are required before I can begin assessing my data. \n",
    "- First is `twitter_archive_enhanced.csv`, which is WeRateDogs Twitter archive provided for  by Udacity.\n",
    "- Second is `image_predictions.tsv`, which contains the tweet image predictions for dog breeds according to a neural network. It is hosted on Udacity servers and should be downloaded programmatically using the **Requests** library from this [link](https://d17h27t6h515a5.cloudfront.net/topher/2017/August/599fd2ad_image-predictions/image-predictions.tsv). \n",
    "- Third and finally, each tweet's retweet count and favourite count (and any other data I find interesting). I will be using Twitter's API to query these data, which I will then store in `tweet_json.txt`, line by line."
   ]
  },
  {
   "cell_type": "markdown",
   "id": "addressed-validation",
   "metadata": {},
   "source": [
    "<a id='dataset1'></a>\n",
    "#### Import 1st dataset through Pandas"
   ]
  },
  {
   "cell_type": "code",
   "execution_count": 1,
   "id": "honest-machine",
   "metadata": {},
   "outputs": [],
   "source": [
    "import pandas as pd\n",
    "import numpy as np\n",
    "import seaborn as sns\n",
    "import matplotlib.pyplot as plt\n",
    "%matplotlib inline"
   ]
  },
  {
   "cell_type": "code",
   "execution_count": 3,
   "id": "nasty-switch",
   "metadata": {},
   "outputs": [
    {
     "name": "stdout",
     "output_type": "stream",
     "text": [
      "There is a total of 2356 tweets from the archive\n"
     ]
    }
   ],
   "source": [
    "twitter_archive_df = pd.read_csv('./data/twitter-archive-enhanced.csv')\n",
    "print(f\"There is a total of {len(twitter_archive_df)} tweets from the archive\")"
   ]
  },
  {
   "cell_type": "code",
   "execution_count": 4,
   "id": "initial-patch",
   "metadata": {},
   "outputs": [
    {
     "data": {
      "text/html": [
       "<div>\n",
       "<style scoped>\n",
       "    .dataframe tbody tr th:only-of-type {\n",
       "        vertical-align: middle;\n",
       "    }\n",
       "\n",
       "    .dataframe tbody tr th {\n",
       "        vertical-align: top;\n",
       "    }\n",
       "\n",
       "    .dataframe thead th {\n",
       "        text-align: right;\n",
       "    }\n",
       "</style>\n",
       "<table border=\"1\" class=\"dataframe\">\n",
       "  <thead>\n",
       "    <tr style=\"text-align: right;\">\n",
       "      <th></th>\n",
       "      <th>tweet_id</th>\n",
       "      <th>in_reply_to_status_id</th>\n",
       "      <th>in_reply_to_user_id</th>\n",
       "      <th>timestamp</th>\n",
       "      <th>source</th>\n",
       "      <th>text</th>\n",
       "      <th>retweeted_status_id</th>\n",
       "      <th>retweeted_status_user_id</th>\n",
       "      <th>retweeted_status_timestamp</th>\n",
       "      <th>expanded_urls</th>\n",
       "      <th>rating_numerator</th>\n",
       "      <th>rating_denominator</th>\n",
       "      <th>name</th>\n",
       "      <th>doggo</th>\n",
       "      <th>floofer</th>\n",
       "      <th>pupper</th>\n",
       "      <th>puppo</th>\n",
       "    </tr>\n",
       "  </thead>\n",
       "  <tbody>\n",
       "    <tr>\n",
       "      <th>0</th>\n",
       "      <td>892420643555336193</td>\n",
       "      <td>NaN</td>\n",
       "      <td>NaN</td>\n",
       "      <td>2017-08-01 16:23:56 +0000</td>\n",
       "      <td>&lt;a href=\"http://twitter.com/download/iphone\" r...</td>\n",
       "      <td>This is Phineas. He's a mystical boy. Only eve...</td>\n",
       "      <td>NaN</td>\n",
       "      <td>NaN</td>\n",
       "      <td>NaN</td>\n",
       "      <td>https://twitter.com/dog_rates/status/892420643...</td>\n",
       "      <td>13</td>\n",
       "      <td>10</td>\n",
       "      <td>Phineas</td>\n",
       "      <td>None</td>\n",
       "      <td>None</td>\n",
       "      <td>None</td>\n",
       "      <td>None</td>\n",
       "    </tr>\n",
       "    <tr>\n",
       "      <th>1</th>\n",
       "      <td>892177421306343426</td>\n",
       "      <td>NaN</td>\n",
       "      <td>NaN</td>\n",
       "      <td>2017-08-01 00:17:27 +0000</td>\n",
       "      <td>&lt;a href=\"http://twitter.com/download/iphone\" r...</td>\n",
       "      <td>This is Tilly. She's just checking pup on you....</td>\n",
       "      <td>NaN</td>\n",
       "      <td>NaN</td>\n",
       "      <td>NaN</td>\n",
       "      <td>https://twitter.com/dog_rates/status/892177421...</td>\n",
       "      <td>13</td>\n",
       "      <td>10</td>\n",
       "      <td>Tilly</td>\n",
       "      <td>None</td>\n",
       "      <td>None</td>\n",
       "      <td>None</td>\n",
       "      <td>None</td>\n",
       "    </tr>\n",
       "    <tr>\n",
       "      <th>2</th>\n",
       "      <td>891815181378084864</td>\n",
       "      <td>NaN</td>\n",
       "      <td>NaN</td>\n",
       "      <td>2017-07-31 00:18:03 +0000</td>\n",
       "      <td>&lt;a href=\"http://twitter.com/download/iphone\" r...</td>\n",
       "      <td>This is Archie. He is a rare Norwegian Pouncin...</td>\n",
       "      <td>NaN</td>\n",
       "      <td>NaN</td>\n",
       "      <td>NaN</td>\n",
       "      <td>https://twitter.com/dog_rates/status/891815181...</td>\n",
       "      <td>12</td>\n",
       "      <td>10</td>\n",
       "      <td>Archie</td>\n",
       "      <td>None</td>\n",
       "      <td>None</td>\n",
       "      <td>None</td>\n",
       "      <td>None</td>\n",
       "    </tr>\n",
       "  </tbody>\n",
       "</table>\n",
       "</div>"
      ],
      "text/plain": [
       "             tweet_id  in_reply_to_status_id  in_reply_to_user_id  \\\n",
       "0  892420643555336193                    NaN                  NaN   \n",
       "1  892177421306343426                    NaN                  NaN   \n",
       "2  891815181378084864                    NaN                  NaN   \n",
       "\n",
       "                   timestamp  \\\n",
       "0  2017-08-01 16:23:56 +0000   \n",
       "1  2017-08-01 00:17:27 +0000   \n",
       "2  2017-07-31 00:18:03 +0000   \n",
       "\n",
       "                                              source  \\\n",
       "0  <a href=\"http://twitter.com/download/iphone\" r...   \n",
       "1  <a href=\"http://twitter.com/download/iphone\" r...   \n",
       "2  <a href=\"http://twitter.com/download/iphone\" r...   \n",
       "\n",
       "                                                text  retweeted_status_id  \\\n",
       "0  This is Phineas. He's a mystical boy. Only eve...                  NaN   \n",
       "1  This is Tilly. She's just checking pup on you....                  NaN   \n",
       "2  This is Archie. He is a rare Norwegian Pouncin...                  NaN   \n",
       "\n",
       "   retweeted_status_user_id retweeted_status_timestamp  \\\n",
       "0                       NaN                        NaN   \n",
       "1                       NaN                        NaN   \n",
       "2                       NaN                        NaN   \n",
       "\n",
       "                                       expanded_urls  rating_numerator  \\\n",
       "0  https://twitter.com/dog_rates/status/892420643...                13   \n",
       "1  https://twitter.com/dog_rates/status/892177421...                13   \n",
       "2  https://twitter.com/dog_rates/status/891815181...                12   \n",
       "\n",
       "   rating_denominator     name doggo floofer pupper puppo  \n",
       "0                  10  Phineas  None    None   None  None  \n",
       "1                  10    Tilly  None    None   None  None  \n",
       "2                  10   Archie  None    None   None  None  "
      ]
     },
     "execution_count": 4,
     "metadata": {},
     "output_type": "execute_result"
    }
   ],
   "source": [
    "# View first few rows\n",
    "twitter_archive_df.head(3)"
   ]
  },
  {
   "cell_type": "markdown",
   "id": "subject-cleanup",
   "metadata": {},
   "source": [
    "<a id='dataset2'></a>\n",
    "#### Import 2nd dataset through Request"
   ]
  },
  {
   "cell_type": "code",
   "execution_count": 5,
   "id": "increased-hepatitis",
   "metadata": {},
   "outputs": [],
   "source": [
    "import requests"
   ]
  },
  {
   "cell_type": "code",
   "execution_count": 6,
   "id": "interracial-petersburg",
   "metadata": {},
   "outputs": [],
   "source": [
    "url = 'https://d17h27t6h515a5.cloudfront.net/topher/2017/August/599fd2ad_image-predictions/image-predictions.tsv'\n",
    "response = requests.get(url)"
   ]
  },
  {
   "cell_type": "code",
   "execution_count": 7,
   "id": "detected-ancient",
   "metadata": {},
   "outputs": [
    {
     "data": {
      "text/plain": [
       "<Response [200]>"
      ]
     },
     "execution_count": 7,
     "metadata": {},
     "output_type": "execute_result"
    }
   ],
   "source": [
    "response # Successful"
   ]
  },
  {
   "cell_type": "code",
   "execution_count": 8,
   "id": "typical-extension",
   "metadata": {},
   "outputs": [
    {
     "data": {
      "text/plain": [
       "'utf-8'"
      ]
     },
     "execution_count": 8,
     "metadata": {},
     "output_type": "execute_result"
    }
   ],
   "source": [
    "response.encoding"
   ]
  },
  {
   "cell_type": "code",
   "execution_count": 9,
   "id": "emotional-blake",
   "metadata": {},
   "outputs": [],
   "source": [
    "# Read url content into csv file above\n",
    "with open('./data/dogs-image-predictions.csv', mode='wb') as file:\n",
    "    file.write(response.content)"
   ]
  },
  {
   "cell_type": "code",
   "execution_count": 10,
   "id": "whole-roberts",
   "metadata": {},
   "outputs": [
    {
     "name": "stdout",
     "output_type": "stream",
     "text": [
      "There is a total of 2075 tweet predictions\n"
     ]
    }
   ],
   "source": [
    "# Import newly saved data separated by \\t\n",
    "image_predictions_df = pd.read_csv('./data/dogs-image-predictions.csv', sep='\\t')\n",
    "print(f\"There is a total of {len(image_predictions_df)} tweet predictions\")"
   ]
  },
  {
   "cell_type": "markdown",
   "id": "wrapped-flood",
   "metadata": {},
   "source": [
    "Take note that there are fewer tweet predictions to the tweets in the archive."
   ]
  },
  {
   "cell_type": "markdown",
   "id": "secure-spell",
   "metadata": {},
   "source": [
    "<a id='dataset3'></a>\n",
    "#### Import 3rd dataset through Tweepy"
   ]
  },
  {
   "cell_type": "markdown",
   "id": "fatal-mustang",
   "metadata": {},
   "source": [
    "- I will be using [Tweepy](https://docs.tweepy.org/en/latest/getting_started.html), which is an open source Python library used to querying and accessing Twitter's data directly on Python. \n",
    "- I found this [article](https://www.geeksforgeeks.org/python-status-object-in-tweepy/) to be particularly useful in helping me understand how to access the attributes from the API object"
   ]
  },
  {
   "cell_type": "code",
   "execution_count": 11,
   "id": "possible-bernard",
   "metadata": {},
   "outputs": [],
   "source": [
    "import tweepy\n",
    "\n",
    "consumer_key = 'private'\n",
    "consumer_secret = 'private'\n",
    "access_token = 'private'\n",
    "access_secret = 'private'\n",
    "\n",
    "auth = tweepy.OAuthHandler(consumer_key, consumer_secret)\n",
    "auth.set_access_token(access_token, access_secret)\n",
    "\n",
    "api = tweepy.API(auth)"
   ]
  },
  {
   "cell_type": "markdown",
   "id": "superb-operation",
   "metadata": {},
   "source": [
    "Test a single query from any random twitter id from the datasets above."
   ]
  },
  {
   "cell_type": "code",
   "execution_count": 12,
   "id": "lucky-adoption",
   "metadata": {},
   "outputs": [
    {
     "data": {
      "text/plain": [
       "Status(_api=<tweepy.api.API object at 0x7f85dd405f40>, _json={'created_at': 'Tue Aug 01 16:23:56 +0000 2017', 'id': 892420643555336193, 'id_str': '892420643555336193', 'text': \"This is Phineas. He's a mystical boy. Only ever appears in the hole of a donut. 13/10 https://t.co/MgUWQ76dJU\", 'truncated': False, 'entities': {'hashtags': [], 'symbols': [], 'user_mentions': [], 'urls': [], 'media': [{'id': 892420639486877696, 'id_str': '892420639486877696', 'indices': [86, 109], 'media_url': 'http://pbs.twimg.com/media/DGKD1-bXoAAIAUK.jpg', 'media_url_https': 'https://pbs.twimg.com/media/DGKD1-bXoAAIAUK.jpg', 'url': 'https://t.co/MgUWQ76dJU', 'display_url': 'pic.twitter.com/MgUWQ76dJU', 'expanded_url': 'https://twitter.com/dog_rates/status/892420643555336193/photo/1', 'type': 'photo', 'sizes': {'thumb': {'w': 150, 'h': 150, 'resize': 'crop'}, 'medium': {'w': 540, 'h': 528, 'resize': 'fit'}, 'small': {'w': 540, 'h': 528, 'resize': 'fit'}, 'large': {'w': 540, 'h': 528, 'resize': 'fit'}}}]}, 'extended_entities': {'media': [{'id': 892420639486877696, 'id_str': '892420639486877696', 'indices': [86, 109], 'media_url': 'http://pbs.twimg.com/media/DGKD1-bXoAAIAUK.jpg', 'media_url_https': 'https://pbs.twimg.com/media/DGKD1-bXoAAIAUK.jpg', 'url': 'https://t.co/MgUWQ76dJU', 'display_url': 'pic.twitter.com/MgUWQ76dJU', 'expanded_url': 'https://twitter.com/dog_rates/status/892420643555336193/photo/1', 'type': 'photo', 'sizes': {'thumb': {'w': 150, 'h': 150, 'resize': 'crop'}, 'medium': {'w': 540, 'h': 528, 'resize': 'fit'}, 'small': {'w': 540, 'h': 528, 'resize': 'fit'}, 'large': {'w': 540, 'h': 528, 'resize': 'fit'}}}]}, 'source': '<a href=\"http://twitter.com/download/iphone\" rel=\"nofollow\">Twitter for iPhone</a>', 'in_reply_to_status_id': None, 'in_reply_to_status_id_str': None, 'in_reply_to_user_id': None, 'in_reply_to_user_id_str': None, 'in_reply_to_screen_name': None, 'user': {'id': 4196983835, 'id_str': '4196983835', 'name': 'WeRateDogs®', 'screen_name': 'dog_rates', 'location': 'links and things ➜', 'description': 'Your Only Source For Professional Dog Ratings Instagram and Facebook ➜ WeRateDogs partnerships@weratedogs.com ⠀⠀⠀⠀⠀⠀⠀⠀⠀⠀⠀⠀', 'url': 'https://t.co/hADNnRWmP3', 'entities': {'url': {'urls': [{'url': 'https://t.co/hADNnRWmP3', 'expanded_url': 'http://campsite.bio/weratedogs', 'display_url': 'campsite.bio/weratedogs', 'indices': [0, 23]}]}, 'description': {'urls': []}}, 'protected': False, 'followers_count': 9000751, 'friends_count': 18, 'listed_count': 6658, 'created_at': 'Sun Nov 15 21:41:29 +0000 2015', 'favourites_count': 145410, 'utc_offset': None, 'time_zone': None, 'geo_enabled': True, 'verified': True, 'statuses_count': 13853, 'lang': None, 'contributors_enabled': False, 'is_translator': False, 'is_translation_enabled': False, 'profile_background_color': '000000', 'profile_background_image_url': 'http://abs.twimg.com/images/themes/theme1/bg.png', 'profile_background_image_url_https': 'https://abs.twimg.com/images/themes/theme1/bg.png', 'profile_background_tile': False, 'profile_image_url': 'http://pbs.twimg.com/profile_images/1351720980972933122/I3MnYUdm_normal.jpg', 'profile_image_url_https': 'https://pbs.twimg.com/profile_images/1351720980972933122/I3MnYUdm_normal.jpg', 'profile_banner_url': 'https://pbs.twimg.com/profile_banners/4196983835/1617810473', 'profile_link_color': 'F5ABB5', 'profile_sidebar_border_color': '000000', 'profile_sidebar_fill_color': '000000', 'profile_text_color': '000000', 'profile_use_background_image': False, 'has_extended_profile': False, 'default_profile': False, 'default_profile_image': False, 'following': False, 'follow_request_sent': False, 'notifications': False, 'translator_type': 'none', 'withheld_in_countries': []}, 'geo': None, 'coordinates': None, 'place': None, 'contributors': None, 'is_quote_status': False, 'retweet_count': 7273, 'favorite_count': 34723, 'favorited': False, 'retweeted': False, 'possibly_sensitive': False, 'possibly_sensitive_appealable': False, 'lang': 'en'}, created_at=datetime.datetime(2017, 8, 1, 16, 23, 56), id=892420643555336193, id_str='892420643555336193', text=\"This is Phineas. He's a mystical boy. Only ever appears in the hole of a donut. 13/10 https://t.co/MgUWQ76dJU\", truncated=False, entities={'hashtags': [], 'symbols': [], 'user_mentions': [], 'urls': [], 'media': [{'id': 892420639486877696, 'id_str': '892420639486877696', 'indices': [86, 109], 'media_url': 'http://pbs.twimg.com/media/DGKD1-bXoAAIAUK.jpg', 'media_url_https': 'https://pbs.twimg.com/media/DGKD1-bXoAAIAUK.jpg', 'url': 'https://t.co/MgUWQ76dJU', 'display_url': 'pic.twitter.com/MgUWQ76dJU', 'expanded_url': 'https://twitter.com/dog_rates/status/892420643555336193/photo/1', 'type': 'photo', 'sizes': {'thumb': {'w': 150, 'h': 150, 'resize': 'crop'}, 'medium': {'w': 540, 'h': 528, 'resize': 'fit'}, 'small': {'w': 540, 'h': 528, 'resize': 'fit'}, 'large': {'w': 540, 'h': 528, 'resize': 'fit'}}}]}, extended_entities={'media': [{'id': 892420639486877696, 'id_str': '892420639486877696', 'indices': [86, 109], 'media_url': 'http://pbs.twimg.com/media/DGKD1-bXoAAIAUK.jpg', 'media_url_https': 'https://pbs.twimg.com/media/DGKD1-bXoAAIAUK.jpg', 'url': 'https://t.co/MgUWQ76dJU', 'display_url': 'pic.twitter.com/MgUWQ76dJU', 'expanded_url': 'https://twitter.com/dog_rates/status/892420643555336193/photo/1', 'type': 'photo', 'sizes': {'thumb': {'w': 150, 'h': 150, 'resize': 'crop'}, 'medium': {'w': 540, 'h': 528, 'resize': 'fit'}, 'small': {'w': 540, 'h': 528, 'resize': 'fit'}, 'large': {'w': 540, 'h': 528, 'resize': 'fit'}}}]}, source='Twitter for iPhone', source_url='http://twitter.com/download/iphone', in_reply_to_status_id=None, in_reply_to_status_id_str=None, in_reply_to_user_id=None, in_reply_to_user_id_str=None, in_reply_to_screen_name=None, author=User(_api=<tweepy.api.API object at 0x7f85dd405f40>, _json={'id': 4196983835, 'id_str': '4196983835', 'name': 'WeRateDogs®', 'screen_name': 'dog_rates', 'location': 'links and things ➜', 'description': 'Your Only Source For Professional Dog Ratings Instagram and Facebook ➜ WeRateDogs partnerships@weratedogs.com ⠀⠀⠀⠀⠀⠀⠀⠀⠀⠀⠀⠀', 'url': 'https://t.co/hADNnRWmP3', 'entities': {'url': {'urls': [{'url': 'https://t.co/hADNnRWmP3', 'expanded_url': 'http://campsite.bio/weratedogs', 'display_url': 'campsite.bio/weratedogs', 'indices': [0, 23]}]}, 'description': {'urls': []}}, 'protected': False, 'followers_count': 9000751, 'friends_count': 18, 'listed_count': 6658, 'created_at': 'Sun Nov 15 21:41:29 +0000 2015', 'favourites_count': 145410, 'utc_offset': None, 'time_zone': None, 'geo_enabled': True, 'verified': True, 'statuses_count': 13853, 'lang': None, 'contributors_enabled': False, 'is_translator': False, 'is_translation_enabled': False, 'profile_background_color': '000000', 'profile_background_image_url': 'http://abs.twimg.com/images/themes/theme1/bg.png', 'profile_background_image_url_https': 'https://abs.twimg.com/images/themes/theme1/bg.png', 'profile_background_tile': False, 'profile_image_url': 'http://pbs.twimg.com/profile_images/1351720980972933122/I3MnYUdm_normal.jpg', 'profile_image_url_https': 'https://pbs.twimg.com/profile_images/1351720980972933122/I3MnYUdm_normal.jpg', 'profile_banner_url': 'https://pbs.twimg.com/profile_banners/4196983835/1617810473', 'profile_link_color': 'F5ABB5', 'profile_sidebar_border_color': '000000', 'profile_sidebar_fill_color': '000000', 'profile_text_color': '000000', 'profile_use_background_image': False, 'has_extended_profile': False, 'default_profile': False, 'default_profile_image': False, 'following': False, 'follow_request_sent': False, 'notifications': False, 'translator_type': 'none', 'withheld_in_countries': []}, id=4196983835, id_str='4196983835', name='WeRateDogs®', screen_name='dog_rates', location='links and things ➜', description='Your Only Source For Professional Dog Ratings Instagram and Facebook ➜ WeRateDogs partnerships@weratedogs.com ⠀⠀⠀⠀⠀⠀⠀⠀⠀⠀⠀⠀', url='https://t.co/hADNnRWmP3', entities={'url': {'urls': [{'url': 'https://t.co/hADNnRWmP3', 'expanded_url': 'http://campsite.bio/weratedogs', 'display_url': 'campsite.bio/weratedogs', 'indices': [0, 23]}]}, 'description': {'urls': []}}, protected=False, followers_count=9000751, friends_count=18, listed_count=6658, created_at=datetime.datetime(2015, 11, 15, 21, 41, 29), favourites_count=145410, utc_offset=None, time_zone=None, geo_enabled=True, verified=True, statuses_count=13853, lang=None, contributors_enabled=False, is_translator=False, is_translation_enabled=False, profile_background_color='000000', profile_background_image_url='http://abs.twimg.com/images/themes/theme1/bg.png', profile_background_image_url_https='https://abs.twimg.com/images/themes/theme1/bg.png', profile_background_tile=False, profile_image_url='http://pbs.twimg.com/profile_images/1351720980972933122/I3MnYUdm_normal.jpg', profile_image_url_https='https://pbs.twimg.com/profile_images/1351720980972933122/I3MnYUdm_normal.jpg', profile_banner_url='https://pbs.twimg.com/profile_banners/4196983835/1617810473', profile_link_color='F5ABB5', profile_sidebar_border_color='000000', profile_sidebar_fill_color='000000', profile_text_color='000000', profile_use_background_image=False, has_extended_profile=False, default_profile=False, default_profile_image=False, following=False, follow_request_sent=False, notifications=False, translator_type='none', withheld_in_countries=[]), user=User(_api=<tweepy.api.API object at 0x7f85dd405f40>, _json={'id': 4196983835, 'id_str': '4196983835', 'name': 'WeRateDogs®', 'screen_name': 'dog_rates', 'location': 'links and things ➜', 'description': 'Your Only Source For Professional Dog Ratings Instagram and Facebook ➜ WeRateDogs partnerships@weratedogs.com ⠀⠀⠀⠀⠀⠀⠀⠀⠀⠀⠀⠀', 'url': 'https://t.co/hADNnRWmP3', 'entities': {'url': {'urls': [{'url': 'https://t.co/hADNnRWmP3', 'expanded_url': 'http://campsite.bio/weratedogs', 'display_url': 'campsite.bio/weratedogs', 'indices': [0, 23]}]}, 'description': {'urls': []}}, 'protected': False, 'followers_count': 9000751, 'friends_count': 18, 'listed_count': 6658, 'created_at': 'Sun Nov 15 21:41:29 +0000 2015', 'favourites_count': 145410, 'utc_offset': None, 'time_zone': None, 'geo_enabled': True, 'verified': True, 'statuses_count': 13853, 'lang': None, 'contributors_enabled': False, 'is_translator': False, 'is_translation_enabled': False, 'profile_background_color': '000000', 'profile_background_image_url': 'http://abs.twimg.com/images/themes/theme1/bg.png', 'profile_background_image_url_https': 'https://abs.twimg.com/images/themes/theme1/bg.png', 'profile_background_tile': False, 'profile_image_url': 'http://pbs.twimg.com/profile_images/1351720980972933122/I3MnYUdm_normal.jpg', 'profile_image_url_https': 'https://pbs.twimg.com/profile_images/1351720980972933122/I3MnYUdm_normal.jpg', 'profile_banner_url': 'https://pbs.twimg.com/profile_banners/4196983835/1617810473', 'profile_link_color': 'F5ABB5', 'profile_sidebar_border_color': '000000', 'profile_sidebar_fill_color': '000000', 'profile_text_color': '000000', 'profile_use_background_image': False, 'has_extended_profile': False, 'default_profile': False, 'default_profile_image': False, 'following': False, 'follow_request_sent': False, 'notifications': False, 'translator_type': 'none', 'withheld_in_countries': []}, id=4196983835, id_str='4196983835', name='WeRateDogs®', screen_name='dog_rates', location='links and things ➜', description='Your Only Source For Professional Dog Ratings Instagram and Facebook ➜ WeRateDogs partnerships@weratedogs.com ⠀⠀⠀⠀⠀⠀⠀⠀⠀⠀⠀⠀', url='https://t.co/hADNnRWmP3', entities={'url': {'urls': [{'url': 'https://t.co/hADNnRWmP3', 'expanded_url': 'http://campsite.bio/weratedogs', 'display_url': 'campsite.bio/weratedogs', 'indices': [0, 23]}]}, 'description': {'urls': []}}, protected=False, followers_count=9000751, friends_count=18, listed_count=6658, created_at=datetime.datetime(2015, 11, 15, 21, 41, 29), favourites_count=145410, utc_offset=None, time_zone=None, geo_enabled=True, verified=True, statuses_count=13853, lang=None, contributors_enabled=False, is_translator=False, is_translation_enabled=False, profile_background_color='000000', profile_background_image_url='http://abs.twimg.com/images/themes/theme1/bg.png', profile_background_image_url_https='https://abs.twimg.com/images/themes/theme1/bg.png', profile_background_tile=False, profile_image_url='http://pbs.twimg.com/profile_images/1351720980972933122/I3MnYUdm_normal.jpg', profile_image_url_https='https://pbs.twimg.com/profile_images/1351720980972933122/I3MnYUdm_normal.jpg', profile_banner_url='https://pbs.twimg.com/profile_banners/4196983835/1617810473', profile_link_color='F5ABB5', profile_sidebar_border_color='000000', profile_sidebar_fill_color='000000', profile_text_color='000000', profile_use_background_image=False, has_extended_profile=False, default_profile=False, default_profile_image=False, following=False, follow_request_sent=False, notifications=False, translator_type='none', withheld_in_countries=[]), geo=None, coordinates=None, place=None, contributors=None, is_quote_status=False, retweet_count=7273, favorite_count=34723, favorited=False, retweeted=False, possibly_sensitive=False, possibly_sensitive_appealable=False, lang='en')"
      ]
     },
     "execution_count": 12,
     "metadata": {},
     "output_type": "execute_result"
    }
   ],
   "source": [
    "tweepy.API(auth_handler=auth, wait_on_rate_limit=True, wait_on_rate_limit_notify=True).get_status(892420643555336193)"
   ]
  },
  {
   "cell_type": "markdown",
   "id": "contained-tulsa",
   "metadata": {},
   "source": [
    "We can see that the retweet and favourite counts are stored under `retweet_count` and `favorite_count`"
   ]
  },
  {
   "cell_type": "code",
   "execution_count": 13,
   "id": "employed-montgomery",
   "metadata": {},
   "outputs": [],
   "source": [
    "api_results = tweepy.API(auth_handler=auth, wait_on_rate_limit=True, wait_on_rate_limit_notify=True).get_status(891815181378084864)"
   ]
  },
  {
   "cell_type": "code",
   "execution_count": 14,
   "id": "german-magnitude",
   "metadata": {},
   "outputs": [
    {
     "data": {
      "text/plain": [
       "891815181378084864"
      ]
     },
     "execution_count": 14,
     "metadata": {},
     "output_type": "execute_result"
    }
   ],
   "source": [
    "api_results.id"
   ]
  },
  {
   "cell_type": "code",
   "execution_count": 15,
   "id": "unnecessary-commander",
   "metadata": {},
   "outputs": [
    {
     "data": {
      "text/plain": [
       "3585"
      ]
     },
     "execution_count": 15,
     "metadata": {},
     "output_type": "execute_result"
    }
   ],
   "source": [
    "api_results.retweet_count"
   ]
  },
  {
   "cell_type": "code",
   "execution_count": 16,
   "id": "prospective-milwaukee",
   "metadata": {},
   "outputs": [
    {
     "data": {
      "text/plain": [
       "22655"
      ]
     },
     "execution_count": 16,
     "metadata": {},
     "output_type": "execute_result"
    }
   ],
   "source": [
    "api_results.favorite_count"
   ]
  },
  {
   "cell_type": "markdown",
   "id": "integrated-evans",
   "metadata": {},
   "source": [
    "- Use a loop to store all ids, retweet counts and favorite counts into a text file, `tweet_json.txt`, line by line\n",
    "- Read data into a csv file"
   ]
  },
  {
   "cell_type": "code",
   "execution_count": 17,
   "id": "inner-blade",
   "metadata": {},
   "outputs": [],
   "source": [
    "from collections import defaultdict\n",
    "from tqdm import tqdm"
   ]
  },
  {
   "cell_type": "code",
   "execution_count": 18,
   "id": "expensive-panama",
   "metadata": {},
   "outputs": [],
   "source": [
    "# Get a list of all unique twitter ids from the first dataset\n",
    "unique_twitter_id = twitter_archive_df['tweet_id'].unique().tolist()"
   ]
  },
  {
   "cell_type": "code",
   "execution_count": null,
   "id": "angry-renaissance",
   "metadata": {
    "scrolled": true
   },
   "outputs": [],
   "source": [
    "# Query and store results\n",
    "file = open('./data/tweet_json.txt', 'w')\n",
    "\n",
    "for i, j in tqdm(list(enumerate(unique_twitter_id))):\n",
    "    try:\n",
    "        api_results = tweepy.API(auth_handler=auth, wait_on_rate_limit=True, wait_on_rate_limit_notify=True).get_status(j)\n",
    "        if i != 2355: # last id\n",
    "            file.write(str(api_results.id) + '/' + str(api_results.retweet_count) + '/' + str(api_results.favorite_count) + '\\n')\n",
    "        else:\n",
    "            file.write(str(api_results.id) + '/' + str(api_results.retweet_count) + '/' + str(api_results.favorite_count))\n",
    "            \n",
    "    except:\n",
    "        print(f\"Tweet id {x} cannot be found on Twitter anymore\")\n",
    "        pass\n",
    "\n",
    "file.close()"
   ]
  },
  {
   "cell_type": "code",
   "execution_count": 19,
   "id": "constant-encyclopedia",
   "metadata": {},
   "outputs": [
    {
     "data": {
      "text/html": [
       "<div>\n",
       "<style scoped>\n",
       "    .dataframe tbody tr th:only-of-type {\n",
       "        vertical-align: middle;\n",
       "    }\n",
       "\n",
       "    .dataframe tbody tr th {\n",
       "        vertical-align: top;\n",
       "    }\n",
       "\n",
       "    .dataframe thead th {\n",
       "        text-align: right;\n",
       "    }\n",
       "</style>\n",
       "<table border=\"1\" class=\"dataframe\">\n",
       "  <thead>\n",
       "    <tr style=\"text-align: right;\">\n",
       "      <th></th>\n",
       "      <th>tweet_id</th>\n",
       "      <th>retweet_count</th>\n",
       "      <th>favorite_count</th>\n",
       "    </tr>\n",
       "  </thead>\n",
       "  <tbody>\n",
       "    <tr>\n",
       "      <th>0</th>\n",
       "      <td>892420643555336193</td>\n",
       "      <td>7279</td>\n",
       "      <td>34735</td>\n",
       "    </tr>\n",
       "    <tr>\n",
       "      <th>1</th>\n",
       "      <td>892177421306343426</td>\n",
       "      <td>5445</td>\n",
       "      <td>30116</td>\n",
       "    </tr>\n",
       "    <tr>\n",
       "      <th>2</th>\n",
       "      <td>891815181378084864</td>\n",
       "      <td>3584</td>\n",
       "      <td>22664</td>\n",
       "    </tr>\n",
       "  </tbody>\n",
       "</table>\n",
       "</div>"
      ],
      "text/plain": [
       "             tweet_id  retweet_count  favorite_count\n",
       "0  892420643555336193           7279           34735\n",
       "1  892177421306343426           5445           30116\n",
       "2  891815181378084864           3584           22664"
      ]
     },
     "execution_count": 19,
     "metadata": {},
     "output_type": "execute_result"
    }
   ],
   "source": [
    "# Read in the results above into a csv file\n",
    "twitter_api_df = pd.read_csv('./data/tweet_json.txt', header=None, sep='/', names=['tweet_id', 'retweet_count', 'favorite_count'])\n",
    "twitter_api_df.head(3)"
   ]
  },
  {
   "cell_type": "markdown",
   "id": "limiting-pharmacy",
   "metadata": {},
   "source": [
    "Alright, now I have my datasets: `twitter_archive_df`, `image_predictions_df` and `twitter_api_df`\n",
    "\n",
    "I will now be assessing them. But first, I will consolidate the data into a single, final dataframe as `twitter_combined_df` (as opposed to assessing the datasets individually and separately, then later combining them).\n",
    "\n",
    "---"
   ]
  },
  {
   "cell_type": "markdown",
   "id": "representative-maine",
   "metadata": {},
   "source": [
    "<a id='assessdata'></a>\n",
    "### Assess data"
   ]
  },
  {
   "cell_type": "markdown",
   "id": "related-profile",
   "metadata": {},
   "source": [
    "Look at the first few rows of each dataset."
   ]
  },
  {
   "cell_type": "code",
   "execution_count": 20,
   "id": "expressed-grain",
   "metadata": {
    "scrolled": true
   },
   "outputs": [
    {
     "data": {
      "text/html": [
       "<div>\n",
       "<style scoped>\n",
       "    .dataframe tbody tr th:only-of-type {\n",
       "        vertical-align: middle;\n",
       "    }\n",
       "\n",
       "    .dataframe tbody tr th {\n",
       "        vertical-align: top;\n",
       "    }\n",
       "\n",
       "    .dataframe thead th {\n",
       "        text-align: right;\n",
       "    }\n",
       "</style>\n",
       "<table border=\"1\" class=\"dataframe\">\n",
       "  <thead>\n",
       "    <tr style=\"text-align: right;\">\n",
       "      <th></th>\n",
       "      <th>tweet_id</th>\n",
       "      <th>in_reply_to_status_id</th>\n",
       "      <th>in_reply_to_user_id</th>\n",
       "      <th>timestamp</th>\n",
       "      <th>source</th>\n",
       "      <th>text</th>\n",
       "      <th>retweeted_status_id</th>\n",
       "      <th>retweeted_status_user_id</th>\n",
       "      <th>retweeted_status_timestamp</th>\n",
       "      <th>expanded_urls</th>\n",
       "      <th>rating_numerator</th>\n",
       "      <th>rating_denominator</th>\n",
       "      <th>name</th>\n",
       "      <th>doggo</th>\n",
       "      <th>floofer</th>\n",
       "      <th>pupper</th>\n",
       "      <th>puppo</th>\n",
       "    </tr>\n",
       "  </thead>\n",
       "  <tbody>\n",
       "    <tr>\n",
       "      <th>0</th>\n",
       "      <td>892420643555336193</td>\n",
       "      <td>NaN</td>\n",
       "      <td>NaN</td>\n",
       "      <td>2017-08-01 16:23:56 +0000</td>\n",
       "      <td>&lt;a href=\"http://twitter.com/download/iphone\" r...</td>\n",
       "      <td>This is Phineas. He's a mystical boy. Only eve...</td>\n",
       "      <td>NaN</td>\n",
       "      <td>NaN</td>\n",
       "      <td>NaN</td>\n",
       "      <td>https://twitter.com/dog_rates/status/892420643...</td>\n",
       "      <td>13</td>\n",
       "      <td>10</td>\n",
       "      <td>Phineas</td>\n",
       "      <td>None</td>\n",
       "      <td>None</td>\n",
       "      <td>None</td>\n",
       "      <td>None</td>\n",
       "    </tr>\n",
       "    <tr>\n",
       "      <th>1</th>\n",
       "      <td>892177421306343426</td>\n",
       "      <td>NaN</td>\n",
       "      <td>NaN</td>\n",
       "      <td>2017-08-01 00:17:27 +0000</td>\n",
       "      <td>&lt;a href=\"http://twitter.com/download/iphone\" r...</td>\n",
       "      <td>This is Tilly. She's just checking pup on you....</td>\n",
       "      <td>NaN</td>\n",
       "      <td>NaN</td>\n",
       "      <td>NaN</td>\n",
       "      <td>https://twitter.com/dog_rates/status/892177421...</td>\n",
       "      <td>13</td>\n",
       "      <td>10</td>\n",
       "      <td>Tilly</td>\n",
       "      <td>None</td>\n",
       "      <td>None</td>\n",
       "      <td>None</td>\n",
       "      <td>None</td>\n",
       "    </tr>\n",
       "    <tr>\n",
       "      <th>2</th>\n",
       "      <td>891815181378084864</td>\n",
       "      <td>NaN</td>\n",
       "      <td>NaN</td>\n",
       "      <td>2017-07-31 00:18:03 +0000</td>\n",
       "      <td>&lt;a href=\"http://twitter.com/download/iphone\" r...</td>\n",
       "      <td>This is Archie. He is a rare Norwegian Pouncin...</td>\n",
       "      <td>NaN</td>\n",
       "      <td>NaN</td>\n",
       "      <td>NaN</td>\n",
       "      <td>https://twitter.com/dog_rates/status/891815181...</td>\n",
       "      <td>12</td>\n",
       "      <td>10</td>\n",
       "      <td>Archie</td>\n",
       "      <td>None</td>\n",
       "      <td>None</td>\n",
       "      <td>None</td>\n",
       "      <td>None</td>\n",
       "    </tr>\n",
       "  </tbody>\n",
       "</table>\n",
       "</div>"
      ],
      "text/plain": [
       "             tweet_id  in_reply_to_status_id  in_reply_to_user_id  \\\n",
       "0  892420643555336193                    NaN                  NaN   \n",
       "1  892177421306343426                    NaN                  NaN   \n",
       "2  891815181378084864                    NaN                  NaN   \n",
       "\n",
       "                   timestamp  \\\n",
       "0  2017-08-01 16:23:56 +0000   \n",
       "1  2017-08-01 00:17:27 +0000   \n",
       "2  2017-07-31 00:18:03 +0000   \n",
       "\n",
       "                                              source  \\\n",
       "0  <a href=\"http://twitter.com/download/iphone\" r...   \n",
       "1  <a href=\"http://twitter.com/download/iphone\" r...   \n",
       "2  <a href=\"http://twitter.com/download/iphone\" r...   \n",
       "\n",
       "                                                text  retweeted_status_id  \\\n",
       "0  This is Phineas. He's a mystical boy. Only eve...                  NaN   \n",
       "1  This is Tilly. She's just checking pup on you....                  NaN   \n",
       "2  This is Archie. He is a rare Norwegian Pouncin...                  NaN   \n",
       "\n",
       "   retweeted_status_user_id retweeted_status_timestamp  \\\n",
       "0                       NaN                        NaN   \n",
       "1                       NaN                        NaN   \n",
       "2                       NaN                        NaN   \n",
       "\n",
       "                                       expanded_urls  rating_numerator  \\\n",
       "0  https://twitter.com/dog_rates/status/892420643...                13   \n",
       "1  https://twitter.com/dog_rates/status/892177421...                13   \n",
       "2  https://twitter.com/dog_rates/status/891815181...                12   \n",
       "\n",
       "   rating_denominator     name doggo floofer pupper puppo  \n",
       "0                  10  Phineas  None    None   None  None  \n",
       "1                  10    Tilly  None    None   None  None  \n",
       "2                  10   Archie  None    None   None  None  "
      ]
     },
     "execution_count": 20,
     "metadata": {},
     "output_type": "execute_result"
    }
   ],
   "source": [
    "twitter_archive_df.head(3)"
   ]
  },
  {
   "cell_type": "code",
   "execution_count": 21,
   "id": "informed-wiring",
   "metadata": {},
   "outputs": [
    {
     "data": {
      "text/html": [
       "<div>\n",
       "<style scoped>\n",
       "    .dataframe tbody tr th:only-of-type {\n",
       "        vertical-align: middle;\n",
       "    }\n",
       "\n",
       "    .dataframe tbody tr th {\n",
       "        vertical-align: top;\n",
       "    }\n",
       "\n",
       "    .dataframe thead th {\n",
       "        text-align: right;\n",
       "    }\n",
       "</style>\n",
       "<table border=\"1\" class=\"dataframe\">\n",
       "  <thead>\n",
       "    <tr style=\"text-align: right;\">\n",
       "      <th></th>\n",
       "      <th>tweet_id</th>\n",
       "      <th>jpg_url</th>\n",
       "      <th>img_num</th>\n",
       "      <th>p1</th>\n",
       "      <th>p1_conf</th>\n",
       "      <th>p1_dog</th>\n",
       "      <th>p2</th>\n",
       "      <th>p2_conf</th>\n",
       "      <th>p2_dog</th>\n",
       "      <th>p3</th>\n",
       "      <th>p3_conf</th>\n",
       "      <th>p3_dog</th>\n",
       "    </tr>\n",
       "  </thead>\n",
       "  <tbody>\n",
       "    <tr>\n",
       "      <th>0</th>\n",
       "      <td>666020888022790149</td>\n",
       "      <td>https://pbs.twimg.com/media/CT4udn0WwAA0aMy.jpg</td>\n",
       "      <td>1</td>\n",
       "      <td>Welsh_springer_spaniel</td>\n",
       "      <td>0.465074</td>\n",
       "      <td>True</td>\n",
       "      <td>collie</td>\n",
       "      <td>0.156665</td>\n",
       "      <td>True</td>\n",
       "      <td>Shetland_sheepdog</td>\n",
       "      <td>0.061428</td>\n",
       "      <td>True</td>\n",
       "    </tr>\n",
       "    <tr>\n",
       "      <th>1</th>\n",
       "      <td>666029285002620928</td>\n",
       "      <td>https://pbs.twimg.com/media/CT42GRgUYAA5iDo.jpg</td>\n",
       "      <td>1</td>\n",
       "      <td>redbone</td>\n",
       "      <td>0.506826</td>\n",
       "      <td>True</td>\n",
       "      <td>miniature_pinscher</td>\n",
       "      <td>0.074192</td>\n",
       "      <td>True</td>\n",
       "      <td>Rhodesian_ridgeback</td>\n",
       "      <td>0.072010</td>\n",
       "      <td>True</td>\n",
       "    </tr>\n",
       "    <tr>\n",
       "      <th>2</th>\n",
       "      <td>666033412701032449</td>\n",
       "      <td>https://pbs.twimg.com/media/CT4521TWwAEvMyu.jpg</td>\n",
       "      <td>1</td>\n",
       "      <td>German_shepherd</td>\n",
       "      <td>0.596461</td>\n",
       "      <td>True</td>\n",
       "      <td>malinois</td>\n",
       "      <td>0.138584</td>\n",
       "      <td>True</td>\n",
       "      <td>bloodhound</td>\n",
       "      <td>0.116197</td>\n",
       "      <td>True</td>\n",
       "    </tr>\n",
       "  </tbody>\n",
       "</table>\n",
       "</div>"
      ],
      "text/plain": [
       "             tweet_id                                          jpg_url  \\\n",
       "0  666020888022790149  https://pbs.twimg.com/media/CT4udn0WwAA0aMy.jpg   \n",
       "1  666029285002620928  https://pbs.twimg.com/media/CT42GRgUYAA5iDo.jpg   \n",
       "2  666033412701032449  https://pbs.twimg.com/media/CT4521TWwAEvMyu.jpg   \n",
       "\n",
       "   img_num                      p1   p1_conf  p1_dog                  p2  \\\n",
       "0        1  Welsh_springer_spaniel  0.465074    True              collie   \n",
       "1        1                 redbone  0.506826    True  miniature_pinscher   \n",
       "2        1         German_shepherd  0.596461    True            malinois   \n",
       "\n",
       "    p2_conf  p2_dog                   p3   p3_conf  p3_dog  \n",
       "0  0.156665    True    Shetland_sheepdog  0.061428    True  \n",
       "1  0.074192    True  Rhodesian_ridgeback  0.072010    True  \n",
       "2  0.138584    True           bloodhound  0.116197    True  "
      ]
     },
     "execution_count": 21,
     "metadata": {},
     "output_type": "execute_result"
    }
   ],
   "source": [
    "image_predictions_df.head(3)"
   ]
  },
  {
   "cell_type": "code",
   "execution_count": 22,
   "id": "opened-funds",
   "metadata": {},
   "outputs": [
    {
     "data": {
      "text/html": [
       "<div>\n",
       "<style scoped>\n",
       "    .dataframe tbody tr th:only-of-type {\n",
       "        vertical-align: middle;\n",
       "    }\n",
       "\n",
       "    .dataframe tbody tr th {\n",
       "        vertical-align: top;\n",
       "    }\n",
       "\n",
       "    .dataframe thead th {\n",
       "        text-align: right;\n",
       "    }\n",
       "</style>\n",
       "<table border=\"1\" class=\"dataframe\">\n",
       "  <thead>\n",
       "    <tr style=\"text-align: right;\">\n",
       "      <th></th>\n",
       "      <th>tweet_id</th>\n",
       "      <th>retweet_count</th>\n",
       "      <th>favorite_count</th>\n",
       "    </tr>\n",
       "  </thead>\n",
       "  <tbody>\n",
       "    <tr>\n",
       "      <th>0</th>\n",
       "      <td>892420643555336193</td>\n",
       "      <td>7279</td>\n",
       "      <td>34735</td>\n",
       "    </tr>\n",
       "    <tr>\n",
       "      <th>1</th>\n",
       "      <td>892177421306343426</td>\n",
       "      <td>5445</td>\n",
       "      <td>30116</td>\n",
       "    </tr>\n",
       "    <tr>\n",
       "      <th>2</th>\n",
       "      <td>891815181378084864</td>\n",
       "      <td>3584</td>\n",
       "      <td>22664</td>\n",
       "    </tr>\n",
       "  </tbody>\n",
       "</table>\n",
       "</div>"
      ],
      "text/plain": [
       "             tweet_id  retweet_count  favorite_count\n",
       "0  892420643555336193           7279           34735\n",
       "1  892177421306343426           5445           30116\n",
       "2  891815181378084864           3584           22664"
      ]
     },
     "execution_count": 22,
     "metadata": {},
     "output_type": "execute_result"
    }
   ],
   "source": [
    "twitter_api_df.head(3)"
   ]
  },
  {
   "cell_type": "markdown",
   "id": "detailed-backup",
   "metadata": {},
   "source": [
    "Check if the number of unique tweet IDs diff between the datasets."
   ]
  },
  {
   "cell_type": "code",
   "execution_count": 23,
   "id": "curious-particle",
   "metadata": {},
   "outputs": [
    {
     "name": "stdout",
     "output_type": "stream",
     "text": [
      "No. of unique IDs in the 1st dataset: 2356\n",
      "No. of unique IDs in the 2nd dataset: 2075\n",
      "No. of unique IDs in the 3rd dataset: 2330\n"
     ]
    }
   ],
   "source": [
    "print(f\"No. of unique IDs in the 1st dataset: {twitter_archive_df['tweet_id'].nunique()}\")\n",
    "print(f\"No. of unique IDs in the 2nd dataset: {image_predictions_df['tweet_id'].nunique()}\")\n",
    "print(f\"No. of unique IDs in the 3rd dataset: {twitter_api_df['tweet_id'].nunique()}\")"
   ]
  },
  {
   "cell_type": "markdown",
   "id": "oriental-survival",
   "metadata": {},
   "source": [
    "All datasets have different number of unique IDs. \n",
    "\n",
    "Nevertheless, **I will combine all datasets into one**, using `tweet_id` as the merging identifier."
   ]
  },
  {
   "cell_type": "code",
   "execution_count": 24,
   "id": "otherwise-thong",
   "metadata": {},
   "outputs": [
    {
     "data": {
      "text/plain": [
       "2356"
      ]
     },
     "execution_count": 24,
     "metadata": {},
     "output_type": "execute_result"
    }
   ],
   "source": [
    "twitter_combined_df = pd.merge(left=twitter_archive_df, right=image_predictions_df, on='tweet_id', how='outer')\n",
    "twitter_combined_df = pd.merge(left=twitter_combined_df, right=twitter_api_df, on='tweet_id', how='outer')\n",
    "\n",
    "assert len(twitter_combined_df) == twitter_combined_df['tweet_id'].nunique()\n",
    "\n",
    "len(twitter_combined_df)"
   ]
  },
  {
   "cell_type": "code",
   "execution_count": 25,
   "id": "british-gregory",
   "metadata": {},
   "outputs": [],
   "source": [
    "twitter_combined_df = twitter_combined_df.reset_index().drop(['index'], axis=1)"
   ]
  },
  {
   "cell_type": "code",
   "execution_count": 26,
   "id": "political-yacht",
   "metadata": {},
   "outputs": [
    {
     "data": {
      "text/html": [
       "<div>\n",
       "<style scoped>\n",
       "    .dataframe tbody tr th:only-of-type {\n",
       "        vertical-align: middle;\n",
       "    }\n",
       "\n",
       "    .dataframe tbody tr th {\n",
       "        vertical-align: top;\n",
       "    }\n",
       "\n",
       "    .dataframe thead th {\n",
       "        text-align: right;\n",
       "    }\n",
       "</style>\n",
       "<table border=\"1\" class=\"dataframe\">\n",
       "  <thead>\n",
       "    <tr style=\"text-align: right;\">\n",
       "      <th></th>\n",
       "      <th>tweet_id</th>\n",
       "      <th>in_reply_to_status_id</th>\n",
       "      <th>in_reply_to_user_id</th>\n",
       "      <th>timestamp</th>\n",
       "      <th>source</th>\n",
       "      <th>text</th>\n",
       "      <th>retweeted_status_id</th>\n",
       "      <th>retweeted_status_user_id</th>\n",
       "      <th>retweeted_status_timestamp</th>\n",
       "      <th>expanded_urls</th>\n",
       "      <th>...</th>\n",
       "      <th>p1_conf</th>\n",
       "      <th>p1_dog</th>\n",
       "      <th>p2</th>\n",
       "      <th>p2_conf</th>\n",
       "      <th>p2_dog</th>\n",
       "      <th>p3</th>\n",
       "      <th>p3_conf</th>\n",
       "      <th>p3_dog</th>\n",
       "      <th>retweet_count</th>\n",
       "      <th>favorite_count</th>\n",
       "    </tr>\n",
       "  </thead>\n",
       "  <tbody>\n",
       "    <tr>\n",
       "      <th>2353</th>\n",
       "      <td>666033412701032449</td>\n",
       "      <td>NaN</td>\n",
       "      <td>NaN</td>\n",
       "      <td>2015-11-15 23:21:54 +0000</td>\n",
       "      <td>&lt;a href=\"http://twitter.com/download/iphone\" r...</td>\n",
       "      <td>Here is a very happy pup. Big fan of well-main...</td>\n",
       "      <td>NaN</td>\n",
       "      <td>NaN</td>\n",
       "      <td>NaN</td>\n",
       "      <td>https://twitter.com/dog_rates/status/666033412...</td>\n",
       "      <td>...</td>\n",
       "      <td>0.596461</td>\n",
       "      <td>True</td>\n",
       "      <td>malinois</td>\n",
       "      <td>0.138584</td>\n",
       "      <td>True</td>\n",
       "      <td>bloodhound</td>\n",
       "      <td>0.116197</td>\n",
       "      <td>True</td>\n",
       "      <td>38.0</td>\n",
       "      <td>105.0</td>\n",
       "    </tr>\n",
       "    <tr>\n",
       "      <th>2354</th>\n",
       "      <td>666029285002620928</td>\n",
       "      <td>NaN</td>\n",
       "      <td>NaN</td>\n",
       "      <td>2015-11-15 23:05:30 +0000</td>\n",
       "      <td>&lt;a href=\"http://twitter.com/download/iphone\" r...</td>\n",
       "      <td>This is a western brown Mitsubishi terrier. Up...</td>\n",
       "      <td>NaN</td>\n",
       "      <td>NaN</td>\n",
       "      <td>NaN</td>\n",
       "      <td>https://twitter.com/dog_rates/status/666029285...</td>\n",
       "      <td>...</td>\n",
       "      <td>0.506826</td>\n",
       "      <td>True</td>\n",
       "      <td>miniature_pinscher</td>\n",
       "      <td>0.074192</td>\n",
       "      <td>True</td>\n",
       "      <td>Rhodesian_ridgeback</td>\n",
       "      <td>0.072010</td>\n",
       "      <td>True</td>\n",
       "      <td>41.0</td>\n",
       "      <td>117.0</td>\n",
       "    </tr>\n",
       "    <tr>\n",
       "      <th>2355</th>\n",
       "      <td>666020888022790149</td>\n",
       "      <td>NaN</td>\n",
       "      <td>NaN</td>\n",
       "      <td>2015-11-15 22:32:08 +0000</td>\n",
       "      <td>&lt;a href=\"http://twitter.com/download/iphone\" r...</td>\n",
       "      <td>Here we have a Japanese Irish Setter. Lost eye...</td>\n",
       "      <td>NaN</td>\n",
       "      <td>NaN</td>\n",
       "      <td>NaN</td>\n",
       "      <td>https://twitter.com/dog_rates/status/666020888...</td>\n",
       "      <td>...</td>\n",
       "      <td>0.465074</td>\n",
       "      <td>True</td>\n",
       "      <td>collie</td>\n",
       "      <td>0.156665</td>\n",
       "      <td>True</td>\n",
       "      <td>Shetland_sheepdog</td>\n",
       "      <td>0.061428</td>\n",
       "      <td>True</td>\n",
       "      <td>440.0</td>\n",
       "      <td>2333.0</td>\n",
       "    </tr>\n",
       "  </tbody>\n",
       "</table>\n",
       "<p>3 rows × 30 columns</p>\n",
       "</div>"
      ],
      "text/plain": [
       "                tweet_id  in_reply_to_status_id  in_reply_to_user_id  \\\n",
       "2353  666033412701032449                    NaN                  NaN   \n",
       "2354  666029285002620928                    NaN                  NaN   \n",
       "2355  666020888022790149                    NaN                  NaN   \n",
       "\n",
       "                      timestamp  \\\n",
       "2353  2015-11-15 23:21:54 +0000   \n",
       "2354  2015-11-15 23:05:30 +0000   \n",
       "2355  2015-11-15 22:32:08 +0000   \n",
       "\n",
       "                                                 source  \\\n",
       "2353  <a href=\"http://twitter.com/download/iphone\" r...   \n",
       "2354  <a href=\"http://twitter.com/download/iphone\" r...   \n",
       "2355  <a href=\"http://twitter.com/download/iphone\" r...   \n",
       "\n",
       "                                                   text  retweeted_status_id  \\\n",
       "2353  Here is a very happy pup. Big fan of well-main...                  NaN   \n",
       "2354  This is a western brown Mitsubishi terrier. Up...                  NaN   \n",
       "2355  Here we have a Japanese Irish Setter. Lost eye...                  NaN   \n",
       "\n",
       "      retweeted_status_user_id retweeted_status_timestamp  \\\n",
       "2353                       NaN                        NaN   \n",
       "2354                       NaN                        NaN   \n",
       "2355                       NaN                        NaN   \n",
       "\n",
       "                                          expanded_urls  ...   p1_conf  \\\n",
       "2353  https://twitter.com/dog_rates/status/666033412...  ...  0.596461   \n",
       "2354  https://twitter.com/dog_rates/status/666029285...  ...  0.506826   \n",
       "2355  https://twitter.com/dog_rates/status/666020888...  ...  0.465074   \n",
       "\n",
       "      p1_dog                  p2   p2_conf p2_dog                   p3  \\\n",
       "2353    True            malinois  0.138584   True           bloodhound   \n",
       "2354    True  miniature_pinscher  0.074192   True  Rhodesian_ridgeback   \n",
       "2355    True              collie  0.156665   True    Shetland_sheepdog   \n",
       "\n",
       "       p3_conf p3_dog  retweet_count favorite_count  \n",
       "2353  0.116197   True           38.0          105.0  \n",
       "2354  0.072010   True           41.0          117.0  \n",
       "2355  0.061428   True          440.0         2333.0  \n",
       "\n",
       "[3 rows x 30 columns]"
      ]
     },
     "execution_count": 26,
     "metadata": {},
     "output_type": "execute_result"
    }
   ],
   "source": [
    "twitter_combined_df.tail(3)"
   ]
  },
  {
   "cell_type": "code",
   "execution_count": 27,
   "id": "geographic-vegetation",
   "metadata": {
    "scrolled": true
   },
   "outputs": [
    {
     "name": "stdout",
     "output_type": "stream",
     "text": [
      "<class 'pandas.core.frame.DataFrame'>\n",
      "RangeIndex: 2356 entries, 0 to 2355\n",
      "Data columns (total 30 columns):\n",
      " #   Column                      Non-Null Count  Dtype  \n",
      "---  ------                      --------------  -----  \n",
      " 0   tweet_id                    2356 non-null   int64  \n",
      " 1   in_reply_to_status_id       78 non-null     float64\n",
      " 2   in_reply_to_user_id         78 non-null     float64\n",
      " 3   timestamp                   2356 non-null   object \n",
      " 4   source                      2356 non-null   object \n",
      " 5   text                        2356 non-null   object \n",
      " 6   retweeted_status_id         181 non-null    float64\n",
      " 7   retweeted_status_user_id    181 non-null    float64\n",
      " 8   retweeted_status_timestamp  181 non-null    object \n",
      " 9   expanded_urls               2297 non-null   object \n",
      " 10  rating_numerator            2356 non-null   int64  \n",
      " 11  rating_denominator          2356 non-null   int64  \n",
      " 12  name                        2356 non-null   object \n",
      " 13  doggo                       2356 non-null   object \n",
      " 14  floofer                     2356 non-null   object \n",
      " 15  pupper                      2356 non-null   object \n",
      " 16  puppo                       2356 non-null   object \n",
      " 17  jpg_url                     2075 non-null   object \n",
      " 18  img_num                     2075 non-null   float64\n",
      " 19  p1                          2075 non-null   object \n",
      " 20  p1_conf                     2075 non-null   float64\n",
      " 21  p1_dog                      2075 non-null   object \n",
      " 22  p2                          2075 non-null   object \n",
      " 23  p2_conf                     2075 non-null   float64\n",
      " 24  p2_dog                      2075 non-null   object \n",
      " 25  p3                          2075 non-null   object \n",
      " 26  p3_conf                     2075 non-null   float64\n",
      " 27  p3_dog                      2075 non-null   object \n",
      " 28  retweet_count               2330 non-null   float64\n",
      " 29  favorite_count              2330 non-null   float64\n",
      "dtypes: float64(10), int64(3), object(17)\n",
      "memory usage: 552.3+ KB\n"
     ]
    }
   ],
   "source": [
    "twitter_combined_df.info()"
   ]
  },
  {
   "cell_type": "markdown",
   "id": "supposed-booking",
   "metadata": {},
   "source": [
    "I don't understand what some columns stand for: `in_reply_to_status_id`, `in_reply_to_user_id`, `retweeted_status_id`, `retweeted_status_user_id`. \n",
    "\n",
    "Let's explore them.\n",
    "\n",
    "According to this [Twitter documentation](https://developer.twitter.com/en/docs/twitter-api/v1/data-dictionary/object-model/tweet), `in_reply_to_status_id` indicates whether or not the tweet is a reply to an original tweet. Same goes with `retweeted_status_id` as to whether the tweet is a retweet of an original tweet."
   ]
  },
  {
   "cell_type": "code",
   "execution_count": 28,
   "id": "reflected-skating",
   "metadata": {},
   "outputs": [
    {
     "data": {
      "text/plain": [
       "in_reply_to_status_id        78\n",
       "in_reply_to_user_id          78\n",
       "retweeted_status_id         181\n",
       "retweeted_status_user_id    181\n",
       "dtype: int64"
      ]
     },
     "execution_count": 28,
     "metadata": {},
     "output_type": "execute_result"
    }
   ],
   "source": [
    "twitter_combined_df[['in_reply_to_status_id', 'in_reply_to_user_id', 'retweeted_status_id', \n",
    "                     'retweeted_status_user_id']].notnull().sum()"
   ]
  },
  {
   "cell_type": "code",
   "execution_count": 125,
   "id": "alpha-baker",
   "metadata": {},
   "outputs": [
    {
     "data": {
      "text/html": [
       "<div>\n",
       "<style scoped>\n",
       "    .dataframe tbody tr th:only-of-type {\n",
       "        vertical-align: middle;\n",
       "    }\n",
       "\n",
       "    .dataframe tbody tr th {\n",
       "        vertical-align: top;\n",
       "    }\n",
       "\n",
       "    .dataframe thead th {\n",
       "        text-align: right;\n",
       "    }\n",
       "</style>\n",
       "<table border=\"1\" class=\"dataframe\">\n",
       "  <thead>\n",
       "    <tr style=\"text-align: right;\">\n",
       "      <th></th>\n",
       "      <th>tweet_id</th>\n",
       "      <th>text</th>\n",
       "      <th>in_reply_to_status_id</th>\n",
       "    </tr>\n",
       "  </thead>\n",
       "  <tbody>\n",
       "    <tr>\n",
       "      <th>30</th>\n",
       "      <td>886267009285017600</td>\n",
       "      <td>@NonWhiteHat @MayhewMayhem omg hello tanner you are a scary good boy 12/10 would pet with extreme caution</td>\n",
       "      <td>8.862664e+17</td>\n",
       "    </tr>\n",
       "    <tr>\n",
       "      <th>55</th>\n",
       "      <td>881633300179243008</td>\n",
       "      <td>@roushfenway These are good dogs but 17/10 is an emotional impulse rating. More like 13/10s</td>\n",
       "      <td>8.816070e+17</td>\n",
       "    </tr>\n",
       "    <tr>\n",
       "      <th>64</th>\n",
       "      <td>879674319642796034</td>\n",
       "      <td>@RealKentMurphy 14/10 confirmed</td>\n",
       "      <td>8.795538e+17</td>\n",
       "    </tr>\n",
       "  </tbody>\n",
       "</table>\n",
       "</div>"
      ],
      "text/plain": [
       "              tweet_id  \\\n",
       "30  886267009285017600   \n",
       "55  881633300179243008   \n",
       "64  879674319642796034   \n",
       "\n",
       "                                                                                                         text  \\\n",
       "30  @NonWhiteHat @MayhewMayhem omg hello tanner you are a scary good boy 12/10 would pet with extreme caution   \n",
       "55                @roushfenway These are good dogs but 17/10 is an emotional impulse rating. More like 13/10s   \n",
       "64                                                                            @RealKentMurphy 14/10 confirmed   \n",
       "\n",
       "    in_reply_to_status_id  \n",
       "30           8.862664e+17  \n",
       "55           8.816070e+17  \n",
       "64           8.795538e+17  "
      ]
     },
     "execution_count": 125,
     "metadata": {},
     "output_type": "execute_result"
    }
   ],
   "source": [
    "twitter_combined_df[twitter_combined_df['in_reply_to_status_id'].notnull()][['tweet_id', 'text', 'in_reply_to_status_id']].head(3)"
   ]
  },
  {
   "cell_type": "code",
   "execution_count": 126,
   "id": "played-oasis",
   "metadata": {},
   "outputs": [
    {
     "data": {
      "text/html": [
       "<div>\n",
       "<style scoped>\n",
       "    .dataframe tbody tr th:only-of-type {\n",
       "        vertical-align: middle;\n",
       "    }\n",
       "\n",
       "    .dataframe tbody tr th {\n",
       "        vertical-align: top;\n",
       "    }\n",
       "\n",
       "    .dataframe thead th {\n",
       "        text-align: right;\n",
       "    }\n",
       "</style>\n",
       "<table border=\"1\" class=\"dataframe\">\n",
       "  <thead>\n",
       "    <tr style=\"text-align: right;\">\n",
       "      <th></th>\n",
       "      <th>tweet_id</th>\n",
       "      <th>text</th>\n",
       "      <th>retweeted_status_id</th>\n",
       "    </tr>\n",
       "  </thead>\n",
       "  <tbody>\n",
       "    <tr>\n",
       "      <th>19</th>\n",
       "      <td>888202515573088257</td>\n",
       "      <td>RT @dog_rates: This is Canela. She attempted some fancy porch pics. They were unsuccessful. 13/10 someone help her https://t.co/cLyzpcUcMX</td>\n",
       "      <td>8.874740e+17</td>\n",
       "    </tr>\n",
       "    <tr>\n",
       "      <th>32</th>\n",
       "      <td>886054160059072513</td>\n",
       "      <td>RT @Athletics: 12/10 #BATP https://t.co/WxwJmvjfxo</td>\n",
       "      <td>8.860537e+17</td>\n",
       "    </tr>\n",
       "    <tr>\n",
       "      <th>36</th>\n",
       "      <td>885311592912609280</td>\n",
       "      <td>RT @dog_rates: This is Lilly. She just parallel barked. Kindly requests a reward now. 13/10 would pet so well https://t.co/SATN4If5H5</td>\n",
       "      <td>8.305833e+17</td>\n",
       "    </tr>\n",
       "  </tbody>\n",
       "</table>\n",
       "</div>"
      ],
      "text/plain": [
       "              tweet_id  \\\n",
       "19  888202515573088257   \n",
       "32  886054160059072513   \n",
       "36  885311592912609280   \n",
       "\n",
       "                                                                                                                                          text  \\\n",
       "19  RT @dog_rates: This is Canela. She attempted some fancy porch pics. They were unsuccessful. 13/10 someone help her https://t.co/cLyzpcUcMX   \n",
       "32                                                                                          RT @Athletics: 12/10 #BATP https://t.co/WxwJmvjfxo   \n",
       "36       RT @dog_rates: This is Lilly. She just parallel barked. Kindly requests a reward now. 13/10 would pet so well https://t.co/SATN4If5H5   \n",
       "\n",
       "    retweeted_status_id  \n",
       "19         8.874740e+17  \n",
       "32         8.860537e+17  \n",
       "36         8.305833e+17  "
      ]
     },
     "execution_count": 126,
     "metadata": {},
     "output_type": "execute_result"
    }
   ],
   "source": [
    "twitter_combined_df[twitter_combined_df['retweeted_status_id'].notnull()][['tweet_id', 'text', 'retweeted_status_id']].head(3)"
   ]
  },
  {
   "cell_type": "markdown",
   "id": "attractive-packet",
   "metadata": {},
   "source": [
    "**Looks like we do have retweets and replies.**"
   ]
  },
  {
   "cell_type": "markdown",
   "id": "novel-career",
   "metadata": {},
   "source": [
    "Check if all denominators are 10."
   ]
  },
  {
   "cell_type": "code",
   "execution_count": 31,
   "id": "animal-principle",
   "metadata": {
    "scrolled": true
   },
   "outputs": [
    {
     "data": {
      "text/plain": [
       "array([ 10,   0,  15,  70,   7,  11, 150, 170,  20,  50,  90,  80,  40,\n",
       "       130, 110,  16, 120,   2])"
      ]
     },
     "execution_count": 31,
     "metadata": {},
     "output_type": "execute_result"
    }
   ],
   "source": [
    "twitter_combined_df['rating_denominator'].unique()"
   ]
  },
  {
   "cell_type": "markdown",
   "id": "premium-commander",
   "metadata": {},
   "source": [
    "**Looks like we do have rating denominators that are not 10.**\n",
    "\n",
    "Were they correctly extracted from the `text` column?"
   ]
  },
  {
   "cell_type": "code",
   "execution_count": 130,
   "id": "interracial-happening",
   "metadata": {},
   "outputs": [
    {
     "data": {
      "text/plain": [
       "0                                                         This is Phineas. He's a mystical boy. Only ever appears in the hole of a donut. 13/10 https://t.co/MgUWQ76dJU\n",
       "1    This is Tilly. She's just checking pup on you. Hopes you're doing ok. If not, she's available for pats, snugs, boops, the whole bit. 13/10 https://t.co/0Xxu71qeIV\n",
       "2                     This is Archie. He is a rare Norwegian Pouncing Corgo. Lives in the tall grass. You never know when one may strike. 12/10 https://t.co/wUnZnhtVJB\n",
       "3                                                               This is Darla. She commenced a snooze mid meal. 13/10 happens to the best of us https://t.co/tD36da7qLQ\n",
       "4    This is Franklin. He would like you to stop calling him \"cute.\" He is a very fierce shark and should be respected as such. 12/10 #BarkWeek https://t.co/AtUZn91f7f\n",
       "Name: text, dtype: object"
      ]
     },
     "execution_count": 130,
     "metadata": {},
     "output_type": "execute_result"
    }
   ],
   "source": [
    "twitter_combined_df['text'].head()"
   ]
  },
  {
   "cell_type": "markdown",
   "id": "spanish-jurisdiction",
   "metadata": {},
   "source": [
    "The texts are not being displayed in full."
   ]
  },
  {
   "cell_type": "code",
   "execution_count": 33,
   "id": "optical-component",
   "metadata": {},
   "outputs": [],
   "source": [
    "pd.options.display.max_colwidth = 200"
   ]
  },
  {
   "cell_type": "code",
   "execution_count": 34,
   "id": "assigned-commerce",
   "metadata": {},
   "outputs": [
    {
     "data": {
      "text/html": [
       "<div>\n",
       "<style scoped>\n",
       "    .dataframe tbody tr th:only-of-type {\n",
       "        vertical-align: middle;\n",
       "    }\n",
       "\n",
       "    .dataframe tbody tr th {\n",
       "        vertical-align: top;\n",
       "    }\n",
       "\n",
       "    .dataframe thead th {\n",
       "        text-align: right;\n",
       "    }\n",
       "</style>\n",
       "<table border=\"1\" class=\"dataframe\">\n",
       "  <thead>\n",
       "    <tr style=\"text-align: right;\">\n",
       "      <th></th>\n",
       "      <th>text</th>\n",
       "      <th>rating_denominator</th>\n",
       "    </tr>\n",
       "  </thead>\n",
       "  <tbody>\n",
       "    <tr>\n",
       "      <th>313</th>\n",
       "      <td>@jonnysun @Lin_Manuel ok jomny I know you're excited but 960/00 isn't a valid rating, 13/10 is tho</td>\n",
       "      <td>0</td>\n",
       "    </tr>\n",
       "    <tr>\n",
       "      <th>342</th>\n",
       "      <td>@docmisterio account started on 11/15/15</td>\n",
       "      <td>15</td>\n",
       "    </tr>\n",
       "    <tr>\n",
       "      <th>433</th>\n",
       "      <td>The floofs have been released I repeat the floofs have been released. 84/70 https://t.co/NIYC820tmd</td>\n",
       "      <td>70</td>\n",
       "    </tr>\n",
       "    <tr>\n",
       "      <th>516</th>\n",
       "      <td>Meet Sam. She smiles 24/7 &amp;amp; secretly aspires to be a reindeer. \\nKeep Sam smiling by clicking and sharing this link:\\nhttps://t.co/98tB8y7y7t https://t.co/LouL5vdvxx</td>\n",
       "      <td>7</td>\n",
       "    </tr>\n",
       "    <tr>\n",
       "      <th>784</th>\n",
       "      <td>RT @dog_rates: After so many requests, this is Bretagne. She was the last surviving 9/11 search dog, and our second ever 14/10. RIP https:/…</td>\n",
       "      <td>11</td>\n",
       "    </tr>\n",
       "    <tr>\n",
       "      <th>902</th>\n",
       "      <td>Why does this never happen at my front door... 165/150 https://t.co/HmwrdfEfUE</td>\n",
       "      <td>150</td>\n",
       "    </tr>\n",
       "    <tr>\n",
       "      <th>1068</th>\n",
       "      <td>After so many requests, this is Bretagne. She was the last surviving 9/11 search dog, and our second ever 14/10. RIP https://t.co/XAVDNDaVgQ</td>\n",
       "      <td>11</td>\n",
       "    </tr>\n",
       "    <tr>\n",
       "      <th>1120</th>\n",
       "      <td>Say hello to this unbelievably well behaved squad of doggos. 204/170 would try to pet all at once https://t.co/yGQI3He3xv</td>\n",
       "      <td>170</td>\n",
       "    </tr>\n",
       "    <tr>\n",
       "      <th>1165</th>\n",
       "      <td>Happy 4/20 from the squad! 13/10 for all https://t.co/eV1diwds8a</td>\n",
       "      <td>20</td>\n",
       "    </tr>\n",
       "    <tr>\n",
       "      <th>1202</th>\n",
       "      <td>This is Bluebert. He just saw that both #FinalFur match ups are split 50/50. Amazed af. 11/10 https://t.co/Kky1DPG4iq</td>\n",
       "      <td>50</td>\n",
       "    </tr>\n",
       "    <tr>\n",
       "      <th>1228</th>\n",
       "      <td>Happy Saturday here's 9 puppers on a bench. 99/90 good work everybody https://t.co/mpvaVxKmc1</td>\n",
       "      <td>90</td>\n",
       "    </tr>\n",
       "    <tr>\n",
       "      <th>1254</th>\n",
       "      <td>Here's a brigade of puppers. All look very prepared for whatever happens next. 80/80 https://t.co/0eb7R1Om12</td>\n",
       "      <td>80</td>\n",
       "    </tr>\n",
       "    <tr>\n",
       "      <th>1274</th>\n",
       "      <td>From left to right:\\nCletus, Jerome, Alejandro, Burp, &amp;amp; Titson\\nNone know where camera is. 45/50 would hug all at once https://t.co/sedre1ivTK</td>\n",
       "      <td>50</td>\n",
       "    </tr>\n",
       "    <tr>\n",
       "      <th>1351</th>\n",
       "      <td>Here is a whole flock of puppers.  60/50 I'll take the lot https://t.co/9dpcw6MdWa</td>\n",
       "      <td>50</td>\n",
       "    </tr>\n",
       "    <tr>\n",
       "      <th>1433</th>\n",
       "      <td>Happy Wednesday here's a bucket of pups. 44/40 would pet all at once https://t.co/HppvrYuamZ</td>\n",
       "      <td>40</td>\n",
       "    </tr>\n",
       "    <tr>\n",
       "      <th>1598</th>\n",
       "      <td>Yes I do realize a rating of 4/20 would've been fitting. However, it would be unjust to give these cooperative pups that low of a rating</td>\n",
       "      <td>20</td>\n",
       "    </tr>\n",
       "    <tr>\n",
       "      <th>1634</th>\n",
       "      <td>Two sneaky puppers were not initially seen, moving the rating to 143/130. Please forgive us. Thank you https://t.co/kRK51Y5ac3</td>\n",
       "      <td>130</td>\n",
       "    </tr>\n",
       "    <tr>\n",
       "      <th>1635</th>\n",
       "      <td>Someone help the girl is being mugged. Several are distracting her while two steal her shoes. Clever puppers 121/110 https://t.co/1zfnTJLt55</td>\n",
       "      <td>110</td>\n",
       "    </tr>\n",
       "    <tr>\n",
       "      <th>1662</th>\n",
       "      <td>This is Darrel. He just robbed a 7/11 and is in a high speed police chase. Was just spotted by the helicopter 10/10 https://t.co/7EsP8LmSp5</td>\n",
       "      <td>11</td>\n",
       "    </tr>\n",
       "    <tr>\n",
       "      <th>1663</th>\n",
       "      <td>I'm aware that I could've said 20/16, but here at WeRateDogs we are very professional. An inconsistent rating scale is simply irresponsible</td>\n",
       "      <td>16</td>\n",
       "    </tr>\n",
       "    <tr>\n",
       "      <th>1779</th>\n",
       "      <td>IT'S PUPPERGEDDON. Total of 144/120 ...I think https://t.co/ZanVtAtvIq</td>\n",
       "      <td>120</td>\n",
       "    </tr>\n",
       "    <tr>\n",
       "      <th>1843</th>\n",
       "      <td>Here we have an entire platoon of puppers. Total score: 88/80 would pet all at once https://t.co/y93p6FLvVw</td>\n",
       "      <td>80</td>\n",
       "    </tr>\n",
       "    <tr>\n",
       "      <th>2335</th>\n",
       "      <td>This is an Albanian 3 1/2 legged  Episcopalian. Loves well-polished hardwood flooring. Penis on the collar. 9/10 https://t.co/d9NcXFKwLv</td>\n",
       "      <td>2</td>\n",
       "    </tr>\n",
       "  </tbody>\n",
       "</table>\n",
       "</div>"
      ],
      "text/plain": [
       "                                                                                                                                                                           text  \\\n",
       "313                                                                          @jonnysun @Lin_Manuel ok jomny I know you're excited but 960/00 isn't a valid rating, 13/10 is tho   \n",
       "342                                                                                                                                    @docmisterio account started on 11/15/15   \n",
       "433                                                                         The floofs have been released I repeat the floofs have been released. 84/70 https://t.co/NIYC820tmd   \n",
       "516   Meet Sam. She smiles 24/7 &amp; secretly aspires to be a reindeer. \\nKeep Sam smiling by clicking and sharing this link:\\nhttps://t.co/98tB8y7y7t https://t.co/LouL5vdvxx   \n",
       "784                                RT @dog_rates: After so many requests, this is Bretagne. She was the last surviving 9/11 search dog, and our second ever 14/10. RIP https:/…   \n",
       "902                                                                                              Why does this never happen at my front door... 165/150 https://t.co/HmwrdfEfUE   \n",
       "1068                               After so many requests, this is Bretagne. She was the last surviving 9/11 search dog, and our second ever 14/10. RIP https://t.co/XAVDNDaVgQ   \n",
       "1120                                                  Say hello to this unbelievably well behaved squad of doggos. 204/170 would try to pet all at once https://t.co/yGQI3He3xv   \n",
       "1165                                                                                                           Happy 4/20 from the squad! 13/10 for all https://t.co/eV1diwds8a   \n",
       "1202                                                      This is Bluebert. He just saw that both #FinalFur match ups are split 50/50. Amazed af. 11/10 https://t.co/Kky1DPG4iq   \n",
       "1228                                                                              Happy Saturday here's 9 puppers on a bench. 99/90 good work everybody https://t.co/mpvaVxKmc1   \n",
       "1254                                                               Here's a brigade of puppers. All look very prepared for whatever happens next. 80/80 https://t.co/0eb7R1Om12   \n",
       "1274                         From left to right:\\nCletus, Jerome, Alejandro, Burp, &amp; Titson\\nNone know where camera is. 45/50 would hug all at once https://t.co/sedre1ivTK   \n",
       "1351                                                                                         Here is a whole flock of puppers.  60/50 I'll take the lot https://t.co/9dpcw6MdWa   \n",
       "1433                                                                               Happy Wednesday here's a bucket of pups. 44/40 would pet all at once https://t.co/HppvrYuamZ   \n",
       "1598                                   Yes I do realize a rating of 4/20 would've been fitting. However, it would be unjust to give these cooperative pups that low of a rating   \n",
       "1634                                             Two sneaky puppers were not initially seen, moving the rating to 143/130. Please forgive us. Thank you https://t.co/kRK51Y5ac3   \n",
       "1635                               Someone help the girl is being mugged. Several are distracting her while two steal her shoes. Clever puppers 121/110 https://t.co/1zfnTJLt55   \n",
       "1662                                This is Darrel. He just robbed a 7/11 and is in a high speed police chase. Was just spotted by the helicopter 10/10 https://t.co/7EsP8LmSp5   \n",
       "1663                                I'm aware that I could've said 20/16, but here at WeRateDogs we are very professional. An inconsistent rating scale is simply irresponsible   \n",
       "1779                                                                                                     IT'S PUPPERGEDDON. Total of 144/120 ...I think https://t.co/ZanVtAtvIq   \n",
       "1843                                                                Here we have an entire platoon of puppers. Total score: 88/80 would pet all at once https://t.co/y93p6FLvVw   \n",
       "2335                                   This is an Albanian 3 1/2 legged  Episcopalian. Loves well-polished hardwood flooring. Penis on the collar. 9/10 https://t.co/d9NcXFKwLv   \n",
       "\n",
       "      rating_denominator  \n",
       "313                    0  \n",
       "342                   15  \n",
       "433                   70  \n",
       "516                    7  \n",
       "784                   11  \n",
       "902                  150  \n",
       "1068                  11  \n",
       "1120                 170  \n",
       "1165                  20  \n",
       "1202                  50  \n",
       "1228                  90  \n",
       "1254                  80  \n",
       "1274                  50  \n",
       "1351                  50  \n",
       "1433                  40  \n",
       "1598                  20  \n",
       "1634                 130  \n",
       "1635                 110  \n",
       "1662                  11  \n",
       "1663                  16  \n",
       "1779                 120  \n",
       "1843                  80  \n",
       "2335                   2  "
      ]
     },
     "execution_count": 34,
     "metadata": {},
     "output_type": "execute_result"
    }
   ],
   "source": [
    "# Check texts of strange denominators\n",
    "twitter_combined_df.query('rating_denominator != 10')[['text', 'rating_denominator']]"
   ]
  },
  {
   "cell_type": "markdown",
   "id": "alike-collaboration",
   "metadata": {},
   "source": [
    "From above, **it seems like the denominators were extracted incorrectly.** \n",
    "\n",
    "The good news is that we only have a relative handful of wrong ones. "
   ]
  },
  {
   "cell_type": "markdown",
   "id": "communist-banana",
   "metadata": {},
   "source": [
    "Check if there are dogs with more than one dog stage. I'd assume that each dog should only be in a single, unique stage."
   ]
  },
  {
   "cell_type": "code",
   "execution_count": 35,
   "id": "threatened-reason",
   "metadata": {},
   "outputs": [
    {
     "data": {
      "text/plain": [
       "array(['None,None,None,None', 'doggo,None,None,None',\n",
       "       'None,None,None,puppo', 'None,None,pupper,None',\n",
       "       'None,floofer,None,None', 'doggo,None,None,puppo',\n",
       "       'doggo,floofer,None,None', 'doggo,None,pupper,None'], dtype=object)"
      ]
     },
     "execution_count": 35,
     "metadata": {},
     "output_type": "execute_result"
    }
   ],
   "source": [
    "(twitter_combined_df['doggo'] + ',' + twitter_combined_df['floofer'] + ',' + twitter_combined_df['pupper'] + ',' + \\\n",
    "twitter_combined_df['puppo']).unique()"
   ]
  },
  {
   "cell_type": "markdown",
   "id": "innocent-electron",
   "metadata": {},
   "source": [
    "**Some dogs have more than one stage assigned.**"
   ]
  },
  {
   "cell_type": "markdown",
   "id": "logical-toilet",
   "metadata": {},
   "source": [
    "Check if the TRUE dog breed predictions are indeed, proper dog breeds."
   ]
  },
  {
   "cell_type": "code",
   "execution_count": 36,
   "id": "impressed-liverpool",
   "metadata": {
    "scrolled": true
   },
   "outputs": [],
   "source": [
    "p1_examine = twitter_combined_df.groupby(['p1_dog']).apply(lambda x: x['p1'].unique()).reset_index().rename(columns = {0:'unique breeds'})\n",
    "p2_examine = twitter_combined_df.groupby(['p2_dog']).apply(lambda x: x['p2'].unique()).reset_index().rename(columns = {0:'unique breeds'})\n",
    "p3_examine = twitter_combined_df.groupby(['p3_dog']).apply(lambda x: x['p3'].unique()).reset_index().rename(columns = {0:'unique breeds'})"
   ]
  },
  {
   "cell_type": "markdown",
   "id": "freelance-pound",
   "metadata": {},
   "source": [
    "It seems like all of dog breeds as predicted by the first algorithm are indeed dog breeds"
   ]
  },
  {
   "cell_type": "code",
   "execution_count": 132,
   "id": "fixed-florist",
   "metadata": {},
   "outputs": [
    {
     "name": "stdout",
     "output_type": "stream",
     "text": [
      "These are the unique dog breeds as predicted by algorithm #1\n"
     ]
    },
    {
     "data": {
      "text/plain": [
       "['Chihuahua',\n",
       " 'basset',\n",
       " 'Chesapeake_Bay_retriever',\n",
       " 'Appenzeller',\n",
       " 'Pomeranian',\n",
       " 'Irish_terrier',\n",
       " 'Pembroke',\n",
       " 'Samoyed',\n",
       " 'French_bulldog',\n",
       " 'golden_retriever',\n",
       " 'whippet',\n",
       " 'Siberian_husky',\n",
       " 'Mexican_hairless',\n",
       " 'kuvasz',\n",
       " 'pug',\n",
       " 'Blenheim_spaniel',\n",
       " 'Labrador_retriever',\n",
       " 'malamute',\n",
       " 'Italian_greyhound',\n",
       " 'chow',\n",
       " 'German_shepherd',\n",
       " 'Doberman',\n",
       " 'Eskimo_dog',\n",
       " 'Weimaraner',\n",
       " 'Saluki',\n",
       " 'miniature_pinscher',\n",
       " 'German_short-haired_pointer',\n",
       " 'English_springer',\n",
       " 'vizsla',\n",
       " 'Irish_setter',\n",
       " 'bloodhound',\n",
       " 'Bernese_mountain_dog',\n",
       " 'West_Highland_white_terrier',\n",
       " 'cocker_spaniel',\n",
       " 'flat-coated_retriever',\n",
       " 'Cardigan',\n",
       " 'Newfoundland',\n",
       " 'Shetland_sheepdog',\n",
       " 'komondor',\n",
       " 'kelpie',\n",
       " 'Greater_Swiss_Mountain_dog',\n",
       " 'Border_collie',\n",
       " 'bull_mastiff',\n",
       " 'Staffordshire_bullterrier',\n",
       " 'Lakeland_terrier',\n",
       " 'Australian_terrier',\n",
       " 'Bedlington_terrier',\n",
       " 'Boston_bull',\n",
       " 'Old_English_sheepdog',\n",
       " 'black-and-tan_coonhound',\n",
       " 'Great_Dane',\n",
       " 'Yorkshire_terrier',\n",
       " 'schipperke',\n",
       " 'Airedale',\n",
       " 'giant_schnauzer',\n",
       " 'Dandie_Dinmont',\n",
       " 'Irish_water_spaniel',\n",
       " 'Afghan_hound',\n",
       " 'Brittany_spaniel',\n",
       " 'Leonberg',\n",
       " 'Border_terrier',\n",
       " 'Great_Pyrenees',\n",
       " 'Norwegian_elkhound',\n",
       " 'American_Staffordshire_terrier',\n",
       " 'borzoi',\n",
       " 'Rottweiler',\n",
       " 'Rhodesian_ridgeback',\n",
       " 'boxer',\n",
       " 'Pekinese',\n",
       " 'briard',\n",
       " 'toy_poodle',\n",
       " 'collie',\n",
       " 'English_setter',\n",
       " 'cairn',\n",
       " 'malinois',\n",
       " 'Saint_Bernard',\n",
       " 'Gordon_setter',\n",
       " 'standard_poodle',\n",
       " 'miniature_schnauzer',\n",
       " 'curly-coated_retriever',\n",
       " 'Tibetan_mastiff',\n",
       " 'dalmatian',\n",
       " 'miniature_poodle',\n",
       " 'beagle',\n",
       " 'toy_terrier',\n",
       " 'Norwich_terrier',\n",
       " 'Norfolk_terrier',\n",
       " 'papillon',\n",
       " 'wire-haired_fox_terrier',\n",
       " 'clumber',\n",
       " 'Walker_hound',\n",
       " 'silky_terrier',\n",
       " 'basenji',\n",
       " 'keeshond',\n",
       " 'redbone',\n",
       " 'Welsh_springer_spaniel',\n",
       " 'Sussex_spaniel',\n",
       " 'bluetick',\n",
       " 'Shih-Tzu',\n",
       " 'Tibetan_terrier',\n",
       " 'Maltese_dog',\n",
       " 'Lhasa',\n",
       " 'soft-coated_wheaten_terrier',\n",
       " 'groenendael',\n",
       " 'Scottish_deerhound',\n",
       " 'Scotch_terrier',\n",
       " 'Ibizan_hound',\n",
       " 'EntleBucher',\n",
       " 'Japanese_spaniel',\n",
       " 'standard_schnauzer',\n",
       " 'Brabancon_griffon']"
      ]
     },
     "execution_count": 132,
     "metadata": {},
     "output_type": "execute_result"
    }
   ],
   "source": [
    "print(f\"These are the unique dog breeds as predicted by algorithm #1\")\n",
    "p1_examine.loc[1, 'unique breeds'].tolist()"
   ]
  },
  {
   "cell_type": "code",
   "execution_count": 38,
   "id": "demanding-priority",
   "metadata": {},
   "outputs": [
    {
     "name": "stdout",
     "output_type": "stream",
     "text": [
      "These are the unique non-dog items as predicted by algorithm #1\n"
     ]
    },
    {
     "data": {
      "text/plain": [
       "['orange',\n",
       " 'paper_towel',\n",
       " 'limousine',\n",
       " 'convertible',\n",
       " 'web_site',\n",
       " 'tusker',\n",
       " 'street_sign',\n",
       " 'tricycle',\n",
       " 'tabby',\n",
       " 'laptop',\n",
       " 'basketball',\n",
       " 'home_theater',\n",
       " 'comic_book',\n",
       " 'pole',\n",
       " 'marmot',\n",
       " 'Arabian_camel',\n",
       " 'syringe',\n",
       " 'envelope',\n",
       " 'lakeside',\n",
       " 'chimpanzee',\n",
       " 'Angora',\n",
       " 'revolver',\n",
       " 'grille',\n",
       " 'barbell',\n",
       " 'prison',\n",
       " 'barrow',\n",
       " 'pencil_box',\n",
       " 'car_mirror',\n",
       " 'tennis_ball',\n",
       " 'patio',\n",
       " 'fountain',\n",
       " 'coffee_mug',\n",
       " 'sea_lion',\n",
       " 'white_wolf',\n",
       " 'washer',\n",
       " 'tub',\n",
       " 'ice_bear',\n",
       " 'military_uniform',\n",
       " 'teapot',\n",
       " 'swing',\n",
       " 'birdhouse',\n",
       " 'toilet_tissue',\n",
       " 'shopping_cart',\n",
       " 'mortarboard',\n",
       " 'leopard',\n",
       " 'wooden_spoon',\n",
       " 'hyena',\n",
       " 'ox',\n",
       " 'bath_towel',\n",
       " 'jersey',\n",
       " 'seat_belt',\n",
       " 'hippopotamus',\n",
       " 'teddy',\n",
       " 'gas_pump',\n",
       " 'dingo',\n",
       " 'cowboy_boot',\n",
       " 'bathtub',\n",
       " 'school_bus',\n",
       " 'acorn_squash',\n",
       " 'dishwasher',\n",
       " 'restaurant',\n",
       " 'doormat',\n",
       " 'Siamese_cat',\n",
       " 'loupe',\n",
       " 'shield',\n",
       " 'bookcase',\n",
       " 'minivan',\n",
       " 'mousetrap',\n",
       " 'vacuum',\n",
       " 'dough',\n",
       " 'pedestal',\n",
       " 'bakery',\n",
       " \"jack-o'-lantern\",\n",
       " 'refrigerator',\n",
       " 'remote_control',\n",
       " 'beach_wagon',\n",
       " 'porcupine',\n",
       " 'quilt',\n",
       " 'pool_table',\n",
       " 'padlock',\n",
       " 'sundial',\n",
       " 'long-horned_beetle',\n",
       " 'giant_panda',\n",
       " 'meerkat',\n",
       " 'Madagascar_cat',\n",
       " 'maillot',\n",
       " 'lion',\n",
       " 'coral_reef',\n",
       " 'African_grey',\n",
       " 'paddle',\n",
       " 'gondola',\n",
       " 'brown_bear',\n",
       " 'cougar',\n",
       " 'axolotl',\n",
       " 'radio_telescope',\n",
       " 'balloon',\n",
       " 'bookshop',\n",
       " 'skunk',\n",
       " 'cash_machine',\n",
       " 'geyser',\n",
       " 'conch',\n",
       " 'rotisserie',\n",
       " 'goose',\n",
       " 'upright',\n",
       " 'American_black_bear',\n",
       " 'muzzle',\n",
       " 'bow_tie',\n",
       " 'sulphur-crested_cockatoo',\n",
       " 'tiger_shark',\n",
       " 'binoculars',\n",
       " 'coil',\n",
       " 'traffic_light',\n",
       " 'rapeseed',\n",
       " 'sunglasses',\n",
       " 'lawn_mower',\n",
       " 'wombat',\n",
       " 'guinea_pig',\n",
       " 'cliff',\n",
       " 'cup',\n",
       " 'studio_couch',\n",
       " 'koala',\n",
       " 'polecat',\n",
       " 'hand_blower',\n",
       " 'stone_wall',\n",
       " 'window_shade',\n",
       " 'handkerchief',\n",
       " 'bonnet',\n",
       " 'alp',\n",
       " 'badger',\n",
       " 'hammer',\n",
       " 'nail',\n",
       " 'timber_wolf',\n",
       " 'triceratops',\n",
       " 'espresso',\n",
       " 'llama',\n",
       " 'leatherback_turtle',\n",
       " 'cowboy_hat',\n",
       " 'bib',\n",
       " 'hotdog',\n",
       " 'agama',\n",
       " 'ram',\n",
       " 'wild_boar',\n",
       " 'space_heater',\n",
       " 'four-poster',\n",
       " 'Egyptian_cat',\n",
       " 'otter',\n",
       " 'wool',\n",
       " 'wallaby',\n",
       " 'tailed_frog',\n",
       " 'hamster',\n",
       " 'hummingbird',\n",
       " 'washbasin',\n",
       " 'grey_fox',\n",
       " 'weasel',\n",
       " 'beaver',\n",
       " 'dining_table',\n",
       " 'ice_lolly',\n",
       " 'bison',\n",
       " 'snorkel',\n",
       " 'bighorn',\n",
       " 'motor_scooter',\n",
       " 'bustard',\n",
       " 'dogsled',\n",
       " 'snowmobile',\n",
       " 'crane',\n",
       " 'hog',\n",
       " 'bannister',\n",
       " 'sorrel',\n",
       " 'wood_rabbit',\n",
       " 'fiddler_crab',\n",
       " 'cheeseburger',\n",
       " 'damselfly',\n",
       " 'sliding_door',\n",
       " 'clog',\n",
       " 'minibus',\n",
       " 'cheetah',\n",
       " 'toyshop',\n",
       " 'bald_eagle',\n",
       " 'jigsaw_puzzle',\n",
       " 'frilled_lizard',\n",
       " 'carousel',\n",
       " 'bubble',\n",
       " 'Christmas_stocking',\n",
       " 'pillow',\n",
       " 'earthstar',\n",
       " 'mailbox',\n",
       " 'panpipe',\n",
       " 'harp',\n",
       " 'maze',\n",
       " 'water_buffalo',\n",
       " 'common_iguana',\n",
       " 'guenon',\n",
       " 'black-footed_ferret',\n",
       " 'rain_barrel',\n",
       " 'book_jacket',\n",
       " 'Loafer',\n",
       " 'feather_boa',\n",
       " 'walking_stick',\n",
       " 'box_turtle',\n",
       " 'stove',\n",
       " 'bow',\n",
       " 'ocarina',\n",
       " 'shower_curtain',\n",
       " 'seashore',\n",
       " 'tick',\n",
       " 'African_crocodile',\n",
       " 'soccer_ball',\n",
       " 'jellyfish',\n",
       " 'slug',\n",
       " 'ostrich',\n",
       " 'robin',\n",
       " 'toilet_seat',\n",
       " 'suit',\n",
       " 'water_bottle',\n",
       " 'Arctic_fox',\n",
       " 'ski_mask',\n",
       " 'leaf_beetle',\n",
       " 'sandbar',\n",
       " 'starfish',\n",
       " 'microwave',\n",
       " 'terrapin',\n",
       " 'killer_whale',\n",
       " 'carton',\n",
       " 'bee_eater',\n",
       " 'china_cabinet',\n",
       " 'prayer_rug',\n",
       " 'park_bench',\n",
       " 'hen',\n",
       " 'hermit_crab',\n",
       " 'zebra',\n",
       " 'picket_fence',\n",
       " 'African_hunting_dog',\n",
       " 'pitcher',\n",
       " 'microphone',\n",
       " 'flamingo',\n",
       " 'scorpion',\n",
       " 'lacewing',\n",
       " 'dhole',\n",
       " 'banana',\n",
       " 'peacock',\n",
       " 'sea_urchin',\n",
       " 'ping-pong_ball',\n",
       " 'platypus',\n",
       " 'mud_turtle',\n",
       " 'boathouse',\n",
       " 'snail',\n",
       " 'pot',\n",
       " 'piggy_bank',\n",
       " 'candle',\n",
       " 'cuirass',\n",
       " 'lynx',\n",
       " 'crash_helmet',\n",
       " 'bearskin',\n",
       " 'shopping_basket',\n",
       " 'king_penguin',\n",
       " 'canoe',\n",
       " 'trombone',\n",
       " 'lorikeet',\n",
       " 'fire_engine',\n",
       " 'ibex',\n",
       " 'electric_fan',\n",
       " 'hare',\n",
       " 'hay',\n",
       " 'swab',\n",
       " 'coho',\n",
       " 'three-toed_sloth',\n",
       " 'desktop_computer']"
      ]
     },
     "execution_count": 38,
     "metadata": {},
     "output_type": "execute_result"
    }
   ],
   "source": [
    "print(f\"These are the unique non-dog items as predicted by algorithm #1\")\n",
    "p1_examine.loc[0, 'unique breeds'].tolist()"
   ]
  },
  {
   "cell_type": "markdown",
   "id": "stuffed-bracket",
   "metadata": {},
   "source": [
    "Similarly, the second and third algorithms also seemed to predict dog breeds as indeed, dog breeds."
   ]
  },
  {
   "cell_type": "code",
   "execution_count": 39,
   "id": "interior-treatment",
   "metadata": {},
   "outputs": [
    {
     "data": {
      "text/plain": [
       "['Pekinese',\n",
       " 'malamute',\n",
       " 'Labrador_retriever',\n",
       " 'English_springer',\n",
       " 'Irish_terrier',\n",
       " 'Border_collie',\n",
       " 'Eskimo_dog',\n",
       " 'Irish_setter',\n",
       " 'Cardigan',\n",
       " 'Pomeranian',\n",
       " 'boxer',\n",
       " 'borzoi',\n",
       " 'Tibetan_mastiff',\n",
       " 'Rhodesian_ridgeback',\n",
       " 'pug',\n",
       " 'redbone',\n",
       " 'toy_terrier',\n",
       " 'Great_Pyrenees',\n",
       " 'Chihuahua',\n",
       " 'Shih-Tzu',\n",
       " 'Siberian_husky',\n",
       " 'American_Staffordshire_terrier',\n",
       " 'Norwich_terrier',\n",
       " 'French_bulldog',\n",
       " 'malinois',\n",
       " 'miniature_pinscher',\n",
       " 'Chesapeake_Bay_retriever',\n",
       " 'Afghan_hound',\n",
       " 'beagle',\n",
       " 'vizsla',\n",
       " 'Boston_bull',\n",
       " 'whippet',\n",
       " 'collie',\n",
       " 'golden_retriever',\n",
       " 'Welsh_springer_spaniel',\n",
       " 'Italian_greyhound',\n",
       " 'Saint_Bernard',\n",
       " 'Pembroke',\n",
       " 'Staffordshire_bullterrier',\n",
       " 'miniature_poodle',\n",
       " 'black-and-tan_coonhound',\n",
       " 'bloodhound',\n",
       " 'Sussex_spaniel',\n",
       " 'flat-coated_retriever',\n",
       " 'briard',\n",
       " 'Appenzeller',\n",
       " 'kuvasz',\n",
       " 'papillon',\n",
       " 'groenendael',\n",
       " 'Airedale',\n",
       " 'toy_poodle',\n",
       " 'Tibetan_terrier',\n",
       " 'Doberman',\n",
       " 'otterhound',\n",
       " 'Brabancon_griffon',\n",
       " 'Bernese_mountain_dog',\n",
       " 'bull_mastiff',\n",
       " 'Maltese_dog',\n",
       " 'kelpie',\n",
       " 'Newfoundland',\n",
       " 'Ibizan_hound',\n",
       " 'Greater_Swiss_Mountain_dog',\n",
       " 'Leonberg',\n",
       " 'chow',\n",
       " 'Samoyed',\n",
       " 'Saluki',\n",
       " 'Blenheim_spaniel',\n",
       " 'cocker_spaniel',\n",
       " 'keeshond',\n",
       " 'Border_terrier',\n",
       " 'soft-coated_wheaten_terrier',\n",
       " 'Norwegian_elkhound',\n",
       " 'German_short-haired_pointer',\n",
       " 'Great_Dane',\n",
       " 'Brittany_spaniel',\n",
       " 'dalmatian',\n",
       " 'Mexican_hairless',\n",
       " 'curly-coated_retriever',\n",
       " 'German_shepherd',\n",
       " 'Norfolk_terrier',\n",
       " 'basenji',\n",
       " 'Dandie_Dinmont',\n",
       " 'Shetland_sheepdog',\n",
       " 'English_setter',\n",
       " 'cairn',\n",
       " 'Bedlington_terrier',\n",
       " 'Walker_hound',\n",
       " 'Lakeland_terrier',\n",
       " 'bluetick',\n",
       " 'silky_terrier',\n",
       " 'EntleBucher',\n",
       " 'schipperke',\n",
       " 'basset',\n",
       " 'Yorkshire_terrier',\n",
       " 'standard_poodle',\n",
       " 'Lhasa',\n",
       " 'Old_English_sheepdog',\n",
       " 'West_Highland_white_terrier',\n",
       " 'wire-haired_fox_terrier',\n",
       " 'Weimaraner',\n",
       " 'English_foxhound',\n",
       " 'Rottweiler',\n",
       " 'Scotch_terrier',\n",
       " 'affenpinscher',\n",
       " 'Irish_wolfhound',\n",
       " 'Australian_terrier',\n",
       " 'Japanese_spaniel',\n",
       " 'miniature_schnauzer',\n",
       " 'Kerry_blue_terrier',\n",
       " 'Sealyham_terrier',\n",
       " 'giant_schnauzer',\n",
       " 'standard_schnauzer',\n",
       " 'komondor']"
      ]
     },
     "execution_count": 39,
     "metadata": {},
     "output_type": "execute_result"
    }
   ],
   "source": [
    "p2_examine.loc[1, 'unique breeds'].tolist()"
   ]
  },
  {
   "cell_type": "markdown",
   "id": "average-herald",
   "metadata": {},
   "source": [
    "<a id='quality'></a>\n",
    "#### Quality\n",
    "\n",
    "1. `timestamp` should be a datetime object\n",
    "2. There are non-original tweets (retweets, replies to tweets)\n",
    "3. Some `rating_denominator` values were not extracted properly\n",
    "4. Some dogs have more than one dog stage assigned to them\n",
    "5. `doggo`, `floofer`, `pupper` and `puppo` can be better labelled with Boolean values \n",
    "6. Dog breeds `p1`, `p2` and `p3` not spelled consistently\n",
    "7. The prediction confidences `p1_conf`, `p2_conf` and `p3_conf` should be in percentages\n",
    "8. `retweet_count` and `favorite_count` should be in integers, not floats"
   ]
  },
  {
   "cell_type": "markdown",
   "id": "simple-wisdom",
   "metadata": {},
   "source": [
    "<a id='tidiness'></a>\n",
    "#### Tidiness\n",
    "\n",
    "1. Values in `doggo`, `floofer`, `pupper` and `puppo` should be consolidated into a single column\n",
    "2. Three different algorithms were used to predict each dog breed, each recording how confident the algo was in its prediction. To simplify the analysis and presentation of the dataset, the dog breed that has the highest confidence should be chosen to represent each dog. If no dog breeds were given, it should be indicated that the algo was not able to predict the dog breed. "
   ]
  },
  {
   "cell_type": "markdown",
   "id": "structural-niagara",
   "metadata": {},
   "source": [
    "---\n",
    "<a id='cleandata_quality'></a>\n",
    "### Clean data - Quality issues"
   ]
  },
  {
   "cell_type": "code",
   "execution_count": 40,
   "id": "decreased-programmer",
   "metadata": {},
   "outputs": [],
   "source": [
    "twitter_clean = twitter_combined_df.copy()"
   ]
  },
  {
   "cell_type": "code",
   "execution_count": 41,
   "id": "individual-priority",
   "metadata": {
    "scrolled": true
   },
   "outputs": [
    {
     "name": "stdout",
     "output_type": "stream",
     "text": [
      "<class 'pandas.core.frame.DataFrame'>\n",
      "RangeIndex: 2356 entries, 0 to 2355\n",
      "Data columns (total 30 columns):\n",
      " #   Column                      Non-Null Count  Dtype  \n",
      "---  ------                      --------------  -----  \n",
      " 0   tweet_id                    2356 non-null   int64  \n",
      " 1   in_reply_to_status_id       78 non-null     float64\n",
      " 2   in_reply_to_user_id         78 non-null     float64\n",
      " 3   timestamp                   2356 non-null   object \n",
      " 4   source                      2356 non-null   object \n",
      " 5   text                        2356 non-null   object \n",
      " 6   retweeted_status_id         181 non-null    float64\n",
      " 7   retweeted_status_user_id    181 non-null    float64\n",
      " 8   retweeted_status_timestamp  181 non-null    object \n",
      " 9   expanded_urls               2297 non-null   object \n",
      " 10  rating_numerator            2356 non-null   int64  \n",
      " 11  rating_denominator          2356 non-null   int64  \n",
      " 12  name                        2356 non-null   object \n",
      " 13  doggo                       2356 non-null   object \n",
      " 14  floofer                     2356 non-null   object \n",
      " 15  pupper                      2356 non-null   object \n",
      " 16  puppo                       2356 non-null   object \n",
      " 17  jpg_url                     2075 non-null   object \n",
      " 18  img_num                     2075 non-null   float64\n",
      " 19  p1                          2075 non-null   object \n",
      " 20  p1_conf                     2075 non-null   float64\n",
      " 21  p1_dog                      2075 non-null   object \n",
      " 22  p2                          2075 non-null   object \n",
      " 23  p2_conf                     2075 non-null   float64\n",
      " 24  p2_dog                      2075 non-null   object \n",
      " 25  p3                          2075 non-null   object \n",
      " 26  p3_conf                     2075 non-null   float64\n",
      " 27  p3_dog                      2075 non-null   object \n",
      " 28  retweet_count               2330 non-null   float64\n",
      " 29  favorite_count              2330 non-null   float64\n",
      "dtypes: float64(10), int64(3), object(17)\n",
      "memory usage: 552.3+ KB\n"
     ]
    }
   ],
   "source": [
    "twitter_clean.info()"
   ]
  },
  {
   "cell_type": "markdown",
   "id": "least-difficulty",
   "metadata": {},
   "source": [
    "#### Define: \n",
    "\n",
    "> 1) `timestamp` should be a datetime object\n",
    "\n",
    "- The `timestamp` column has the wrong datatype. Convert it into a datetime object"
   ]
  },
  {
   "cell_type": "markdown",
   "id": "mature-memory",
   "metadata": {},
   "source": [
    "#### Code"
   ]
  },
  {
   "cell_type": "code",
   "execution_count": 42,
   "id": "focal-preference",
   "metadata": {},
   "outputs": [],
   "source": [
    "twitter_clean['Date'] = pd.to_datetime(pd.to_datetime(twitter_clean['timestamp']).apply(lambda x: x.date()))\n",
    "twitter_clean['Time'] = pd.to_datetime(twitter_clean['timestamp']).apply(lambda x: x.time())\n",
    "\n",
    "twitter_clean.drop(['timestamp'], axis=1, inplace=True)"
   ]
  },
  {
   "cell_type": "markdown",
   "id": "cellular-concentration",
   "metadata": {},
   "source": [
    "#### Test"
   ]
  },
  {
   "cell_type": "code",
   "execution_count": 43,
   "id": "loving-asian",
   "metadata": {},
   "outputs": [
    {
     "data": {
      "text/html": [
       "<div>\n",
       "<style scoped>\n",
       "    .dataframe tbody tr th:only-of-type {\n",
       "        vertical-align: middle;\n",
       "    }\n",
       "\n",
       "    .dataframe tbody tr th {\n",
       "        vertical-align: top;\n",
       "    }\n",
       "\n",
       "    .dataframe thead th {\n",
       "        text-align: right;\n",
       "    }\n",
       "</style>\n",
       "<table border=\"1\" class=\"dataframe\">\n",
       "  <thead>\n",
       "    <tr style=\"text-align: right;\">\n",
       "      <th></th>\n",
       "      <th>tweet_id</th>\n",
       "      <th>in_reply_to_status_id</th>\n",
       "      <th>in_reply_to_user_id</th>\n",
       "      <th>source</th>\n",
       "      <th>text</th>\n",
       "      <th>retweeted_status_id</th>\n",
       "      <th>retweeted_status_user_id</th>\n",
       "      <th>retweeted_status_timestamp</th>\n",
       "      <th>expanded_urls</th>\n",
       "      <th>rating_numerator</th>\n",
       "      <th>...</th>\n",
       "      <th>p2</th>\n",
       "      <th>p2_conf</th>\n",
       "      <th>p2_dog</th>\n",
       "      <th>p3</th>\n",
       "      <th>p3_conf</th>\n",
       "      <th>p3_dog</th>\n",
       "      <th>retweet_count</th>\n",
       "      <th>favorite_count</th>\n",
       "      <th>Date</th>\n",
       "      <th>Time</th>\n",
       "    </tr>\n",
       "  </thead>\n",
       "  <tbody>\n",
       "    <tr>\n",
       "      <th>0</th>\n",
       "      <td>892420643555336193</td>\n",
       "      <td>NaN</td>\n",
       "      <td>NaN</td>\n",
       "      <td>&lt;a href=\"http://twitter.com/download/iphone\" rel=\"nofollow\"&gt;Twitter for iPhone&lt;/a&gt;</td>\n",
       "      <td>This is Phineas. He's a mystical boy. Only ever appears in the hole of a donut. 13/10 https://t.co/MgUWQ76dJU</td>\n",
       "      <td>NaN</td>\n",
       "      <td>NaN</td>\n",
       "      <td>NaN</td>\n",
       "      <td>https://twitter.com/dog_rates/status/892420643555336193/photo/1</td>\n",
       "      <td>13</td>\n",
       "      <td>...</td>\n",
       "      <td>bagel</td>\n",
       "      <td>0.085851</td>\n",
       "      <td>False</td>\n",
       "      <td>banana</td>\n",
       "      <td>0.076110</td>\n",
       "      <td>False</td>\n",
       "      <td>7279.0</td>\n",
       "      <td>34735.0</td>\n",
       "      <td>2017-08-01</td>\n",
       "      <td>16:23:56</td>\n",
       "    </tr>\n",
       "    <tr>\n",
       "      <th>1</th>\n",
       "      <td>892177421306343426</td>\n",
       "      <td>NaN</td>\n",
       "      <td>NaN</td>\n",
       "      <td>&lt;a href=\"http://twitter.com/download/iphone\" rel=\"nofollow\"&gt;Twitter for iPhone&lt;/a&gt;</td>\n",
       "      <td>This is Tilly. She's just checking pup on you. Hopes you're doing ok. If not, she's available for pats, snugs, boops, the whole bit. 13/10 https://t.co/0Xxu71qeIV</td>\n",
       "      <td>NaN</td>\n",
       "      <td>NaN</td>\n",
       "      <td>NaN</td>\n",
       "      <td>https://twitter.com/dog_rates/status/892177421306343426/photo/1</td>\n",
       "      <td>13</td>\n",
       "      <td>...</td>\n",
       "      <td>Pekinese</td>\n",
       "      <td>0.090647</td>\n",
       "      <td>True</td>\n",
       "      <td>papillon</td>\n",
       "      <td>0.068957</td>\n",
       "      <td>True</td>\n",
       "      <td>5445.0</td>\n",
       "      <td>30116.0</td>\n",
       "      <td>2017-08-01</td>\n",
       "      <td>00:17:27</td>\n",
       "    </tr>\n",
       "    <tr>\n",
       "      <th>2</th>\n",
       "      <td>891815181378084864</td>\n",
       "      <td>NaN</td>\n",
       "      <td>NaN</td>\n",
       "      <td>&lt;a href=\"http://twitter.com/download/iphone\" rel=\"nofollow\"&gt;Twitter for iPhone&lt;/a&gt;</td>\n",
       "      <td>This is Archie. He is a rare Norwegian Pouncing Corgo. Lives in the tall grass. You never know when one may strike. 12/10 https://t.co/wUnZnhtVJB</td>\n",
       "      <td>NaN</td>\n",
       "      <td>NaN</td>\n",
       "      <td>NaN</td>\n",
       "      <td>https://twitter.com/dog_rates/status/891815181378084864/photo/1</td>\n",
       "      <td>12</td>\n",
       "      <td>...</td>\n",
       "      <td>malamute</td>\n",
       "      <td>0.078253</td>\n",
       "      <td>True</td>\n",
       "      <td>kelpie</td>\n",
       "      <td>0.031379</td>\n",
       "      <td>True</td>\n",
       "      <td>3584.0</td>\n",
       "      <td>22664.0</td>\n",
       "      <td>2017-07-31</td>\n",
       "      <td>00:18:03</td>\n",
       "    </tr>\n",
       "  </tbody>\n",
       "</table>\n",
       "<p>3 rows × 31 columns</p>\n",
       "</div>"
      ],
      "text/plain": [
       "             tweet_id  in_reply_to_status_id  in_reply_to_user_id  \\\n",
       "0  892420643555336193                    NaN                  NaN   \n",
       "1  892177421306343426                    NaN                  NaN   \n",
       "2  891815181378084864                    NaN                  NaN   \n",
       "\n",
       "                                                                               source  \\\n",
       "0  <a href=\"http://twitter.com/download/iphone\" rel=\"nofollow\">Twitter for iPhone</a>   \n",
       "1  <a href=\"http://twitter.com/download/iphone\" rel=\"nofollow\">Twitter for iPhone</a>   \n",
       "2  <a href=\"http://twitter.com/download/iphone\" rel=\"nofollow\">Twitter for iPhone</a>   \n",
       "\n",
       "                                                                                                                                                                 text  \\\n",
       "0                                                       This is Phineas. He's a mystical boy. Only ever appears in the hole of a donut. 13/10 https://t.co/MgUWQ76dJU   \n",
       "1  This is Tilly. She's just checking pup on you. Hopes you're doing ok. If not, she's available for pats, snugs, boops, the whole bit. 13/10 https://t.co/0Xxu71qeIV   \n",
       "2                   This is Archie. He is a rare Norwegian Pouncing Corgo. Lives in the tall grass. You never know when one may strike. 12/10 https://t.co/wUnZnhtVJB   \n",
       "\n",
       "   retweeted_status_id  retweeted_status_user_id retweeted_status_timestamp  \\\n",
       "0                  NaN                       NaN                        NaN   \n",
       "1                  NaN                       NaN                        NaN   \n",
       "2                  NaN                       NaN                        NaN   \n",
       "\n",
       "                                                     expanded_urls  \\\n",
       "0  https://twitter.com/dog_rates/status/892420643555336193/photo/1   \n",
       "1  https://twitter.com/dog_rates/status/892177421306343426/photo/1   \n",
       "2  https://twitter.com/dog_rates/status/891815181378084864/photo/1   \n",
       "\n",
       "   rating_numerator  ...        p2   p2_conf p2_dog        p3   p3_conf  \\\n",
       "0                13  ...     bagel  0.085851  False    banana  0.076110   \n",
       "1                13  ...  Pekinese  0.090647   True  papillon  0.068957   \n",
       "2                12  ...  malamute  0.078253   True    kelpie  0.031379   \n",
       "\n",
       "  p3_dog retweet_count  favorite_count       Date      Time  \n",
       "0  False        7279.0         34735.0 2017-08-01  16:23:56  \n",
       "1   True        5445.0         30116.0 2017-08-01  00:17:27  \n",
       "2   True        3584.0         22664.0 2017-07-31  00:18:03  \n",
       "\n",
       "[3 rows x 31 columns]"
      ]
     },
     "execution_count": 43,
     "metadata": {},
     "output_type": "execute_result"
    }
   ],
   "source": [
    "twitter_clean.head(3)"
   ]
  },
  {
   "cell_type": "code",
   "execution_count": 44,
   "id": "faced-reaction",
   "metadata": {},
   "outputs": [
    {
     "data": {
      "text/plain": [
       "dtype('<M8[ns]')"
      ]
     },
     "execution_count": 44,
     "metadata": {},
     "output_type": "execute_result"
    }
   ],
   "source": [
    "twitter_clean['Date'].dtype"
   ]
  },
  {
   "cell_type": "markdown",
   "id": "bronze-humanitarian",
   "metadata": {},
   "source": [
    "#### Define: \n",
    "\n",
    "> 2) There are non-original tweets (retweets, replies to tweets)\n",
    "\n",
    "- I will remove tweets where their `retweet_count` and `favorite_count` values are not null"
   ]
  },
  {
   "cell_type": "markdown",
   "id": "meaning-links",
   "metadata": {},
   "source": [
    "#### Code"
   ]
  },
  {
   "cell_type": "code",
   "execution_count": 45,
   "id": "elegant-blend",
   "metadata": {},
   "outputs": [
    {
     "data": {
      "text/plain": [
       "in_reply_to_status_id        78\n",
       "in_reply_to_user_id          78\n",
       "retweeted_status_id         181\n",
       "retweeted_status_user_id    181\n",
       "dtype: int64"
      ]
     },
     "execution_count": 45,
     "metadata": {},
     "output_type": "execute_result"
    }
   ],
   "source": [
    "twitter_clean[['in_reply_to_status_id', 'in_reply_to_user_id', 'retweeted_status_id', \n",
    "               'retweeted_status_user_id']].notnull().sum()"
   ]
  },
  {
   "cell_type": "code",
   "execution_count": 46,
   "id": "decent-strap",
   "metadata": {},
   "outputs": [],
   "source": [
    "# Only want to retain tweets where the above columns are null\n",
    "for i in ['in_reply_to_status_id', 'in_reply_to_user_id', 'retweeted_status_id', 'retweeted_status_user_id']: \n",
    "    twitter_clean = twitter_clean[twitter_clean[i].isnull()]"
   ]
  },
  {
   "cell_type": "markdown",
   "id": "human-going",
   "metadata": {},
   "source": [
    "#### Test"
   ]
  },
  {
   "cell_type": "code",
   "execution_count": 47,
   "id": "great-court",
   "metadata": {},
   "outputs": [
    {
     "data": {
      "text/plain": [
       "in_reply_to_status_id       0\n",
       "in_reply_to_user_id         0\n",
       "retweeted_status_id         0\n",
       "retweeted_status_user_id    0\n",
       "dtype: int64"
      ]
     },
     "execution_count": 47,
     "metadata": {},
     "output_type": "execute_result"
    }
   ],
   "source": [
    "twitter_clean[['in_reply_to_status_id', 'in_reply_to_user_id', 'retweeted_status_id', \n",
    "               'retweeted_status_user_id']].notnull().sum()"
   ]
  },
  {
   "cell_type": "code",
   "execution_count": 48,
   "id": "answering-conclusion",
   "metadata": {},
   "outputs": [
    {
     "name": "stdout",
     "output_type": "stream",
     "text": [
      "From 2356 tweets to 2097 tweets remaining\n"
     ]
    }
   ],
   "source": [
    "# How many tweets are left?\n",
    "print(f\"From {len(twitter_combined_df)} tweets to {len(twitter_clean)} tweets remaining\")"
   ]
  },
  {
   "cell_type": "code",
   "execution_count": 49,
   "id": "capital-smile",
   "metadata": {},
   "outputs": [],
   "source": [
    "# Drop these columns (not necessary anymore)\n",
    "twitter_clean.drop(['in_reply_to_status_id', 'in_reply_to_user_id', 'retweeted_status_id', 'retweeted_status_user_id'],\n",
    "                   axis=1, inplace=True)"
   ]
  },
  {
   "cell_type": "markdown",
   "id": "adapted-deposit",
   "metadata": {},
   "source": [
    "#### Define: \n",
    "\n",
    "> 3) Some `rating_denominator` values were not extracted properly\n",
    "\n",
    "- If you look at the table below, we see some ratings that were extracted from the first xx/xx pattern, which is not actually the dog rating (for example, index 1662 and 2335).\n",
    "- For the above, I would need to use Regex to extract such patterns, and select only the second set of ratings as my numerator and denominator. \n",
    "- For the remaining mistakes, I'm not too sure if the ratings were actually meant to signify the dog ratings...or something else. \n",
    "- After browsing through them (for example, index 902, 1351, 1779), I think I would just remove them."
   ]
  },
  {
   "cell_type": "code",
   "execution_count": 50,
   "id": "hungarian-transportation",
   "metadata": {},
   "outputs": [
    {
     "data": {
      "text/html": [
       "<div>\n",
       "<style scoped>\n",
       "    .dataframe tbody tr th:only-of-type {\n",
       "        vertical-align: middle;\n",
       "    }\n",
       "\n",
       "    .dataframe tbody tr th {\n",
       "        vertical-align: top;\n",
       "    }\n",
       "\n",
       "    .dataframe thead th {\n",
       "        text-align: right;\n",
       "    }\n",
       "</style>\n",
       "<table border=\"1\" class=\"dataframe\">\n",
       "  <thead>\n",
       "    <tr style=\"text-align: right;\">\n",
       "      <th></th>\n",
       "      <th>text</th>\n",
       "      <th>rating_denominator</th>\n",
       "    </tr>\n",
       "  </thead>\n",
       "  <tbody>\n",
       "    <tr>\n",
       "      <th>433</th>\n",
       "      <td>The floofs have been released I repeat the floofs have been released. 84/70 https://t.co/NIYC820tmd</td>\n",
       "      <td>70</td>\n",
       "    </tr>\n",
       "    <tr>\n",
       "      <th>516</th>\n",
       "      <td>Meet Sam. She smiles 24/7 &amp;amp; secretly aspires to be a reindeer. \\nKeep Sam smiling by clicking and sharing this link:\\nhttps://t.co/98tB8y7y7t https://t.co/LouL5vdvxx</td>\n",
       "      <td>7</td>\n",
       "    </tr>\n",
       "    <tr>\n",
       "      <th>902</th>\n",
       "      <td>Why does this never happen at my front door... 165/150 https://t.co/HmwrdfEfUE</td>\n",
       "      <td>150</td>\n",
       "    </tr>\n",
       "    <tr>\n",
       "      <th>1068</th>\n",
       "      <td>After so many requests, this is Bretagne. She was the last surviving 9/11 search dog, and our second ever 14/10. RIP https://t.co/XAVDNDaVgQ</td>\n",
       "      <td>11</td>\n",
       "    </tr>\n",
       "    <tr>\n",
       "      <th>1120</th>\n",
       "      <td>Say hello to this unbelievably well behaved squad of doggos. 204/170 would try to pet all at once https://t.co/yGQI3He3xv</td>\n",
       "      <td>170</td>\n",
       "    </tr>\n",
       "    <tr>\n",
       "      <th>1165</th>\n",
       "      <td>Happy 4/20 from the squad! 13/10 for all https://t.co/eV1diwds8a</td>\n",
       "      <td>20</td>\n",
       "    </tr>\n",
       "    <tr>\n",
       "      <th>1202</th>\n",
       "      <td>This is Bluebert. He just saw that both #FinalFur match ups are split 50/50. Amazed af. 11/10 https://t.co/Kky1DPG4iq</td>\n",
       "      <td>50</td>\n",
       "    </tr>\n",
       "    <tr>\n",
       "      <th>1228</th>\n",
       "      <td>Happy Saturday here's 9 puppers on a bench. 99/90 good work everybody https://t.co/mpvaVxKmc1</td>\n",
       "      <td>90</td>\n",
       "    </tr>\n",
       "    <tr>\n",
       "      <th>1254</th>\n",
       "      <td>Here's a brigade of puppers. All look very prepared for whatever happens next. 80/80 https://t.co/0eb7R1Om12</td>\n",
       "      <td>80</td>\n",
       "    </tr>\n",
       "    <tr>\n",
       "      <th>1274</th>\n",
       "      <td>From left to right:\\nCletus, Jerome, Alejandro, Burp, &amp;amp; Titson\\nNone know where camera is. 45/50 would hug all at once https://t.co/sedre1ivTK</td>\n",
       "      <td>50</td>\n",
       "    </tr>\n",
       "    <tr>\n",
       "      <th>1351</th>\n",
       "      <td>Here is a whole flock of puppers.  60/50 I'll take the lot https://t.co/9dpcw6MdWa</td>\n",
       "      <td>50</td>\n",
       "    </tr>\n",
       "    <tr>\n",
       "      <th>1433</th>\n",
       "      <td>Happy Wednesday here's a bucket of pups. 44/40 would pet all at once https://t.co/HppvrYuamZ</td>\n",
       "      <td>40</td>\n",
       "    </tr>\n",
       "    <tr>\n",
       "      <th>1635</th>\n",
       "      <td>Someone help the girl is being mugged. Several are distracting her while two steal her shoes. Clever puppers 121/110 https://t.co/1zfnTJLt55</td>\n",
       "      <td>110</td>\n",
       "    </tr>\n",
       "    <tr>\n",
       "      <th>1662</th>\n",
       "      <td>This is Darrel. He just robbed a 7/11 and is in a high speed police chase. Was just spotted by the helicopter 10/10 https://t.co/7EsP8LmSp5</td>\n",
       "      <td>11</td>\n",
       "    </tr>\n",
       "    <tr>\n",
       "      <th>1779</th>\n",
       "      <td>IT'S PUPPERGEDDON. Total of 144/120 ...I think https://t.co/ZanVtAtvIq</td>\n",
       "      <td>120</td>\n",
       "    </tr>\n",
       "    <tr>\n",
       "      <th>1843</th>\n",
       "      <td>Here we have an entire platoon of puppers. Total score: 88/80 would pet all at once https://t.co/y93p6FLvVw</td>\n",
       "      <td>80</td>\n",
       "    </tr>\n",
       "    <tr>\n",
       "      <th>2335</th>\n",
       "      <td>This is an Albanian 3 1/2 legged  Episcopalian. Loves well-polished hardwood flooring. Penis on the collar. 9/10 https://t.co/d9NcXFKwLv</td>\n",
       "      <td>2</td>\n",
       "    </tr>\n",
       "  </tbody>\n",
       "</table>\n",
       "</div>"
      ],
      "text/plain": [
       "                                                                                                                                                                           text  \\\n",
       "433                                                                         The floofs have been released I repeat the floofs have been released. 84/70 https://t.co/NIYC820tmd   \n",
       "516   Meet Sam. She smiles 24/7 &amp; secretly aspires to be a reindeer. \\nKeep Sam smiling by clicking and sharing this link:\\nhttps://t.co/98tB8y7y7t https://t.co/LouL5vdvxx   \n",
       "902                                                                                              Why does this never happen at my front door... 165/150 https://t.co/HmwrdfEfUE   \n",
       "1068                               After so many requests, this is Bretagne. She was the last surviving 9/11 search dog, and our second ever 14/10. RIP https://t.co/XAVDNDaVgQ   \n",
       "1120                                                  Say hello to this unbelievably well behaved squad of doggos. 204/170 would try to pet all at once https://t.co/yGQI3He3xv   \n",
       "1165                                                                                                           Happy 4/20 from the squad! 13/10 for all https://t.co/eV1diwds8a   \n",
       "1202                                                      This is Bluebert. He just saw that both #FinalFur match ups are split 50/50. Amazed af. 11/10 https://t.co/Kky1DPG4iq   \n",
       "1228                                                                              Happy Saturday here's 9 puppers on a bench. 99/90 good work everybody https://t.co/mpvaVxKmc1   \n",
       "1254                                                               Here's a brigade of puppers. All look very prepared for whatever happens next. 80/80 https://t.co/0eb7R1Om12   \n",
       "1274                         From left to right:\\nCletus, Jerome, Alejandro, Burp, &amp; Titson\\nNone know where camera is. 45/50 would hug all at once https://t.co/sedre1ivTK   \n",
       "1351                                                                                         Here is a whole flock of puppers.  60/50 I'll take the lot https://t.co/9dpcw6MdWa   \n",
       "1433                                                                               Happy Wednesday here's a bucket of pups. 44/40 would pet all at once https://t.co/HppvrYuamZ   \n",
       "1635                               Someone help the girl is being mugged. Several are distracting her while two steal her shoes. Clever puppers 121/110 https://t.co/1zfnTJLt55   \n",
       "1662                                This is Darrel. He just robbed a 7/11 and is in a high speed police chase. Was just spotted by the helicopter 10/10 https://t.co/7EsP8LmSp5   \n",
       "1779                                                                                                     IT'S PUPPERGEDDON. Total of 144/120 ...I think https://t.co/ZanVtAtvIq   \n",
       "1843                                                                Here we have an entire platoon of puppers. Total score: 88/80 would pet all at once https://t.co/y93p6FLvVw   \n",
       "2335                                   This is an Albanian 3 1/2 legged  Episcopalian. Loves well-polished hardwood flooring. Penis on the collar. 9/10 https://t.co/d9NcXFKwLv   \n",
       "\n",
       "      rating_denominator  \n",
       "433                   70  \n",
       "516                    7  \n",
       "902                  150  \n",
       "1068                  11  \n",
       "1120                 170  \n",
       "1165                  20  \n",
       "1202                  50  \n",
       "1228                  90  \n",
       "1254                  80  \n",
       "1274                  50  \n",
       "1351                  50  \n",
       "1433                  40  \n",
       "1635                 110  \n",
       "1662                  11  \n",
       "1779                 120  \n",
       "1843                  80  \n",
       "2335                   2  "
      ]
     },
     "execution_count": 50,
     "metadata": {},
     "output_type": "execute_result"
    }
   ],
   "source": [
    "twitter_clean.query('rating_denominator != 10')[['text', 'rating_denominator']]"
   ]
  },
  {
   "cell_type": "markdown",
   "id": "attended-wheel",
   "metadata": {},
   "source": [
    "#### Code"
   ]
  },
  {
   "cell_type": "code",
   "execution_count": 51,
   "id": "reliable-satellite",
   "metadata": {},
   "outputs": [],
   "source": [
    "rating_tofix = twitter_clean.query('rating_denominator != 10')[['text', 'rating_denominator']]"
   ]
  },
  {
   "cell_type": "code",
   "execution_count": 52,
   "id": "seventh-determination",
   "metadata": {},
   "outputs": [
    {
     "name": "stderr",
     "output_type": "stream",
     "text": [
      "<ipython-input-52-30e8b23c4d2b>:18: FutureWarning: Columnar iteration over characters will be deprecated in future releases.\n",
      "  rating_tofix['New_numerator'], rating_tofix['New_denominator'] = rating_tofix['Correct_rating'].str.split('/').str\n"
     ]
    }
   ],
   "source": [
    "import re\n",
    "\n",
    "# Create new columns to store newly extracted ratings\n",
    "rating_tofix['Correct_rating'] = ''\n",
    "rating_tofix['New_denominator'] = ''\n",
    "rating_tofix['New_numerator'] = ''\n",
    "\n",
    "# Extract the correct ratings\n",
    "for i,j in rating_tofix.iterrows():\n",
    "    try:\n",
    "        first = re.findall(r\"\\d+[/]\\d+\", j['text'])[0]\n",
    "        second = re.findall(r\"\\d+[/]\\d+\", j['text'])[1]\n",
    "        rating_tofix.loc[i, 'Correct_rating'] = second\n",
    "    except:\n",
    "        pass\n",
    "\n",
    "# Split ratings into numerator and denominator\n",
    "rating_tofix['New_numerator'], rating_tofix['New_denominator'] = rating_tofix['Correct_rating'].str.split('/').str\n",
    "rating_tofix = rating_tofix.fillna('')"
   ]
  },
  {
   "cell_type": "markdown",
   "id": "amazing-silicon",
   "metadata": {},
   "source": [
    "Now, we have the correct ratings for tweets where the first pattern was initially taken to be the dog rating, which was wrong."
   ]
  },
  {
   "cell_type": "code",
   "execution_count": 53,
   "id": "amino-mayor",
   "metadata": {},
   "outputs": [
    {
     "data": {
      "text/html": [
       "<div>\n",
       "<style scoped>\n",
       "    .dataframe tbody tr th:only-of-type {\n",
       "        vertical-align: middle;\n",
       "    }\n",
       "\n",
       "    .dataframe tbody tr th {\n",
       "        vertical-align: top;\n",
       "    }\n",
       "\n",
       "    .dataframe thead th {\n",
       "        text-align: right;\n",
       "    }\n",
       "</style>\n",
       "<table border=\"1\" class=\"dataframe\">\n",
       "  <thead>\n",
       "    <tr style=\"text-align: right;\">\n",
       "      <th></th>\n",
       "      <th>text</th>\n",
       "      <th>rating_denominator</th>\n",
       "      <th>Correct_rating</th>\n",
       "      <th>New_denominator</th>\n",
       "      <th>New_numerator</th>\n",
       "    </tr>\n",
       "  </thead>\n",
       "  <tbody>\n",
       "    <tr>\n",
       "      <th>433</th>\n",
       "      <td>The floofs have been released I repeat the floofs have been released. 84/70 https://t.co/NIYC820tmd</td>\n",
       "      <td>70</td>\n",
       "      <td></td>\n",
       "      <td></td>\n",
       "      <td></td>\n",
       "    </tr>\n",
       "    <tr>\n",
       "      <th>516</th>\n",
       "      <td>Meet Sam. She smiles 24/7 &amp;amp; secretly aspires to be a reindeer. \\nKeep Sam smiling by clicking and sharing this link:\\nhttps://t.co/98tB8y7y7t https://t.co/LouL5vdvxx</td>\n",
       "      <td>7</td>\n",
       "      <td></td>\n",
       "      <td></td>\n",
       "      <td></td>\n",
       "    </tr>\n",
       "    <tr>\n",
       "      <th>902</th>\n",
       "      <td>Why does this never happen at my front door... 165/150 https://t.co/HmwrdfEfUE</td>\n",
       "      <td>150</td>\n",
       "      <td></td>\n",
       "      <td></td>\n",
       "      <td></td>\n",
       "    </tr>\n",
       "    <tr>\n",
       "      <th>1068</th>\n",
       "      <td>After so many requests, this is Bretagne. She was the last surviving 9/11 search dog, and our second ever 14/10. RIP https://t.co/XAVDNDaVgQ</td>\n",
       "      <td>11</td>\n",
       "      <td>14/10</td>\n",
       "      <td>10</td>\n",
       "      <td>14</td>\n",
       "    </tr>\n",
       "    <tr>\n",
       "      <th>1120</th>\n",
       "      <td>Say hello to this unbelievably well behaved squad of doggos. 204/170 would try to pet all at once https://t.co/yGQI3He3xv</td>\n",
       "      <td>170</td>\n",
       "      <td></td>\n",
       "      <td></td>\n",
       "      <td></td>\n",
       "    </tr>\n",
       "    <tr>\n",
       "      <th>1165</th>\n",
       "      <td>Happy 4/20 from the squad! 13/10 for all https://t.co/eV1diwds8a</td>\n",
       "      <td>20</td>\n",
       "      <td>13/10</td>\n",
       "      <td>10</td>\n",
       "      <td>13</td>\n",
       "    </tr>\n",
       "    <tr>\n",
       "      <th>1202</th>\n",
       "      <td>This is Bluebert. He just saw that both #FinalFur match ups are split 50/50. Amazed af. 11/10 https://t.co/Kky1DPG4iq</td>\n",
       "      <td>50</td>\n",
       "      <td>11/10</td>\n",
       "      <td>10</td>\n",
       "      <td>11</td>\n",
       "    </tr>\n",
       "    <tr>\n",
       "      <th>1228</th>\n",
       "      <td>Happy Saturday here's 9 puppers on a bench. 99/90 good work everybody https://t.co/mpvaVxKmc1</td>\n",
       "      <td>90</td>\n",
       "      <td></td>\n",
       "      <td></td>\n",
       "      <td></td>\n",
       "    </tr>\n",
       "    <tr>\n",
       "      <th>1254</th>\n",
       "      <td>Here's a brigade of puppers. All look very prepared for whatever happens next. 80/80 https://t.co/0eb7R1Om12</td>\n",
       "      <td>80</td>\n",
       "      <td></td>\n",
       "      <td></td>\n",
       "      <td></td>\n",
       "    </tr>\n",
       "    <tr>\n",
       "      <th>1274</th>\n",
       "      <td>From left to right:\\nCletus, Jerome, Alejandro, Burp, &amp;amp; Titson\\nNone know where camera is. 45/50 would hug all at once https://t.co/sedre1ivTK</td>\n",
       "      <td>50</td>\n",
       "      <td></td>\n",
       "      <td></td>\n",
       "      <td></td>\n",
       "    </tr>\n",
       "    <tr>\n",
       "      <th>1351</th>\n",
       "      <td>Here is a whole flock of puppers.  60/50 I'll take the lot https://t.co/9dpcw6MdWa</td>\n",
       "      <td>50</td>\n",
       "      <td></td>\n",
       "      <td></td>\n",
       "      <td></td>\n",
       "    </tr>\n",
       "    <tr>\n",
       "      <th>1433</th>\n",
       "      <td>Happy Wednesday here's a bucket of pups. 44/40 would pet all at once https://t.co/HppvrYuamZ</td>\n",
       "      <td>40</td>\n",
       "      <td></td>\n",
       "      <td></td>\n",
       "      <td></td>\n",
       "    </tr>\n",
       "    <tr>\n",
       "      <th>1635</th>\n",
       "      <td>Someone help the girl is being mugged. Several are distracting her while two steal her shoes. Clever puppers 121/110 https://t.co/1zfnTJLt55</td>\n",
       "      <td>110</td>\n",
       "      <td></td>\n",
       "      <td></td>\n",
       "      <td></td>\n",
       "    </tr>\n",
       "    <tr>\n",
       "      <th>1662</th>\n",
       "      <td>This is Darrel. He just robbed a 7/11 and is in a high speed police chase. Was just spotted by the helicopter 10/10 https://t.co/7EsP8LmSp5</td>\n",
       "      <td>11</td>\n",
       "      <td>10/10</td>\n",
       "      <td>10</td>\n",
       "      <td>10</td>\n",
       "    </tr>\n",
       "    <tr>\n",
       "      <th>1779</th>\n",
       "      <td>IT'S PUPPERGEDDON. Total of 144/120 ...I think https://t.co/ZanVtAtvIq</td>\n",
       "      <td>120</td>\n",
       "      <td></td>\n",
       "      <td></td>\n",
       "      <td></td>\n",
       "    </tr>\n",
       "    <tr>\n",
       "      <th>1843</th>\n",
       "      <td>Here we have an entire platoon of puppers. Total score: 88/80 would pet all at once https://t.co/y93p6FLvVw</td>\n",
       "      <td>80</td>\n",
       "      <td></td>\n",
       "      <td></td>\n",
       "      <td></td>\n",
       "    </tr>\n",
       "    <tr>\n",
       "      <th>2335</th>\n",
       "      <td>This is an Albanian 3 1/2 legged  Episcopalian. Loves well-polished hardwood flooring. Penis on the collar. 9/10 https://t.co/d9NcXFKwLv</td>\n",
       "      <td>2</td>\n",
       "      <td>9/10</td>\n",
       "      <td>10</td>\n",
       "      <td>9</td>\n",
       "    </tr>\n",
       "  </tbody>\n",
       "</table>\n",
       "</div>"
      ],
      "text/plain": [
       "                                                                                                                                                                           text  \\\n",
       "433                                                                         The floofs have been released I repeat the floofs have been released. 84/70 https://t.co/NIYC820tmd   \n",
       "516   Meet Sam. She smiles 24/7 &amp; secretly aspires to be a reindeer. \\nKeep Sam smiling by clicking and sharing this link:\\nhttps://t.co/98tB8y7y7t https://t.co/LouL5vdvxx   \n",
       "902                                                                                              Why does this never happen at my front door... 165/150 https://t.co/HmwrdfEfUE   \n",
       "1068                               After so many requests, this is Bretagne. She was the last surviving 9/11 search dog, and our second ever 14/10. RIP https://t.co/XAVDNDaVgQ   \n",
       "1120                                                  Say hello to this unbelievably well behaved squad of doggos. 204/170 would try to pet all at once https://t.co/yGQI3He3xv   \n",
       "1165                                                                                                           Happy 4/20 from the squad! 13/10 for all https://t.co/eV1diwds8a   \n",
       "1202                                                      This is Bluebert. He just saw that both #FinalFur match ups are split 50/50. Amazed af. 11/10 https://t.co/Kky1DPG4iq   \n",
       "1228                                                                              Happy Saturday here's 9 puppers on a bench. 99/90 good work everybody https://t.co/mpvaVxKmc1   \n",
       "1254                                                               Here's a brigade of puppers. All look very prepared for whatever happens next. 80/80 https://t.co/0eb7R1Om12   \n",
       "1274                         From left to right:\\nCletus, Jerome, Alejandro, Burp, &amp; Titson\\nNone know where camera is. 45/50 would hug all at once https://t.co/sedre1ivTK   \n",
       "1351                                                                                         Here is a whole flock of puppers.  60/50 I'll take the lot https://t.co/9dpcw6MdWa   \n",
       "1433                                                                               Happy Wednesday here's a bucket of pups. 44/40 would pet all at once https://t.co/HppvrYuamZ   \n",
       "1635                               Someone help the girl is being mugged. Several are distracting her while two steal her shoes. Clever puppers 121/110 https://t.co/1zfnTJLt55   \n",
       "1662                                This is Darrel. He just robbed a 7/11 and is in a high speed police chase. Was just spotted by the helicopter 10/10 https://t.co/7EsP8LmSp5   \n",
       "1779                                                                                                     IT'S PUPPERGEDDON. Total of 144/120 ...I think https://t.co/ZanVtAtvIq   \n",
       "1843                                                                Here we have an entire platoon of puppers. Total score: 88/80 would pet all at once https://t.co/y93p6FLvVw   \n",
       "2335                                   This is an Albanian 3 1/2 legged  Episcopalian. Loves well-polished hardwood flooring. Penis on the collar. 9/10 https://t.co/d9NcXFKwLv   \n",
       "\n",
       "      rating_denominator Correct_rating New_denominator New_numerator  \n",
       "433                   70                                               \n",
       "516                    7                                               \n",
       "902                  150                                               \n",
       "1068                  11          14/10              10            14  \n",
       "1120                 170                                               \n",
       "1165                  20          13/10              10            13  \n",
       "1202                  50          11/10              10            11  \n",
       "1228                  90                                               \n",
       "1254                  80                                               \n",
       "1274                  50                                               \n",
       "1351                  50                                               \n",
       "1433                  40                                               \n",
       "1635                 110                                               \n",
       "1662                  11          10/10              10            10  \n",
       "1779                 120                                               \n",
       "1843                  80                                               \n",
       "2335                   2           9/10              10             9  "
      ]
     },
     "execution_count": 53,
     "metadata": {},
     "output_type": "execute_result"
    }
   ],
   "source": [
    "rating_tofix"
   ]
  },
  {
   "cell_type": "markdown",
   "id": "persistent-tennessee",
   "metadata": {},
   "source": [
    "I will now replace the new denominators and numerators to the original dataframe `twitter_clean`.\n",
    "\n",
    "I will also remove the other lines where I am unsure of whether or not their ratings refer to dog ratings."
   ]
  },
  {
   "cell_type": "code",
   "execution_count": 54,
   "id": "fixed-chicago",
   "metadata": {},
   "outputs": [],
   "source": [
    "# Value replacement\n",
    "for i in [1068, 1165, 1202, 1662, 2335]:\n",
    "    twitter_clean.loc[i, 'rating_numerator'] = rating_tofix.loc[i, 'New_numerator']\n",
    "    twitter_clean.loc[i, 'rating_denominator'] = rating_tofix.loc[i, 'New_denominator']"
   ]
  },
  {
   "cell_type": "code",
   "execution_count": 55,
   "id": "biblical-coordination",
   "metadata": {},
   "outputs": [],
   "source": [
    "# Remove lines\n",
    "for i in [433, 516, 902, 1120, 1228, 1254, 1274, 1351, 1433, 1635, 1779, 1843]:\n",
    "    twitter_clean = twitter_clean.drop(i)"
   ]
  },
  {
   "cell_type": "code",
   "execution_count": 56,
   "id": "clear-collect",
   "metadata": {},
   "outputs": [],
   "source": [
    "# The extracted ratings were in a string format\n",
    "twitter_clean['rating_denominator'] = twitter_clean['rating_denominator'].astype(int)\n",
    "twitter_clean['rating_numerator'] = twitter_clean['rating_numerator'].astype(int)"
   ]
  },
  {
   "cell_type": "markdown",
   "id": "mounted-session",
   "metadata": {},
   "source": [
    "#### Test"
   ]
  },
  {
   "cell_type": "code",
   "execution_count": 57,
   "id": "absent-geneva",
   "metadata": {},
   "outputs": [
    {
     "data": {
      "text/plain": [
       "array([10])"
      ]
     },
     "execution_count": 57,
     "metadata": {},
     "output_type": "execute_result"
    }
   ],
   "source": [
    "# New denominators\n",
    "twitter_clean['rating_denominator'].unique()"
   ]
  },
  {
   "cell_type": "code",
   "execution_count": 58,
   "id": "tribal-species",
   "metadata": {},
   "outputs": [
    {
     "data": {
      "text/plain": [
       "array([ 10,   0,  15,  70,   7,  11, 150, 170,  20,  50,  90,  80,  40,\n",
       "       130, 110,  16, 120,   2])"
      ]
     },
     "execution_count": 58,
     "metadata": {},
     "output_type": "execute_result"
    }
   ],
   "source": [
    "# Old, original denominators\n",
    "twitter_combined_df['rating_denominator'].unique()"
   ]
  },
  {
   "cell_type": "code",
   "execution_count": 59,
   "id": "subtle-lotus",
   "metadata": {},
   "outputs": [
    {
     "data": {
      "text/plain": [
       "array([  13,   12,   14,    5,   11,    6,   10,    0,   75,   27,    3,\n",
       "          7,    8,    9,    4, 1776,   26,    2,    1,  420])"
      ]
     },
     "execution_count": 59,
     "metadata": {},
     "output_type": "execute_result"
    }
   ],
   "source": [
    "# New numerators\n",
    "twitter_clean['rating_numerator'].unique()"
   ]
  },
  {
   "cell_type": "code",
   "execution_count": 60,
   "id": "lightweight-product",
   "metadata": {},
   "outputs": [
    {
     "data": {
      "text/plain": [
       "array([  13,   12,   14,    5,   17,   11,   10,  420,  666,    6,   15,\n",
       "        182,  960,    0,   75,    7,   84,    9,   24,    8,    1,   27,\n",
       "          3,    4,  165, 1776,  204,   50,   99,   80,   45,   60,   44,\n",
       "        143,  121,   20,   26,    2,  144,   88])"
      ]
     },
     "execution_count": 60,
     "metadata": {},
     "output_type": "execute_result"
    }
   ],
   "source": [
    "# Old numerators\n",
    "twitter_combined_df['rating_numerator'].unique()"
   ]
  },
  {
   "cell_type": "markdown",
   "id": "elementary-missouri",
   "metadata": {},
   "source": [
    "#### Define: \n",
    "\n",
    "> 4) Some dogs have more than one dog stage assigned to them\n",
    "\n",
    "- For tweets with more than one stage assigned, I need to look at The Dogtionary and their pictures to re-classify them."
   ]
  },
  {
   "cell_type": "markdown",
   "id": "still-basic",
   "metadata": {},
   "source": [
    "#### Code"
   ]
  },
  {
   "cell_type": "markdown",
   "id": "opened-price",
   "metadata": {},
   "source": [
    "We see some with the doggo and floofer types, some with doggo and puppo types, some with doggo and pupper."
   ]
  },
  {
   "cell_type": "code",
   "execution_count": 61,
   "id": "valid-ethnic",
   "metadata": {},
   "outputs": [
    {
     "data": {
      "text/plain": [
       "array(['None,None,None,None', 'doggo,None,None,None',\n",
       "       'None,None,None,puppo', 'None,None,pupper,None',\n",
       "       'None,floofer,None,None', 'doggo,None,None,puppo',\n",
       "       'doggo,floofer,None,None', 'doggo,None,pupper,None'], dtype=object)"
      ]
     },
     "execution_count": 61,
     "metadata": {},
     "output_type": "execute_result"
    }
   ],
   "source": [
    "(twitter_clean['doggo'] + ',' + twitter_clean['floofer'] + ',' + twitter_clean['pupper'] + ',' + \\\n",
    "twitter_clean['puppo']).unique()"
   ]
  },
  {
   "cell_type": "code",
   "execution_count": 62,
   "id": "ranging-wedding",
   "metadata": {},
   "outputs": [],
   "source": [
    "# Create a temporary column to store the combinations\n",
    "twitter_clean['dog_stage'] = twitter_clean['doggo'] + ',' + twitter_clean['floofer'] + ',' + \\\n",
    "                             twitter_clean['pupper'] + ',' + twitter_clean['puppo']"
   ]
  },
  {
   "cell_type": "code",
   "execution_count": 63,
   "id": "adjustable-projector",
   "metadata": {},
   "outputs": [
    {
     "data": {
      "text/plain": [
       "dog_stage\n",
       "None,None,None,None        1749\n",
       "None,None,None,puppo         23\n",
       "None,None,pupper,None       221\n",
       "None,floofer,None,None        9\n",
       "doggo,None,None,None         72\n",
       "doggo,None,None,puppo         1\n",
       "doggo,None,pupper,None        9\n",
       "doggo,floofer,None,None       1\n",
       "Name: tweet_id, dtype: int64"
      ]
     },
     "execution_count": 63,
     "metadata": {},
     "output_type": "execute_result"
    }
   ],
   "source": [
    "# Get a general count of tweets that I'd need to manually re-classify\n",
    "twitter_clean.groupby(['dog_stage'])['tweet_id'].count()"
   ]
  },
  {
   "cell_type": "markdown",
   "id": "settled-uganda",
   "metadata": {},
   "source": [
    "So, it looks like a total of 11 tweets need fixing.\n",
    "\n",
    "It also just dawned on me that there are 1,749 tweets without dog stages. \n",
    "\n",
    "**I will look at these later.**"
   ]
  },
  {
   "cell_type": "code",
   "execution_count": 64,
   "id": "immune-muscle",
   "metadata": {},
   "outputs": [
    {
     "data": {
      "text/html": [
       "<div>\n",
       "<style scoped>\n",
       "    .dataframe tbody tr th:only-of-type {\n",
       "        vertical-align: middle;\n",
       "    }\n",
       "\n",
       "    .dataframe tbody tr th {\n",
       "        vertical-align: top;\n",
       "    }\n",
       "\n",
       "    .dataframe thead th {\n",
       "        text-align: right;\n",
       "    }\n",
       "</style>\n",
       "<table border=\"1\" class=\"dataframe\">\n",
       "  <thead>\n",
       "    <tr style=\"text-align: right;\">\n",
       "      <th></th>\n",
       "      <th>dog_stage</th>\n",
       "      <th>tweet_id</th>\n",
       "    </tr>\n",
       "  </thead>\n",
       "  <tbody>\n",
       "    <tr>\n",
       "      <th>5</th>\n",
       "      <td>doggo,None,None,puppo</td>\n",
       "      <td>[855851453814013952]</td>\n",
       "    </tr>\n",
       "    <tr>\n",
       "      <th>6</th>\n",
       "      <td>doggo,None,pupper,None</td>\n",
       "      <td>[817777686764523521, 808106460588765185, 801115127852503040, 785639753186217984, 781308096455073793, 759793422261743616, 751583847268179968, 741067306818797568, 733109485275860992]</td>\n",
       "    </tr>\n",
       "    <tr>\n",
       "      <th>7</th>\n",
       "      <td>doggo,floofer,None,None</td>\n",
       "      <td>[854010172552949760]</td>\n",
       "    </tr>\n",
       "  </tbody>\n",
       "</table>\n",
       "</div>"
      ],
      "text/plain": [
       "                 dog_stage  \\\n",
       "5    doggo,None,None,puppo   \n",
       "6   doggo,None,pupper,None   \n",
       "7  doggo,floofer,None,None   \n",
       "\n",
       "                                                                                                                                                                               tweet_id  \n",
       "5                                                                                                                                                                  [855851453814013952]  \n",
       "6  [817777686764523521, 808106460588765185, 801115127852503040, 785639753186217984, 781308096455073793, 759793422261743616, 751583847268179968, 741067306818797568, 733109485275860992]  \n",
       "7                                                                                                                                                                  [854010172552949760]  "
      ]
     },
     "execution_count": 64,
     "metadata": {},
     "output_type": "execute_result"
    }
   ],
   "source": [
    "# Get all tweet IDs of dogs that need to have their stages checked\n",
    "twitter_clean.groupby('dog_stage')['tweet_id'].unique().reset_index()[5:]"
   ]
  },
  {
   "cell_type": "code",
   "execution_count": 65,
   "id": "analyzed-installation",
   "metadata": {
    "scrolled": true
   },
   "outputs": [
    {
     "data": {
      "text/html": [
       "<div>\n",
       "<style scoped>\n",
       "    .dataframe tbody tr th:only-of-type {\n",
       "        vertical-align: middle;\n",
       "    }\n",
       "\n",
       "    .dataframe tbody tr th {\n",
       "        vertical-align: top;\n",
       "    }\n",
       "\n",
       "    .dataframe thead th {\n",
       "        text-align: right;\n",
       "    }\n",
       "</style>\n",
       "<table border=\"1\" class=\"dataframe\">\n",
       "  <thead>\n",
       "    <tr style=\"text-align: right;\">\n",
       "      <th></th>\n",
       "      <th>0</th>\n",
       "    </tr>\n",
       "  </thead>\n",
       "  <tbody>\n",
       "    <tr>\n",
       "      <th>855851453814013952</th>\n",
       "      <td>https://pbs.twimg.com/media/C-CYWrvWAAU8AXH.jpg</td>\n",
       "    </tr>\n",
       "    <tr>\n",
       "      <th>817777686764523521</th>\n",
       "      <td>https://pbs.twimg.com/ext_tw_video_thumb/817777588030476288/pu/img/KbuLpE4krHF4VdPf.jpg</td>\n",
       "    </tr>\n",
       "    <tr>\n",
       "      <th>808106460588765185</th>\n",
       "      <td>https://pbs.twimg.com/media/Czb4iFRXgAIUMiN.jpg</td>\n",
       "    </tr>\n",
       "    <tr>\n",
       "      <th>801115127852503040</th>\n",
       "      <td>https://pbs.twimg.com/media/Cx4h7zHUsAAqaJd.jpg</td>\n",
       "    </tr>\n",
       "    <tr>\n",
       "      <th>785639753186217984</th>\n",
       "      <td>https://pbs.twimg.com/media/CucnLmeWAAALOSC.jpg</td>\n",
       "    </tr>\n",
       "    <tr>\n",
       "      <th>781308096455073793</th>\n",
       "      <td>NaN</td>\n",
       "    </tr>\n",
       "    <tr>\n",
       "      <th>759793422261743616</th>\n",
       "      <td>https://pbs.twimg.com/media/CotUFZEWcAA2Pku.jpg</td>\n",
       "    </tr>\n",
       "    <tr>\n",
       "      <th>751583847268179968</th>\n",
       "      <td>https://pbs.twimg.com/media/Cm4phTpWcAAgLsr.jpg</td>\n",
       "    </tr>\n",
       "    <tr>\n",
       "      <th>741067306818797568</th>\n",
       "      <td>https://pbs.twimg.com/media/CkjMx99UoAM2B1a.jpg</td>\n",
       "    </tr>\n",
       "    <tr>\n",
       "      <th>733109485275860992</th>\n",
       "      <td>https://pbs.twimg.com/media/CiyHLocU4AI2pJu.jpg</td>\n",
       "    </tr>\n",
       "    <tr>\n",
       "      <th>854010172552949760</th>\n",
       "      <td>https://pbs.twimg.com/media/C9oNt91WAAAFSLS.jpg</td>\n",
       "    </tr>\n",
       "  </tbody>\n",
       "</table>\n",
       "</div>"
      ],
      "text/plain": [
       "                                                                                                          0\n",
       "855851453814013952                                          https://pbs.twimg.com/media/C-CYWrvWAAU8AXH.jpg\n",
       "817777686764523521  https://pbs.twimg.com/ext_tw_video_thumb/817777588030476288/pu/img/KbuLpE4krHF4VdPf.jpg\n",
       "808106460588765185                                          https://pbs.twimg.com/media/Czb4iFRXgAIUMiN.jpg\n",
       "801115127852503040                                          https://pbs.twimg.com/media/Cx4h7zHUsAAqaJd.jpg\n",
       "785639753186217984                                          https://pbs.twimg.com/media/CucnLmeWAAALOSC.jpg\n",
       "781308096455073793                                                                                      NaN\n",
       "759793422261743616                                          https://pbs.twimg.com/media/CotUFZEWcAA2Pku.jpg\n",
       "751583847268179968                                          https://pbs.twimg.com/media/Cm4phTpWcAAgLsr.jpg\n",
       "741067306818797568                                          https://pbs.twimg.com/media/CkjMx99UoAM2B1a.jpg\n",
       "733109485275860992                                          https://pbs.twimg.com/media/CiyHLocU4AI2pJu.jpg\n",
       "854010172552949760                                          https://pbs.twimg.com/media/C9oNt91WAAAFSLS.jpg"
      ]
     },
     "execution_count": 65,
     "metadata": {},
     "output_type": "execute_result"
    }
   ],
   "source": [
    "# Get a list of the above tweet IDs and their images\n",
    "tweet_id_fix = {}\n",
    "\n",
    "for i,j in twitter_clean.groupby('dog_stage')['tweet_id'].unique().reset_index()[5:].iterrows():\n",
    "    for a in j['tweet_id']:\n",
    "        tweet_id_fix[a] = twitter_clean.query('tweet_id == @a')['jpg_url'].values[0]\n",
    "        \n",
    "pd.DataFrame(tweet_id_fix, index=[0]).transpose()"
   ]
  },
  {
   "cell_type": "markdown",
   "id": "quiet-france",
   "metadata": {},
   "source": [
    "Ok, let's go through the above image urls to determine each dog stage.\n",
    "\n",
    "Results:\n",
    "- ID 855851453814013952 = puppo\n",
    "- ID 817777686764523521 = puppo\n",
    "- ID 808106460588765185 = doggo, pupper\n",
    "- ID 801115127852503040 = pupper\n",
    "- ID 785639753186217984 = None\n",
    "- ID 781308096455073793 = None\n",
    "- ID 759793422261743616 = doggo, pupper\n",
    "- ID 751583847268179968 = doggo\n",
    "- ID 741067306818797568 = doggo, pupper\n",
    "- ID 733109485275860992 = doggo, pupper\n",
    "- ID 854010172552949760 = snoot\n",
    "\n",
    "Some have pictures of 2 dogs, and I had thought of classifying them as `family`, to see if perhaps pictures of more than one dog have higher ratings than the rest, but considering I would only have less than 10 of these, it wouldn't add any significance to the analysis. So, I will just group these under `doggo`."
   ]
  },
  {
   "cell_type": "code",
   "execution_count": 66,
   "id": "peaceful-borough",
   "metadata": {},
   "outputs": [],
   "source": [
    "# Manually change them\n",
    "\n",
    "# doggo first: 808106460588765185, 759793422261743616, 751583847268179968, 741067306818797568, 733109485275860992\n",
    "for i in [808106460588765185, 759793422261743616, 751583847268179968, 741067306818797568, 733109485275860992]:\n",
    "    twitter_clean.loc[twitter_clean.query('tweet_id == @i').index, 'doggo'] = 'doggo'\n",
    "    twitter_clean.loc[twitter_clean.query('tweet_id == @i').index, 'floofer'] = 'None'\n",
    "    twitter_clean.loc[twitter_clean.query('tweet_id == @i').index, 'pupper'] = 'None'\n",
    "    twitter_clean.loc[twitter_clean.query('tweet_id == @i').index, 'puppo'] = 'None'\n",
    "\n",
    "# floofer second: -\n",
    "\n",
    "# pupper third: 801115127852503040\n",
    "for i in [801115127852503040]:\n",
    "    twitter_clean.loc[twitter_clean.query('tweet_id == @i').index, 'doggo'] = 'None'\n",
    "    twitter_clean.loc[twitter_clean.query('tweet_id == @i').index, 'floofer'] = 'None'\n",
    "    twitter_clean.loc[twitter_clean.query('tweet_id == @i').index, 'pupper'] = 'pupper'\n",
    "    twitter_clean.loc[twitter_clean.query('tweet_id == @i').index, 'puppo'] = 'None'\n",
    "\n",
    "# puppo last: 855851453814013952, 817777686764523521\n",
    "for i in [855851453814013952, 817777686764523521]:\n",
    "    twitter_clean.loc[twitter_clean.query('tweet_id == @i').index, 'doggo'] = 'None'\n",
    "    twitter_clean.loc[twitter_clean.query('tweet_id == @i').index, 'floofer'] = 'None'\n",
    "    twitter_clean.loc[twitter_clean.query('tweet_id == @i').index, 'pupper'] = 'None'\n",
    "    twitter_clean.loc[twitter_clean.query('tweet_id == @i').index, 'puppo'] = 'puppo'\n",
    "\n",
    "# none: 785639753186217984, 781308096455073793, 854010172552949760\n",
    "for i in [785639753186217984, 781308096455073793, 854010172552949760]:\n",
    "    twitter_clean.loc[twitter_clean.query('tweet_id == @i').index, 'doggo'] = 'None'\n",
    "    twitter_clean.loc[twitter_clean.query('tweet_id == @i').index, 'floofer'] = 'None'\n",
    "    twitter_clean.loc[twitter_clean.query('tweet_id == @i').index, 'pupper'] = 'None'\n",
    "    twitter_clean.loc[twitter_clean.query('tweet_id == @i').index, 'puppo'] = 'None'"
   ]
  },
  {
   "cell_type": "markdown",
   "id": "pending-resident",
   "metadata": {},
   "source": [
    "Let's check out those with no dog stages at all. \n",
    "\n",
    "Considering these infomation were extracted from each tweet's text, it may be that in actuality, none of these words may be found in the text itself, or perhaps something else is going on."
   ]
  },
  {
   "cell_type": "code",
   "execution_count": 67,
   "id": "infectious-forestry",
   "metadata": {},
   "outputs": [
    {
     "data": {
      "text/html": [
       "<div>\n",
       "<style scoped>\n",
       "    .dataframe tbody tr th:only-of-type {\n",
       "        vertical-align: middle;\n",
       "    }\n",
       "\n",
       "    .dataframe tbody tr th {\n",
       "        vertical-align: top;\n",
       "    }\n",
       "\n",
       "    .dataframe thead th {\n",
       "        text-align: right;\n",
       "    }\n",
       "</style>\n",
       "<table border=\"1\" class=\"dataframe\">\n",
       "  <thead>\n",
       "    <tr style=\"text-align: right;\">\n",
       "      <th></th>\n",
       "      <th>text</th>\n",
       "    </tr>\n",
       "  </thead>\n",
       "  <tbody>\n",
       "    <tr>\n",
       "      <th>0</th>\n",
       "      <td>This is Phineas. He's a mystical boy. Only ever appears in the hole of a donut. 13/10 https://t.co/MgUWQ76dJU</td>\n",
       "    </tr>\n",
       "    <tr>\n",
       "      <th>1</th>\n",
       "      <td>This is Tilly. She's just checking pup on you. Hopes you're doing ok. If not, she's available for pats, snugs, boops, the whole bit. 13/10 https://t.co/0Xxu71qeIV</td>\n",
       "    </tr>\n",
       "    <tr>\n",
       "      <th>2</th>\n",
       "      <td>This is Archie. He is a rare Norwegian Pouncing Corgo. Lives in the tall grass. You never know when one may strike. 12/10 https://t.co/wUnZnhtVJB</td>\n",
       "    </tr>\n",
       "    <tr>\n",
       "      <th>3</th>\n",
       "      <td>This is Darla. She commenced a snooze mid meal. 13/10 happens to the best of us https://t.co/tD36da7qLQ</td>\n",
       "    </tr>\n",
       "    <tr>\n",
       "      <th>4</th>\n",
       "      <td>This is Franklin. He would like you to stop calling him \"cute.\" He is a very fierce shark and should be respected as such. 12/10 #BarkWeek https://t.co/AtUZn91f7f</td>\n",
       "    </tr>\n",
       "    <tr>\n",
       "      <th>5</th>\n",
       "      <td>Here we have a majestic great white breaching off South Africa's coast. Absolutely h*ckin breathtaking. 13/10 (IG: tucker_marlo) #BarkWeek https://t.co/kQ04fDDRmh</td>\n",
       "    </tr>\n",
       "    <tr>\n",
       "      <th>6</th>\n",
       "      <td>Meet Jax. He enjoys ice cream so much he gets nervous around it. 13/10 help Jax enjoy more things by clicking below\\n\\nhttps://t.co/Zr4hWfAs1H https://t.co/tVJBRMnhxl</td>\n",
       "    </tr>\n",
       "    <tr>\n",
       "      <th>7</th>\n",
       "      <td>When you watch your owner call another dog a good boy but then they turn back to you and say you're a great boy. 13/10 https://t.co/v0nONBcwxq</td>\n",
       "    </tr>\n",
       "    <tr>\n",
       "      <th>8</th>\n",
       "      <td>This is Zoey. She doesn't want to be one of the scary sharks. Just wants to be a snuggly pettable boatpet. 13/10 #BarkWeek https://t.co/9TwLuAGH0b</td>\n",
       "    </tr>\n",
       "    <tr>\n",
       "      <th>10</th>\n",
       "      <td>This is Koda. He is a South Australian deckshark. Deceptively deadly. Frighteningly majestic. 13/10 would risk a petting #BarkWeek https://t.co/dVPW0B0Mme</td>\n",
       "    </tr>\n",
       "    <tr>\n",
       "      <th>11</th>\n",
       "      <td>This is Bruno. He is a service shark. Only gets out of the water to assist you. 13/10 terrifyingly good boy https://t.co/u1XPQMl29g</td>\n",
       "    </tr>\n",
       "    <tr>\n",
       "      <th>13</th>\n",
       "      <td>This is Ted. He does his best. Sometimes that's not enough. But it's ok. 12/10 would assist https://t.co/f8dEDcrKSR</td>\n",
       "    </tr>\n",
       "    <tr>\n",
       "      <th>15</th>\n",
       "      <td>This is Oliver. You're witnessing one of his many brutal attacks. Seems to be playing with his victim. 13/10 fr*ckin frightening #BarkWeek https://t.co/WpHvrQedPb</td>\n",
       "    </tr>\n",
       "    <tr>\n",
       "      <th>16</th>\n",
       "      <td>This is Jim. He found a fren. Taught him how to sit like the good boys. 12/10 for both https://t.co/chxruIOUJN</td>\n",
       "    </tr>\n",
       "    <tr>\n",
       "      <th>17</th>\n",
       "      <td>This is Zeke. He has a new stick. Very proud of it. Would like you to throw it for him without taking it. 13/10 would do my best https://t.co/HTQ77yNQ5K</td>\n",
       "    </tr>\n",
       "    <tr>\n",
       "      <th>18</th>\n",
       "      <td>This is Ralphus. He's powering up. Attempting maximum borkdrive. 13/10 inspirational af https://t.co/YnYAFCTTiK</td>\n",
       "    </tr>\n",
       "    <tr>\n",
       "      <th>20</th>\n",
       "      <td>This is Gerald. He was just told he didn't get the job he interviewed for. A h*ckin injustice. 12/10 didn't want the job anyway https://t.co/DK7iDPfuRX</td>\n",
       "    </tr>\n",
       "    <tr>\n",
       "      <th>21</th>\n",
       "      <td>This is Jeffrey. He has a monopoly on the pool noodles. Currently running a 'boop for two' midweek sale. 13/10 h*ckin strategic https://t.co/PhrUk20Q64</td>\n",
       "    </tr>\n",
       "    <tr>\n",
       "      <th>22</th>\n",
       "      <td>I've yet to rate a Venezuelan Hover Wiener. This is such an honor. 14/10 paw-inspiring af (IG: roxy.thedoxy) https://t.co/20VrLAA8ba</td>\n",
       "    </tr>\n",
       "    <tr>\n",
       "      <th>23</th>\n",
       "      <td>This is Canela. She attempted some fancy porch pics. They were unsuccessful. 13/10 someone help her https://t.co/cLyzpcUcMX</td>\n",
       "    </tr>\n",
       "    <tr>\n",
       "      <th>24</th>\n",
       "      <td>You may not have known you needed to see this today. 13/10 please enjoy (IG: emmylouroo) https://t.co/WZqNqygEyV</td>\n",
       "    </tr>\n",
       "    <tr>\n",
       "      <th>25</th>\n",
       "      <td>This... is a Jubilant Antarctic House Bear. We only rate dogs. Please only send dogs. Thank you... 12/10 would suffocate in floof https://t.co/4Ad1jzJSdp</td>\n",
       "    </tr>\n",
       "    <tr>\n",
       "      <th>26</th>\n",
       "      <td>This is Maya. She's very shy. Rarely leaves her cup. 13/10 would find her an environment to thrive in https://t.co/I6oNy0CgiT</td>\n",
       "    </tr>\n",
       "    <tr>\n",
       "      <th>27</th>\n",
       "      <td>This is Mingus. He's a wonderful father to his smol pup. Confirmed 13/10, but he needs your help\\n\\nhttps://t.co/bVi0Yr4Cff https://t.co/ISvKOSkd5b</td>\n",
       "    </tr>\n",
       "    <tr>\n",
       "      <th>28</th>\n",
       "      <td>This is Derek. He's late for a dog meeting. 13/10 pet...al to the metal https://t.co/BCoWue0abA</td>\n",
       "    </tr>\n",
       "    <tr>\n",
       "      <th>31</th>\n",
       "      <td>This is Waffles. His doggles are pupside down. Unsure how to fix. 13/10 someone assist Waffles https://t.co/xZDA9Qsq1O</td>\n",
       "    </tr>\n",
       "    <tr>\n",
       "      <th>33</th>\n",
       "      <td>Viewer discretion advised. This is Jimbo. He will rip ur finger right h*ckin off. Other dog clearly an accessory. 12/10 pls pet with caution https://t.co/BuveP0uMF1</td>\n",
       "    </tr>\n",
       "    <tr>\n",
       "      <th>34</th>\n",
       "      <td>This is Maisey. She fell asleep mid-excavation. Happens to the best of us. 13/10 would pat noggin approvingly https://t.co/tp1kQ8i9JF</td>\n",
       "    </tr>\n",
       "    <tr>\n",
       "      <th>35</th>\n",
       "      <td>I have a new hero and his name is Howard. 14/10 https://t.co/gzLHboL7Sk</td>\n",
       "    </tr>\n",
       "    <tr>\n",
       "      <th>37</th>\n",
       "      <td>Here we have a corgi undercover as a malamute. Pawbably doing important investigative work. Zero control over tongue happenings. 13/10 https://t.co/44ItaMubBf</td>\n",
       "    </tr>\n",
       "    <tr>\n",
       "      <th>38</th>\n",
       "      <td>This is Earl. He found a hat. Nervous about what you think of it. 12/10 it's delightful, Earl https://t.co/MYJvdlNRVa</td>\n",
       "    </tr>\n",
       "    <tr>\n",
       "      <th>39</th>\n",
       "      <td>This is Lola. It's her first time outside. Must test the earth and taste the atmosphere. 13/10 you're doing great Lola https://t.co/74TKAUsLkO</td>\n",
       "    </tr>\n",
       "    <tr>\n",
       "      <th>40</th>\n",
       "      <td>This is Kevin. He's just so happy. 13/10 what is your secret Kevin https://t.co/1r4MFCbCX5</td>\n",
       "    </tr>\n",
       "    <tr>\n",
       "      <th>41</th>\n",
       "      <td>I present to you, Pup in Hat. Pup in Hat is great for all occasions. Extremely versatile. Compact as h*ck. 14/10 (IG: itselizabethgales) https://t.co/vvBOcC2VdC</td>\n",
       "    </tr>\n",
       "    <tr>\n",
       "      <th>42</th>\n",
       "      <td>OMG HE DIDN'T MEAN TO HE WAS JUST TRYING A LITTLE BARKOUR HE'S SUPER SORRY 13/10 WOULD FORGIVE IMMEDIATE https://t.co/uF3pQ8Wubj</td>\n",
       "    </tr>\n",
       "    <tr>\n",
       "      <th>44</th>\n",
       "      <td>This is Noah. He can't believe someone made this mess. Got the vacuum out for you though. Offered to help clean pup. 12/10 super good boy https://t.co/V85xujjDDY</td>\n",
       "    </tr>\n",
       "    <tr>\n",
       "      <th>45</th>\n",
       "      <td>This is Bella. She hopes her smile made you smile. If not, she is also offering you her favorite monkey. 13.5/10 https://t.co/qjrljjt948</td>\n",
       "    </tr>\n",
       "    <tr>\n",
       "      <th>47</th>\n",
       "      <td>Please only send dogs. We don't rate mechanics, no matter how h*ckin good. Thank you... 13/10 would sneak a pat https://t.co/Se5fZ9wp5E</td>\n",
       "    </tr>\n",
       "    <tr>\n",
       "      <th>48</th>\n",
       "      <td>This is Rusty. He wasn't ready for the first pic. Clearly puppared for the second. 13/10 confirmed great boy https://t.co/tyER0KpdXj</td>\n",
       "    </tr>\n",
       "    <tr>\n",
       "      <th>50</th>\n",
       "      <td>This is Stanley. He has his first swim lesson today. Doggle straps adjusted. Ready to go. 13/10 Phelps is nervous (IG: stanleythe_corgi) https://t.co/Nx52PGwH94</td>\n",
       "    </tr>\n",
       "  </tbody>\n",
       "</table>\n",
       "</div>"
      ],
      "text/plain": [
       "                                                                                                                                                                      text\n",
       "0                                                            This is Phineas. He's a mystical boy. Only ever appears in the hole of a donut. 13/10 https://t.co/MgUWQ76dJU\n",
       "1       This is Tilly. She's just checking pup on you. Hopes you're doing ok. If not, she's available for pats, snugs, boops, the whole bit. 13/10 https://t.co/0Xxu71qeIV\n",
       "2                        This is Archie. He is a rare Norwegian Pouncing Corgo. Lives in the tall grass. You never know when one may strike. 12/10 https://t.co/wUnZnhtVJB\n",
       "3                                                                  This is Darla. She commenced a snooze mid meal. 13/10 happens to the best of us https://t.co/tD36da7qLQ\n",
       "4       This is Franklin. He would like you to stop calling him \"cute.\" He is a very fierce shark and should be respected as such. 12/10 #BarkWeek https://t.co/AtUZn91f7f\n",
       "5       Here we have a majestic great white breaching off South Africa's coast. Absolutely h*ckin breathtaking. 13/10 (IG: tucker_marlo) #BarkWeek https://t.co/kQ04fDDRmh\n",
       "6   Meet Jax. He enjoys ice cream so much he gets nervous around it. 13/10 help Jax enjoy more things by clicking below\\n\\nhttps://t.co/Zr4hWfAs1H https://t.co/tVJBRMnhxl\n",
       "7                           When you watch your owner call another dog a good boy but then they turn back to you and say you're a great boy. 13/10 https://t.co/v0nONBcwxq\n",
       "8                       This is Zoey. She doesn't want to be one of the scary sharks. Just wants to be a snuggly pettable boatpet. 13/10 #BarkWeek https://t.co/9TwLuAGH0b\n",
       "10              This is Koda. He is a South Australian deckshark. Deceptively deadly. Frighteningly majestic. 13/10 would risk a petting #BarkWeek https://t.co/dVPW0B0Mme\n",
       "11                                     This is Bruno. He is a service shark. Only gets out of the water to assist you. 13/10 terrifyingly good boy https://t.co/u1XPQMl29g\n",
       "13                                                     This is Ted. He does his best. Sometimes that's not enough. But it's ok. 12/10 would assist https://t.co/f8dEDcrKSR\n",
       "15      This is Oliver. You're witnessing one of his many brutal attacks. Seems to be playing with his victim. 13/10 fr*ckin frightening #BarkWeek https://t.co/WpHvrQedPb\n",
       "16                                                          This is Jim. He found a fren. Taught him how to sit like the good boys. 12/10 for both https://t.co/chxruIOUJN\n",
       "17                This is Zeke. He has a new stick. Very proud of it. Would like you to throw it for him without taking it. 13/10 would do my best https://t.co/HTQ77yNQ5K\n",
       "18                                                         This is Ralphus. He's powering up. Attempting maximum borkdrive. 13/10 inspirational af https://t.co/YnYAFCTTiK\n",
       "20                 This is Gerald. He was just told he didn't get the job he interviewed for. A h*ckin injustice. 12/10 didn't want the job anyway https://t.co/DK7iDPfuRX\n",
       "21                 This is Jeffrey. He has a monopoly on the pool noodles. Currently running a 'boop for two' midweek sale. 13/10 h*ckin strategic https://t.co/PhrUk20Q64\n",
       "22                                    I've yet to rate a Venezuelan Hover Wiener. This is such an honor. 14/10 paw-inspiring af (IG: roxy.thedoxy) https://t.co/20VrLAA8ba\n",
       "23                                             This is Canela. She attempted some fancy porch pics. They were unsuccessful. 13/10 someone help her https://t.co/cLyzpcUcMX\n",
       "24                                                        You may not have known you needed to see this today. 13/10 please enjoy (IG: emmylouroo) https://t.co/WZqNqygEyV\n",
       "25               This... is a Jubilant Antarctic House Bear. We only rate dogs. Please only send dogs. Thank you... 12/10 would suffocate in floof https://t.co/4Ad1jzJSdp\n",
       "26                                           This is Maya. She's very shy. Rarely leaves her cup. 13/10 would find her an environment to thrive in https://t.co/I6oNy0CgiT\n",
       "27                     This is Mingus. He's a wonderful father to his smol pup. Confirmed 13/10, but he needs your help\\n\\nhttps://t.co/bVi0Yr4Cff https://t.co/ISvKOSkd5b\n",
       "28                                                                         This is Derek. He's late for a dog meeting. 13/10 pet...al to the metal https://t.co/BCoWue0abA\n",
       "31                                                  This is Waffles. His doggles are pupside down. Unsure how to fix. 13/10 someone assist Waffles https://t.co/xZDA9Qsq1O\n",
       "33    Viewer discretion advised. This is Jimbo. He will rip ur finger right h*ckin off. Other dog clearly an accessory. 12/10 pls pet with caution https://t.co/BuveP0uMF1\n",
       "34                                   This is Maisey. She fell asleep mid-excavation. Happens to the best of us. 13/10 would pat noggin approvingly https://t.co/tp1kQ8i9JF\n",
       "35                                                                                                 I have a new hero and his name is Howard. 14/10 https://t.co/gzLHboL7Sk\n",
       "37          Here we have a corgi undercover as a malamute. Pawbably doing important investigative work. Zero control over tongue happenings. 13/10 https://t.co/44ItaMubBf\n",
       "38                                                   This is Earl. He found a hat. Nervous about what you think of it. 12/10 it's delightful, Earl https://t.co/MYJvdlNRVa\n",
       "39                          This is Lola. It's her first time outside. Must test the earth and taste the atmosphere. 13/10 you're doing great Lola https://t.co/74TKAUsLkO\n",
       "40                                                                              This is Kevin. He's just so happy. 13/10 what is your secret Kevin https://t.co/1r4MFCbCX5\n",
       "41        I present to you, Pup in Hat. Pup in Hat is great for all occasions. Extremely versatile. Compact as h*ck. 14/10 (IG: itselizabethgales) https://t.co/vvBOcC2VdC\n",
       "42                                        OMG HE DIDN'T MEAN TO HE WAS JUST TRYING A LITTLE BARKOUR HE'S SUPER SORRY 13/10 WOULD FORGIVE IMMEDIATE https://t.co/uF3pQ8Wubj\n",
       "44       This is Noah. He can't believe someone made this mess. Got the vacuum out for you though. Offered to help clean pup. 12/10 super good boy https://t.co/V85xujjDDY\n",
       "45                                This is Bella. She hopes her smile made you smile. If not, she is also offering you her favorite monkey. 13.5/10 https://t.co/qjrljjt948\n",
       "47                                 Please only send dogs. We don't rate mechanics, no matter how h*ckin good. Thank you... 13/10 would sneak a pat https://t.co/Se5fZ9wp5E\n",
       "48                                    This is Rusty. He wasn't ready for the first pic. Clearly puppared for the second. 13/10 confirmed great boy https://t.co/tyER0KpdXj\n",
       "50        This is Stanley. He has his first swim lesson today. Doggle straps adjusted. Ready to go. 13/10 Phelps is nervous (IG: stanleythe_corgi) https://t.co/Nx52PGwH94"
      ]
     },
     "execution_count": 67,
     "metadata": {},
     "output_type": "execute_result"
    }
   ],
   "source": [
    "twitter_clean.query('dog_stage == \"None,None,None,None\"')['text'].to_frame().head(40)"
   ]
  },
  {
   "cell_type": "markdown",
   "id": "animated-talent",
   "metadata": {},
   "source": [
    "Hmm, from the above lines, a majority of tweets do in fact not have any of the key words of doggo, pupper, puppo etc.\n",
    "\n",
    "I am also not sure how these dog stages were classified by Udacity, but I'd assume (from the table below) that they only used these direct matches to classify the dog stages for each tweet. \n",
    "\n",
    "However, we do see words like pup in the table above, which I am presuming was not used as one of the direct matches. \n",
    "\n",
    "Assuming that pup refers to pupper, let's see how many new dog stages I will get if pup is used."
   ]
  },
  {
   "cell_type": "code",
   "execution_count": 68,
   "id": "intermediate-crossing",
   "metadata": {},
   "outputs": [
    {
     "data": {
      "text/html": [
       "<div>\n",
       "<style scoped>\n",
       "    .dataframe tbody tr th:only-of-type {\n",
       "        vertical-align: middle;\n",
       "    }\n",
       "\n",
       "    .dataframe tbody tr th {\n",
       "        vertical-align: top;\n",
       "    }\n",
       "\n",
       "    .dataframe thead th {\n",
       "        text-align: right;\n",
       "    }\n",
       "</style>\n",
       "<table border=\"1\" class=\"dataframe\">\n",
       "  <thead>\n",
       "    <tr style=\"text-align: right;\">\n",
       "      <th></th>\n",
       "      <th>text</th>\n",
       "    </tr>\n",
       "  </thead>\n",
       "  <tbody>\n",
       "    <tr>\n",
       "      <th>9</th>\n",
       "      <td>This is Cassie. She is a college pup. Studying international doggo communication and stick theory. 14/10 so elegant much sophisticate https://t.co/t1bfwz5S2A</td>\n",
       "    </tr>\n",
       "    <tr>\n",
       "      <th>12</th>\n",
       "      <td>Here's a puppo that seems to be on the fence about something haha no but seriously someone help her. 13/10 https://t.co/BxvuXk0UCm</td>\n",
       "    </tr>\n",
       "    <tr>\n",
       "      <th>14</th>\n",
       "      <td>This is Stuart. He's sporting his favorite fanny pack. Secretly filled with bones only. 13/10 puppared puppo #BarkWeek https://t.co/y70o6h3isq</td>\n",
       "    </tr>\n",
       "    <tr>\n",
       "      <th>29</th>\n",
       "      <td>This is Roscoe. Another pupper fallen victim to spontaneous tongue ejections. Get the BlepiPen immediate. 12/10 deep breaths Roscoe https://t.co/RGE08MIJox</td>\n",
       "    </tr>\n",
       "    <tr>\n",
       "      <th>43</th>\n",
       "      <td>Meet Yogi. He doesn't have any important dog meetings today he just enjoys looking his best at all times. 12/10 for dangerously dapper doggo https://t.co/YSI00BzTBZ</td>\n",
       "    </tr>\n",
       "    <tr>\n",
       "      <th>46</th>\n",
       "      <td>Meet Grizzwald. He may be the floofiest floofer I ever did see. Lost eyes saving a schoolbus from a volcano erpuption. 13/10 heroic as h*ck https://t.co/rf661IFEYP</td>\n",
       "    </tr>\n",
       "    <tr>\n",
       "      <th>49</th>\n",
       "      <td>This is Gus. He's quite the cheeky pupper. Already perfected the disinterested wink. 12/10 would let steal my girl https://t.co/D43I96SlVu</td>\n",
       "    </tr>\n",
       "    <tr>\n",
       "      <th>56</th>\n",
       "      <td>Here is a pupper approaching maximum borkdrive. Zooming at never before seen speeds. 14/10 paw-inspiring af \\n(IG: puffie_the_chow) https://t.co/ghXBIIeQZF</td>\n",
       "    </tr>\n",
       "    <tr>\n",
       "      <th>71</th>\n",
       "      <td>This is Snoopy. He's a proud #PrideMonthPuppo. Impeccable handwriting for not having thumbs. 13/10 would love back #PrideMonth https://t.co/lNZwgNO4gS</td>\n",
       "    </tr>\n",
       "    <tr>\n",
       "      <th>82</th>\n",
       "      <td>This is Ginger. She's having a ruff Monday. Too many pupper things going on. H*ckin exhausting. 12/10 would snug passionately https://t.co/j211oCDRs6</td>\n",
       "    </tr>\n",
       "    <tr>\n",
       "      <th>92</th>\n",
       "      <td>This is Jed. He may be the fanciest pupper in the game right now. Knows it too. 13/10 would sign modeling contract https://t.co/0YplNnSMEm</td>\n",
       "    </tr>\n",
       "    <tr>\n",
       "      <th>94</th>\n",
       "      <td>This is Sebastian. He can't see all the colors of the rainbow, but he can see that this flag makes his human happy. 13/10 #PrideMonth puppo https://t.co/XBE0evJZ6V</td>\n",
       "    </tr>\n",
       "    <tr>\n",
       "      <th>98</th>\n",
       "      <td>This is Sierra. She's one precious pupper. Absolute 12/10. Been in and out of ICU her whole life. Help Sierra below\\n\\nhttps://t.co/Xp01EU3qyD https://t.co/V5lkvrGLdQ</td>\n",
       "    </tr>\n",
       "    <tr>\n",
       "      <th>99</th>\n",
       "      <td>Here's a very large dog. He has a date later. Politely asked this water person to check if his breath is bad. 12/10 good to go doggo https://t.co/EMYIdoblMR</td>\n",
       "    </tr>\n",
       "    <tr>\n",
       "      <th>107</th>\n",
       "      <td>This is Rover. As part of pupper protocol he had to at least attempt to eat the plant. Confirmed not tasty. Needs peanut butter. 12/10 https://t.co/AiVljI6QCg</td>\n",
       "    </tr>\n",
       "    <tr>\n",
       "      <th>108</th>\n",
       "      <td>This is Napolean. He's a Raggedy East Nicaraguan Zoom Zoom. Runs on one leg. Built for deception. No eyes. Good with kids. 12/10 great doggo https://t.co/PR7B7w1rUw</td>\n",
       "    </tr>\n",
       "    <tr>\n",
       "      <th>110</th>\n",
       "      <td>Never doubt a doggo 14/10 https://t.co/AbBLh2FZCH</td>\n",
       "    </tr>\n",
       "    <tr>\n",
       "      <th>121</th>\n",
       "      <td>This is Scout. He just graduated. Officially a doggo now. Have fun with taxes and losing sight of your ambitions. 12/10 would throw cap for https://t.co/DsA2hwXAJo</td>\n",
       "    </tr>\n",
       "    <tr>\n",
       "      <th>129</th>\n",
       "      <td>This is Shikha. She just watched you drop a skittle on the ground and still eat it. Could not be less impressed. 12/10 superior puppo https://t.co/XZlZKd73go</td>\n",
       "    </tr>\n",
       "    <tr>\n",
       "      <th>135</th>\n",
       "      <td>This is Jamesy. He gives a kiss to every other pupper he sees on his walk. 13/10 such passion, much tender https://t.co/wk7TfysWHr</td>\n",
       "    </tr>\n",
       "  </tbody>\n",
       "</table>\n",
       "</div>"
      ],
      "text/plain": [
       "                                                                                                                                                                       text\n",
       "9             This is Cassie. She is a college pup. Studying international doggo communication and stick theory. 14/10 so elegant much sophisticate https://t.co/t1bfwz5S2A\n",
       "12                                       Here's a puppo that seems to be on the fence about something haha no but seriously someone help her. 13/10 https://t.co/BxvuXk0UCm\n",
       "14                           This is Stuart. He's sporting his favorite fanny pack. Secretly filled with bones only. 13/10 puppared puppo #BarkWeek https://t.co/y70o6h3isq\n",
       "29              This is Roscoe. Another pupper fallen victim to spontaneous tongue ejections. Get the BlepiPen immediate. 12/10 deep breaths Roscoe https://t.co/RGE08MIJox\n",
       "43     Meet Yogi. He doesn't have any important dog meetings today he just enjoys looking his best at all times. 12/10 for dangerously dapper doggo https://t.co/YSI00BzTBZ\n",
       "46      Meet Grizzwald. He may be the floofiest floofer I ever did see. Lost eyes saving a schoolbus from a volcano erpuption. 13/10 heroic as h*ck https://t.co/rf661IFEYP\n",
       "49                               This is Gus. He's quite the cheeky pupper. Already perfected the disinterested wink. 12/10 would let steal my girl https://t.co/D43I96SlVu\n",
       "56              Here is a pupper approaching maximum borkdrive. Zooming at never before seen speeds. 14/10 paw-inspiring af \\n(IG: puffie_the_chow) https://t.co/ghXBIIeQZF\n",
       "71                   This is Snoopy. He's a proud #PrideMonthPuppo. Impeccable handwriting for not having thumbs. 13/10 would love back #PrideMonth https://t.co/lNZwgNO4gS\n",
       "82                    This is Ginger. She's having a ruff Monday. Too many pupper things going on. H*ckin exhausting. 12/10 would snug passionately https://t.co/j211oCDRs6\n",
       "92                               This is Jed. He may be the fanciest pupper in the game right now. Knows it too. 13/10 would sign modeling contract https://t.co/0YplNnSMEm\n",
       "94      This is Sebastian. He can't see all the colors of the rainbow, but he can see that this flag makes his human happy. 13/10 #PrideMonth puppo https://t.co/XBE0evJZ6V\n",
       "98   This is Sierra. She's one precious pupper. Absolute 12/10. Been in and out of ICU her whole life. Help Sierra below\\n\\nhttps://t.co/Xp01EU3qyD https://t.co/V5lkvrGLdQ\n",
       "99             Here's a very large dog. He has a date later. Politely asked this water person to check if his breath is bad. 12/10 good to go doggo https://t.co/EMYIdoblMR\n",
       "107          This is Rover. As part of pupper protocol he had to at least attempt to eat the plant. Confirmed not tasty. Needs peanut butter. 12/10 https://t.co/AiVljI6QCg\n",
       "108    This is Napolean. He's a Raggedy East Nicaraguan Zoom Zoom. Runs on one leg. Built for deception. No eyes. Good with kids. 12/10 great doggo https://t.co/PR7B7w1rUw\n",
       "110                                                                                                                       Never doubt a doggo 14/10 https://t.co/AbBLh2FZCH\n",
       "121     This is Scout. He just graduated. Officially a doggo now. Have fun with taxes and losing sight of your ambitions. 12/10 would throw cap for https://t.co/DsA2hwXAJo\n",
       "129           This is Shikha. She just watched you drop a skittle on the ground and still eat it. Could not be less impressed. 12/10 superior puppo https://t.co/XZlZKd73go\n",
       "135                                      This is Jamesy. He gives a kiss to every other pupper he sees on his walk. 13/10 such passion, much tender https://t.co/wk7TfysWHr"
      ]
     },
     "execution_count": 68,
     "metadata": {},
     "output_type": "execute_result"
    }
   ],
   "source": [
    "twitter_clean.query('dog_stage != \"None,None,None,None\"')['text'].to_frame().head(20)"
   ]
  },
  {
   "cell_type": "code",
   "execution_count": 69,
   "id": "handed-excerpt",
   "metadata": {},
   "outputs": [
    {
     "data": {
      "text/plain": [
       "245"
      ]
     },
     "execution_count": 69,
     "metadata": {},
     "output_type": "execute_result"
    }
   ],
   "source": [
    "# Use pup as another direct word match\n",
    "pup_check = twitter_clean.query('dog_stage == \"None,None,None,None\"')['text'].to_frame()\n",
    "(pup_check['text'].str.contains('pup', case=False)).sum()"
   ]
  },
  {
   "cell_type": "markdown",
   "id": "lucky-airfare",
   "metadata": {},
   "source": [
    "Looks like I'd have an additional 245 lines that would have otherwise been designated as a pupper. \n",
    "\n",
    "I will go ahead with this fix!"
   ]
  },
  {
   "cell_type": "code",
   "execution_count": 70,
   "id": "liable-stable",
   "metadata": {},
   "outputs": [],
   "source": [
    "pup_fix = pup_check[pup_check['text'].str.contains('pup', case=False)]\n",
    "\n",
    "twitter_clean.loc[pup_fix.index, 'pupper'] = 'pupper'   "
   ]
  },
  {
   "cell_type": "markdown",
   "id": "educational-administration",
   "metadata": {},
   "source": [
    "#### Test"
   ]
  },
  {
   "cell_type": "code",
   "execution_count": 71,
   "id": "separated-macedonia",
   "metadata": {},
   "outputs": [
    {
     "data": {
      "text/plain": [
       "None,None,None,None        1749\n",
       "None,None,pupper,None       221\n",
       "doggo,None,None,None         72\n",
       "None,None,None,puppo         23\n",
       "None,floofer,None,None        9\n",
       "doggo,None,pupper,None        9\n",
       "doggo,None,None,puppo         1\n",
       "doggo,floofer,None,None       1\n",
       "Name: dog_stage, dtype: int64"
      ]
     },
     "execution_count": 71,
     "metadata": {},
     "output_type": "execute_result"
    }
   ],
   "source": [
    "# Before, we had\n",
    "twitter_clean['dog_stage'].value_counts()"
   ]
  },
  {
   "cell_type": "code",
   "execution_count": 72,
   "id": "agreed-sewing",
   "metadata": {},
   "outputs": [
    {
     "data": {
      "text/plain": [
       "None,None,None,None       1507\n",
       "None,None,pupper,None      467\n",
       "doggo,None,None,None        77\n",
       "None,None,None,puppo        25\n",
       "None,floofer,None,None       9\n",
       "dtype: int64"
      ]
     },
     "execution_count": 72,
     "metadata": {},
     "output_type": "execute_result"
    }
   ],
   "source": [
    "# Now:\n",
    "(twitter_clean['doggo'] + ',' + twitter_clean['floofer'] + ',' + \\\n",
    "twitter_clean['pupper'] + ',' + twitter_clean['puppo']).value_counts()"
   ]
  },
  {
   "cell_type": "code",
   "execution_count": 73,
   "id": "copyrighted-reasoning",
   "metadata": {},
   "outputs": [],
   "source": [
    "# Drop dog_stage\n",
    "twitter_clean.drop(['dog_stage'], axis=1, inplace=True)"
   ]
  },
  {
   "cell_type": "markdown",
   "id": "hydraulic-scale",
   "metadata": {},
   "source": [
    "#### Define: \n",
    "\n",
    "> 5) `doggo`, `floofer`, `pupper` and `puppo` can be better labelled with Boolean values\n",
    "\n",
    "- Map non-null values as 1 and null values as 0"
   ]
  },
  {
   "cell_type": "markdown",
   "id": "chronic-chemistry",
   "metadata": {},
   "source": [
    "#### Code"
   ]
  },
  {
   "cell_type": "code",
   "execution_count": 74,
   "id": "stainless-transcript",
   "metadata": {},
   "outputs": [],
   "source": [
    "twitter_clean['doggo'] = twitter_clean['doggo'].map({'None':0, 'doggo':1})\n",
    "twitter_clean['floofer'] = twitter_clean['floofer'].map({'None':0, 'floofer':1})\n",
    "twitter_clean['pupper'] = twitter_clean['pupper'].map({'None':0, 'pupper':1})\n",
    "twitter_clean['puppo'] = twitter_clean['puppo'].map({'None':0, 'puppo':1})"
   ]
  },
  {
   "cell_type": "markdown",
   "id": "regulation-northeast",
   "metadata": {},
   "source": [
    "#### Test"
   ]
  },
  {
   "cell_type": "code",
   "execution_count": 75,
   "id": "former-digit",
   "metadata": {},
   "outputs": [
    {
     "data": {
      "text/plain": [
       "doggo  floofer  pupper  puppo\n",
       "0      0        0       0        1507\n",
       "                1       0         467\n",
       "1      0        0       0          77\n",
       "0      0        0       1          25\n",
       "       1        0       0           9\n",
       "dtype: int64"
      ]
     },
     "execution_count": 75,
     "metadata": {},
     "output_type": "execute_result"
    }
   ],
   "source": [
    "twitter_clean[['doggo', 'floofer', 'pupper', 'puppo']].value_counts()"
   ]
  },
  {
   "cell_type": "markdown",
   "id": "elementary-weather",
   "metadata": {},
   "source": [
    "#### Define: \n",
    "\n",
    "> 6) Dog breeds `p1`, `p2` and `p3` not spelled consistently\n",
    "\n",
    "- Some have underscores as spaces, some have first letters as uppercase whereas some are in lowercase.\n",
    "- I will standardize all of them to have underscores as spaces, and all lowercase letters throughout"
   ]
  },
  {
   "cell_type": "markdown",
   "id": "welcome-sixth",
   "metadata": {},
   "source": [
    "#### Code"
   ]
  },
  {
   "cell_type": "code",
   "execution_count": 76,
   "id": "modular-cattle",
   "metadata": {},
   "outputs": [],
   "source": [
    "for i in ['p1', 'p2', 'p3']:\n",
    "    twitter_clean[i] = twitter_clean[i].str.replace(' ', '_').str.replace('-', '_').str.lower()\n"
   ]
  },
  {
   "cell_type": "markdown",
   "id": "collect-cable",
   "metadata": {},
   "source": [
    "#### Test"
   ]
  },
  {
   "cell_type": "code",
   "execution_count": 133,
   "id": "intimate-wings",
   "metadata": {},
   "outputs": [
    {
     "data": {
      "text/html": [
       "<div>\n",
       "<style scoped>\n",
       "    .dataframe tbody tr th:only-of-type {\n",
       "        vertical-align: middle;\n",
       "    }\n",
       "\n",
       "    .dataframe tbody tr th {\n",
       "        vertical-align: top;\n",
       "    }\n",
       "\n",
       "    .dataframe thead th {\n",
       "        text-align: right;\n",
       "    }\n",
       "</style>\n",
       "<table border=\"1\" class=\"dataframe\">\n",
       "  <thead>\n",
       "    <tr style=\"text-align: right;\">\n",
       "      <th></th>\n",
       "      <th>index</th>\n",
       "      <th>p1</th>\n",
       "    </tr>\n",
       "  </thead>\n",
       "  <tbody>\n",
       "    <tr>\n",
       "      <th>166</th>\n",
       "      <td>acorn_squash</td>\n",
       "      <td>2</td>\n",
       "    </tr>\n",
       "    <tr>\n",
       "      <th>134</th>\n",
       "      <td>afghan_hound</td>\n",
       "      <td>3</td>\n",
       "    </tr>\n",
       "    <tr>\n",
       "      <th>225</th>\n",
       "      <td>african_crocodile</td>\n",
       "      <td>1</td>\n",
       "    </tr>\n",
       "    <tr>\n",
       "      <th>335</th>\n",
       "      <td>african_grey</td>\n",
       "      <td>1</td>\n",
       "    </tr>\n",
       "    <tr>\n",
       "      <th>309</th>\n",
       "      <td>african_hunting_dog</td>\n",
       "      <td>1</td>\n",
       "    </tr>\n",
       "    <tr>\n",
       "      <th>256</th>\n",
       "      <td>agama</td>\n",
       "      <td>1</td>\n",
       "    </tr>\n",
       "    <tr>\n",
       "      <th>36</th>\n",
       "      <td>airedale</td>\n",
       "      <td>12</td>\n",
       "    </tr>\n",
       "    <tr>\n",
       "      <th>318</th>\n",
       "      <td>alp</td>\n",
       "      <td>1</td>\n",
       "    </tr>\n",
       "    <tr>\n",
       "      <th>365</th>\n",
       "      <td>american_black_bear</td>\n",
       "      <td>1</td>\n",
       "    </tr>\n",
       "    <tr>\n",
       "      <th>34</th>\n",
       "      <td>american_staffordshire_terrier</td>\n",
       "      <td>13</td>\n",
       "    </tr>\n",
       "  </tbody>\n",
       "</table>\n",
       "</div>"
      ],
      "text/plain": [
       "                              index  p1\n",
       "166                    acorn_squash   2\n",
       "134                    afghan_hound   3\n",
       "225               african_crocodile   1\n",
       "335                    african_grey   1\n",
       "309             african_hunting_dog   1\n",
       "256                           agama   1\n",
       "36                         airedale  12\n",
       "318                             alp   1\n",
       "365             american_black_bear   1\n",
       "34   american_staffordshire_terrier  13"
      ]
     },
     "execution_count": 133,
     "metadata": {},
     "output_type": "execute_result"
    }
   ],
   "source": [
    "# Brief look through of all predictions\n",
    "twitter_clean['p1'].value_counts().to_frame().reset_index().sort_values('index', ascending=True).head(10)"
   ]
  },
  {
   "cell_type": "code",
   "execution_count": 135,
   "id": "radical-option",
   "metadata": {},
   "outputs": [
    {
     "data": {
      "text/html": [
       "<div>\n",
       "<style scoped>\n",
       "    .dataframe tbody tr th:only-of-type {\n",
       "        vertical-align: middle;\n",
       "    }\n",
       "\n",
       "    .dataframe tbody tr th {\n",
       "        vertical-align: top;\n",
       "    }\n",
       "\n",
       "    .dataframe thead th {\n",
       "        text-align: right;\n",
       "    }\n",
       "</style>\n",
       "<table border=\"1\" class=\"dataframe\">\n",
       "  <thead>\n",
       "    <tr style=\"text-align: right;\">\n",
       "      <th></th>\n",
       "      <th>index</th>\n",
       "      <th>p1</th>\n",
       "    </tr>\n",
       "  </thead>\n",
       "  <tbody>\n",
       "    <tr>\n",
       "      <th>94</th>\n",
       "      <td>afghan_hound</td>\n",
       "      <td>3</td>\n",
       "    </tr>\n",
       "    <tr>\n",
       "      <th>33</th>\n",
       "      <td>airedale</td>\n",
       "      <td>12</td>\n",
       "    </tr>\n",
       "    <tr>\n",
       "      <th>27</th>\n",
       "      <td>american_staffordshire_terrier</td>\n",
       "      <td>13</td>\n",
       "    </tr>\n",
       "    <tr>\n",
       "      <th>97</th>\n",
       "      <td>appenzeller</td>\n",
       "      <td>2</td>\n",
       "    </tr>\n",
       "    <tr>\n",
       "      <th>100</th>\n",
       "      <td>australian_terrier</td>\n",
       "      <td>2</td>\n",
       "    </tr>\n",
       "    <tr>\n",
       "      <th>58</th>\n",
       "      <td>basenji</td>\n",
       "      <td>7</td>\n",
       "    </tr>\n",
       "    <tr>\n",
       "      <th>31</th>\n",
       "      <td>basset</td>\n",
       "      <td>13</td>\n",
       "    </tr>\n",
       "    <tr>\n",
       "      <th>22</th>\n",
       "      <td>beagle</td>\n",
       "      <td>17</td>\n",
       "    </tr>\n",
       "    <tr>\n",
       "      <th>68</th>\n",
       "      <td>bedlington_terrier</td>\n",
       "      <td>5</td>\n",
       "    </tr>\n",
       "    <tr>\n",
       "      <th>38</th>\n",
       "      <td>bernese_mountain_dog</td>\n",
       "      <td>10</td>\n",
       "    </tr>\n",
       "  </tbody>\n",
       "</table>\n",
       "</div>"
      ],
      "text/plain": [
       "                              index  p1\n",
       "94                     afghan_hound   3\n",
       "33                         airedale  12\n",
       "27   american_staffordshire_terrier  13\n",
       "97                      appenzeller   2\n",
       "100              australian_terrier   2\n",
       "58                          basenji   7\n",
       "31                           basset  13\n",
       "22                           beagle  17\n",
       "68               bedlington_terrier   5\n",
       "38             bernese_mountain_dog  10"
      ]
     },
     "execution_count": 135,
     "metadata": {},
     "output_type": "execute_result"
    }
   ],
   "source": [
    "# Brief look through of all dog breed predictions\n",
    "twitter_clean.query('p1_dog == True')['p1'].value_counts().to_frame().reset_index().sort_values('index', ascending=True).head(10)"
   ]
  },
  {
   "cell_type": "markdown",
   "id": "separated-grass",
   "metadata": {},
   "source": [
    "#### Define: \n",
    "\n",
    "> 7) The prediction confidences `p1_conf`, `p2_conf` and `p3_conf` should be in percentages\n",
    "\n",
    "- Multiply all confidence scores by 100, and round them up to 2 decimal place, and make sure they are stored as floats"
   ]
  },
  {
   "cell_type": "code",
   "execution_count": 79,
   "id": "danish-basement",
   "metadata": {},
   "outputs": [
    {
     "name": "stdout",
     "output_type": "stream",
     "text": [
      "There are 126 null confidence values in the 1st algo\n",
      "There are 126 null confidence values in the 2nd algo\n",
      "There are 126 null confidence values in the 3rd algo\n"
     ]
    }
   ],
   "source": [
    "# Check for any missing values\n",
    "print(f\"There are {(twitter_clean['p1_conf'].isnull()).sum()} null confidence values in the 1st algo\")\n",
    "print(f\"There are {(twitter_clean['p2_conf'].isnull()).sum()} null confidence values in the 2nd algo\")\n",
    "print(f\"There are {(twitter_clean['p3_conf'].isnull()).sum()} null confidence values in the 3rd algo\")"
   ]
  },
  {
   "cell_type": "code",
   "execution_count": 80,
   "id": "bigger-kidney",
   "metadata": {},
   "outputs": [],
   "source": [
    "# Fill missing values with 0\n",
    "twitter_clean['p1_conf'].fillna(0, inplace=True)\n",
    "twitter_clean['p2_conf'].fillna(0, inplace=True)\n",
    "twitter_clean['p3_conf'].fillna(0, inplace=True)"
   ]
  },
  {
   "cell_type": "code",
   "execution_count": 81,
   "id": "extraordinary-rebecca",
   "metadata": {},
   "outputs": [],
   "source": [
    "for i in ['p1_conf', 'p2_conf', 'p3_conf']:\n",
    "    twitter_clean[i] = twitter_clean[i].apply(lambda x: round(x*100, 2))"
   ]
  },
  {
   "cell_type": "markdown",
   "id": "south-cancellation",
   "metadata": {},
   "source": [
    "#### Test"
   ]
  },
  {
   "cell_type": "code",
   "execution_count": 82,
   "id": "alien-history",
   "metadata": {},
   "outputs": [
    {
     "data": {
      "text/html": [
       "<div>\n",
       "<style scoped>\n",
       "    .dataframe tbody tr th:only-of-type {\n",
       "        vertical-align: middle;\n",
       "    }\n",
       "\n",
       "    .dataframe tbody tr th {\n",
       "        vertical-align: top;\n",
       "    }\n",
       "\n",
       "    .dataframe thead th {\n",
       "        text-align: right;\n",
       "    }\n",
       "</style>\n",
       "<table border=\"1\" class=\"dataframe\">\n",
       "  <thead>\n",
       "    <tr style=\"text-align: right;\">\n",
       "      <th></th>\n",
       "      <th>p1_conf</th>\n",
       "      <th>p2_conf</th>\n",
       "      <th>p3_conf</th>\n",
       "    </tr>\n",
       "  </thead>\n",
       "  <tbody>\n",
       "    <tr>\n",
       "      <th>0</th>\n",
       "      <td>9.70</td>\n",
       "      <td>8.59</td>\n",
       "      <td>7.61</td>\n",
       "    </tr>\n",
       "    <tr>\n",
       "      <th>1</th>\n",
       "      <td>32.36</td>\n",
       "      <td>9.06</td>\n",
       "      <td>6.90</td>\n",
       "    </tr>\n",
       "    <tr>\n",
       "      <th>2</th>\n",
       "      <td>71.60</td>\n",
       "      <td>7.83</td>\n",
       "      <td>3.14</td>\n",
       "    </tr>\n",
       "    <tr>\n",
       "      <th>3</th>\n",
       "      <td>17.03</td>\n",
       "      <td>16.81</td>\n",
       "      <td>4.08</td>\n",
       "    </tr>\n",
       "    <tr>\n",
       "      <th>4</th>\n",
       "      <td>55.57</td>\n",
       "      <td>22.58</td>\n",
       "      <td>17.52</td>\n",
       "    </tr>\n",
       "  </tbody>\n",
       "</table>\n",
       "</div>"
      ],
      "text/plain": [
       "   p1_conf  p2_conf  p3_conf\n",
       "0     9.70     8.59     7.61\n",
       "1    32.36     9.06     6.90\n",
       "2    71.60     7.83     3.14\n",
       "3    17.03    16.81     4.08\n",
       "4    55.57    22.58    17.52"
      ]
     },
     "execution_count": 82,
     "metadata": {},
     "output_type": "execute_result"
    }
   ],
   "source": [
    "twitter_clean[['p1_conf', 'p2_conf', 'p3_conf']].head()"
   ]
  },
  {
   "cell_type": "code",
   "execution_count": 83,
   "id": "american-automation",
   "metadata": {},
   "outputs": [
    {
     "data": {
      "text/plain": [
       "p1_conf    float64\n",
       "p2_conf    float64\n",
       "p3_conf    float64\n",
       "dtype: object"
      ]
     },
     "execution_count": 83,
     "metadata": {},
     "output_type": "execute_result"
    }
   ],
   "source": [
    "twitter_clean[['p1_conf', 'p2_conf', 'p3_conf']].dtypes"
   ]
  },
  {
   "cell_type": "markdown",
   "id": "subsequent-desperate",
   "metadata": {},
   "source": [
    "#### Define: \n",
    "\n",
    "> 8) retweet_count and favorite_count should be in integers, not floats\n",
    "\n",
    "- Convert datatype"
   ]
  },
  {
   "cell_type": "code",
   "execution_count": 84,
   "id": "german-senior",
   "metadata": {},
   "outputs": [
    {
     "data": {
      "text/plain": [
       "7"
      ]
     },
     "execution_count": 84,
     "metadata": {},
     "output_type": "execute_result"
    }
   ],
   "source": [
    "# Check for missing data\n",
    "twitter_clean['retweet_count'].isnull().sum()"
   ]
  },
  {
   "cell_type": "code",
   "execution_count": 85,
   "id": "pressed-bachelor",
   "metadata": {},
   "outputs": [
    {
     "data": {
      "text/plain": [
       "7"
      ]
     },
     "execution_count": 85,
     "metadata": {},
     "output_type": "execute_result"
    }
   ],
   "source": [
    "twitter_clean['favorite_count'].isnull().sum()"
   ]
  },
  {
   "cell_type": "code",
   "execution_count": 86,
   "id": "lucky-cambodia",
   "metadata": {},
   "outputs": [],
   "source": [
    "# Fill in missing data with 0\n",
    "twitter_clean['retweet_count'].fillna(0, inplace=True)\n",
    "twitter_clean['favorite_count'].fillna(0, inplace=True)"
   ]
  },
  {
   "cell_type": "code",
   "execution_count": 87,
   "id": "guided-medicare",
   "metadata": {},
   "outputs": [],
   "source": [
    "# Change datatypes\n",
    "twitter_clean['retweet_count'] = twitter_clean['retweet_count'].astype(int)\n",
    "twitter_clean['favorite_count'] = twitter_clean['favorite_count'].astype(int)"
   ]
  },
  {
   "cell_type": "markdown",
   "id": "oriental-present",
   "metadata": {},
   "source": [
    "#### Test"
   ]
  },
  {
   "cell_type": "code",
   "execution_count": 88,
   "id": "timely-group",
   "metadata": {},
   "outputs": [
    {
     "data": {
      "text/plain": [
       "retweet_count     int64\n",
       "favorite_count    int64\n",
       "dtype: object"
      ]
     },
     "execution_count": 88,
     "metadata": {},
     "output_type": "execute_result"
    }
   ],
   "source": [
    "twitter_clean[['retweet_count', 'favorite_count']].dtypes"
   ]
  },
  {
   "cell_type": "markdown",
   "id": "static-personality",
   "metadata": {},
   "source": [
    "---\n",
    "<a id='cleandata_tidiness'></a>\n",
    "### Clean data - Tidiness issues"
   ]
  },
  {
   "cell_type": "markdown",
   "id": "focal-alias",
   "metadata": {},
   "source": [
    "#### Define: \n",
    "\n",
    "> 1) Values in `doggo`, `floofer`, `pupper` and `puppo` should be consolidated into a single column"
   ]
  },
  {
   "cell_type": "code",
   "execution_count": 89,
   "id": "optimum-screw",
   "metadata": {},
   "outputs": [
    {
     "data": {
      "text/plain": [
       "array([0, 1])"
      ]
     },
     "execution_count": 89,
     "metadata": {},
     "output_type": "execute_result"
    }
   ],
   "source": [
    "# Confirm each tweet has a single stage atttributed to it\n",
    "(twitter_clean['doggo'] + twitter_clean['floofer'] + twitter_clean['pupper'] + twitter_clean['puppo']).unique()"
   ]
  },
  {
   "cell_type": "code",
   "execution_count": 90,
   "id": "ethical-character",
   "metadata": {},
   "outputs": [],
   "source": [
    "# Define function\n",
    "def aggregate_dogs(df):\n",
    "    if df['doggo'] == 1:\n",
    "        return 'doggo'\n",
    "    elif df['floofer'] == 1:\n",
    "        return 'floofer'\n",
    "    elif df['pupper'] == 1:\n",
    "        return 'pupper'\n",
    "    elif df['puppo'] == 1:\n",
    "        return 'puppo'\n",
    "    else:\n",
    "        return 'none'"
   ]
  },
  {
   "cell_type": "code",
   "execution_count": 91,
   "id": "guided-audit",
   "metadata": {},
   "outputs": [],
   "source": [
    "# Call function and store results in new column\n",
    "twitter_clean['dog_stage'] = twitter_clean.apply(aggregate_dogs, axis=1)"
   ]
  },
  {
   "cell_type": "markdown",
   "id": "collectible-grenada",
   "metadata": {},
   "source": [
    "#### Test"
   ]
  },
  {
   "cell_type": "code",
   "execution_count": 92,
   "id": "remarkable-shower",
   "metadata": {},
   "outputs": [
    {
     "data": {
      "text/plain": [
       "none       1507\n",
       "pupper      467\n",
       "doggo        77\n",
       "puppo        25\n",
       "floofer       9\n",
       "Name: dog_stage, dtype: int64"
      ]
     },
     "execution_count": 92,
     "metadata": {},
     "output_type": "execute_result"
    }
   ],
   "source": [
    "twitter_clean['dog_stage'].value_counts() # Similar to numbers obtained in previous assessments"
   ]
  },
  {
   "cell_type": "code",
   "execution_count": 93,
   "id": "round-monday",
   "metadata": {},
   "outputs": [],
   "source": [
    "# Drop unnecessary columns\n",
    "twitter_clean.drop(['doggo', 'pupper', 'puppo', 'floofer'], axis=1, inplace=True)"
   ]
  },
  {
   "cell_type": "markdown",
   "id": "optional-lodge",
   "metadata": {},
   "source": [
    "#### Define: \n",
    "\n",
    "> 2) Three different algorithms were used to predict each dog breed, each recording how confident the algo was in its prediction. To simplify the analysis and presentation of the dataset, the dog breed that has the highest confidence should be chosen to represent each dog. If no dog breeds were given, it should be indicated that the algo was not able to predict the dog breed. \n",
    "\n",
    "- The end result is to have a single column with the highest accuracy predicted dog breed. \n",
    "- If no dog breeds were predicted -> `None`\n",
    "- If dog breeds were predicted, store the one with the highest confidence accuracy."
   ]
  },
  {
   "cell_type": "markdown",
   "id": "blank-conviction",
   "metadata": {},
   "source": [
    "#### Code"
   ]
  },
  {
   "cell_type": "markdown",
   "id": "reliable-contributor",
   "metadata": {},
   "source": [
    "The idea is that I'd create a list that stores all the tweet IDs as keys, and p1, p1_dog, and p1_conf values as values of their respective keys. \n",
    "\n",
    "After doing so, I will search though all values for whether or not \n",
    "\n",
    "- `True` is in the string value. \n",
    "\n",
    "If no - store another value `None` in a new dictionary that corresponds to that tweet ID. \n",
    "If yes - use Regex to get all prediction accuracies, and select the dog breed that corresponds to the higher prediction accuracy. Store the breed in the new dictionary that corresponds to its tweet ID.\n",
    "\n",
    "Feed the new values to a new column of the dataframe."
   ]
  },
  {
   "cell_type": "code",
   "execution_count": 94,
   "id": "frequent-tract",
   "metadata": {},
   "outputs": [],
   "source": [
    "from collections import defaultdict\n",
    "\n",
    "prediction_accuracy_list = defaultdict(list)\n",
    "\n",
    "for i,j in twitter_clean.iterrows():\n",
    "    prediction_accuracy_list[j['tweet_id']].append(str(j['p1_dog']) + ',' + str(j['p1']) + ',' + str(j['p1_conf']))\n",
    "    prediction_accuracy_list[j['tweet_id']].append(str(j['p2_dog']) + ',' + str(j['p2']) + ',' + str(j['p2_conf']))\n",
    "    prediction_accuracy_list[j['tweet_id']].append(str(j['p3_dog']) + ',' + str(j['p3']) + ',' + str(j['p3_conf']))"
   ]
  },
  {
   "cell_type": "code",
   "execution_count": 96,
   "id": "subjective-salad",
   "metadata": {},
   "outputs": [],
   "source": [
    "# Loop through each list item\n",
    "results_dog_breed = {}\n",
    "\n",
    "for i in prediction_accuracy_list:\n",
    "    values = prediction_accuracy_list[i] # Get all values (True/False, dog breed, prediction accuracy)\n",
    "    joined_values = '/'.join(values) # Join all elements together into a single string\n",
    "    if 'True' not in joined_values: # If none of the predictions had a dog breed, append 'None'\n",
    "        results_dog_breed[i] = 'None'\n",
    "    elif 'True' in joined_values: \n",
    "        # If at least one of the 3 algos predicted a dog breed, search for the breed with the highest accuracy\n",
    "        joined_values_true_only = '/'.join(re.findall(r\"True,\\w+,\\d+[\\.]\\d+\", joined_values)) # Get True only elements\n",
    "        accuracy = re.findall(r\"(?<=,)(\\d+[.]\\d+)\", joined_values_true_only) # Extract all accuracies\n",
    "        accuracy_float = [float(i) for i in accuracy] # Convert accuracies from string to float\n",
    "        highest_accuracy = np.max(accuracy_float) # Get max value across all accuracy values\n",
    "        dog_breed_highest_accuracy = re.findall(rf\"(?<=True,)(.*?)(?=,{highest_accuracy})\", joined_values_true_only) # Get breed with highest accuracy\n",
    "        results_dog_breed[i] = dog_breed_highest_accuracy[0]\n",
    "    else:\n",
    "        print(f\"Tweet ID {i} has no prediction result\")"
   ]
  },
  {
   "cell_type": "code",
   "execution_count": 97,
   "id": "handed-reward",
   "metadata": {},
   "outputs": [],
   "source": [
    "# Store it in the dataframe\n",
    "twitter_clean['dog_breed'] = ''\n",
    "\n",
    "for i,j in twitter_clean.iterrows():\n",
    "    twitter_clean.loc[i, 'dog_breed'] = results_dog_breed[j['tweet_id']]"
   ]
  },
  {
   "cell_type": "markdown",
   "id": "conditional-maryland",
   "metadata": {},
   "source": [
    "#### Test"
   ]
  },
  {
   "cell_type": "code",
   "execution_count": 98,
   "id": "natural-string",
   "metadata": {},
   "outputs": [
    {
     "data": {
      "text/plain": [
       "None                    430\n",
       "golden_retriever        154\n",
       "labrador_retriever      103\n",
       "pembroke                 94\n",
       "chihuahua                90\n",
       "                       ... \n",
       "japanese_spaniel          1\n",
       "entlebucher               1\n",
       "bouvier_des_flandres      1\n",
       "scotch_terrier            1\n",
       "irish_wolfhound           1\n",
       "Name: dog_breed, Length: 114, dtype: int64"
      ]
     },
     "execution_count": 98,
     "metadata": {},
     "output_type": "execute_result"
    }
   ],
   "source": [
    "twitter_clean['dog_breed'].value_counts()"
   ]
  },
  {
   "cell_type": "markdown",
   "id": "outer-position",
   "metadata": {},
   "source": [
    "Let's look at random tweets to check if the if else loop above worked as intended."
   ]
  },
  {
   "cell_type": "code",
   "execution_count": 99,
   "id": "thirty-fleet",
   "metadata": {},
   "outputs": [],
   "source": [
    "sample_tweets = twitter_clean.sample(10)"
   ]
  },
  {
   "cell_type": "code",
   "execution_count": 100,
   "id": "actual-explanation",
   "metadata": {},
   "outputs": [
    {
     "data": {
      "text/html": [
       "<div>\n",
       "<style scoped>\n",
       "    .dataframe tbody tr th:only-of-type {\n",
       "        vertical-align: middle;\n",
       "    }\n",
       "\n",
       "    .dataframe tbody tr th {\n",
       "        vertical-align: top;\n",
       "    }\n",
       "\n",
       "    .dataframe thead th {\n",
       "        text-align: right;\n",
       "    }\n",
       "</style>\n",
       "<table border=\"1\" class=\"dataframe\">\n",
       "  <thead>\n",
       "    <tr style=\"text-align: right;\">\n",
       "      <th></th>\n",
       "      <th>p1</th>\n",
       "      <th>p1_dog</th>\n",
       "      <th>p1_conf</th>\n",
       "      <th>p2</th>\n",
       "      <th>p2_dog</th>\n",
       "      <th>p2_conf</th>\n",
       "      <th>p3</th>\n",
       "      <th>p3_dog</th>\n",
       "      <th>p3_conf</th>\n",
       "      <th>dog_breed</th>\n",
       "    </tr>\n",
       "  </thead>\n",
       "  <tbody>\n",
       "    <tr>\n",
       "      <th>1455</th>\n",
       "      <td>pug</td>\n",
       "      <td>True</td>\n",
       "      <td>99.74</td>\n",
       "      <td>bull_mastiff</td>\n",
       "      <td>True</td>\n",
       "      <td>0.17</td>\n",
       "      <td>pekinese</td>\n",
       "      <td>True</td>\n",
       "      <td>0.03</td>\n",
       "      <td>pug</td>\n",
       "    </tr>\n",
       "    <tr>\n",
       "      <th>1279</th>\n",
       "      <td>schipperke</td>\n",
       "      <td>True</td>\n",
       "      <td>74.56</td>\n",
       "      <td>kelpie</td>\n",
       "      <td>True</td>\n",
       "      <td>16.79</td>\n",
       "      <td>boston_bull</td>\n",
       "      <td>True</td>\n",
       "      <td>1.48</td>\n",
       "      <td>schipperke</td>\n",
       "    </tr>\n",
       "    <tr>\n",
       "      <th>1271</th>\n",
       "      <td>shetland_sheepdog</td>\n",
       "      <td>True</td>\n",
       "      <td>79.75</td>\n",
       "      <td>collie</td>\n",
       "      <td>True</td>\n",
       "      <td>5.41</td>\n",
       "      <td>keeshond</td>\n",
       "      <td>True</td>\n",
       "      <td>3.17</td>\n",
       "      <td>shetland_sheepdog</td>\n",
       "    </tr>\n",
       "    <tr>\n",
       "      <th>1285</th>\n",
       "      <td>chihuahua</td>\n",
       "      <td>True</td>\n",
       "      <td>74.82</td>\n",
       "      <td>toy_terrier</td>\n",
       "      <td>True</td>\n",
       "      <td>12.77</td>\n",
       "      <td>pembroke</td>\n",
       "      <td>True</td>\n",
       "      <td>4.21</td>\n",
       "      <td>chihuahua</td>\n",
       "    </tr>\n",
       "    <tr>\n",
       "      <th>1305</th>\n",
       "      <td>chihuahua</td>\n",
       "      <td>True</td>\n",
       "      <td>88.85</td>\n",
       "      <td>italian_greyhound</td>\n",
       "      <td>True</td>\n",
       "      <td>8.86</td>\n",
       "      <td>toy_terrier</td>\n",
       "      <td>True</td>\n",
       "      <td>1.59</td>\n",
       "      <td>chihuahua</td>\n",
       "    </tr>\n",
       "    <tr>\n",
       "      <th>1750</th>\n",
       "      <td>NaN</td>\n",
       "      <td>NaN</td>\n",
       "      <td>0.00</td>\n",
       "      <td>NaN</td>\n",
       "      <td>NaN</td>\n",
       "      <td>0.00</td>\n",
       "      <td>NaN</td>\n",
       "      <td>NaN</td>\n",
       "      <td>0.00</td>\n",
       "      <td>None</td>\n",
       "    </tr>\n",
       "    <tr>\n",
       "      <th>354</th>\n",
       "      <td>cocker_spaniel</td>\n",
       "      <td>True</td>\n",
       "      <td>26.33</td>\n",
       "      <td>brittany_spaniel</td>\n",
       "      <td>True</td>\n",
       "      <td>20.05</td>\n",
       "      <td>doormat</td>\n",
       "      <td>False</td>\n",
       "      <td>19.34</td>\n",
       "      <td>cocker_spaniel</td>\n",
       "    </tr>\n",
       "    <tr>\n",
       "      <th>145</th>\n",
       "      <td>eskimo_dog</td>\n",
       "      <td>True</td>\n",
       "      <td>41.33</td>\n",
       "      <td>malamute</td>\n",
       "      <td>True</td>\n",
       "      <td>34.76</td>\n",
       "      <td>siberian_husky</td>\n",
       "      <td>True</td>\n",
       "      <td>14.95</td>\n",
       "      <td>eskimo_dog</td>\n",
       "    </tr>\n",
       "    <tr>\n",
       "      <th>1276</th>\n",
       "      <td>siberian_husky</td>\n",
       "      <td>True</td>\n",
       "      <td>21.30</td>\n",
       "      <td>eskimo_dog</td>\n",
       "      <td>True</td>\n",
       "      <td>17.89</td>\n",
       "      <td>labrador_retriever</td>\n",
       "      <td>True</td>\n",
       "      <td>17.42</td>\n",
       "      <td>siberian_husky</td>\n",
       "    </tr>\n",
       "    <tr>\n",
       "      <th>1436</th>\n",
       "      <td>great_dane</td>\n",
       "      <td>True</td>\n",
       "      <td>17.40</td>\n",
       "      <td>malinois</td>\n",
       "      <td>True</td>\n",
       "      <td>16.59</td>\n",
       "      <td>doberman</td>\n",
       "      <td>True</td>\n",
       "      <td>11.99</td>\n",
       "      <td>great_dane</td>\n",
       "    </tr>\n",
       "  </tbody>\n",
       "</table>\n",
       "</div>"
      ],
      "text/plain": [
       "                     p1 p1_dog  p1_conf                 p2 p2_dog  p2_conf  \\\n",
       "1455                pug   True    99.74       bull_mastiff   True     0.17   \n",
       "1279         schipperke   True    74.56             kelpie   True    16.79   \n",
       "1271  shetland_sheepdog   True    79.75             collie   True     5.41   \n",
       "1285          chihuahua   True    74.82        toy_terrier   True    12.77   \n",
       "1305          chihuahua   True    88.85  italian_greyhound   True     8.86   \n",
       "1750                NaN    NaN     0.00                NaN    NaN     0.00   \n",
       "354      cocker_spaniel   True    26.33   brittany_spaniel   True    20.05   \n",
       "145          eskimo_dog   True    41.33           malamute   True    34.76   \n",
       "1276     siberian_husky   True    21.30         eskimo_dog   True    17.89   \n",
       "1436         great_dane   True    17.40           malinois   True    16.59   \n",
       "\n",
       "                      p3 p3_dog  p3_conf          dog_breed  \n",
       "1455            pekinese   True     0.03                pug  \n",
       "1279         boston_bull   True     1.48         schipperke  \n",
       "1271            keeshond   True     3.17  shetland_sheepdog  \n",
       "1285            pembroke   True     4.21          chihuahua  \n",
       "1305         toy_terrier   True     1.59          chihuahua  \n",
       "1750                 NaN    NaN     0.00               None  \n",
       "354              doormat  False    19.34     cocker_spaniel  \n",
       "145       siberian_husky   True    14.95         eskimo_dog  \n",
       "1276  labrador_retriever   True    17.42     siberian_husky  \n",
       "1436            doberman   True    11.99         great_dane  "
      ]
     },
     "execution_count": 100,
     "metadata": {},
     "output_type": "execute_result"
    }
   ],
   "source": [
    "sample_tweets[['p1', 'p1_dog', 'p1_conf', 'p2', 'p2_dog', 'p2_conf', 'p3', 'p3_dog', 'p3_conf', 'dog_breed']]"
   ]
  },
  {
   "cell_type": "markdown",
   "id": "fewer-charge",
   "metadata": {},
   "source": [
    "Yay!"
   ]
  },
  {
   "cell_type": "markdown",
   "id": "comfortable-princess",
   "metadata": {},
   "source": [
    "---\n",
    "<a id='analyzedata'></a>\n",
    "### Analyze data"
   ]
  },
  {
   "cell_type": "markdown",
   "id": "addressed-separate",
   "metadata": {},
   "source": [
    "Time to analyze our cleaned data!\n",
    "\n",
    "I have never ever analyzed anything that even remotely resembles dog-related data...so let's see. \n",
    "\n",
    "1. How have the number of retweets and favorites changed over time? \n",
    "2. How do the different dog stages fare in their retweet and favorite counts?\n",
    "3. Is there a correlation between dog ratings, and the retweet and favorite counts?"
   ]
  },
  {
   "cell_type": "markdown",
   "id": "stretch-catering",
   "metadata": {},
   "source": [
    "> How have the number of retweets and favorites changed over time?"
   ]
  },
  {
   "cell_type": "markdown",
   "id": "tribal-genesis",
   "metadata": {},
   "source": [
    "Let's look at the timeline of all the tweets."
   ]
  },
  {
   "cell_type": "code",
   "execution_count": 101,
   "id": "needed-mambo",
   "metadata": {},
   "outputs": [
    {
     "name": "stderr",
     "output_type": "stream",
     "text": [
      "<ipython-input-101-a8e8298698ca>:1: FutureWarning: Treating datetime data as categorical rather than numeric in `.describe` is deprecated and will be removed in a future version of pandas. Specify `datetime_is_numeric=True` to silence this warning and adopt the future behavior now.\n",
      "  twitter_clean['Date'].describe()\n"
     ]
    },
    {
     "data": {
      "text/plain": [
       "count                    2085\n",
       "unique                    598\n",
       "top       2015-11-29 00:00:00\n",
       "freq                       26\n",
       "first     2015-11-15 00:00:00\n",
       "last      2017-08-01 00:00:00\n",
       "Name: Date, dtype: object"
      ]
     },
     "execution_count": 101,
     "metadata": {},
     "output_type": "execute_result"
    }
   ],
   "source": [
    "twitter_clean['Date'].describe()"
   ]
  },
  {
   "cell_type": "markdown",
   "id": "pleased-organic",
   "metadata": {},
   "source": [
    "First tweet on our WeRateDogs data was recorded in 2015, with the latest extracted tweet in 2017."
   ]
  },
  {
   "cell_type": "code",
   "execution_count": 102,
   "id": "bizarre-product",
   "metadata": {},
   "outputs": [
    {
     "data": {
      "text/html": [
       "<div>\n",
       "<style scoped>\n",
       "    .dataframe tbody tr th:only-of-type {\n",
       "        vertical-align: middle;\n",
       "    }\n",
       "\n",
       "    .dataframe tbody tr th {\n",
       "        vertical-align: top;\n",
       "    }\n",
       "\n",
       "    .dataframe thead th {\n",
       "        text-align: right;\n",
       "    }\n",
       "</style>\n",
       "<table border=\"1\" class=\"dataframe\">\n",
       "  <thead>\n",
       "    <tr style=\"text-align: right;\">\n",
       "      <th></th>\n",
       "      <th>tweet_year</th>\n",
       "      <th>original_tweet_count</th>\n",
       "    </tr>\n",
       "  </thead>\n",
       "  <tbody>\n",
       "    <tr>\n",
       "      <th>1</th>\n",
       "      <td>2015</td>\n",
       "      <td>666</td>\n",
       "    </tr>\n",
       "    <tr>\n",
       "      <th>0</th>\n",
       "      <td>2016</td>\n",
       "      <td>1045</td>\n",
       "    </tr>\n",
       "    <tr>\n",
       "      <th>2</th>\n",
       "      <td>2017</td>\n",
       "      <td>374</td>\n",
       "    </tr>\n",
       "  </tbody>\n",
       "</table>\n",
       "</div>"
      ],
      "text/plain": [
       "   tweet_year  original_tweet_count\n",
       "1        2015                   666\n",
       "0        2016                  1045\n",
       "2        2017                   374"
      ]
     },
     "execution_count": 102,
     "metadata": {},
     "output_type": "execute_result"
    }
   ],
   "source": [
    "og_tweet_year_count = twitter_clean['Date'].dt.year.value_counts().to_frame().reset_index()\n",
    "og_tweet_year_count = og_tweet_year_count.rename(columns = {'index':'tweet_year','Date':'original_tweet_count'})\n",
    "og_tweet_year_count = og_tweet_year_count.sort_values('tweet_year')\n",
    "og_tweet_year_count"
   ]
  },
  {
   "cell_type": "markdown",
   "id": "faced-tiffany",
   "metadata": {},
   "source": [
    "2016 saw the largest amount of tweets, before decreasing to a mere 374 in 2017. \n",
    "\n",
    "However, it is important to note that we have removed some tweets on the basis that they do not have the correct ratings, so the actual number of most recent tweets may perhaps be higher than what we are seeing. They just do not meet our data standards.\n",
    "\n",
    "What about the number of retweets and favorites over the years?"
   ]
  },
  {
   "cell_type": "code",
   "execution_count": 103,
   "id": "portuguese-least",
   "metadata": {},
   "outputs": [
    {
     "data": {
      "text/html": [
       "<div>\n",
       "<style scoped>\n",
       "    .dataframe tbody tr th:only-of-type {\n",
       "        vertical-align: middle;\n",
       "    }\n",
       "\n",
       "    .dataframe tbody tr th {\n",
       "        vertical-align: top;\n",
       "    }\n",
       "\n",
       "    .dataframe thead th {\n",
       "        text-align: right;\n",
       "    }\n",
       "</style>\n",
       "<table border=\"1\" class=\"dataframe\">\n",
       "  <thead>\n",
       "    <tr style=\"text-align: right;\">\n",
       "      <th></th>\n",
       "      <th>tweet_year</th>\n",
       "      <th>retweet_count</th>\n",
       "    </tr>\n",
       "  </thead>\n",
       "  <tbody>\n",
       "    <tr>\n",
       "      <th>0</th>\n",
       "      <td>2015</td>\n",
       "      <td>614596</td>\n",
       "    </tr>\n",
       "    <tr>\n",
       "      <th>1</th>\n",
       "      <td>2016</td>\n",
       "      <td>2515336</td>\n",
       "    </tr>\n",
       "    <tr>\n",
       "      <th>2</th>\n",
       "      <td>2017</td>\n",
       "      <td>1853025</td>\n",
       "    </tr>\n",
       "  </tbody>\n",
       "</table>\n",
       "</div>"
      ],
      "text/plain": [
       "   tweet_year  retweet_count\n",
       "0        2015         614596\n",
       "1        2016        2515336\n",
       "2        2017        1853025"
      ]
     },
     "execution_count": 103,
     "metadata": {},
     "output_type": "execute_result"
    }
   ],
   "source": [
    "retweet_year_count = twitter_clean.groupby(twitter_clean['Date'].dt.year)['retweet_count'].sum().to_frame().reset_index()\n",
    "retweet_year_count = retweet_year_count.rename(columns = {'Date':'tweet_year'})\n",
    "retweet_year_count"
   ]
  },
  {
   "cell_type": "code",
   "execution_count": 104,
   "id": "monetary-evolution",
   "metadata": {},
   "outputs": [
    {
     "data": {
      "text/html": [
       "<div>\n",
       "<style scoped>\n",
       "    .dataframe tbody tr th:only-of-type {\n",
       "        vertical-align: middle;\n",
       "    }\n",
       "\n",
       "    .dataframe tbody tr th {\n",
       "        vertical-align: top;\n",
       "    }\n",
       "\n",
       "    .dataframe thead th {\n",
       "        text-align: right;\n",
       "    }\n",
       "</style>\n",
       "<table border=\"1\" class=\"dataframe\">\n",
       "  <thead>\n",
       "    <tr style=\"text-align: right;\">\n",
       "      <th></th>\n",
       "      <th>tweet_year</th>\n",
       "      <th>favorite_count</th>\n",
       "    </tr>\n",
       "  </thead>\n",
       "  <tbody>\n",
       "    <tr>\n",
       "      <th>0</th>\n",
       "      <td>2015</td>\n",
       "      <td>1500110</td>\n",
       "    </tr>\n",
       "    <tr>\n",
       "      <th>1</th>\n",
       "      <td>2016</td>\n",
       "      <td>7305954</td>\n",
       "    </tr>\n",
       "    <tr>\n",
       "      <th>2</th>\n",
       "      <td>2017</td>\n",
       "      <td>7892561</td>\n",
       "    </tr>\n",
       "  </tbody>\n",
       "</table>\n",
       "</div>"
      ],
      "text/plain": [
       "   tweet_year  favorite_count\n",
       "0        2015         1500110\n",
       "1        2016         7305954\n",
       "2        2017         7892561"
      ]
     },
     "execution_count": 104,
     "metadata": {},
     "output_type": "execute_result"
    }
   ],
   "source": [
    "fav_year_count = twitter_clean.groupby(twitter_clean['Date'].dt.year)['favorite_count'].sum().to_frame().reset_index()\n",
    "fav_year_count = fav_year_count.rename(columns = {'Date':'tweet_year'})\n",
    "fav_year_count"
   ]
  },
  {
   "cell_type": "code",
   "execution_count": 105,
   "id": "foreign-guide",
   "metadata": {},
   "outputs": [
    {
     "data": {
      "text/html": [
       "<div>\n",
       "<style scoped>\n",
       "    .dataframe tbody tr th:only-of-type {\n",
       "        vertical-align: middle;\n",
       "    }\n",
       "\n",
       "    .dataframe tbody tr th {\n",
       "        vertical-align: top;\n",
       "    }\n",
       "\n",
       "    .dataframe thead th {\n",
       "        text-align: right;\n",
       "    }\n",
       "</style>\n",
       "<table border=\"1\" class=\"dataframe\">\n",
       "  <thead>\n",
       "    <tr style=\"text-align: right;\">\n",
       "      <th></th>\n",
       "      <th>tweet_year</th>\n",
       "      <th>original_tweet_count</th>\n",
       "      <th>retweet_count</th>\n",
       "      <th>favorite_count</th>\n",
       "    </tr>\n",
       "  </thead>\n",
       "  <tbody>\n",
       "    <tr>\n",
       "      <th>1</th>\n",
       "      <td>2015</td>\n",
       "      <td>666</td>\n",
       "      <td>2515336</td>\n",
       "      <td>7305954</td>\n",
       "    </tr>\n",
       "    <tr>\n",
       "      <th>0</th>\n",
       "      <td>2016</td>\n",
       "      <td>1045</td>\n",
       "      <td>614596</td>\n",
       "      <td>1500110</td>\n",
       "    </tr>\n",
       "    <tr>\n",
       "      <th>2</th>\n",
       "      <td>2017</td>\n",
       "      <td>374</td>\n",
       "      <td>1853025</td>\n",
       "      <td>7892561</td>\n",
       "    </tr>\n",
       "  </tbody>\n",
       "</table>\n",
       "</div>"
      ],
      "text/plain": [
       "   tweet_year  original_tweet_count  retweet_count  favorite_count\n",
       "1        2015                   666        2515336         7305954\n",
       "0        2016                  1045         614596         1500110\n",
       "2        2017                   374        1853025         7892561"
      ]
     },
     "execution_count": 105,
     "metadata": {},
     "output_type": "execute_result"
    }
   ],
   "source": [
    "analysis_1 = pd.concat([og_tweet_year_count, retweet_year_count, fav_year_count], axis=1)\n",
    "analysis_1 = analysis_1.loc[:, ~analysis_1.columns.duplicated()].sort_values('tweet_year') # Drop duplicated tweet_year columns\n",
    "analysis_1"
   ]
  },
  {
   "cell_type": "markdown",
   "id": "honey-namibia",
   "metadata": {},
   "source": [
    "Let's plot a line graph to look at the changes in numbers from 2015 to 2017 for each variable."
   ]
  },
  {
   "cell_type": "code",
   "execution_count": 106,
   "id": "artistic-arrest",
   "metadata": {},
   "outputs": [],
   "source": [
    "# Convert datatype of tweet_year from an integer to categorical data\n",
    "analysis_1['tweet_year'] = analysis_1['tweet_year'].astype(str).astype('category')"
   ]
  },
  {
   "cell_type": "code",
   "execution_count": 107,
   "id": "specialized-print",
   "metadata": {},
   "outputs": [
    {
     "data": {
      "image/png": "[encoded data removed]",
      "text/plain": [
       "<Figure size 720x432 with 2 Axes>"
      ]
     },
     "metadata": {},
     "output_type": "display_data"
    }
   ],
   "source": [
    "sns.set_style(\"dark\")\n",
    "fig, ax = plt.subplots(figsize=(10,6))\n",
    "\n",
    "ax.set_xlabel('Year', size=12)\n",
    "ax.grid(b=None)\n",
    "plt.title('Number of original tweets, retweets, and favorites of 2015, 2016 and 2017 tweets', size=13)\n",
    "\n",
    "# Bar chart - primary y axis\n",
    "ax.plot(analysis_1['tweet_year'], analysis_1['original_tweet_count'], color='red', label='Original \\n tweet')\n",
    "ax.set_ylabel('Original tweet count', size=12)\n",
    "ax.legend(bbox_to_anchor = [0.165, 0.23])\n",
    "\n",
    "# Line chart - secondary y axis\n",
    "ax2 = ax.twinx()\n",
    "ax2.plot(analysis_1['tweet_year'], analysis_1['retweet_count'], color='green', label='Retweet')\n",
    "ax2.plot(analysis_1['tweet_year'], analysis_1['favorite_count'], label='Favorite')\n",
    "ax2.set_ylabel('Retweet and favorite count', size=12)\n",
    "ax2.legend();\n"
   ]
  },
  {
   "cell_type": "markdown",
   "id": "german-secret",
   "metadata": {},
   "source": [
    "We see that when the numbers are proportionately scaled in the visualisation as above, 2016 indeed saw the highest number of original, unique tweets on WeRateDogs, before dropping significantly in 2017. \n",
    "\n",
    "However, although the number of original tweets decreased in 2017, 2017 saw an increase in the number of retweets and favorites. \n",
    "\n",
    "Perhaps the dogs posted on WeRateDogs in 2016 were not as appealing or worthy of retweets or favorites as compared to dogs posted in 2015 and 2017. \n",
    "\n",
    "Let's look at the average ratings given to dogs of 2015, 2016 and 2017."
   ]
  },
  {
   "cell_type": "code",
   "execution_count": 108,
   "id": "sunrise-float",
   "metadata": {},
   "outputs": [
    {
     "data": {
      "text/plain": [
       "12      486\n",
       "10      437\n",
       "11      414\n",
       "13      288\n",
       "9       153\n",
       "8        98\n",
       "7        51\n",
       "14       39\n",
       "5        34\n",
       "6        32\n",
       "3        19\n",
       "4        15\n",
       "2         9\n",
       "1         4\n",
       "0         1\n",
       "27        1\n",
       "1776      1\n",
       "420       1\n",
       "26        1\n",
       "75        1\n",
       "Name: rating_numerator, dtype: int64"
      ]
     },
     "execution_count": 108,
     "metadata": {},
     "output_type": "execute_result"
    }
   ],
   "source": [
    "# Look at list of ratings\n",
    "twitter_clean['rating_numerator'].value_counts()"
   ]
  },
  {
   "cell_type": "markdown",
   "id": "threaded-stewart",
   "metadata": {},
   "source": [
    "Since there are clear outliers in the rating numerators, I will use `median` as the summary statistic."
   ]
  },
  {
   "cell_type": "code",
   "execution_count": 109,
   "id": "supposed-folder",
   "metadata": {},
   "outputs": [
    {
     "data": {
      "text/plain": [
       "Date\n",
       "2015    10\n",
       "2016    11\n",
       "2017    13\n",
       "Name: rating_numerator, dtype: int64"
      ]
     },
     "execution_count": 109,
     "metadata": {},
     "output_type": "execute_result"
    }
   ],
   "source": [
    "twitter_clean.groupby(twitter_clean['Date'].dt.year)['rating_numerator'].median()"
   ]
  },
  {
   "cell_type": "markdown",
   "id": "alive-gender",
   "metadata": {},
   "source": [
    "It does look like dogs of 2017 had a higher median rating than 2015 and 2016."
   ]
  },
  {
   "cell_type": "markdown",
   "id": "posted-lodge",
   "metadata": {},
   "source": [
    "What about the trend of tweet counts at a more granular level (ie without aggregating the counts to a year by year basis - retaining it on a day by day basis)"
   ]
  },
  {
   "cell_type": "code",
   "execution_count": 139,
   "id": "surprised-jumping",
   "metadata": {},
   "outputs": [
    {
     "data": {
      "text/html": [
       "<div>\n",
       "<style scoped>\n",
       "    .dataframe tbody tr th:only-of-type {\n",
       "        vertical-align: middle;\n",
       "    }\n",
       "\n",
       "    .dataframe tbody tr th {\n",
       "        vertical-align: top;\n",
       "    }\n",
       "\n",
       "    .dataframe thead th {\n",
       "        text-align: right;\n",
       "    }\n",
       "</style>\n",
       "<table border=\"1\" class=\"dataframe\">\n",
       "  <thead>\n",
       "    <tr style=\"text-align: right;\">\n",
       "      <th></th>\n",
       "      <th>tweet_date</th>\n",
       "      <th>original_tweet_count</th>\n",
       "    </tr>\n",
       "  </thead>\n",
       "  <tbody>\n",
       "    <tr>\n",
       "      <th>213</th>\n",
       "      <td>2015-11-15</td>\n",
       "      <td>3</td>\n",
       "    </tr>\n",
       "    <tr>\n",
       "      <th>2</th>\n",
       "      <td>2015-11-16</td>\n",
       "      <td>25</td>\n",
       "    </tr>\n",
       "    <tr>\n",
       "      <th>20</th>\n",
       "      <td>2015-11-17</td>\n",
       "      <td>15</td>\n",
       "    </tr>\n",
       "  </tbody>\n",
       "</table>\n",
       "</div>"
      ],
      "text/plain": [
       "    tweet_date  original_tweet_count\n",
       "213 2015-11-15                     3\n",
       "2   2015-11-16                    25\n",
       "20  2015-11-17                    15"
      ]
     },
     "execution_count": 139,
     "metadata": {},
     "output_type": "execute_result"
    }
   ],
   "source": [
    "og_tweet_date_count = twitter_clean['Date'].value_counts().to_frame().reset_index()\n",
    "og_tweet_date_count = og_tweet_date_count.rename(columns = {'index':'tweet_date','Date':'original_tweet_count'})\n",
    "og_tweet_date_count = og_tweet_date_count.sort_values('tweet_date')\n",
    "og_tweet_date_count.head(3)"
   ]
  },
  {
   "cell_type": "code",
   "execution_count": 137,
   "id": "developed-relaxation",
   "metadata": {},
   "outputs": [
    {
     "data": {
      "text/html": [
       "<div>\n",
       "<style scoped>\n",
       "    .dataframe tbody tr th:only-of-type {\n",
       "        vertical-align: middle;\n",
       "    }\n",
       "\n",
       "    .dataframe tbody tr th {\n",
       "        vertical-align: top;\n",
       "    }\n",
       "\n",
       "    .dataframe thead th {\n",
       "        text-align: right;\n",
       "    }\n",
       "</style>\n",
       "<table border=\"1\" class=\"dataframe\">\n",
       "  <thead>\n",
       "    <tr style=\"text-align: right;\">\n",
       "      <th></th>\n",
       "      <th>tweet_date</th>\n",
       "      <th>retweet_count</th>\n",
       "    </tr>\n",
       "  </thead>\n",
       "  <tbody>\n",
       "    <tr>\n",
       "      <th>0</th>\n",
       "      <td>2015-11-15</td>\n",
       "      <td>519</td>\n",
       "    </tr>\n",
       "    <tr>\n",
       "      <th>1</th>\n",
       "      <td>2015-11-16</td>\n",
       "      <td>8916</td>\n",
       "    </tr>\n",
       "    <tr>\n",
       "      <th>2</th>\n",
       "      <td>2015-11-17</td>\n",
       "      <td>1904</td>\n",
       "    </tr>\n",
       "  </tbody>\n",
       "</table>\n",
       "</div>"
      ],
      "text/plain": [
       "  tweet_date  retweet_count\n",
       "0 2015-11-15            519\n",
       "1 2015-11-16           8916\n",
       "2 2015-11-17           1904"
      ]
     },
     "execution_count": 137,
     "metadata": {},
     "output_type": "execute_result"
    }
   ],
   "source": [
    "retweet_date_count = twitter_clean.groupby(twitter_clean['Date'])['retweet_count'].sum().to_frame().reset_index()\n",
    "retweet_date_count = retweet_date_count.rename(columns = {'Date':'tweet_date'})\n",
    "retweet_date_count.head(3)"
   ]
  },
  {
   "cell_type": "code",
   "execution_count": 138,
   "id": "independent-interface",
   "metadata": {},
   "outputs": [
    {
     "data": {
      "text/html": [
       "<div>\n",
       "<style scoped>\n",
       "    .dataframe tbody tr th:only-of-type {\n",
       "        vertical-align: middle;\n",
       "    }\n",
       "\n",
       "    .dataframe tbody tr th {\n",
       "        vertical-align: top;\n",
       "    }\n",
       "\n",
       "    .dataframe thead th {\n",
       "        text-align: right;\n",
       "    }\n",
       "</style>\n",
       "<table border=\"1\" class=\"dataframe\">\n",
       "  <thead>\n",
       "    <tr style=\"text-align: right;\">\n",
       "      <th></th>\n",
       "      <th>tweet_date</th>\n",
       "      <th>favorite_count</th>\n",
       "    </tr>\n",
       "  </thead>\n",
       "  <tbody>\n",
       "    <tr>\n",
       "      <th>0</th>\n",
       "      <td>2015-11-15</td>\n",
       "      <td>2555</td>\n",
       "    </tr>\n",
       "    <tr>\n",
       "      <th>1</th>\n",
       "      <td>2015-11-16</td>\n",
       "      <td>19039</td>\n",
       "    </tr>\n",
       "    <tr>\n",
       "      <th>2</th>\n",
       "      <td>2015-11-17</td>\n",
       "      <td>4111</td>\n",
       "    </tr>\n",
       "  </tbody>\n",
       "</table>\n",
       "</div>"
      ],
      "text/plain": [
       "  tweet_date  favorite_count\n",
       "0 2015-11-15            2555\n",
       "1 2015-11-16           19039\n",
       "2 2015-11-17            4111"
      ]
     },
     "execution_count": 138,
     "metadata": {},
     "output_type": "execute_result"
    }
   ],
   "source": [
    "fav_date_count = twitter_clean.groupby(twitter_clean['Date'])['favorite_count'].sum().to_frame().reset_index()\n",
    "fav_date_count = fav_date_count.rename(columns = {'Date':'tweet_date'})\n",
    "fav_date_count.head(3)"
   ]
  },
  {
   "cell_type": "code",
   "execution_count": 140,
   "id": "correct-introduction",
   "metadata": {},
   "outputs": [
    {
     "data": {
      "text/html": [
       "<div>\n",
       "<style scoped>\n",
       "    .dataframe tbody tr th:only-of-type {\n",
       "        vertical-align: middle;\n",
       "    }\n",
       "\n",
       "    .dataframe tbody tr th {\n",
       "        vertical-align: top;\n",
       "    }\n",
       "\n",
       "    .dataframe thead th {\n",
       "        text-align: right;\n",
       "    }\n",
       "</style>\n",
       "<table border=\"1\" class=\"dataframe\">\n",
       "  <thead>\n",
       "    <tr style=\"text-align: right;\">\n",
       "      <th></th>\n",
       "      <th>tweet_date</th>\n",
       "      <th>original_tweet_count</th>\n",
       "      <th>retweet_count</th>\n",
       "      <th>favorite_count</th>\n",
       "    </tr>\n",
       "  </thead>\n",
       "  <tbody>\n",
       "    <tr>\n",
       "      <th>213</th>\n",
       "      <td>2015-11-15</td>\n",
       "      <td>3</td>\n",
       "      <td>6890</td>\n",
       "      <td>21663</td>\n",
       "    </tr>\n",
       "    <tr>\n",
       "      <th>2</th>\n",
       "      <td>2015-11-16</td>\n",
       "      <td>25</td>\n",
       "      <td>1904</td>\n",
       "      <td>4111</td>\n",
       "    </tr>\n",
       "    <tr>\n",
       "      <th>20</th>\n",
       "      <td>2015-11-17</td>\n",
       "      <td>15</td>\n",
       "      <td>7128</td>\n",
       "      <td>17285</td>\n",
       "    </tr>\n",
       "    <tr>\n",
       "      <th>13</th>\n",
       "      <td>2015-11-18</td>\n",
       "      <td>17</td>\n",
       "      <td>14742</td>\n",
       "      <td>35155</td>\n",
       "    </tr>\n",
       "    <tr>\n",
       "      <th>3</th>\n",
       "      <td>2015-11-19</td>\n",
       "      <td>23</td>\n",
       "      <td>3311</td>\n",
       "      <td>7612</td>\n",
       "    </tr>\n",
       "  </tbody>\n",
       "</table>\n",
       "</div>"
      ],
      "text/plain": [
       "    tweet_date  original_tweet_count  retweet_count  favorite_count\n",
       "213 2015-11-15                     3           6890           21663\n",
       "2   2015-11-16                    25           1904            4111\n",
       "20  2015-11-17                    15           7128           17285\n",
       "13  2015-11-18                    17          14742           35155\n",
       "3   2015-11-19                    23           3311            7612"
      ]
     },
     "execution_count": 140,
     "metadata": {},
     "output_type": "execute_result"
    }
   ],
   "source": [
    "analysis_1b = pd.concat([og_tweet_date_count, retweet_date_count, fav_date_count], axis=1)\n",
    "analysis_1b = analysis_1b.loc[:, ~analysis_1b.columns.duplicated()].sort_values('tweet_date') # Drop duplicated tweet_year columns\n",
    "analysis_1b.head()"
   ]
  },
  {
   "cell_type": "code",
   "execution_count": 114,
   "id": "bacterial-closer",
   "metadata": {},
   "outputs": [
    {
     "data": {
      "image/png": "[encoded data removed]",
      "text/plain": [
       "<Figure size 1080x432 with 2 Axes>"
      ]
     },
     "metadata": {},
     "output_type": "display_data"
    }
   ],
   "source": [
    "sns.set_style(\"dark\")\n",
    "fig, ax = plt.subplots(figsize=(15,6))\n",
    "\n",
    "ax.set_xlabel('Year', size=12)\n",
    "ax.grid(b=None)\n",
    "plt.title('Number of original tweets, retweets, and favorites of 2015, 2016 and 2017 tweets', size=14)\n",
    "\n",
    "# Bar chart - primary y axis\n",
    "ax.plot(analysis_1b['tweet_date'], analysis_1b['original_tweet_count'], color='red', label='Original \\n tweet')\n",
    "ax.set_ylabel('Original tweet count', size=12)\n",
    "ax.legend(bbox_to_anchor = [1, 0.9])\n",
    "\n",
    "# Line chart - secondary y axis\n",
    "ax2 = ax.twinx()\n",
    "ax2.plot(analysis_1b['tweet_date'], analysis_1b['retweet_count'], color='green', label='Retweet')\n",
    "ax2.plot(analysis_1b['tweet_date'], analysis_1b['favorite_count'], label='Favorite', alpha=0.4)\n",
    "ax2.set_ylabel('Retweet and favorite count', size=12)\n",
    "ax2.legend();"
   ]
  },
  {
   "cell_type": "markdown",
   "id": "experienced-irish",
   "metadata": {},
   "source": [
    "I would not be able to draw any conclusions from the above chart, other than being able to observe that the number of daily tweets posted on WeRateDogs were significantly higher in the final quarter of 2015, after which the frequency decreased dramatically. From the middle of 2016 onwards, other than the occational spikes in number of daily tweets, the average number of daily tweets on WeRateDogs was below 5. \n",
    "\n",
    "It does not look like there is a correlation between the number of daily original tweets and the number of daily retweets and favorites, suggesting that something else about these tweets are attracting retweets and favourites (some attractive factor that was mising from the earlier 2015 and beginning 2016 tweets).\n",
    "\n",
    "Or it could be simply arbituary."
   ]
  },
  {
   "cell_type": "markdown",
   "id": "concrete-macro",
   "metadata": {},
   "source": [
    "> How do the different dog stages fare in their retweet and favorite counts?"
   ]
  },
  {
   "cell_type": "code",
   "execution_count": 115,
   "id": "equivalent-percentage",
   "metadata": {},
   "outputs": [
    {
     "data": {
      "text/plain": [
       "none       1507\n",
       "pupper      467\n",
       "doggo        77\n",
       "puppo        25\n",
       "floofer       9\n",
       "Name: dog_stage, dtype: int64"
      ]
     },
     "execution_count": 115,
     "metadata": {},
     "output_type": "execute_result"
    }
   ],
   "source": [
    "twitter_clean['dog_stage'].value_counts()"
   ]
  },
  {
   "cell_type": "markdown",
   "id": "decimal-craft",
   "metadata": {},
   "source": [
    "Note that a majority of tweets do not have any dog stage attributed to them, while `pupper` had a larger share of attribution than the other dog stages."
   ]
  },
  {
   "cell_type": "code",
   "execution_count": 116,
   "id": "raised-malaysia",
   "metadata": {},
   "outputs": [
    {
     "data": {
      "text/html": [
       "<div>\n",
       "<style scoped>\n",
       "    .dataframe tbody tr th:only-of-type {\n",
       "        vertical-align: middle;\n",
       "    }\n",
       "\n",
       "    .dataframe tbody tr th {\n",
       "        vertical-align: top;\n",
       "    }\n",
       "\n",
       "    .dataframe thead th {\n",
       "        text-align: right;\n",
       "    }\n",
       "</style>\n",
       "<table border=\"1\" class=\"dataframe\">\n",
       "  <thead>\n",
       "    <tr style=\"text-align: right;\">\n",
       "      <th></th>\n",
       "      <th>dog_stage</th>\n",
       "      <th>average_retweet_count</th>\n",
       "    </tr>\n",
       "  </thead>\n",
       "  <tbody>\n",
       "    <tr>\n",
       "      <th>3</th>\n",
       "      <td>pupper</td>\n",
       "      <td>2052.612420</td>\n",
       "    </tr>\n",
       "    <tr>\n",
       "      <th>1</th>\n",
       "      <td>floofer</td>\n",
       "      <td>3455.111111</td>\n",
       "    </tr>\n",
       "    <tr>\n",
       "      <th>0</th>\n",
       "      <td>doggo</td>\n",
       "      <td>5590.805195</td>\n",
       "    </tr>\n",
       "    <tr>\n",
       "      <th>4</th>\n",
       "      <td>puppo</td>\n",
       "      <td>5936.480000</td>\n",
       "    </tr>\n",
       "  </tbody>\n",
       "</table>\n",
       "</div>"
      ],
      "text/plain": [
       "  dog_stage  average_retweet_count\n",
       "3    pupper            2052.612420\n",
       "1   floofer            3455.111111\n",
       "0     doggo            5590.805195\n",
       "4     puppo            5936.480000"
      ]
     },
     "execution_count": 116,
     "metadata": {},
     "output_type": "execute_result"
    }
   ],
   "source": [
    "avg_retweet_dog_stage = twitter_clean.groupby('dog_stage')['retweet_count'].mean().to_frame().reset_index()\n",
    "avg_retweet_dog_stage = avg_retweet_dog_stage.rename(columns = {'retweet_count':'average_retweet_count'})\n",
    "avg_retweet_dog_stage.query('dog_stage != \"none\"').sort_values('average_retweet_count')"
   ]
  },
  {
   "cell_type": "code",
   "execution_count": 117,
   "id": "warming-zoning",
   "metadata": {},
   "outputs": [
    {
     "data": {
      "text/html": [
       "<div>\n",
       "<style scoped>\n",
       "    .dataframe tbody tr th:only-of-type {\n",
       "        vertical-align: middle;\n",
       "    }\n",
       "\n",
       "    .dataframe tbody tr th {\n",
       "        vertical-align: top;\n",
       "    }\n",
       "\n",
       "    .dataframe thead th {\n",
       "        text-align: right;\n",
       "    }\n",
       "</style>\n",
       "<table border=\"1\" class=\"dataframe\">\n",
       "  <thead>\n",
       "    <tr style=\"text-align: right;\">\n",
       "      <th></th>\n",
       "      <th>dog_stage</th>\n",
       "      <th>average_fav_count</th>\n",
       "    </tr>\n",
       "  </thead>\n",
       "  <tbody>\n",
       "    <tr>\n",
       "      <th>3</th>\n",
       "      <td>pupper</td>\n",
       "      <td>7152.584582</td>\n",
       "    </tr>\n",
       "    <tr>\n",
       "      <th>1</th>\n",
       "      <td>floofer</td>\n",
       "      <td>9679.666667</td>\n",
       "    </tr>\n",
       "    <tr>\n",
       "      <th>0</th>\n",
       "      <td>doggo</td>\n",
       "      <td>16525.532468</td>\n",
       "    </tr>\n",
       "    <tr>\n",
       "      <th>4</th>\n",
       "      <td>puppo</td>\n",
       "      <td>20639.080000</td>\n",
       "    </tr>\n",
       "  </tbody>\n",
       "</table>\n",
       "</div>"
      ],
      "text/plain": [
       "  dog_stage  average_fav_count\n",
       "3    pupper        7152.584582\n",
       "1   floofer        9679.666667\n",
       "0     doggo       16525.532468\n",
       "4     puppo       20639.080000"
      ]
     },
     "execution_count": 117,
     "metadata": {},
     "output_type": "execute_result"
    }
   ],
   "source": [
    "avg_fav_dog_stage = twitter_clean.groupby('dog_stage')['favorite_count'].mean().to_frame().reset_index()\n",
    "avg_fav_dog_stage = avg_fav_dog_stage.rename(columns = {'favorite_count':'average_fav_count'})\n",
    "avg_fav_dog_stage.query('dog_stage != \"none\"').sort_values('average_fav_count')"
   ]
  },
  {
   "cell_type": "markdown",
   "id": "environmental-albania",
   "metadata": {},
   "source": [
    "We see that eventhough `pupper` had the largest share of twitted dogs, they had the lowest average retweet and favorite counts. \n",
    "\n",
    "On the other hand, `puppo` only had 25 tweets, but had the highest average retweet and favorite counts.\n",
    "\n",
    "Does `puppo` also have the highest ratings?"
   ]
  },
  {
   "cell_type": "code",
   "execution_count": 118,
   "id": "relative-howard",
   "metadata": {},
   "outputs": [
    {
     "data": {
      "text/html": [
       "<div>\n",
       "<style scoped>\n",
       "    .dataframe tbody tr th:only-of-type {\n",
       "        vertical-align: middle;\n",
       "    }\n",
       "\n",
       "    .dataframe tbody tr th {\n",
       "        vertical-align: top;\n",
       "    }\n",
       "\n",
       "    .dataframe thead th {\n",
       "        text-align: right;\n",
       "    }\n",
       "</style>\n",
       "<table border=\"1\" class=\"dataframe\">\n",
       "  <thead>\n",
       "    <tr style=\"text-align: right;\">\n",
       "      <th></th>\n",
       "      <th>dog_stage</th>\n",
       "      <th>median_rating</th>\n",
       "    </tr>\n",
       "  </thead>\n",
       "  <tbody>\n",
       "    <tr>\n",
       "      <th>0</th>\n",
       "      <td>doggo</td>\n",
       "      <td>12</td>\n",
       "    </tr>\n",
       "    <tr>\n",
       "      <th>1</th>\n",
       "      <td>floofer</td>\n",
       "      <td>12</td>\n",
       "    </tr>\n",
       "    <tr>\n",
       "      <th>2</th>\n",
       "      <td>none</td>\n",
       "      <td>11</td>\n",
       "    </tr>\n",
       "    <tr>\n",
       "      <th>3</th>\n",
       "      <td>pupper</td>\n",
       "      <td>11</td>\n",
       "    </tr>\n",
       "    <tr>\n",
       "      <th>4</th>\n",
       "      <td>puppo</td>\n",
       "      <td>12</td>\n",
       "    </tr>\n",
       "  </tbody>\n",
       "</table>\n",
       "</div>"
      ],
      "text/plain": [
       "  dog_stage  median_rating\n",
       "0     doggo             12\n",
       "1   floofer             12\n",
       "2      none             11\n",
       "3    pupper             11\n",
       "4     puppo             12"
      ]
     },
     "execution_count": 118,
     "metadata": {},
     "output_type": "execute_result"
    }
   ],
   "source": [
    "twitter_clean.groupby('dog_stage')['rating_numerator'].median().to_frame().reset_index().rename(columns = {'rating_numerator':'median_rating'})\n"
   ]
  },
  {
   "cell_type": "code",
   "execution_count": 119,
   "id": "boolean-cyprus",
   "metadata": {},
   "outputs": [
    {
     "data": {
      "text/html": [
       "<div>\n",
       "<style scoped>\n",
       "    .dataframe tbody tr th:only-of-type {\n",
       "        vertical-align: middle;\n",
       "    }\n",
       "\n",
       "    .dataframe tbody tr th {\n",
       "        vertical-align: top;\n",
       "    }\n",
       "\n",
       "    .dataframe thead th {\n",
       "        text-align: right;\n",
       "    }\n",
       "</style>\n",
       "<table border=\"1\" class=\"dataframe\">\n",
       "  <thead>\n",
       "    <tr style=\"text-align: right;\">\n",
       "      <th></th>\n",
       "      <th>dog_stage</th>\n",
       "      <th>mean_rating</th>\n",
       "    </tr>\n",
       "  </thead>\n",
       "  <tbody>\n",
       "    <tr>\n",
       "      <th>0</th>\n",
       "      <td>doggo</td>\n",
       "      <td>11.766234</td>\n",
       "    </tr>\n",
       "    <tr>\n",
       "      <th>1</th>\n",
       "      <td>floofer</td>\n",
       "      <td>11.888889</td>\n",
       "    </tr>\n",
       "    <tr>\n",
       "      <th>2</th>\n",
       "      <td>none</td>\n",
       "      <td>12.016589</td>\n",
       "    </tr>\n",
       "    <tr>\n",
       "      <th>3</th>\n",
       "      <td>pupper</td>\n",
       "      <td>10.631692</td>\n",
       "    </tr>\n",
       "    <tr>\n",
       "      <th>4</th>\n",
       "      <td>puppo</td>\n",
       "      <td>12.080000</td>\n",
       "    </tr>\n",
       "  </tbody>\n",
       "</table>\n",
       "</div>"
      ],
      "text/plain": [
       "  dog_stage  mean_rating\n",
       "0     doggo    11.766234\n",
       "1   floofer    11.888889\n",
       "2      none    12.016589\n",
       "3    pupper    10.631692\n",
       "4     puppo    12.080000"
      ]
     },
     "execution_count": 119,
     "metadata": {},
     "output_type": "execute_result"
    }
   ],
   "source": [
    "twitter_clean.groupby('dog_stage')['rating_numerator'].mean().to_frame().reset_index().rename(columns = {'rating_numerator':'mean_rating'})\n",
    "\n"
   ]
  },
  {
   "cell_type": "markdown",
   "id": "radical-economics",
   "metadata": {},
   "source": [
    "Seems like it! \n",
    "\n",
    "`puppo` has the highest median and mean ratings as compared to the other dog stages!"
   ]
  },
  {
   "cell_type": "code",
   "execution_count": 120,
   "id": "greatest-beaver",
   "metadata": {},
   "outputs": [
    {
     "data": {
      "text/plain": [
       "eskimo_dog                        3\n",
       "labrador_retriever                3\n",
       "golden_retriever                  3\n",
       "None                              2\n",
       "flat_coated_retriever             1\n",
       "cardigan                          1\n",
       "chow                              1\n",
       "american_staffordshire_terrier    1\n",
       "airedale                          1\n",
       "italian_greyhound                 1\n",
       "miniature_pinscher                1\n",
       "german_shepherd                   1\n",
       "curly_coated_retriever            1\n",
       "lakeland_terrier                  1\n",
       "pembroke                          1\n",
       "old_english_sheepdog              1\n",
       "malamute                          1\n",
       "rottweiler                        1\n",
       "Name: dog_breed, dtype: int64"
      ]
     },
     "execution_count": 120,
     "metadata": {},
     "output_type": "execute_result"
    }
   ],
   "source": [
    "twitter_clean.query('dog_stage == \"puppo\"')['dog_breed'].value_counts() # puppo dog breeds"
   ]
  },
  {
   "cell_type": "markdown",
   "id": "fallen-palace",
   "metadata": {},
   "source": [
    "> Is there a correlation between dog ratings, and the retweet and favorite counts?"
   ]
  },
  {
   "cell_type": "markdown",
   "id": "consecutive-office",
   "metadata": {},
   "source": [
    "I am going to remove the outlier ratings (those above 50) so that my visualisations are not skewed."
   ]
  },
  {
   "cell_type": "code",
   "execution_count": 121,
   "id": "atlantic-presence",
   "metadata": {},
   "outputs": [
    {
     "data": {
      "text/plain": [
       "array([  13,   12,   14,    5,   11,    6,   10,    0,   75,   27,    3,\n",
       "          7,    8,    9,    4, 1776,   26,    2,    1,  420])"
      ]
     },
     "execution_count": 121,
     "metadata": {},
     "output_type": "execute_result"
    }
   ],
   "source": [
    "twitter_clean['rating_numerator'].unique()"
   ]
  },
  {
   "cell_type": "code",
   "execution_count": 122,
   "id": "loaded-opening",
   "metadata": {},
   "outputs": [
    {
     "data": {
      "text/plain": [
       "array([13, 12, 14,  5, 11,  6, 10,  0, 27,  3,  7,  8,  9,  4, 26,  2,  1])"
      ]
     },
     "execution_count": 122,
     "metadata": {},
     "output_type": "execute_result"
    }
   ],
   "source": [
    "twitter_clean_analysis3 = twitter_clean.query('rating_numerator <= 50')\n",
    "twitter_clean_analysis3['rating_numerator'].unique()"
   ]
  },
  {
   "cell_type": "code",
   "execution_count": 123,
   "id": "mysterious-oklahoma",
   "metadata": {},
   "outputs": [
    {
     "data": {
      "image/png": "[encoded data removed]",
      "text/plain": [
       "<Figure size 1080x432 with 1 Axes>"
      ]
     },
     "metadata": {},
     "output_type": "display_data"
    }
   ],
   "source": [
    "plt.subplots(figsize=(15,6))\n",
    "plt.scatter(twitter_clean_analysis3['rating_numerator'], twitter_clean_analysis3['retweet_count'], alpha=0.3)\n",
    "plt.title('Number of retweets against dog ratings', size=14)\n",
    "plt.xlabel('Dog rating', size=12)\n",
    "plt.ylabel('Retweet count', size=12);"
   ]
  },
  {
   "cell_type": "code",
   "execution_count": 124,
   "id": "incorrect-thong",
   "metadata": {},
   "outputs": [
    {
     "data": {
      "image/png": "[encoded data removed]",
      "text/plain": [
       "<Figure size 1080x432 with 1 Axes>"
      ]
     },
     "metadata": {},
     "output_type": "display_data"
    }
   ],
   "source": [
    "plt.subplots(figsize=(15,6))\n",
    "plt.scatter(twitter_clean_analysis3['rating_numerator'], twitter_clean_analysis3['favorite_count'], color='purple', alpha=0.3)\n",
    "plt.title('Number of favorites against dog ratings', size=14)\n",
    "plt.xlabel('Dog rating', size=12)\n",
    "plt.ylabel('Favorite count', size=12);\n"
   ]
  },
  {
   "cell_type": "markdown",
   "id": "impaired-expert",
   "metadata": {},
   "source": [
    "Generally, we do see that the higher a given dog rating, the higher the retweets and favorites."
   ]
  },
  {
   "cell_type": "markdown",
   "id": "posted-bacon",
   "metadata": {},
   "source": [
    "---\n",
    "<a id='conclusion'></a>\n",
    "### Conclusion\n",
    "\n",
    "Because EDA was only performed, I was not able to formalize any conclusion from this dataset, other than observing some trends and patterns from it. Some interesting insights that I observed are:\n",
    "\n",
    "1) The earlier dog tweets (2015) did not have the **wow** factor that should have led to a similar proportion of larger volume retweets and favorites, as compared to tweets of 2016 and 2017.\n",
    "\n",
    "2) Many factors may contribute to the above phenomenon, such as perhaps the dogs posted in 2015 were not appealing enough to the WeRateDogs audience, or there was less recognition of such dog tweets in the first place in 2015, or it might also be that retweets and favorites were just not a thing back then. \n",
    "\n",
    "3) We can see that the hype in posting dog tweets on WeRateDogs had also dwindled across the years, remaining at a consistently low volume of posts in 2016 and 2017. \n",
    "\n",
    "4) Puppos had the highest retweets, favorites and ratings, and dogs with higher ratings usually garnered the highest retweets and favorites too. However, I cannot say what the reasons are for the fluctuating retweet and favorite counts - are they driven by the appearance of particular dog stages? Dog breeds? Judged dog ratings? Unless some sort of a regression analysis is carried out, one can only speculate. And even then - correlation does not mean causation.\n",
    "\n",
    "---"
   ]
  }
 ],
 "metadata": {
  "kernelspec": {
   "display_name": "Python 3",
   "language": "python",
   "name": "python3"
  },
  "language_info": {
   "codemirror_mode": {
    "name": "ipython",
    "version": 3
   },
   "file_extension": ".py",
   "mimetype": "text/x-python",
   "name": "python",
   "nbconvert_exporter": "python",
   "pygments_lexer": "ipython3",
   "version": "3.9.2"
  }
 },
 "nbformat": 4,
 "nbformat_minor": 5
}
